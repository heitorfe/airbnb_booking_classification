{
 "cells": [
  {
   "cell_type": "markdown",
   "id": "e1b2a781",
   "metadata": {
    "ExecuteTime": {
     "end_time": "2022-04-25T14:32:24.780638Z",
     "start_time": "2022-04-25T14:32:24.775287Z"
    },
    "heading_collapsed": true
   },
   "source": [
    "### Airbnb Classification"
   ]
  },
  {
   "cell_type": "markdown",
   "id": "489d9885",
   "metadata": {
    "ExecuteTime": {
     "end_time": "2022-04-25T14:52:06.900431Z",
     "start_time": "2022-04-25T14:52:06.896604Z"
    },
    "hidden": true
   },
   "source": [
    "**Airbnb Business Model**\n",
    "\n",
    "**Marketplace** that connect people who offers home with peope who wants to rent a home. \n",
    "\n",
    "Offert:\n",
    "* Portfolio Density/Diversity\n",
    "* Portfolio Size\n",
    "* Average Price\n",
    "\n",
    "Demand:\n",
    "* LTV\n",
    "* CAC\n",
    "* Number of Users\n",
    "\n"
   ]
  },
  {
   "cell_type": "markdown",
   "id": "1ffcf71b",
   "metadata": {
    "hidden": true
   },
   "source": [
    "**Business Problem**\n",
    "\n",
    "New users on Airbnb can book a place to stay in 34,000+ cities across 190+ countries. By accurately predicting where a new user will book their first travel experience, Airbnb can share more personalized content with their community, decrease the average time to first booking, and better forecast demand."
   ]
  },
  {
   "cell_type": "markdown",
   "id": "ec228b9b",
   "metadata": {
    "hidden": true
   },
   "source": [
    "**Data Description**\n",
    "\n",
    "In this challenge, you are given a list of users along with their demographics, web session records, and some summary statistics. You are asked to predict which country a new user's first booking destination will be. All the users in this dataset are from the USA.\n",
    "\n",
    "There are 12 possible outcomes of the destination country: 'US', 'FR', 'CA', 'GB', 'ES', 'IT', 'PT', 'NL','DE', 'AU', 'NDF' (no destination found), and 'other'. Please note that 'NDF' is different from 'other' because 'other' means there was a booking, but is to a country not included in the list, while 'NDF' means there wasn't a booking.\n",
    "\n",
    "The training and test sets are split by dates. In the test set, you will predict all the new users with first activities after 7/1/2014 (note: this is updated on 12/5/15 when the competition restarted). In the sessions dataset, the data only dates back to 1/1/2014, while the users dataset dates back to 2010. \n",
    "\n",
    "\n"
   ]
  },
  {
   "cell_type": "markdown",
   "id": "fbe3bae8",
   "metadata": {
    "hidden": true
   },
   "source": [
    "**Solution**\n",
    "1. Predict and load in a database, use data visualization to see results\n",
    "\n",
    "2. API: \n",
    "    * Input: id and customer features\n",
    "    * Output: id + predict + probability"
   ]
  },
  {
   "cell_type": "markdown",
   "id": "2e1702df",
   "metadata": {},
   "source": [
    "# 0.0. Load\n"
   ]
  },
  {
   "cell_type": "markdown",
   "id": "2f3a523a",
   "metadata": {},
   "source": [
    "## 0.1. Imports\n"
   ]
  },
  {
   "cell_type": "code",
   "execution_count": 1,
   "id": "9bda3f36",
   "metadata": {
    "ExecuteTime": {
     "end_time": "2022-05-11T08:32:04.091378Z",
     "start_time": "2022-05-11T08:31:32.599625Z"
    }
   },
   "outputs": [
    {
     "name": "stderr",
     "output_type": "stream",
     "text": [
      "2022-05-11 05:31:48.462365: W tensorflow/stream_executor/platform/default/dso_loader.cc:64] Could not load dynamic library 'libcudart.so.11.0'; dlerror: libcudart.so.11.0: cannot open shared object file: No such file or directory\n",
      "2022-05-11 05:31:48.462454: I tensorflow/stream_executor/cuda/cudart_stub.cc:29] Ignore above cudart dlerror if you do not have a GPU set up on your machine.\n"
     ]
    }
   ],
   "source": [
    "import pandas as pd\n",
    "import numpy as np\n",
    "import seaborn as sns\n",
    "\n",
    "from scipy import stats as ss\n",
    "from sklearn import model_selection as ms\n",
    "from sklearn import preprocessing as pp\n",
    "from sklearn import metrics \n",
    "\n",
    "\n",
    "from keras import models as ml\n",
    "from keras import layers as l\n",
    "\n",
    "\n",
    "from scikitplot import metrics as mt\n",
    "\n",
    "import random\n"
   ]
  },
  {
   "cell_type": "markdown",
   "id": "932b5d08",
   "metadata": {},
   "source": [
    "## 0.2. Helper Functions"
   ]
  },
  {
   "cell_type": "code",
   "execution_count": 2,
   "id": "da79f7e1",
   "metadata": {
    "ExecuteTime": {
     "end_time": "2022-05-11T08:32:04.110983Z",
     "start_time": "2022-05-11T08:32:04.099290Z"
    }
   },
   "outputs": [],
   "source": [
    "def num_stats(df):\n",
    "    num_attributes = df.select_dtypes(['int64', 'float64'])\n",
    "    # cat_attributes = df1.select_dtypes(exclude=['int64', 'float64', 'datetime64'])\n",
    "    # time_attributes = df1.select_dtypes('datetime64')\n",
    "\n",
    "    #central tendency\n",
    "\n",
    "    mean = pd.DataFrame(num_attributes.apply(np.mean)).T\n",
    "    median = pd.DataFrame(num_attributes.apply(np.mean)).T\n",
    "\n",
    "    #dispersion\n",
    "    min_ = pd.DataFrame(num_attributes.apply(min)).T\n",
    "    max_ = pd.DataFrame(num_attributes.apply(max)).T\n",
    "    range_ = pd.DataFrame(num_attributes.apply(lambda x: x.max() - x.min())).T\n",
    "    skew  = pd.DataFrame(num_attributes.apply(lambda x: x.skew())).T\n",
    "    kurtosis = pd.DataFrame(num_attributes.apply(lambda x: x.kurtosis())).T\n",
    "    std = pd.DataFrame(num_attributes.apply(np.std)).T\n",
    "\n",
    "    m_numeric = pd.concat([min_, max_, range_, mean, median, std, skew, kurtosis]).T.reset_index()\n",
    "\n",
    "    m_numeric.columns = ['attributes','min', 'max', 'range', 'mean', 'median', 'std', 'skew', 'kurtosis']\n",
    "    return m_numeric\n",
    "\n",
    "def cramer_v(x,y):\n",
    "    cm = pd.crosstab(x,y).values\n",
    "    n = cm.sum()\n",
    "    r, k = cm.shape\n",
    "    \n",
    "    chi2 = ss.chi2_contingency(cm)[0]\n",
    "    chi2corr = max(0, chi2 - (k-1)*(r-1)/(n-1))\n",
    "    \n",
    "    kcorr = k - (k-1)**2/(n-1)\n",
    "    rcorr = r - (r-1)**2/(n-1)\n",
    "    \n",
    "    return np.sqrt((chi2corr/n) / min(kcorr-1, rcorr-1))"
   ]
  },
  {
   "cell_type": "markdown",
   "id": "c94f295c",
   "metadata": {},
   "source": [
    "## 0.3. Load Dataset"
   ]
  },
  {
   "cell_type": "code",
   "execution_count": 3,
   "id": "c51db62b",
   "metadata": {
    "ExecuteTime": {
     "end_time": "2022-05-11T08:32:16.802381Z",
     "start_time": "2022-05-11T08:32:04.112874Z"
    }
   },
   "outputs": [],
   "source": [
    "df_raw = pd.read_csv('../data/train_users_2.csv', low_memory=True)\n",
    "df_sessions = pd.read_csv('../data/sessions.csv')"
   ]
  },
  {
   "cell_type": "markdown",
   "id": "bb2a4408",
   "metadata": {},
   "source": [
    "# 1.0. Data Description"
   ]
  },
  {
   "cell_type": "code",
   "execution_count": 4,
   "id": "a0bc9987",
   "metadata": {
    "ExecuteTime": {
     "end_time": "2022-05-11T08:32:16.817069Z",
     "start_time": "2022-05-11T08:32:16.804373Z"
    }
   },
   "outputs": [],
   "source": [
    "df1 = df_raw.copy()"
   ]
  },
  {
   "cell_type": "markdown",
   "id": "081aa991",
   "metadata": {},
   "source": [
    "## 1.1. Data Dimensions"
   ]
  },
  {
   "cell_type": "code",
   "execution_count": 5,
   "id": "e255ec04",
   "metadata": {
    "ExecuteTime": {
     "end_time": "2022-05-11T08:32:16.990950Z",
     "start_time": "2022-05-11T08:32:16.818998Z"
    }
   },
   "outputs": [
    {
     "name": "stdout",
     "output_type": "stream",
     "text": [
      "Train dataset:\n",
      "Rows:213451\n",
      "Cols:16\n",
      "\n",
      "Sessions dataset:\n",
      "Rows:10567737\n",
      "Cols:6\n"
     ]
    }
   ],
   "source": [
    "print('Train dataset:')\n",
    "print('Rows:{}'.format(df_raw.shape[0]))\n",
    "print('Cols:{}'.format(df_raw.shape[1]))\n",
    "\n",
    "print('\\nSessions dataset:')\n",
    "print('Rows:{}'.format(df_sessions.shape[0]))\n",
    "print('Cols:{}'.format(df_sessions.shape[1]))"
   ]
  },
  {
   "cell_type": "markdown",
   "id": "4d5edb93",
   "metadata": {},
   "source": [
    "## 1.2. Data Types"
   ]
  },
  {
   "cell_type": "code",
   "execution_count": 6,
   "id": "fec89862",
   "metadata": {
    "ExecuteTime": {
     "end_time": "2022-05-11T08:32:17.143073Z",
     "start_time": "2022-05-11T08:32:16.993727Z"
    }
   },
   "outputs": [
    {
     "data": {
      "text/plain": [
       "id                          object\n",
       "date_account_created        object\n",
       "timestamp_first_active       int64\n",
       "date_first_booking          object\n",
       "gender                      object\n",
       "age                        float64\n",
       "signup_method               object\n",
       "signup_flow                  int64\n",
       "language                    object\n",
       "affiliate_channel           object\n",
       "affiliate_provider          object\n",
       "first_affiliate_tracked     object\n",
       "signup_app                  object\n",
       "first_device_type           object\n",
       "first_browser               object\n",
       "country_destination         object\n",
       "dtype: object"
      ]
     },
     "execution_count": 6,
     "metadata": {},
     "output_type": "execute_result"
    }
   ],
   "source": [
    "df1.dtypes"
   ]
  },
  {
   "cell_type": "code",
   "execution_count": 7,
   "id": "2336bd0e",
   "metadata": {
    "ExecuteTime": {
     "end_time": "2022-05-11T08:32:17.257740Z",
     "start_time": "2022-05-11T08:32:17.148617Z"
    }
   },
   "outputs": [
    {
     "data": {
      "text/plain": [
       "user_id           object\n",
       "action            object\n",
       "action_type       object\n",
       "action_detail     object\n",
       "device_type       object\n",
       "secs_elapsed     float64\n",
       "dtype: object"
      ]
     },
     "execution_count": 7,
     "metadata": {},
     "output_type": "execute_result"
    }
   ],
   "source": [
    "df_sessions.dtypes"
   ]
  },
  {
   "cell_type": "code",
   "execution_count": 8,
   "id": "96fd8990",
   "metadata": {
    "ExecuteTime": {
     "end_time": "2022-05-11T08:32:17.638917Z",
     "start_time": "2022-05-11T08:32:17.262595Z"
    }
   },
   "outputs": [
    {
     "data": {
      "text/html": [
       "<div>\n",
       "<style scoped>\n",
       "    .dataframe tbody tr th:only-of-type {\n",
       "        vertical-align: middle;\n",
       "    }\n",
       "\n",
       "    .dataframe tbody tr th {\n",
       "        vertical-align: top;\n",
       "    }\n",
       "\n",
       "    .dataframe thead th {\n",
       "        text-align: right;\n",
       "    }\n",
       "</style>\n",
       "<table border=\"1\" class=\"dataframe\">\n",
       "  <thead>\n",
       "    <tr style=\"text-align: right;\">\n",
       "      <th></th>\n",
       "      <th>69587</th>\n",
       "    </tr>\n",
       "  </thead>\n",
       "  <tbody>\n",
       "    <tr>\n",
       "      <th>id</th>\n",
       "      <td>axk86ueum1</td>\n",
       "    </tr>\n",
       "    <tr>\n",
       "      <th>date_account_created</th>\n",
       "      <td>2013-04-07</td>\n",
       "    </tr>\n",
       "    <tr>\n",
       "      <th>timestamp_first_active</th>\n",
       "      <td>20130407153902</td>\n",
       "    </tr>\n",
       "    <tr>\n",
       "      <th>date_first_booking</th>\n",
       "      <td>NaN</td>\n",
       "    </tr>\n",
       "    <tr>\n",
       "      <th>gender</th>\n",
       "      <td>-unknown-</td>\n",
       "    </tr>\n",
       "    <tr>\n",
       "      <th>age</th>\n",
       "      <td>NaN</td>\n",
       "    </tr>\n",
       "    <tr>\n",
       "      <th>signup_method</th>\n",
       "      <td>basic</td>\n",
       "    </tr>\n",
       "    <tr>\n",
       "      <th>signup_flow</th>\n",
       "      <td>0</td>\n",
       "    </tr>\n",
       "    <tr>\n",
       "      <th>language</th>\n",
       "      <td>it</td>\n",
       "    </tr>\n",
       "    <tr>\n",
       "      <th>affiliate_channel</th>\n",
       "      <td>direct</td>\n",
       "    </tr>\n",
       "    <tr>\n",
       "      <th>affiliate_provider</th>\n",
       "      <td>direct</td>\n",
       "    </tr>\n",
       "    <tr>\n",
       "      <th>first_affiliate_tracked</th>\n",
       "      <td>untracked</td>\n",
       "    </tr>\n",
       "    <tr>\n",
       "      <th>signup_app</th>\n",
       "      <td>Web</td>\n",
       "    </tr>\n",
       "    <tr>\n",
       "      <th>first_device_type</th>\n",
       "      <td>Windows Desktop</td>\n",
       "    </tr>\n",
       "    <tr>\n",
       "      <th>first_browser</th>\n",
       "      <td>Chrome</td>\n",
       "    </tr>\n",
       "    <tr>\n",
       "      <th>country_destination</th>\n",
       "      <td>NDF</td>\n",
       "    </tr>\n",
       "  </tbody>\n",
       "</table>\n",
       "</div>"
      ],
      "text/plain": [
       "                                   69587\n",
       "id                            axk86ueum1\n",
       "date_account_created          2013-04-07\n",
       "timestamp_first_active    20130407153902\n",
       "date_first_booking                   NaN\n",
       "gender                         -unknown-\n",
       "age                                  NaN\n",
       "signup_method                      basic\n",
       "signup_flow                            0\n",
       "language                              it\n",
       "affiliate_channel                 direct\n",
       "affiliate_provider                direct\n",
       "first_affiliate_tracked        untracked\n",
       "signup_app                           Web\n",
       "first_device_type        Windows Desktop\n",
       "first_browser                     Chrome\n",
       "country_destination                  NDF"
      ]
     },
     "execution_count": 8,
     "metadata": {},
     "output_type": "execute_result"
    }
   ],
   "source": [
    "df1.sample().T"
   ]
  },
  {
   "cell_type": "code",
   "execution_count": 9,
   "id": "8080884f",
   "metadata": {
    "ExecuteTime": {
     "end_time": "2022-05-11T08:32:18.142233Z",
     "start_time": "2022-05-11T08:32:17.645468Z"
    }
   },
   "outputs": [
    {
     "data": {
      "text/html": [
       "<div>\n",
       "<style scoped>\n",
       "    .dataframe tbody tr th:only-of-type {\n",
       "        vertical-align: middle;\n",
       "    }\n",
       "\n",
       "    .dataframe tbody tr th {\n",
       "        vertical-align: top;\n",
       "    }\n",
       "\n",
       "    .dataframe thead th {\n",
       "        text-align: right;\n",
       "    }\n",
       "</style>\n",
       "<table border=\"1\" class=\"dataframe\">\n",
       "  <thead>\n",
       "    <tr style=\"text-align: right;\">\n",
       "      <th></th>\n",
       "      <th>6476272</th>\n",
       "    </tr>\n",
       "  </thead>\n",
       "  <tbody>\n",
       "    <tr>\n",
       "      <th>user_id</th>\n",
       "      <td>qihoc8xgop</td>\n",
       "    </tr>\n",
       "    <tr>\n",
       "      <th>action</th>\n",
       "      <td>campaigns</td>\n",
       "    </tr>\n",
       "    <tr>\n",
       "      <th>action_type</th>\n",
       "      <td>NaN</td>\n",
       "    </tr>\n",
       "    <tr>\n",
       "      <th>action_detail</th>\n",
       "      <td>NaN</td>\n",
       "    </tr>\n",
       "    <tr>\n",
       "      <th>device_type</th>\n",
       "      <td>iPhone</td>\n",
       "    </tr>\n",
       "    <tr>\n",
       "      <th>secs_elapsed</th>\n",
       "      <td>214.0</td>\n",
       "    </tr>\n",
       "  </tbody>\n",
       "</table>\n",
       "</div>"
      ],
      "text/plain": [
       "                  6476272\n",
       "user_id        qihoc8xgop\n",
       "action          campaigns\n",
       "action_type           NaN\n",
       "action_detail         NaN\n",
       "device_type        iPhone\n",
       "secs_elapsed        214.0"
      ]
     },
     "execution_count": 9,
     "metadata": {},
     "output_type": "execute_result"
    }
   ],
   "source": [
    "df_sessions.sample().T"
   ]
  },
  {
   "cell_type": "markdown",
   "id": "141ee2dd",
   "metadata": {},
   "source": [
    "## 1.2. NA Check"
   ]
  },
  {
   "cell_type": "code",
   "execution_count": 10,
   "id": "bef382db",
   "metadata": {
    "ExecuteTime": {
     "end_time": "2022-05-11T08:32:18.441873Z",
     "start_time": "2022-05-11T08:32:18.145957Z"
    }
   },
   "outputs": [
    {
     "data": {
      "text/plain": [
       "id                         0.000000\n",
       "date_account_created       0.000000\n",
       "timestamp_first_active     0.000000\n",
       "date_first_booking         0.583473\n",
       "gender                     0.000000\n",
       "age                        0.412226\n",
       "signup_method              0.000000\n",
       "signup_flow                0.000000\n",
       "language                   0.000000\n",
       "affiliate_channel          0.000000\n",
       "affiliate_provider         0.000000\n",
       "first_affiliate_tracked    0.028414\n",
       "signup_app                 0.000000\n",
       "first_device_type          0.000000\n",
       "first_browser              0.000000\n",
       "country_destination        0.000000\n",
       "dtype: float64"
      ]
     },
     "execution_count": 10,
     "metadata": {},
     "output_type": "execute_result"
    }
   ],
   "source": [
    "df1.isna().sum()/len(df1)\n"
   ]
  },
  {
   "cell_type": "code",
   "execution_count": 11,
   "id": "8855d2a5",
   "metadata": {
    "ExecuteTime": {
     "end_time": "2022-05-11T08:32:27.173452Z",
     "start_time": "2022-05-11T08:32:18.443902Z"
    }
   },
   "outputs": [
    {
     "data": {
      "text/plain": [
       "user_id          0.003264\n",
       "action           0.007535\n",
       "action_type      0.106570\n",
       "action_detail    0.106570\n",
       "device_type      0.000000\n",
       "secs_elapsed     0.012872\n",
       "dtype: float64"
      ]
     },
     "execution_count": 11,
     "metadata": {},
     "output_type": "execute_result"
    }
   ],
   "source": [
    "df_sessions.isna().sum()/len(df_sessions)"
   ]
  },
  {
   "cell_type": "markdown",
   "id": "c33fdbe9",
   "metadata": {},
   "source": [
    "## 1.3 Fill NA"
   ]
  },
  {
   "cell_type": "code",
   "execution_count": 12,
   "id": "6c7f6966",
   "metadata": {
    "ExecuteTime": {
     "end_time": "2022-05-11T08:32:36.541091Z",
     "start_time": "2022-05-11T08:32:27.175148Z"
    }
   },
   "outputs": [],
   "source": [
    "#==================Training================\n",
    "#date_first_booking\n",
    "date_first_booking_max = pd.to_datetime(df1['date_first_booking']).max().strftime('%Y-%m-%d')\n",
    "df1['date_first_booking']=df1['date_first_booking'].fillna(date_first_booking_max)\n",
    "\n",
    "#age\n",
    "age_mean = df1['age'].mean()\n",
    "df1['age'] = df1['age'].fillna(age_mean)\n",
    "\n",
    "# first_affiliate_tracked\n",
    "# df1 = df_raw.copy()\n",
    "df1['first_affiliate_tracked'] = df1['first_affiliate_tracked'].dropna()\n",
    "\n",
    "#==================Sessions==============\n",
    "df_sessions = df_sessions.dropna()\n"
   ]
  },
  {
   "cell_type": "markdown",
   "id": "4ee64b16",
   "metadata": {},
   "source": [
    "## 1.4. Change Data Type"
   ]
  },
  {
   "cell_type": "code",
   "execution_count": 13,
   "id": "bff0ea2c",
   "metadata": {
    "ExecuteTime": {
     "end_time": "2022-05-11T08:32:37.164550Z",
     "start_time": "2022-05-11T08:32:36.542511Z"
    }
   },
   "outputs": [],
   "source": [
    "#date_account_created\n",
    "df1['date_account_created'] = pd.to_datetime(df1['date_account_created'])\n",
    "\n",
    "#timestamp_first_active\n",
    "df1['timestamp_first_active'] = pd.to_datetime(df1['timestamp_first_active'], format='%Y%m%d%H%M%S')\n",
    "# date_first_booking\n",
    "df1['date_first_booking'] = pd.to_datetime(df1['date_first_booking'])\n",
    "#age\n",
    "df1['age'] = df1['age'].astype('int64')\n",
    "\n"
   ]
  },
  {
   "cell_type": "markdown",
   "id": "fa7175b1",
   "metadata": {},
   "source": [
    "## 1.5. Check Balanced Data"
   ]
  },
  {
   "cell_type": "code",
   "execution_count": 14,
   "id": "98316139",
   "metadata": {
    "ExecuteTime": {
     "end_time": "2022-05-11T08:32:37.341016Z",
     "start_time": "2022-05-11T08:32:37.165885Z"
    }
   },
   "outputs": [
    {
     "data": {
      "text/plain": [
       "NDF      0.583473\n",
       "US       0.292226\n",
       "other    0.047290\n",
       "FR       0.023532\n",
       "IT       0.013282\n",
       "GB       0.010888\n",
       "ES       0.010536\n",
       "CA       0.006690\n",
       "DE       0.004971\n",
       "NL       0.003570\n",
       "AU       0.002525\n",
       "PT       0.001017\n",
       "Name: country_destination, dtype: float64"
      ]
     },
     "execution_count": 14,
     "metadata": {},
     "output_type": "execute_result"
    }
   ],
   "source": [
    "df1['country_destination'].value_counts(normalize=True)"
   ]
  },
  {
   "cell_type": "markdown",
   "id": "265ba12b",
   "metadata": {},
   "source": [
    "## 1.6. Descriptive Statistics\n"
   ]
  },
  {
   "cell_type": "markdown",
   "id": "d1d9d8b4",
   "metadata": {
    "ExecuteTime": {
     "end_time": "2022-05-10T13:31:43.626115Z",
     "start_time": "2022-05-10T13:31:43.615159Z"
    }
   },
   "source": [
    "### 1.6.1. Numerical Users"
   ]
  },
  {
   "cell_type": "code",
   "execution_count": 15,
   "id": "f3b37859",
   "metadata": {
    "ExecuteTime": {
     "end_time": "2022-05-11T08:32:38.700038Z",
     "start_time": "2022-05-11T08:32:37.344207Z"
    }
   },
   "outputs": [
    {
     "data": {
      "text/html": [
       "<div>\n",
       "<style scoped>\n",
       "    .dataframe tbody tr th:only-of-type {\n",
       "        vertical-align: middle;\n",
       "    }\n",
       "\n",
       "    .dataframe tbody tr th {\n",
       "        vertical-align: top;\n",
       "    }\n",
       "\n",
       "    .dataframe thead th {\n",
       "        text-align: right;\n",
       "    }\n",
       "</style>\n",
       "<table border=\"1\" class=\"dataframe\">\n",
       "  <thead>\n",
       "    <tr style=\"text-align: right;\">\n",
       "      <th></th>\n",
       "      <th>attributes</th>\n",
       "      <th>min</th>\n",
       "      <th>max</th>\n",
       "      <th>range</th>\n",
       "      <th>mean</th>\n",
       "      <th>median</th>\n",
       "      <th>std</th>\n",
       "      <th>skew</th>\n",
       "      <th>kurtosis</th>\n",
       "    </tr>\n",
       "  </thead>\n",
       "  <tbody>\n",
       "    <tr>\n",
       "      <th>0</th>\n",
       "      <td>age</td>\n",
       "      <td>1.0</td>\n",
       "      <td>2014.0</td>\n",
       "      <td>2013.0</td>\n",
       "      <td>49.392830</td>\n",
       "      <td>49.392830</td>\n",
       "      <td>119.344021</td>\n",
       "      <td>16.210083</td>\n",
       "      <td>263.517271</td>\n",
       "    </tr>\n",
       "    <tr>\n",
       "      <th>1</th>\n",
       "      <td>signup_flow</td>\n",
       "      <td>0.0</td>\n",
       "      <td>25.0</td>\n",
       "      <td>25.0</td>\n",
       "      <td>3.267387</td>\n",
       "      <td>3.267387</td>\n",
       "      <td>7.637689</td>\n",
       "      <td>2.234366</td>\n",
       "      <td>3.324444</td>\n",
       "    </tr>\n",
       "  </tbody>\n",
       "</table>\n",
       "</div>"
      ],
      "text/plain": [
       "    attributes  min     max   range       mean     median         std  \\\n",
       "0          age  1.0  2014.0  2013.0  49.392830  49.392830  119.344021   \n",
       "1  signup_flow  0.0    25.0    25.0   3.267387   3.267387    7.637689   \n",
       "\n",
       "        skew    kurtosis  \n",
       "0  16.210083  263.517271  \n",
       "1   2.234366    3.324444  "
      ]
     },
     "execution_count": 15,
     "metadata": {},
     "output_type": "execute_result"
    }
   ],
   "source": [
    "num_stats(df1)"
   ]
  },
  {
   "cell_type": "markdown",
   "id": "204f4c6a",
   "metadata": {},
   "source": [
    "### 1.6.2. Categorical Users"
   ]
  },
  {
   "cell_type": "code",
   "execution_count": 18,
   "id": "a36ca101",
   "metadata": {
    "ExecuteTime": {
     "end_time": "2022-05-11T08:33:14.877580Z",
     "start_time": "2022-05-11T08:33:14.589118Z"
    }
   },
   "outputs": [
    {
     "data": {
      "text/html": [
       "<div>\n",
       "<style scoped>\n",
       "    .dataframe tbody tr th:only-of-type {\n",
       "        vertical-align: middle;\n",
       "    }\n",
       "\n",
       "    .dataframe tbody tr th {\n",
       "        vertical-align: top;\n",
       "    }\n",
       "\n",
       "    .dataframe thead th {\n",
       "        text-align: right;\n",
       "    }\n",
       "</style>\n",
       "<table border=\"1\" class=\"dataframe\">\n",
       "  <thead>\n",
       "    <tr style=\"text-align: right;\">\n",
       "      <th></th>\n",
       "      <th>gender</th>\n",
       "      <th>signup_method</th>\n",
       "      <th>language</th>\n",
       "      <th>affiliate_channel</th>\n",
       "      <th>affiliate_provider</th>\n",
       "      <th>first_affiliate_tracked</th>\n",
       "      <th>signup_app</th>\n",
       "      <th>first_device_type</th>\n",
       "      <th>first_browser</th>\n",
       "      <th>country_destination</th>\n",
       "    </tr>\n",
       "  </thead>\n",
       "  <tbody>\n",
       "    <tr>\n",
       "      <th>count</th>\n",
       "      <td>213451</td>\n",
       "      <td>213451</td>\n",
       "      <td>213451</td>\n",
       "      <td>213451</td>\n",
       "      <td>213451</td>\n",
       "      <td>207386</td>\n",
       "      <td>213451</td>\n",
       "      <td>213451</td>\n",
       "      <td>213451</td>\n",
       "      <td>213451</td>\n",
       "    </tr>\n",
       "    <tr>\n",
       "      <th>unique</th>\n",
       "      <td>4</td>\n",
       "      <td>3</td>\n",
       "      <td>25</td>\n",
       "      <td>8</td>\n",
       "      <td>18</td>\n",
       "      <td>7</td>\n",
       "      <td>4</td>\n",
       "      <td>9</td>\n",
       "      <td>52</td>\n",
       "      <td>12</td>\n",
       "    </tr>\n",
       "    <tr>\n",
       "      <th>top</th>\n",
       "      <td>-unknown-</td>\n",
       "      <td>basic</td>\n",
       "      <td>en</td>\n",
       "      <td>direct</td>\n",
       "      <td>direct</td>\n",
       "      <td>untracked</td>\n",
       "      <td>Web</td>\n",
       "      <td>Mac Desktop</td>\n",
       "      <td>Chrome</td>\n",
       "      <td>NDF</td>\n",
       "    </tr>\n",
       "    <tr>\n",
       "      <th>freq</th>\n",
       "      <td>95688</td>\n",
       "      <td>152897</td>\n",
       "      <td>206314</td>\n",
       "      <td>137727</td>\n",
       "      <td>137426</td>\n",
       "      <td>109232</td>\n",
       "      <td>182717</td>\n",
       "      <td>89600</td>\n",
       "      <td>63845</td>\n",
       "      <td>124543</td>\n",
       "    </tr>\n",
       "  </tbody>\n",
       "</table>\n",
       "</div>"
      ],
      "text/plain": [
       "           gender signup_method language affiliate_channel affiliate_provider  \\\n",
       "count      213451        213451   213451            213451             213451   \n",
       "unique          4             3       25                 8                 18   \n",
       "top     -unknown-         basic       en            direct             direct   \n",
       "freq        95688        152897   206314            137727             137426   \n",
       "\n",
       "       first_affiliate_tracked signup_app first_device_type first_browser  \\\n",
       "count                   207386     213451            213451        213451   \n",
       "unique                       7          4                 9            52   \n",
       "top                  untracked        Web       Mac Desktop        Chrome   \n",
       "freq                    109232     182717             89600         63845   \n",
       "\n",
       "       country_destination  \n",
       "count               213451  \n",
       "unique                  12  \n",
       "top                    NDF  \n",
       "freq                124543  "
      ]
     },
     "execution_count": 18,
     "metadata": {},
     "output_type": "execute_result"
    }
   ],
   "source": [
    "cat_attributes = df1.select_dtypes('object')\n",
    "cat_attributes.drop('id', axis=1).describe()"
   ]
  },
  {
   "cell_type": "markdown",
   "id": "f064abaa",
   "metadata": {},
   "source": [
    "### 1.6.3. Numerical sessions"
   ]
  },
  {
   "cell_type": "code",
   "execution_count": 19,
   "id": "9098e94b",
   "metadata": {
    "ExecuteTime": {
     "end_time": "2022-05-11T08:35:16.764439Z",
     "start_time": "2022-05-11T08:35:14.931557Z"
    }
   },
   "outputs": [
    {
     "data": {
      "text/html": [
       "<div>\n",
       "<style scoped>\n",
       "    .dataframe tbody tr th:only-of-type {\n",
       "        vertical-align: middle;\n",
       "    }\n",
       "\n",
       "    .dataframe tbody tr th {\n",
       "        vertical-align: top;\n",
       "    }\n",
       "\n",
       "    .dataframe thead th {\n",
       "        text-align: right;\n",
       "    }\n",
       "</style>\n",
       "<table border=\"1\" class=\"dataframe\">\n",
       "  <thead>\n",
       "    <tr style=\"text-align: right;\">\n",
       "      <th></th>\n",
       "      <th>attributes</th>\n",
       "      <th>min</th>\n",
       "      <th>max</th>\n",
       "      <th>range</th>\n",
       "      <th>mean</th>\n",
       "      <th>median</th>\n",
       "      <th>std</th>\n",
       "      <th>skew</th>\n",
       "      <th>kurtosis</th>\n",
       "    </tr>\n",
       "  </thead>\n",
       "  <tbody>\n",
       "    <tr>\n",
       "      <th>0</th>\n",
       "      <td>secs_elapsed</td>\n",
       "      <td>0.0</td>\n",
       "      <td>1799977.0</td>\n",
       "      <td>1799977.0</td>\n",
       "      <td>19961.8251</td>\n",
       "      <td>19961.8251</td>\n",
       "      <td>88849.388449</td>\n",
       "      <td>11.137761</td>\n",
       "      <td>154.84312</td>\n",
       "    </tr>\n",
       "  </tbody>\n",
       "</table>\n",
       "</div>"
      ],
      "text/plain": [
       "     attributes  min        max      range        mean      median  \\\n",
       "0  secs_elapsed  0.0  1799977.0  1799977.0  19961.8251  19961.8251   \n",
       "\n",
       "            std       skew   kurtosis  \n",
       "0  88849.388449  11.137761  154.84312  "
      ]
     },
     "execution_count": 19,
     "metadata": {},
     "output_type": "execute_result"
    }
   ],
   "source": [
    "num_stats(df_sessions)"
   ]
  },
  {
   "cell_type": "markdown",
   "id": "f75120e7",
   "metadata": {},
   "source": [
    "### 1.6.4. Categorical Sessions"
   ]
  },
  {
   "cell_type": "code",
   "execution_count": 20,
   "id": "a7195cca",
   "metadata": {
    "ExecuteTime": {
     "end_time": "2022-05-11T08:35:23.325415Z",
     "start_time": "2022-05-11T08:35:17.420872Z"
    }
   },
   "outputs": [
    {
     "data": {
      "text/html": [
       "<div>\n",
       "<style scoped>\n",
       "    .dataframe tbody tr th:only-of-type {\n",
       "        vertical-align: middle;\n",
       "    }\n",
       "\n",
       "    .dataframe tbody tr th {\n",
       "        vertical-align: top;\n",
       "    }\n",
       "\n",
       "    .dataframe thead th {\n",
       "        text-align: right;\n",
       "    }\n",
       "</style>\n",
       "<table border=\"1\" class=\"dataframe\">\n",
       "  <thead>\n",
       "    <tr style=\"text-align: right;\">\n",
       "      <th></th>\n",
       "      <th>action</th>\n",
       "      <th>action_type</th>\n",
       "      <th>action_detail</th>\n",
       "      <th>device_type</th>\n",
       "    </tr>\n",
       "  </thead>\n",
       "  <tbody>\n",
       "    <tr>\n",
       "      <th>count</th>\n",
       "      <td>9213930</td>\n",
       "      <td>9213930</td>\n",
       "      <td>9213930</td>\n",
       "      <td>9213930</td>\n",
       "    </tr>\n",
       "    <tr>\n",
       "      <th>unique</th>\n",
       "      <td>347</td>\n",
       "      <td>10</td>\n",
       "      <td>155</td>\n",
       "      <td>14</td>\n",
       "    </tr>\n",
       "    <tr>\n",
       "      <th>top</th>\n",
       "      <td>show</td>\n",
       "      <td>view</td>\n",
       "      <td>view_search_results</td>\n",
       "      <td>Mac Desktop</td>\n",
       "    </tr>\n",
       "    <tr>\n",
       "      <th>freq</th>\n",
       "      <td>2178382</td>\n",
       "      <td>3545621</td>\n",
       "      <td>1770931</td>\n",
       "      <td>3019523</td>\n",
       "    </tr>\n",
       "  </tbody>\n",
       "</table>\n",
       "</div>"
      ],
      "text/plain": [
       "         action action_type        action_detail  device_type\n",
       "count   9213930     9213930              9213930      9213930\n",
       "unique      347          10                  155           14\n",
       "top        show        view  view_search_results  Mac Desktop\n",
       "freq    2178382     3545621              1770931      3019523"
      ]
     },
     "execution_count": 20,
     "metadata": {},
     "output_type": "execute_result"
    }
   ],
   "source": [
    "cat_attributes_session = df_sessions.select_dtypes('object').drop('user_id', axis=1)\n",
    "cat_attributes_session.describe()"
   ]
  },
  {
   "cell_type": "code",
   "execution_count": 21,
   "id": "7b1e61ff",
   "metadata": {
    "ExecuteTime": {
     "end_time": "2022-05-11T08:36:08.732588Z",
     "start_time": "2022-05-11T08:35:23.329714Z"
    }
   },
   "outputs": [],
   "source": [
    "#List os cat attributes for cramer v correlation\n",
    "cat_attributes_list = cat_attributes_session.columns.tolist()\n",
    "\n",
    "#dict to get all corr (rowxcolumn)\n",
    "corr_dict = {}\n",
    "for i in range(len(cat_attributes_list)):\n",
    "    corr_list=[]\n",
    "    for j in range(len(cat_attributes_list)):\n",
    "        ref = cat_attributes_list[i]\n",
    "        feat = cat_attributes_list[j]\n",
    "        \n",
    "        corr = cramer_v(cat_attributes_session[ref], cat_attributes_session[feat])\n",
    "        corr_list.append(corr)\n",
    "    corr_dict[ref] = corr_list"
   ]
  },
  {
   "cell_type": "code",
   "execution_count": 22,
   "id": "3c0efd76",
   "metadata": {
    "ExecuteTime": {
     "end_time": "2022-05-11T08:36:08.742611Z",
     "start_time": "2022-05-11T08:36:08.736293Z"
    }
   },
   "outputs": [],
   "source": [
    "corr_df = pd.DataFrame(corr_dict)\n",
    "corr_df = corr_df.set_index(corr_df.columns)\n"
   ]
  },
  {
   "cell_type": "code",
   "execution_count": 23,
   "id": "d74a24bb",
   "metadata": {
    "ExecuteTime": {
     "end_time": "2022-05-11T08:36:09.696670Z",
     "start_time": "2022-05-11T08:36:08.746480Z"
    }
   },
   "outputs": [
    {
     "data": {
      "image/png": "[encoded data removed]",
      "text/plain": [
       "<Figure size 432x288 with 2 Axes>"
      ]
     },
     "metadata": {
      "needs_background": "light"
     },
     "output_type": "display_data"
    }
   ],
   "source": [
    "sns.heatmap(corr_df, annot=True);\n"
   ]
  },
  {
   "cell_type": "markdown",
   "id": "2d82e703",
   "metadata": {},
   "source": [
    "Conclusion: High correlation between:\n",
    "* action and action_type\n",
    "* action and action_detail"
   ]
  },
  {
   "cell_type": "markdown",
   "id": "02815195",
   "metadata": {},
   "source": [
    "# 2.0. Feature Engineering"
   ]
  },
  {
   "cell_type": "code",
   "execution_count": 24,
   "id": "0b7a5d8f",
   "metadata": {
    "ExecuteTime": {
     "end_time": "2022-05-11T08:36:09.820433Z",
     "start_time": "2022-05-11T08:36:09.700531Z"
    }
   },
   "outputs": [],
   "source": [
    "df2 = df1.copy()"
   ]
  },
  {
   "cell_type": "code",
   "execution_count": 38,
   "id": "39e63495",
   "metadata": {
    "ExecuteTime": {
     "end_time": "2022-05-11T08:48:03.432505Z",
     "start_time": "2022-05-11T08:48:02.472178Z"
    }
   },
   "outputs": [],
   "source": [
    "#time between first booking and first active\n",
    "df2['first_active'] = pd.to_datetime(df2['timestamp_first_active'].dt.strftime('%Y-%m-%d'))\n",
    "df2['days_from_active_to_booking'] = (df2['date_first_booking'] - df2['first_active']).dt.days\n",
    "\n",
    "#time between first booking and account created\n",
    "df2['days_from_account_created_to_booking'] = (df2['date_first_booking'] - df2['date_account_created']).dt.days\n",
    "\n",
    "#time between account created and first active\n",
    "df2['days_from_active_to_account_created'] = (df2['date_account_created'] - df2['first_active']).dt.days\n",
    "\n",
    "#year  of first active\n",
    "df2['year_first_active'] = df2['first_active'].dt.year\n",
    "\n",
    "#month of first active\n",
    "df2['month_first_active'] = df2['first_active'].dt.month\n",
    "\n",
    "#day of first active\n",
    "df2['day_first_active'] = df2['first_active'].dt.day\n",
    "\n",
    "#day of week of first active\n",
    "df2['day_of_week_first_active'] = df2['first_active'].dt.dayofweek\n",
    "\n",
    "#week of year of first active\n",
    "df2['week_of_year_first_active'] = df2['first_active'].dt.weekofyear\n",
    "\n",
    "\n",
    "#year  of first booking\n",
    "df2['year_first_booking'] = df2['date_first_booking'].dt.year\n",
    "\n",
    "#month of first booking\n",
    "df2['month_first_booking'] = df2['date_first_booking'].dt.month\n",
    "\n",
    "#day of first booking\n",
    "df2['day_first_booking'] = df2['date_first_booking'].dt.day\n",
    "\n",
    "#day of week of first booking\n",
    "df2['day_of_week_first_booking'] = df2['date_first_booking'].dt.dayofweek\n",
    "\n",
    "#week of year of first booking\n",
    "df2['week_of_year_first_booking'] = df2['date_first_booking'].dt.weekofyear\n",
    "\n",
    "\n",
    "#year  of account created\n",
    "df2['year_account_created'] = df2['date_account_created'].dt.year\n",
    "\n",
    "#month of account created\n",
    "df2['month_account_created'] = df2['date_account_created'].dt.month\n",
    "\n",
    "#day of account created\n",
    "df2['day_account_created'] = df2['date_account_created'].dt.day\n",
    "\n",
    "#day of week of account created\n",
    "df2['day_of_week_account_created'] = df2['date_account_created'].dt.dayofweek\n",
    "\n",
    "#week of year of account created\n",
    "df2['week_of_year_account_created'] = df2['date_account_created'].dt.weekofyear"
   ]
  },
  {
   "cell_type": "code",
   "execution_count": 42,
   "id": "64ebbcc1",
   "metadata": {
    "ExecuteTime": {
     "end_time": "2022-05-11T08:51:36.769323Z",
     "start_time": "2022-05-11T08:51:36.738805Z"
    }
   },
   "outputs": [
    {
     "data": {
      "text/html": [
       "<div>\n",
       "<style scoped>\n",
       "    .dataframe tbody tr th:only-of-type {\n",
       "        vertical-align: middle;\n",
       "    }\n",
       "\n",
       "    .dataframe tbody tr th {\n",
       "        vertical-align: top;\n",
       "    }\n",
       "\n",
       "    .dataframe thead th {\n",
       "        text-align: right;\n",
       "    }\n",
       "</style>\n",
       "<table border=\"1\" class=\"dataframe\">\n",
       "  <thead>\n",
       "    <tr style=\"text-align: right;\">\n",
       "      <th></th>\n",
       "      <th>id</th>\n",
       "      <th>date_account_created</th>\n",
       "      <th>timestamp_first_active</th>\n",
       "      <th>date_first_booking</th>\n",
       "      <th>gender</th>\n",
       "      <th>age</th>\n",
       "      <th>signup_method</th>\n",
       "      <th>signup_flow</th>\n",
       "      <th>language</th>\n",
       "      <th>affiliate_channel</th>\n",
       "      <th>...</th>\n",
       "      <th>year_first_booking</th>\n",
       "      <th>month_first_booking</th>\n",
       "      <th>day_first_booking</th>\n",
       "      <th>day_of_week_first_booking</th>\n",
       "      <th>week_of_year_first_booking</th>\n",
       "      <th>year_account_created</th>\n",
       "      <th>month_account_created</th>\n",
       "      <th>day_account_created</th>\n",
       "      <th>day_of_week_account_created</th>\n",
       "      <th>week_of_year_account_created</th>\n",
       "    </tr>\n",
       "  </thead>\n",
       "  <tbody>\n",
       "    <tr>\n",
       "      <th>0</th>\n",
       "      <td>gxn3p5htnn</td>\n",
       "      <td>2010-06-28</td>\n",
       "      <td>2009-03-19 04:32:55</td>\n",
       "      <td>2015-06-29</td>\n",
       "      <td>-unknown-</td>\n",
       "      <td>49</td>\n",
       "      <td>facebook</td>\n",
       "      <td>0</td>\n",
       "      <td>en</td>\n",
       "      <td>direct</td>\n",
       "      <td>...</td>\n",
       "      <td>2015</td>\n",
       "      <td>6</td>\n",
       "      <td>29</td>\n",
       "      <td>0</td>\n",
       "      <td>27</td>\n",
       "      <td>2010</td>\n",
       "      <td>6</td>\n",
       "      <td>28</td>\n",
       "      <td>0</td>\n",
       "      <td>26</td>\n",
       "    </tr>\n",
       "    <tr>\n",
       "      <th>1</th>\n",
       "      <td>820tgsjxq7</td>\n",
       "      <td>2011-05-25</td>\n",
       "      <td>2009-05-23 17:48:09</td>\n",
       "      <td>2015-06-29</td>\n",
       "      <td>MALE</td>\n",
       "      <td>38</td>\n",
       "      <td>facebook</td>\n",
       "      <td>0</td>\n",
       "      <td>en</td>\n",
       "      <td>seo</td>\n",
       "      <td>...</td>\n",
       "      <td>2015</td>\n",
       "      <td>6</td>\n",
       "      <td>29</td>\n",
       "      <td>0</td>\n",
       "      <td>27</td>\n",
       "      <td>2011</td>\n",
       "      <td>5</td>\n",
       "      <td>25</td>\n",
       "      <td>2</td>\n",
       "      <td>21</td>\n",
       "    </tr>\n",
       "    <tr>\n",
       "      <th>2</th>\n",
       "      <td>4ft3gnwmtx</td>\n",
       "      <td>2010-09-28</td>\n",
       "      <td>2009-06-09 23:12:47</td>\n",
       "      <td>2010-08-02</td>\n",
       "      <td>FEMALE</td>\n",
       "      <td>56</td>\n",
       "      <td>basic</td>\n",
       "      <td>3</td>\n",
       "      <td>en</td>\n",
       "      <td>direct</td>\n",
       "      <td>...</td>\n",
       "      <td>2010</td>\n",
       "      <td>8</td>\n",
       "      <td>2</td>\n",
       "      <td>0</td>\n",
       "      <td>31</td>\n",
       "      <td>2010</td>\n",
       "      <td>9</td>\n",
       "      <td>28</td>\n",
       "      <td>1</td>\n",
       "      <td>39</td>\n",
       "    </tr>\n",
       "    <tr>\n",
       "      <th>3</th>\n",
       "      <td>bjjt8pjhuk</td>\n",
       "      <td>2011-12-05</td>\n",
       "      <td>2009-10-31 06:01:29</td>\n",
       "      <td>2012-09-08</td>\n",
       "      <td>FEMALE</td>\n",
       "      <td>42</td>\n",
       "      <td>facebook</td>\n",
       "      <td>0</td>\n",
       "      <td>en</td>\n",
       "      <td>direct</td>\n",
       "      <td>...</td>\n",
       "      <td>2012</td>\n",
       "      <td>9</td>\n",
       "      <td>8</td>\n",
       "      <td>5</td>\n",
       "      <td>36</td>\n",
       "      <td>2011</td>\n",
       "      <td>12</td>\n",
       "      <td>5</td>\n",
       "      <td>0</td>\n",
       "      <td>49</td>\n",
       "    </tr>\n",
       "    <tr>\n",
       "      <th>4</th>\n",
       "      <td>87mebub9p4</td>\n",
       "      <td>2010-09-14</td>\n",
       "      <td>2009-12-08 06:11:05</td>\n",
       "      <td>2010-02-18</td>\n",
       "      <td>-unknown-</td>\n",
       "      <td>41</td>\n",
       "      <td>basic</td>\n",
       "      <td>0</td>\n",
       "      <td>en</td>\n",
       "      <td>direct</td>\n",
       "      <td>...</td>\n",
       "      <td>2010</td>\n",
       "      <td>2</td>\n",
       "      <td>18</td>\n",
       "      <td>3</td>\n",
       "      <td>7</td>\n",
       "      <td>2010</td>\n",
       "      <td>9</td>\n",
       "      <td>14</td>\n",
       "      <td>1</td>\n",
       "      <td>37</td>\n",
       "    </tr>\n",
       "  </tbody>\n",
       "</table>\n",
       "<p>5 rows × 33 columns</p>\n",
       "</div>"
      ],
      "text/plain": [
       "           id date_account_created timestamp_first_active date_first_booking  \\\n",
       "0  gxn3p5htnn           2010-06-28    2009-03-19 04:32:55         2015-06-29   \n",
       "1  820tgsjxq7           2011-05-25    2009-05-23 17:48:09         2015-06-29   \n",
       "2  4ft3gnwmtx           2010-09-28    2009-06-09 23:12:47         2010-08-02   \n",
       "3  bjjt8pjhuk           2011-12-05    2009-10-31 06:01:29         2012-09-08   \n",
       "4  87mebub9p4           2010-09-14    2009-12-08 06:11:05         2010-02-18   \n",
       "\n",
       "      gender  age signup_method  signup_flow language affiliate_channel  ...  \\\n",
       "0  -unknown-   49      facebook            0       en            direct  ...   \n",
       "1       MALE   38      facebook            0       en               seo  ...   \n",
       "2     FEMALE   56         basic            3       en            direct  ...   \n",
       "3     FEMALE   42      facebook            0       en            direct  ...   \n",
       "4  -unknown-   41         basic            0       en            direct  ...   \n",
       "\n",
       "  year_first_booking month_first_booking day_first_booking  \\\n",
       "0               2015                   6                29   \n",
       "1               2015                   6                29   \n",
       "2               2010                   8                 2   \n",
       "3               2012                   9                 8   \n",
       "4               2010                   2                18   \n",
       "\n",
       "  day_of_week_first_booking week_of_year_first_booking year_account_created  \\\n",
       "0                         0                         27                 2010   \n",
       "1                         0                         27                 2011   \n",
       "2                         0                         31                 2010   \n",
       "3                         5                         36                 2011   \n",
       "4                         3                          7                 2010   \n",
       "\n",
       "  month_account_created  day_account_created  day_of_week_account_created  \\\n",
       "0                     6                   28                            0   \n",
       "1                     5                   25                            2   \n",
       "2                     9                   28                            1   \n",
       "3                    12                    5                            0   \n",
       "4                     9                   14                            1   \n",
       "\n",
       "   week_of_year_account_created  \n",
       "0                            26  \n",
       "1                            21  \n",
       "2                            39  \n",
       "3                            49  \n",
       "4                            37  \n",
       "\n",
       "[5 rows x 33 columns]"
      ]
     },
     "execution_count": 42,
     "metadata": {},
     "output_type": "execute_result"
    }
   ],
   "source": [
    "df2.head()"
   ]
  },
  {
   "cell_type": "markdown",
   "id": "c6a82c8a",
   "metadata": {},
   "source": [
    "# 3.0. Data Filtering"
   ]
  },
  {
   "cell_type": "code",
   "execution_count": 44,
   "id": "f5aded92",
   "metadata": {
    "ExecuteTime": {
     "end_time": "2022-05-11T08:54:47.776599Z",
     "start_time": "2022-05-11T08:54:47.707869Z"
    }
   },
   "outputs": [],
   "source": [
    "df3= df2.copy()"
   ]
  },
  {
   "cell_type": "markdown",
   "id": "6710edbe",
   "metadata": {},
   "source": [
    "## 3.1. Filtering Rows"
   ]
  },
  {
   "cell_type": "code",
   "execution_count": 45,
   "id": "5bed03e0",
   "metadata": {
    "ExecuteTime": {
     "end_time": "2022-05-11T08:54:49.075380Z",
     "start_time": "2022-05-11T08:54:49.029349Z"
    }
   },
   "outputs": [],
   "source": [
    "#age greater thaan 15 and lower than 100 - few people\n",
    "df3 = df3[(df3['age']>15) & (df3['age']<100)]\n"
   ]
  },
  {
   "cell_type": "markdown",
   "id": "a21d9b82",
   "metadata": {},
   "source": [
    "## 3.2. Columns Selections"
   ]
  },
  {
   "cell_type": "markdown",
   "id": "7538f134",
   "metadata": {},
   "source": [
    "# 4.0. Data Preparation"
   ]
  },
  {
   "cell_type": "code",
   "execution_count": 46,
   "id": "6ab6bded",
   "metadata": {
    "ExecuteTime": {
     "end_time": "2022-05-11T08:55:38.953200Z",
     "start_time": "2022-05-11T08:55:38.926538Z"
    }
   },
   "outputs": [],
   "source": [
    "df4 = df3.copy()"
   ]
  },
  {
   "cell_type": "code",
   "execution_count": 57,
   "id": "4b5ce288",
   "metadata": {
    "ExecuteTime": {
     "end_time": "2022-05-11T08:59:17.362195Z",
     "start_time": "2022-05-11T08:59:17.251527Z"
    }
   },
   "outputs": [],
   "source": [
    "#dummy variable\n",
    "df4_dummy = pd.get_dummies(df4.drop(['id','country_destination'], axis=1))\n",
    "\n",
    "#join id and country destination\n",
    "df4 = pd.concat([df4[['id', 'country_destination']], df4_dummy], axis=1)"
   ]
  },
  {
   "cell_type": "markdown",
   "id": "2149740e",
   "metadata": {},
   "source": [
    "# 5.0. Feature Selections"
   ]
  },
  {
   "cell_type": "code",
   "execution_count": 48,
   "id": "3ac644e4",
   "metadata": {
    "ExecuteTime": {
     "end_time": "2022-05-11T08:55:49.586335Z",
     "start_time": "2022-05-11T08:55:49.529682Z"
    }
   },
   "outputs": [],
   "source": [
    "cols_drop = ['date_account_created', 'timestamp_first_active', 'date_first_booking', 'first_active'] #original dates\n",
    "df4 = df3.drop(cols_drop, axis=1)"
   ]
  },
  {
   "cell_type": "code",
   "execution_count": 49,
   "id": "66780279",
   "metadata": {
    "ExecuteTime": {
     "end_time": "2022-05-11T08:56:09.982765Z",
     "start_time": "2022-05-11T08:56:09.944918Z"
    }
   },
   "outputs": [],
   "source": [
    "X = df4.drop('country_destination', axis=1)\n",
    "y = df4['country_destination'].copy()"
   ]
  },
  {
   "cell_type": "code",
   "execution_count": 54,
   "id": "2d7266d2",
   "metadata": {
    "ExecuteTime": {
     "end_time": "2022-05-11T08:58:18.332203Z",
     "start_time": "2022-05-11T08:58:18.081499Z"
    }
   },
   "outputs": [],
   "source": [
    "X_train, X_test, y_train, y_test = ms.train_test_split(X,y,test_size=0.2, random_state=32)"
   ]
  },
  {
   "cell_type": "markdown",
   "id": "8e1a3da5",
   "metadata": {},
   "source": [
    "# 6.0. Machine Learning Model"
   ]
  },
  {
   "cell_type": "code",
   "execution_count": 55,
   "id": "5b85904f",
   "metadata": {
    "ExecuteTime": {
     "end_time": "2022-05-11T08:58:19.488893Z",
     "start_time": "2022-05-11T08:58:19.448077Z"
    }
   },
   "outputs": [],
   "source": [
    "weights = df1['country_destination'].value_counts(normalize=True).sort_index().tolist()\n",
    "x_train = X_train.drop('id', axis=1)\n",
    "x_test = X_test.drop('id', axis=1)"
   ]
  },
  {
   "cell_type": "markdown",
   "id": "25b71436",
   "metadata": {},
   "source": [
    "## 5.1. Baseline Model"
   ]
  },
  {
   "cell_type": "code",
   "execution_count": 58,
   "id": "520ba343",
   "metadata": {
    "ExecuteTime": {
     "end_time": "2022-05-11T08:59:59.578569Z",
     "start_time": "2022-05-11T08:59:59.548615Z"
    }
   },
   "outputs": [],
   "source": [
    "import random\n",
    "\n",
    "country_destination_list = df4['country_destination'].drop_duplicates().sort_values().tolist()\n",
    "k_num = y_test.shape[0]\n",
    "yhat_random = random.choices(population=country_destination_list, k=k_num, weights=weights)"
   ]
  },
  {
   "cell_type": "markdown",
   "id": "2e69ffba",
   "metadata": {},
   "source": [
    "## 5.2. Neural Network - MLP"
   ]
  },
  {
   "cell_type": "code",
   "execution_count": 59,
   "id": "6d4a1a57",
   "metadata": {
    "ExecuteTime": {
     "end_time": "2022-05-11T09:00:01.216132Z",
     "start_time": "2022-05-11T09:00:00.861912Z"
    }
   },
   "outputs": [],
   "source": [
    "#split dataset into training and test\n",
    "X_train, X_test, y_train, y_test = ms.train_test_split(X, y, test_size=0.2, random_state=32)"
   ]
  },
  {
   "cell_type": "code",
   "execution_count": 60,
   "id": "4b6df0a3",
   "metadata": {
    "ExecuteTime": {
     "end_time": "2022-05-11T09:00:01.397418Z",
     "start_time": "2022-05-11T09:00:01.367945Z"
    }
   },
   "outputs": [],
   "source": [
    "x_train = X_train.drop('id', axis=1)\n",
    "x_test = X_test.drop('id', axis=1)\n",
    "\n"
   ]
  },
  {
   "cell_type": "code",
   "execution_count": 61,
   "id": "622cddf7",
   "metadata": {
    "ExecuteTime": {
     "end_time": "2022-05-11T09:00:02.419173Z",
     "start_time": "2022-05-11T09:00:02.227991Z"
    }
   },
   "outputs": [],
   "source": [
    "ohe = pp.OneHotEncoder()\n",
    "y_train_nn = ohe.fit_transform(y_train.values.reshape(-1,1)).toarray()"
   ]
  },
  {
   "cell_type": "code",
   "execution_count": 66,
   "id": "c0211ae1",
   "metadata": {
    "ExecuteTime": {
     "end_time": "2022-05-11T11:02:11.180497Z",
     "start_time": "2022-05-11T09:00:55.699907Z"
    }
   },
   "outputs": [
    {
     "name": "stdout",
     "output_type": "stream",
     "text": [
      "Epoch 1/100\n"
     ]
    },
    {
     "name": "stderr",
     "output_type": "stream",
     "text": [
      "2022-05-11 06:00:55.910874: W tensorflow/core/framework/cpu_allocator_impl.cc:82] Allocation of 199873408 exceeds 10% of free system memory.\n"
     ]
    },
    {
     "name": "stdout",
     "output_type": "stream",
     "text": [
      "5276/5276 [==============================] - 12s 2ms/step - loss: 3.6324 - accuracy: 0.7997\n",
      "Epoch 2/100\n",
      "5276/5276 [==============================] - 10s 2ms/step - loss: 0.9773 - accuracy: 0.8352\n",
      "Epoch 3/100\n",
      "5276/5276 [==============================] - 12s 2ms/step - loss: 0.5476 - accuracy: 0.8688\n",
      "Epoch 4/100\n",
      "5276/5276 [==============================] - 13s 2ms/step - loss: 0.4955 - accuracy: 0.8750\n",
      "Epoch 5/100\n",
      "5276/5276 [==============================] - 14s 3ms/step - loss: 0.4915 - accuracy: 0.8755\n",
      "Epoch 6/100\n",
      "5276/5276 [==============================] - 15s 3ms/step - loss: 0.4902 - accuracy: 0.8755\n",
      "Epoch 7/100\n",
      "5276/5276 [==============================] - 14s 3ms/step - loss: 0.4903 - accuracy: 0.8755\n",
      "Epoch 8/100\n",
      "5276/5276 [==============================] - 12s 2ms/step - loss: 0.4891 - accuracy: 0.8756\n",
      "Epoch 9/100\n",
      "5276/5276 [==============================] - 13s 2ms/step - loss: 0.4882 - accuracy: 0.8758\n",
      "Epoch 10/100\n",
      "5276/5276 [==============================] - 13s 2ms/step - loss: 0.4880 - accuracy: 0.8758\n",
      "Epoch 11/100\n",
      "5276/5276 [==============================] - 16s 3ms/step - loss: 0.4875 - accuracy: 0.8759\n",
      "Epoch 12/100\n",
      "5276/5276 [==============================] - 15s 3ms/step - loss: 0.4881 - accuracy: 0.8758\n",
      "Epoch 13/100\n",
      "5276/5276 [==============================] - 15s 3ms/step - loss: 0.4862 - accuracy: 0.8759\n",
      "Epoch 14/100\n",
      "5276/5276 [==============================] - 14s 3ms/step - loss: 0.4869 - accuracy: 0.8759\n",
      "Epoch 15/100\n",
      "5276/5276 [==============================] - 16s 3ms/step - loss: 0.4857 - accuracy: 0.8759\n",
      "Epoch 16/100\n",
      "5276/5276 [==============================] - 15s 3ms/step - loss: 0.4861 - accuracy: 0.8759\n",
      "Epoch 17/100\n",
      "5276/5276 [==============================] - 15s 3ms/step - loss: 0.4854 - accuracy: 0.8760\n",
      "Epoch 18/100\n",
      "5276/5276 [==============================] - 18s 3ms/step - loss: 0.4838 - accuracy: 0.8760\n",
      "Epoch 19/100\n",
      "5276/5276 [==============================] - 18s 3ms/step - loss: 0.4839 - accuracy: 0.8760\n",
      "Epoch 20/100\n",
      "5276/5276 [==============================] - 23s 4ms/step - loss: 0.4837 - accuracy: 0.8760\n",
      "Epoch 21/100\n",
      "5276/5276 [==============================] - 25s 5ms/step - loss: 0.4841 - accuracy: 0.8760\n",
      "Epoch 22/100\n",
      "5276/5276 [==============================] - 24s 4ms/step - loss: 0.4836 - accuracy: 0.8760\n",
      "Epoch 23/100\n",
      "5276/5276 [==============================] - 19s 4ms/step - loss: 0.4836 - accuracy: 0.8760\n",
      "Epoch 24/100\n",
      "5276/5276 [==============================] - 18s 3ms/step - loss: 0.4836 - accuracy: 0.8760\n",
      "Epoch 25/100\n",
      "5276/5276 [==============================] - 15s 3ms/step - loss: 0.4834 - accuracy: 0.8760\n",
      "Epoch 26/100\n",
      "5276/5276 [==============================] - 13s 2ms/step - loss: 0.4834 - accuracy: 0.8760\n",
      "Epoch 27/100\n",
      "5276/5276 [==============================] - 18s 3ms/step - loss: 0.4838 - accuracy: 0.8760\n",
      "Epoch 28/100\n",
      "5276/5276 [==============================] - 16s 3ms/step - loss: 0.4833 - accuracy: 0.8760\n",
      "Epoch 29/100\n",
      "5276/5276 [==============================] - 15s 3ms/step - loss: 0.4837 - accuracy: 0.8759\n",
      "Epoch 30/100\n",
      "5276/5276 [==============================] - 9s 2ms/step - loss: 0.4829 - accuracy: 0.8761\n",
      "Epoch 31/100\n",
      "5276/5276 [==============================] - 9s 2ms/step - loss: 0.4833 - accuracy: 0.8760\n",
      "Epoch 32/100\n",
      "5276/5276 [==============================] - 8s 2ms/step - loss: 0.4839 - accuracy: 0.8760\n",
      "Epoch 33/100\n",
      "5276/5276 [==============================] - 11s 2ms/step - loss: 0.4830 - accuracy: 0.8761\n",
      "Epoch 34/100\n",
      "5276/5276 [==============================] - 11s 2ms/step - loss: 0.4833 - accuracy: 0.8761\n",
      "Epoch 35/100\n",
      "5276/5276 [==============================] - 11s 2ms/step - loss: 0.4835 - accuracy: 0.8760\n",
      "Epoch 36/100\n",
      "5276/5276 [==============================] - 6114s 1s/step - loss: 0.4833 - accuracy: 0.8760\n",
      "Epoch 37/100\n",
      "5276/5276 [==============================] - 11s 2ms/step - loss: 0.4835 - accuracy: 0.8760\n",
      "Epoch 38/100\n",
      "5276/5276 [==============================] - 11s 2ms/step - loss: 0.4831 - accuracy: 0.8760\n",
      "Epoch 39/100\n",
      "5276/5276 [==============================] - 11s 2ms/step - loss: 0.4827 - accuracy: 0.8761\n",
      "Epoch 40/100\n",
      "5276/5276 [==============================] - 11s 2ms/step - loss: 0.4835 - accuracy: 0.8760\n",
      "Epoch 41/100\n",
      "5276/5276 [==============================] - 12s 2ms/step - loss: 0.4831 - accuracy: 0.8760\n",
      "Epoch 42/100\n",
      "5276/5276 [==============================] - 11s 2ms/step - loss: 0.4830 - accuracy: 0.8761\n",
      "Epoch 43/100\n",
      "5276/5276 [==============================] - 9s 2ms/step - loss: 0.4836 - accuracy: 0.8760\n",
      "Epoch 44/100\n",
      "5276/5276 [==============================] - 11s 2ms/step - loss: 0.4828 - accuracy: 0.8761\n",
      "Epoch 45/100\n",
      "5276/5276 [==============================] - 10s 2ms/step - loss: 0.4846 - accuracy: 0.8760\n",
      "Epoch 46/100\n",
      "5276/5276 [==============================] - 10s 2ms/step - loss: 0.4830 - accuracy: 0.8761\n",
      "Epoch 47/100\n",
      "5276/5276 [==============================] - 10s 2ms/step - loss: 0.4833 - accuracy: 0.8761\n",
      "Epoch 48/100\n",
      "5276/5276 [==============================] - 9s 2ms/step - loss: 0.4830 - accuracy: 0.8761\n",
      "Epoch 49/100\n",
      "5276/5276 [==============================] - 9s 2ms/step - loss: 0.4831 - accuracy: 0.8761\n",
      "Epoch 50/100\n",
      "5276/5276 [==============================] - 12s 2ms/step - loss: 0.4835 - accuracy: 0.8761\n",
      "Epoch 51/100\n",
      "5276/5276 [==============================] - 10s 2ms/step - loss: 0.4829 - accuracy: 0.8761\n",
      "Epoch 52/100\n",
      "5276/5276 [==============================] - 10s 2ms/step - loss: 0.4832 - accuracy: 0.8761\n",
      "Epoch 53/100\n",
      "5276/5276 [==============================] - 9s 2ms/step - loss: 0.4833 - accuracy: 0.8761\n",
      "Epoch 54/100\n",
      "5276/5276 [==============================] - 11s 2ms/step - loss: 0.4830 - accuracy: 0.8761\n",
      "Epoch 55/100\n",
      "5276/5276 [==============================] - 9s 2ms/step - loss: 0.4836 - accuracy: 0.8761\n",
      "Epoch 56/100\n",
      "5276/5276 [==============================] - 10s 2ms/step - loss: 0.4832 - accuracy: 0.8761\n",
      "Epoch 57/100\n",
      "5276/5276 [==============================] - 10s 2ms/step - loss: 0.4831 - accuracy: 0.8761\n",
      "Epoch 58/100\n",
      "5276/5276 [==============================] - 10s 2ms/step - loss: 0.4833 - accuracy: 0.8761\n",
      "Epoch 59/100\n",
      "5276/5276 [==============================] - 11s 2ms/step - loss: 0.4836 - accuracy: 0.8761\n",
      "Epoch 60/100\n",
      "5276/5276 [==============================] - 12s 2ms/step - loss: 0.4827 - accuracy: 0.8761\n",
      "Epoch 61/100\n",
      "5276/5276 [==============================] - 10s 2ms/step - loss: 0.4832 - accuracy: 0.8761\n",
      "Epoch 62/100\n",
      "5276/5276 [==============================] - 10s 2ms/step - loss: 0.4828 - accuracy: 0.8761\n",
      "Epoch 63/100\n",
      "5276/5276 [==============================] - 11s 2ms/step - loss: 0.4829 - accuracy: 0.8761\n",
      "Epoch 64/100\n",
      "5276/5276 [==============================] - 10s 2ms/step - loss: 0.4831 - accuracy: 0.8761\n",
      "Epoch 65/100\n",
      "5276/5276 [==============================] - 11s 2ms/step - loss: 0.4830 - accuracy: 0.8761\n",
      "Epoch 66/100\n",
      "5276/5276 [==============================] - 10s 2ms/step - loss: 0.4829 - accuracy: 0.8761\n",
      "Epoch 67/100\n",
      "5276/5276 [==============================] - 10s 2ms/step - loss: 0.4837 - accuracy: 0.8761\n",
      "Epoch 68/100\n",
      "5276/5276 [==============================] - 12s 2ms/step - loss: 0.4827 - accuracy: 0.8762\n",
      "Epoch 69/100\n",
      "5276/5276 [==============================] - 11s 2ms/step - loss: 0.4829 - accuracy: 0.8761\n",
      "Epoch 70/100\n",
      "5276/5276 [==============================] - 12s 2ms/step - loss: 0.4833 - accuracy: 0.8761\n",
      "Epoch 71/100\n",
      "5276/5276 [==============================] - 10s 2ms/step - loss: 0.4828 - accuracy: 0.8761\n",
      "Epoch 72/100\n",
      "5276/5276 [==============================] - 10s 2ms/step - loss: 0.4828 - accuracy: 0.8762\n",
      "Epoch 73/100\n",
      "5276/5276 [==============================] - 10s 2ms/step - loss: 0.4829 - accuracy: 0.8761\n",
      "Epoch 74/100\n",
      "5276/5276 [==============================] - 10s 2ms/step - loss: 0.4826 - accuracy: 0.8762\n",
      "Epoch 75/100\n",
      "5276/5276 [==============================] - 10s 2ms/step - loss: 0.4842 - accuracy: 0.8761\n",
      "Epoch 76/100\n",
      "5276/5276 [==============================] - 11s 2ms/step - loss: 0.4830 - accuracy: 0.8761\n",
      "Epoch 77/100\n",
      "5276/5276 [==============================] - 9s 2ms/step - loss: 0.4831 - accuracy: 0.8761\n",
      "Epoch 78/100\n",
      "5276/5276 [==============================] - 11s 2ms/step - loss: 0.4833 - accuracy: 0.8761\n",
      "Epoch 79/100\n"
     ]
    },
    {
     "name": "stdout",
     "output_type": "stream",
     "text": [
      "5276/5276 [==============================] - 12s 2ms/step - loss: 0.4834 - accuracy: 0.8762\n",
      "Epoch 80/100\n",
      "5276/5276 [==============================] - 11s 2ms/step - loss: 0.4826 - accuracy: 0.8761\n",
      "Epoch 81/100\n",
      "5276/5276 [==============================] - 11s 2ms/step - loss: 0.4828 - accuracy: 0.8761\n",
      "Epoch 82/100\n",
      "5276/5276 [==============================] - 10s 2ms/step - loss: 0.4827 - accuracy: 0.8761\n",
      "Epoch 83/100\n",
      "5276/5276 [==============================] - 11s 2ms/step - loss: 0.4829 - accuracy: 0.8761\n",
      "Epoch 84/100\n",
      "5276/5276 [==============================] - 10s 2ms/step - loss: 0.4830 - accuracy: 0.8761\n",
      "Epoch 85/100\n",
      "5276/5276 [==============================] - 11s 2ms/step - loss: 0.4830 - accuracy: 0.8762\n",
      "Epoch 86/100\n",
      "5276/5276 [==============================] - 12s 2ms/step - loss: 0.4828 - accuracy: 0.8762\n",
      "Epoch 87/100\n",
      "5276/5276 [==============================] - 13s 2ms/step - loss: 0.4828 - accuracy: 0.8761\n",
      "Epoch 88/100\n",
      "5276/5276 [==============================] - 11s 2ms/step - loss: 0.4831 - accuracy: 0.8761\n",
      "Epoch 89/100\n",
      "5276/5276 [==============================] - 10s 2ms/step - loss: 0.4831 - accuracy: 0.8761\n",
      "Epoch 90/100\n",
      "5276/5276 [==============================] - 10s 2ms/step - loss: 0.4826 - accuracy: 0.8762\n",
      "Epoch 91/100\n",
      "5276/5276 [==============================] - 9s 2ms/step - loss: 0.4829 - accuracy: 0.8761\n",
      "Epoch 92/100\n",
      "5276/5276 [==============================] - 8s 2ms/step - loss: 0.4825 - accuracy: 0.8762\n",
      "Epoch 93/100\n",
      "5276/5276 [==============================] - 9s 2ms/step - loss: 0.4831 - accuracy: 0.8761\n",
      "Epoch 94/100\n",
      "5276/5276 [==============================] - 8s 1ms/step - loss: 0.4833 - accuracy: 0.8761\n",
      "Epoch 95/100\n",
      "5276/5276 [==============================] - 8s 2ms/step - loss: 0.4836 - accuracy: 0.8761\n",
      "Epoch 96/100\n",
      "5276/5276 [==============================] - 8s 2ms/step - loss: 0.4838 - accuracy: 0.8762\n",
      "Epoch 97/100\n",
      "5276/5276 [==============================] - 8s 1ms/step - loss: 0.4829 - accuracy: 0.8762\n",
      "Epoch 98/100\n",
      "5276/5276 [==============================] - 8s 1ms/step - loss: 0.4835 - accuracy: 0.8761\n",
      "Epoch 99/100\n",
      "5276/5276 [==============================] - 10s 2ms/step - loss: 0.4835 - accuracy: 0.8761\n",
      "Epoch 100/100\n",
      "5276/5276 [==============================] - 9s 2ms/step - loss: 0.4831 - accuracy: 0.8761\n"
     ]
    },
    {
     "data": {
      "text/plain": [
       "<keras.callbacks.History at 0x7f2aeee345e0>"
      ]
     },
     "execution_count": 66,
     "metadata": {},
     "output_type": "execute_result"
    }
   ],
   "source": [
    "#model definition\n",
    "model = ml.Sequential()\n",
    "model.add(l.Dense(256, input_dim=x_train.shape[1] , activation='relu'))\n",
    "model.add(l.Dense(12, activation='softmax'))\n",
    "\n",
    "#model compile\n",
    "model.compile(loss='categorical_crossentropy', optimizer='adam', metrics=['accuracy'])\n",
    "\n",
    "#train model\n",
    "model.fit(x_train, y_train_nn, epochs=100)"
   ]
  },
  {
   "cell_type": "markdown",
   "id": "439903e7",
   "metadata": {},
   "source": [
    "# 6.0. Performance"
   ]
  },
  {
   "cell_type": "markdown",
   "id": "6564ed24",
   "metadata": {},
   "source": [
    "## 6.1. Baseline Performance"
   ]
  },
  {
   "cell_type": "code",
   "execution_count": 65,
   "id": "ffc09e0c",
   "metadata": {
    "ExecuteTime": {
     "end_time": "2022-05-11T09:00:37.128482Z",
     "start_time": "2022-05-11T09:00:35.133779Z"
    }
   },
   "outputs": [
    {
     "name": "stdout",
     "output_type": "stream",
     "text": [
      "Accuracy score: 0.4307987583821055\n",
      "Balanced accuracy score: 0.08490559676174175\n",
      "Kappa score: 0.0018446459729044573\n"
     ]
    },
    {
     "data": {
      "image/png": "[encoded data removed]",
      "text/plain": [
       "<Figure size 864x864 with 2 Axes>"
      ]
     },
     "metadata": {
      "needs_background": "light"
     },
     "output_type": "display_data"
    }
   ],
   "source": [
    "#Accuracy\n",
    "acc_random = metrics.accuracy_score(y_test, yhat_random)\n",
    "print(f'Accuracy score: {acc_random}')\n",
    "\n",
    "\n",
    "#Balanced accurace\n",
    "balanced_acc_random = metrics.balanced_accuracy_score(y_test, yhat_random)\n",
    "print(f'Balanced accuracy score: {balanced_acc_random}')\n",
    "\n",
    "#Kappa\n",
    "kappa_random = metrics.cohen_kappa_score(y_test, yhat_random)\n",
    "print(f'Kappa score: {kappa_random}')\n",
    "\n",
    "#Confusion Matrix\n",
    "mt.plot_confusion_matrix(y_test, yhat_random, normalize=False, figsize=(12,12));"
   ]
  },
  {
   "cell_type": "markdown",
   "id": "354bd36c",
   "metadata": {},
   "source": [
    "## 6.2. NN Performance"
   ]
  },
  {
   "cell_type": "code",
   "execution_count": 67,
   "id": "15251adf",
   "metadata": {
    "ExecuteTime": {
     "end_time": "2022-05-11T11:02:32.227637Z",
     "start_time": "2022-05-11T11:02:30.170635Z"
    }
   },
   "outputs": [],
   "source": [
    "#prediction\n",
    "pred_nn = model.predict(x_test)\n",
    "\n",
    "#invert prediction\n",
    "yhat_nn = ohe.inverse_transform(pred_nn)\n",
    "\n",
    "#prediction prepare\n",
    "y_test_nn = y_test.to_numpy()\n",
    "yhat_nn = yhat_nn.reshape(1,-1)[0]"
   ]
  },
  {
   "cell_type": "code",
   "execution_count": 68,
   "id": "499d5e7a",
   "metadata": {
    "ExecuteTime": {
     "end_time": "2022-05-11T11:02:32.245811Z",
     "start_time": "2022-05-11T11:02:32.233674Z"
    }
   },
   "outputs": [
    {
     "data": {
      "text/plain": [
       "array(['NDF', 'NDF', 'NDF', ..., 'NDF', 'NDF', 'NDF'], dtype=object)"
      ]
     },
     "execution_count": 68,
     "metadata": {},
     "output_type": "execute_result"
    }
   ],
   "source": [
    "yhat_nn"
   ]
  },
  {
   "cell_type": "code",
   "execution_count": 69,
   "id": "978d3f4c",
   "metadata": {
    "ExecuteTime": {
     "end_time": "2022-05-11T11:02:34.328445Z",
     "start_time": "2022-05-11T11:02:32.251443Z"
    }
   },
   "outputs": [
    {
     "name": "stdout",
     "output_type": "stream",
     "text": [
      "Accuracy score: 0.8757434305618084\n",
      "Balanced accuracy score: 0.16665986172355599\n",
      "Kappa score: 0.7685326846250944\n"
     ]
    },
    {
     "data": {
      "image/png": "[encoded data removed]",
      "text/plain": [
       "<Figure size 864x864 with 2 Axes>"
      ]
     },
     "metadata": {
      "needs_background": "light"
     },
     "output_type": "display_data"
    }
   ],
   "source": [
    "#Accuracy\n",
    "acc_nn = metrics.accuracy_score(y_test_nn, yhat_nn)\n",
    "print(f'Accuracy score: {acc_nn}')\n",
    "\n",
    "\n",
    "#Balanced accurace\n",
    "balanced_acc_nn = metrics.balanced_accuracy_score(y_test_nn, yhat_nn)\n",
    "print(f'Balanced accuracy score: {balanced_acc_nn}')\n",
    "\n",
    "#Kappa\n",
    "kappa_nn = metrics.cohen_kappa_score(y_test_nn, yhat_nn)\n",
    "print(f'Kappa score: {kappa_nn}')\n",
    "\n",
    "#Confusion Matrix\n",
    "mt.plot_confusion_matrix(y_test_nn, yhat_nn, normalize=False, figsize=(12,12));\n",
    "\n"
   ]
  },
  {
   "cell_type": "code",
   "execution_count": 81,
   "id": "961d16c7",
   "metadata": {
    "ExecuteTime": {
     "end_time": "2022-05-11T11:08:22.637563Z",
     "start_time": "2022-05-11T11:08:22.521879Z"
    }
   },
   "outputs": [
    {
     "data": {
      "text/plain": [
       "NDF    24715\n",
       "US     17488\n",
       "dtype: int64"
      ]
     },
     "execution_count": 81,
     "metadata": {},
     "output_type": "execute_result"
    }
   ],
   "source": [
    "pd.Series(yhat_nn).value_counts()"
   ]
  },
  {
   "cell_type": "code",
   "execution_count": 42,
   "id": "efb54e3f",
   "metadata": {
    "ExecuteTime": {
     "end_time": "2022-04-26T09:36:41.755955Z",
     "start_time": "2022-04-26T09:36:41.406719Z"
    }
   },
   "outputs": [
    {
     "name": "stderr",
     "output_type": "stream",
     "text": [
      "/home/heitor/repos/airbnb_booking_classification/venv/lib/python3.8/site-packages/sklearn/metrics/_classification.py:1318: UndefinedMetricWarning: Precision and F-score are ill-defined and being set to 0.0 in labels with no predicted samples. Use `zero_division` parameter to control this behavior.\n",
      "  _warn_prf(average, modifier, msg_start, len(result))\n",
      "/home/heitor/repos/airbnb_booking_classification/venv/lib/python3.8/site-packages/sklearn/metrics/_classification.py:1318: UndefinedMetricWarning: Precision and F-score are ill-defined and being set to 0.0 in labels with no predicted samples. Use `zero_division` parameter to control this behavior.\n",
      "  _warn_prf(average, modifier, msg_start, len(result))\n"
     ]
    },
    {
     "name": "stdout",
     "output_type": "stream",
     "text": [
      "              precision    recall  f1-score   support\n",
      "\n",
      "          AU       0.00      0.00      0.00       101\n",
      "          CA       0.00      0.00      0.00       214\n",
      "          DE       0.00      0.00      0.00       170\n",
      "          ES       0.00      0.00      0.00       345\n",
      "          FR       0.00      0.00      0.00       710\n",
      "          GB       0.00      0.00      0.00       344\n",
      "          IT       0.17      0.00      0.00       423\n",
      "          NL       0.00      0.00      0.00       128\n",
      "          PT       0.00      0.00      0.00        36\n",
      "          US       0.71      1.00      0.83      9624\n",
      "       other       0.17      0.00      0.01      1540\n",
      "\n",
      "    accuracy                           0.70     13635\n",
      "   macro avg       0.09      0.09      0.08     13635\n",
      "weighted avg       0.52      0.70      0.58     13635\n",
      "\n"
     ]
    },
    {
     "name": "stderr",
     "output_type": "stream",
     "text": [
      "/home/heitor/repos/airbnb_booking_classification/venv/lib/python3.8/site-packages/sklearn/metrics/_classification.py:1318: UndefinedMetricWarning: Precision and F-score are ill-defined and being set to 0.0 in labels with no predicted samples. Use `zero_division` parameter to control this behavior.\n",
      "  _warn_prf(average, modifier, msg_start, len(result))\n"
     ]
    }
   ],
   "source": [
    "print(metrics.classification_report(y_test_nn, yhat_nn))"
   ]
  },
  {
   "cell_type": "code",
   "execution_count": 85,
   "id": "212ec0bf",
   "metadata": {
    "ExecuteTime": {
     "end_time": "2022-05-11T11:17:57.682333Z",
     "start_time": "2022-05-11T11:17:57.671838Z"
    }
   },
   "outputs": [],
   "source": [
    "# balanced_acc_list = []\n",
    "# kappa_list = []\n",
    "\n",
    "# #stratified kfold\n",
    "# num_folds=5\n",
    "# kfold = ms.StratifiedKFold(n_splits=num_folds, shuffle=True, random_state=42)\n",
    "\n",
    "# i= 1\n",
    "# for train_ix, val_ix in kfold.split(x_train, y_train):\n",
    "#     print('Fold number {}'.format(i))\n",
    "#     #get fold\n",
    "#     x_train_fold = x_train.iloc[train_ix]\n",
    "#     y_train_fold = y_train.iloc[train_ix]\n",
    "    \n",
    "#     x_val_fold = x_train.iloc[val_ix]\n",
    "#     y_val_fold = y_train.iloc[val_ix]\n",
    "    \n",
    "#     #one hot enconding\n",
    "    \n",
    "#     ohe = pp.OneHotEncoder()\n",
    "#     y_train_fold_nn = ohe.fit_transform(y_train_fold.values.reshape(-1,1)).toarray()\n",
    "    \n",
    "    \n",
    "#     #model definition\n",
    "#     model = ml.Sequential()\n",
    "#     model.add(l.Dense(256, input_dim=x_train.shape[1],activation='relu'))\n",
    "#     model.add(l.Dense(11, activation='softmax'))\n",
    "\n",
    "\n",
    "#     #model train\n",
    "#     model.compile(loss='categorical_crossentropy', optimizer='adam', metrics=['accuracy'])\n",
    "#     model.fit(x_train_fold, y_train_fold_nn, epochs=100, batch_size=32, verbose=True)\n",
    "    \n",
    "#     #model predict\n",
    "\n",
    "#     pred_nn = model.predict(x_val_fold)\n",
    "#     yhat_nn = ohe.inverse_transform(pred_nn)\n",
    "              \n",
    "              \n",
    "#     #prepare data    \n",
    "#     y_test_nn = y_val_fold.to_numpy()\n",
    "#     yhat_nn = yhat_nn.reshape(1,-1)[0]\n",
    "              \n",
    "              \n",
    "#     #metrics\n",
    "\n",
    "#     #balanced accuracy\n",
    "#     balanced_acc_nn = metrics.balanced_accuracy_score(y_test_nn, yhat_nn)\n",
    "#     balanced_acc_list.append(balanced_acc_nn)\n",
    "#     #kappa\n",
    "              \n",
    "#     kappa_acc_nn = metrics.cohen_kappa_score(y_test_nn, yhat_nn)\n",
    "#     kappa_list.append(kappa_acc_nn)\n",
    "#     i+=1"
   ]
  },
  {
   "cell_type": "code",
   "execution_count": 84,
   "id": "875fe263",
   "metadata": {
    "ExecuteTime": {
     "end_time": "2022-05-11T11:17:46.775636Z",
     "start_time": "2022-05-11T11:17:46.772091Z"
    }
   },
   "outputs": [],
   "source": [
    "# print(f'Balanced Accuracy CV = {np.mean(balanced_acc_list)}')\n",
    "# print(f'Kappa Score CV = {np.mean(kappa_list)}')"
   ]
  }
 ],
 "metadata": {
  "kernelspec": {
   "display_name": "Python 3 (ipykernel)",
   "language": "python",
   "name": "python3"
  },
  "language_info": {
   "codemirror_mode": {
    "name": "ipython",
    "version": 3
   },
   "file_extension": ".py",
   "mimetype": "text/x-python",
   "name": "python",
   "nbconvert_exporter": "python",
   "pygments_lexer": "ipython3",
   "version": "3.8.10"
  }
 },
 "nbformat": 4,
 "nbformat_minor": 5
}
