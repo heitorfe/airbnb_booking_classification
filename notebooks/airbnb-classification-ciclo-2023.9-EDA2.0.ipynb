{
 "cells": [
  {
   "cell_type": "markdown",
   "id": "8ba6e4ab",
   "metadata": {
    "ExecuteTime": {
     "end_time": "2023-06-15T19:06:25.850330Z",
     "start_time": "2023-06-15T19:06:25.836193Z"
    }
   },
   "source": [
    "### The EDA will analyse three scenarios:\n",
    "    1. NDF\n",
    "    2. US\n",
    "    3. other"
   ]
  },
  {
   "cell_type": "code",
   "execution_count": 5,
   "id": "ed89ac65",
   "metadata": {
    "ExecuteTime": {
     "end_time": "2023-06-15T19:07:27.559745Z",
     "start_time": "2023-06-15T19:07:27.530149Z"
    }
   },
   "outputs": [],
   "source": [
    "import pandas as pd\n",
    "import numpy as np\n",
    "import seaborn as sns\n",
    "import os\n",
    "\n",
    "from scipy import stats as ss\n",
    "from sklearn import model_selection as ms\n",
    "from sklearn import preprocessing as pp\n",
    "from sklearn import metrics \n",
    "\n",
    "from imblearn.over_sampling import SMOTE, BorderlineSMOTE\n",
    "from imblearn.combine import SMOTETomek\n",
    "\n",
    "from sklearn.ensemble import RandomForestClassifier, ExtraTreesClassifier\n",
    "from sklearn.svm import SVC\n",
    "from sklearn.linear_model import LogisticRegression\n",
    "from lightgbm import LGBMClassifier\n",
    "from xgboost import XGBClassifier\n",
    "from sklearn.neighbors import KNeighborsClassifier\n",
    "\n",
    "from keras import models as ml\n",
    "from keras import layers as l\n",
    "\n",
    "from scikitplot import metrics as mt\n",
    "\n",
    "import random\n",
    "from matplotlib import pyplot as plt\n",
    "pd.set_option('mode.chained_assignment', None)\n",
    "\n",
    "def load_data():\n",
    "    df_raw = pd.read_csv('../data/train_users_2.csv', low_memory=True)\n",
    "    df_sessions = pd.read_csv('../data/sessions.csv')\n",
    "    return df_raw, df_sessions\n",
    "\n",
    "def transform_data(df, df_sessions):\n",
    "    #==================Training================\n",
    "\n",
    "    #age\n",
    "    age_mean = df['age'].mean()\n",
    "    df['age'] = df['age'].fillna(age_mean)\n",
    "\n",
    "    # first_affiliate_tracked\n",
    "    df['first_affiliate_tracked'].dropna(inplace=True)\n",
    "\n",
    "    #==================Sessions==============\n",
    "    df_sessions.dropna(inplace = True)\n",
    "    \n",
    "    #date_account_created\n",
    "    df['date_account_created'] = pd.to_datetime(df['date_account_created'])\n",
    "\n",
    "    #timestamp_first_active\n",
    "    df['timestamp_first_active'] = pd.to_datetime(df['timestamp_first_active'], format='%Y%m%d%H%M%S')\n",
    "    # date_first_booking - not available\n",
    "    df.drop('date_first_booking', axis = 1, inplace = True)\n",
    "    \n",
    "    #age\n",
    "    df['age'] = df['age'].astype('int64')\n",
    "    \n",
    "    #Filter\n",
    "    df = df[(df['age']>15) & (df['age']<100)]\n",
    "    \n",
    "    return df, df_sessions\n",
    "\n",
    "def feature_engineering(df, df_sessions):\n",
    "    \n",
    "    df['first_active'] = pd.to_datetime(df['timestamp_first_active'].dt.strftime('%Y-%m-%d'))\n",
    "\n",
    "    #time between account created and first active\n",
    "    df['days_from_active_to_account_created'] = (df['date_account_created'] - df['first_active']).dt.days\n",
    "\n",
    "    #year  of first active\n",
    "    df['year_first_active'] = df['first_active'].dt.year\n",
    "\n",
    "    #month of first active\n",
    "    df['month_first_active'] = df['first_active'].dt.month\n",
    "\n",
    "    #day of first active\n",
    "    df['day_first_active'] = df['first_active'].dt.day\n",
    "\n",
    "    #day of week of first active\n",
    "    df['day_of_week_first_active'] = df['first_active'].dt.dayofweek\n",
    "\n",
    "    #week of year of first active\n",
    "    df['week_of_year_first_active'] = df['first_active'].dt.isocalendar().week\n",
    "\n",
    "    #year  of account created\n",
    "    df['year_account_created'] = df['date_account_created'].dt.year\n",
    "\n",
    "    #month of account created\n",
    "    df['month_account_created'] = df['date_account_created'].dt.month\n",
    "\n",
    "    #day of account created\n",
    "    df['day_account_created'] = df['date_account_created'].dt.day\n",
    "\n",
    "    #day of week of account created\n",
    "    df['day_of_week_account_created'] = df['date_account_created'].dt.dayofweek\n",
    "\n",
    "    #week of year of account created\n",
    "    df['week_of_year_account_created'] = df['date_account_created'].dt.isocalendar().week\n",
    "\n",
    "    # n_clicks\n",
    "    n_clicks = df_sessions[df_sessions['action_type']=='click'].groupby('user_id').agg(n_clicks = ('user_id', 'count')).reset_index()\n",
    "    df = pd.merge(df, n_clicks.rename(columns = {'user_id' : 'id'}), on ='id', how='left')\n",
    "    df['n_clicks'].fillna(0, inplace=True)\n",
    "\n",
    "    n_reviews = df_sessions[df_sessions['action']=='reviews'].groupby('user_id').agg(n_reviews = ('user_id', 'count')).reset_index()\n",
    "    df = pd.merge(df, n_reviews.rename(columns = {'user_id' : 'id'}), on ='id', how='left')\n",
    "    df['n_reviews'].fillna(0, inplace=True)\n",
    "    \n",
    "    return df\n",
    "\n",
    "def data_preprocessing(df):\n",
    "\n",
    "    # language to binary, either is english or not\n",
    "    df['language_en'] = np.where(df['language']=='en', 1, 0)\n",
    "\n",
    "    # signup to binary, either is web or not\n",
    "    df['signup_on_web'] = np.where(df['signup_app']== 'Web', 1, 0)\n",
    "\n",
    "    # first_affiliate_tracked to binary, either is tracked or not\n",
    "    df['tracked'] = np.where(df['first_affiliate_tracked']=='untracked', 0, 1)\n",
    "\n",
    "    #binary features from first_device_type\n",
    "    df['first_device_apple'] = np.where(df['first_device_type'].isin(['Mac Desktop', 'iPhone', 'iPad']), 1 ,0)\n",
    "    df['first_device_desktop'] = np.where(df['first_device_type'].isin(['Mac Desktop', 'Desktop', 'Windows Desktop']), 1, 0)\n",
    "\n",
    "    # frequency encoding\n",
    "    affiliate_channel_frequency_encoding = df['affiliate_channel'].value_counts(normalize=True)\n",
    "    df['affiliate_channel'] = df['affiliate_channel'].map(affiliate_channel_frequency_encoding)\n",
    "\n",
    "    affiliate_provider_frequency_encoding = df['affiliate_provider'].value_counts(normalize=True)\n",
    "    df['affiliate_provider'] = df['affiliate_provider'].map(affiliate_provider_frequency_encoding)\n",
    "\n",
    "    first_browser_frequency_encoding = df['first_browser'].value_counts(normalize=True)\n",
    "    df['first_browser'] = df['first_browser'].map(first_browser_frequency_encoding)\n",
    "    \n",
    "    # Rescaling\n",
    "    columns_to_rescale = [\n",
    "    \"age\",\n",
    "    \"signup_flow\",\n",
    "    \"n_reviews\",\n",
    "    \"n_clicks\"\n",
    "    ]\n",
    "\n",
    "    scaler = pp.MinMaxScaler()\n",
    "\n",
    "    df[columns_to_rescale] = scaler.fit_transform(df[columns_to_rescale])\n",
    "    \n",
    "    # temporal columns \n",
    "    temporal_columns = [\n",
    "    \"days_from_active_to_account_created\",\n",
    "    \"year_first_active\",\n",
    "    \"month_first_active\",\n",
    "    \"day_first_active\",\n",
    "    \"day_of_week_first_active\",\n",
    "    \"week_of_year_first_active\",\n",
    "    \"year_account_created\",\n",
    "    \"month_account_created\",\n",
    "    \"day_account_created\",\n",
    "    \"day_of_week_account_created\",\n",
    "    \"week_of_year_account_created\"]\n",
    "\n",
    "     # month_account_created\n",
    "    df['month_account_created_sin'] = df['month_account_created'].apply( lambda x: np.sin( x * (2*np.pi/12 ) ) )\n",
    "    df['month_account_created_cos'] = df['month_account_created'].apply( lambda x: np.cos( x * (2*np.pi/12 ) ) )\n",
    "\n",
    "    # week_account_created\n",
    "    df['week_account_created_sin'] = df['week_of_year_account_created'].apply( lambda x: np.sin( x * (2*np.pi/52 ) ) )\n",
    "    df['week_account_created_cos'] = df['week_of_year_account_created'].apply( lambda x: np.cos( x * (2*np.pi/52 ) ) )\n",
    "\n",
    "    # day_account_created\n",
    "    df['day_account_created_sin'] = df['day_account_created'].apply( lambda x: np.sin( x * (2*np.pi/30 ) ) )\n",
    "    df['day_account_created_cos'] = df['day_account_created'].apply( lambda x: np.cos( x * (2*np.pi/30 ) ) )\n",
    "\n",
    "    # day_of_week_account_created\n",
    "    df['day_of_week_account_created_sin'] = df['day_of_week_account_created'].apply( lambda x: np.sin( x * (2*np.pi/7 ) ) )\n",
    "    df['day_of_week_account_created_cos'] = df['day_of_week_account_created'].apply( lambda x: np.cos( x * (2*np.pi/7 ) ) )\n",
    "\n",
    "    df.drop(temporal_columns, axis=1, inplace=True)\n",
    "        \n",
    "    cols_drop = [ 'gender', 'signup_method', 'language', 'first_affiliate_tracked',\n",
    "           'signup_app', 'first_device_type','date_account_created', 'timestamp_first_active',\n",
    "                  'first_active'] #original dates\n",
    "    df = df.drop(cols_drop, axis=1)\n",
    "    return df\n",
    "\n",
    "def balance_data(X_imb, y_imb):\n",
    "    \n",
    "    majority_value = y.value_counts()[0]\n",
    "\n",
    "    # Calcular os pesos de classe inversamente proporcionais à frequência\n",
    "    class_weights = {'NDF': majority_value*1,\n",
    "                     'US': int(majority_value*0.5),\n",
    "                     'other': int(majority_value*0.18),\n",
    "                     'FR': int(majority_value*0.15) ,\n",
    "                     'IT': int(majority_value*0.13),\n",
    "                     'GB': int(majority_value*0.13),\n",
    "                     'ES': int(majority_value*0.13),\n",
    "                     'CA': int(majority_value*0.13),\n",
    "                     'DE': int(majority_value*0.13),\n",
    "                     'NL': int(majority_value*0.09),\n",
    "                     'AU': int(majority_value*0.09),\n",
    "                     'PT': int(majority_value*0.09)\n",
    "                    }\n",
    "\n",
    "    # Instanciar o SMOTE com os pesos de classe definidos\n",
    "    smote = BorderlineSMOTE(sampling_strategy=class_weights)\n",
    "\n",
    "    # Aplicar o resampling usando o SMOTE\n",
    "    X_resampled, y_resampled = smote.fit_resample(X, y)\n",
    "\n",
    "    return X_resampled, y_resampled\n",
    "\n",
    "def feature_importance(X,y):\n",
    "    X_train, X_test, y_train, y_test = ms.train_test_split(X,y,test_size=0.2, random_state=32)\n",
    "\n",
    "    model = RandomForestClassifier()\n",
    "    model.fit(X_train, y_train)\n",
    "    importances = model.feature_importances_  # Obtendo as importâncias das features\n",
    "    feature_names = list(df.columns) # Obtendo os nomes das features\n",
    "\n",
    "    feature_importances = [(feature, importance) for feature, importance in zip(feature_names, importances)]\n",
    "    feature_importances = sorted(feature_importances, key=lambda x: x[1], reverse=True)\n",
    "\n",
    "    sorted_features = [feature for feature, importance in feature_importances]\n",
    "    sorted_importances = [importance for feature, importance in feature_importances]\n",
    "\n",
    "    plt.figure(figsize=(10, 6))\n",
    "    plt.bar(range(len(sorted_importances)), sorted_importances, align='center')\n",
    "    plt.xticks(range(len(sorted_features)), sorted_features, rotation='vertical')\n",
    "    plt.xlabel('Features')\n",
    "    plt.ylabel('Importance')\n",
    "    plt.title('Feature Importance')\n",
    "    plt.tight_layout()\n",
    "    plt.show()\n",
    "\n",
    "def evaluate_model(model, X_train, X_test, y_train, y_test):\n",
    "    # Converter classes categóricas para valores numéricos\n",
    "    label_encoder = pp.LabelEncoder()\n",
    "    y_train_encoded = label_encoder.fit_transform(y_train)\n",
    "    y_test_encoded = label_encoder.transform(y_test)\n",
    "    \n",
    "    model.fit(X_train, y_train_encoded)\n",
    "    yhat_encoded = model.predict(X_test)\n",
    "    \n",
    "    # Converter previsões numéricas de volta para a forma original\n",
    "    yhat = label_encoder.inverse_transform(yhat_encoded)\n",
    "    \n",
    "    # Accuracy\n",
    "    acc_random = metrics.accuracy_score(y_test, yhat)\n",
    "    print(f'Accuracy score: {acc_random:.3f}')\n",
    "    \n",
    "    # Balanced accuracy\n",
    "    balanced_acc_random = metrics.balanced_accuracy_score(y_test, yhat)\n",
    "    print(f'Balanced accuracy score: {balanced_acc_random:.3f}')\n",
    "    \n",
    "    mt.plot_confusion_matrix(y_test, yhat, normalize=False, figsize=(10, 10), labels=label_encoder.classes_);\n",
    "\n",
    "def get_model_metrics(model_trained, X_test, y_test):\n",
    "    \n",
    "    yhat = model_trained.predict(X_test)\n",
    "    \n",
    "    #balanced accuracy\n",
    "    balanced_acc= metrics.balanced_accuracy_score(y_test, yhat)\n",
    " \n",
    "    kappa_acc = metrics.cohen_kappa_score(y_test, yhat)\n",
    "    \n",
    "    return balanced_acc, kappa_acc\n",
    "\n",
    "\n",
    "def cv(model, num_folds, X, y):\n",
    "    kfold = ms.StratifiedKFold(n_splits=num_folds, shuffle=True, random_state=42)\n",
    "    balanced_acc_list = []\n",
    "    kappa_list = []\n",
    "    x_train, x_test, y_train, y_test = ms.train_test_split(X, y, train_size=0.8)\n",
    "    i= 1\n",
    "    for train_ix, val_ix in kfold.split(x_train, y_train):\n",
    "        print('Fold number {}'.format(i))\n",
    "        #get fold\n",
    "        x_train_fold = x_train.iloc[train_ix]\n",
    "        y_train_fold = y_train.iloc[train_ix]\n",
    "\n",
    "        x_val_fold = x_train.iloc[val_ix]\n",
    "        y_val_fold = y_train.iloc[val_ix]\n",
    "\n",
    "        model.fit(x_train_fold, y_train_fold)\n",
    "        print(f'{i}/{num_folds}')\n",
    "        \n",
    "        balanced_acc, kappa = get_model_metrics(model, x_test, y_test)\n",
    "        balanced_acc_list.append(balanced_acc)\n",
    "        kappa_list.append(kappa)\n",
    "        i+=1\n",
    "    \n",
    "    print(f'Balanced Accuracy CV = {np.mean(balanced_acc_list)}')\n",
    "    print(f'Kappa Score CV = {np.mean(kappa_list)}')"
   ]
  },
  {
   "cell_type": "markdown",
   "id": "ce22e35d",
   "metadata": {},
   "source": [
    "## Separate data"
   ]
  },
  {
   "cell_type": "code",
   "execution_count": 6,
   "id": "e74e492e",
   "metadata": {
    "ExecuteTime": {
     "end_time": "2023-06-15T19:08:05.300673Z",
     "start_time": "2023-06-15T19:07:59.477604Z"
    }
   },
   "outputs": [],
   "source": [
    "df, df_sessions = load_data()"
   ]
  },
  {
   "cell_type": "code",
   "execution_count": 47,
   "id": "aaa28af3",
   "metadata": {
    "ExecuteTime": {
     "end_time": "2023-06-15T19:39:49.445904Z",
     "start_time": "2023-06-15T19:39:49.411826Z"
    }
   },
   "outputs": [],
   "source": [
    "df['group'] = df['country_destination'].apply(lambda x: 'ndf' if x == 'NDF' else  'others')"
   ]
  },
  {
   "cell_type": "code",
   "execution_count": 48,
   "id": "b4966d75",
   "metadata": {
    "ExecuteTime": {
     "end_time": "2023-06-15T19:39:50.877129Z",
     "start_time": "2023-06-15T19:39:50.845283Z"
    }
   },
   "outputs": [
    {
     "data": {
      "text/html": [
       "<div>\n",
       "<style scoped>\n",
       "    .dataframe tbody tr th:only-of-type {\n",
       "        vertical-align: middle;\n",
       "    }\n",
       "\n",
       "    .dataframe tbody tr th {\n",
       "        vertical-align: top;\n",
       "    }\n",
       "\n",
       "    .dataframe thead th {\n",
       "        text-align: right;\n",
       "    }\n",
       "</style>\n",
       "<table border=\"1\" class=\"dataframe\">\n",
       "  <thead>\n",
       "    <tr style=\"text-align: right;\">\n",
       "      <th></th>\n",
       "      <th>group</th>\n",
       "      <th>group</th>\n",
       "    </tr>\n",
       "  </thead>\n",
       "  <tbody>\n",
       "    <tr>\n",
       "      <th>ndf</th>\n",
       "      <td>124543</td>\n",
       "      <td>0.583473</td>\n",
       "    </tr>\n",
       "    <tr>\n",
       "      <th>others</th>\n",
       "      <td>88908</td>\n",
       "      <td>0.416527</td>\n",
       "    </tr>\n",
       "  </tbody>\n",
       "</table>\n",
       "</div>"
      ],
      "text/plain": [
       "         group     group\n",
       "ndf     124543  0.583473\n",
       "others   88908  0.416527"
      ]
     },
     "execution_count": 48,
     "metadata": {},
     "output_type": "execute_result"
    }
   ],
   "source": [
    "a = pd.DataFrame(df['group'].value_counts())\n",
    "b = pd.DataFrame(df['group'].value_counts(normalize = True))\n",
    "\n",
    "pd.concat([a,b], axis= 1)"
   ]
  },
  {
   "cell_type": "markdown",
   "id": "d370b745",
   "metadata": {
    "ExecuteTime": {
     "end_time": "2023-06-15T19:23:49.576299Z",
     "start_time": "2023-06-15T19:23:49.562707Z"
    }
   },
   "source": [
    "## Time Analsys"
   ]
  },
  {
   "cell_type": "code",
   "execution_count": 49,
   "id": "3bca4983",
   "metadata": {
    "ExecuteTime": {
     "end_time": "2023-06-15T19:39:53.898380Z",
     "start_time": "2023-06-15T19:39:53.597103Z"
    }
   },
   "outputs": [],
   "source": [
    "#date_account_created\n",
    "df['date_account_created'] = pd.to_datetime(df['date_account_created'])\n",
    "\n",
    "#timestamp_first_active\n",
    "df['timestamp_first_active'] = pd.to_datetime(df['timestamp_first_active'], format='%Y%m%d%H%M%S')\n",
    "df['first_active'] = pd.to_datetime(df['timestamp_first_active'].dt.strftime('%Y-%m-%d'))\n",
    "\n",
    "#time between account created and first active\n",
    "df['days_from_active_to_account_created'] = (df['date_account_created'] - df['first_active']).dt.days\n",
    "\n",
    "#year  of first active\n",
    "df['year_first_active'] = df['first_active'].dt.year\n",
    "\n",
    "#month of first active\n",
    "df['month_first_active'] = df['first_active'].dt.month\n",
    "\n",
    "#day of first active\n",
    "df['day_first_active'] = df['first_active'].dt.day\n",
    "\n",
    "#day of week of first active\n",
    "df['day_of_week_first_active'] = df['first_active'].dt.dayofweek\n",
    "\n",
    "#week of year of first active\n",
    "df['week_of_year_first_active'] = df['first_active'].dt.isocalendar().week\n",
    "\n",
    "#year  of account created\n",
    "df['year_account_created'] = df['date_account_created'].dt.year\n",
    "\n",
    "#month of account created\n",
    "df['month_account_created'] = df['date_account_created'].dt.month\n",
    "\n",
    "#day of account created\n",
    "df['day_account_created'] = df['date_account_created'].dt.day\n",
    "\n",
    "#day of week of account created\n",
    "df['day_of_week_account_created'] = df['date_account_created'].dt.dayofweek\n",
    "\n",
    "#week of year of account created\n",
    "df['week_of_year_account_created'] = df['date_account_created'].dt.isocalendar().week"
   ]
  },
  {
   "cell_type": "code",
   "execution_count": 50,
   "id": "99b04b7c",
   "metadata": {
    "ExecuteTime": {
     "end_time": "2023-06-15T19:39:54.321110Z",
     "start_time": "2023-06-15T19:39:54.311583Z"
    }
   },
   "outputs": [],
   "source": [
    "def temporal_barplot(date_column):\n",
    "    plt.figure(figsize = (10,3))\n",
    "    aux = df.groupby(['group', date_column]).agg(count = ('id', 'count')).reset_index()\n",
    "    sns.barplot(aux, x = date_column, y = 'count', hue = 'group')\n",
    "    plt.title(f'Count by {date_column}')"
   ]
  },
  {
   "cell_type": "markdown",
   "id": "1968dc50",
   "metadata": {},
   "source": [
    "## Account Created"
   ]
  },
  {
   "cell_type": "markdown",
   "id": "2086af06",
   "metadata": {},
   "source": [
    "### month"
   ]
  },
  {
   "cell_type": "code",
   "execution_count": 51,
   "id": "f2df6a30",
   "metadata": {
    "ExecuteTime": {
     "end_time": "2023-06-15T19:39:55.650362Z",
     "start_time": "2023-06-15T19:39:55.440483Z"
    }
   },
   "outputs": [
    {
     "data": {
      "image/png": "[encoded data removed]",
      "text/plain": [
       "<Figure size 1000x300 with 1 Axes>"
      ]
     },
     "metadata": {},
     "output_type": "display_data"
    }
   ],
   "source": [
    "temporal_barplot('month_account_created')"
   ]
  },
  {
   "cell_type": "markdown",
   "id": "5146f19b",
   "metadata": {},
   "source": [
    "### day of week"
   ]
  },
  {
   "cell_type": "code",
   "execution_count": 52,
   "id": "b24ec0d4",
   "metadata": {
    "ExecuteTime": {
     "end_time": "2023-06-15T19:40:04.750314Z",
     "start_time": "2023-06-15T19:40:04.580451Z"
    }
   },
   "outputs": [
    {
     "data": {
      "image/png": "[encoded data removed]",
      "text/plain": [
       "<Figure size 1000x300 with 1 Axes>"
      ]
     },
     "metadata": {},
     "output_type": "display_data"
    }
   ],
   "source": [
    "temporal_barplot('day_of_week_account_created')"
   ]
  },
  {
   "cell_type": "code",
   "execution_count": 53,
   "id": "7e147717",
   "metadata": {
    "ExecuteTime": {
     "end_time": "2023-06-15T19:40:05.547429Z",
     "start_time": "2023-06-15T19:40:05.387863Z"
    }
   },
   "outputs": [
    {
     "data": {
      "image/png": "[encoded data removed]",
      "text/plain": [
       "<Figure size 1000x300 with 1 Axes>"
      ]
     },
     "metadata": {},
     "output_type": "display_data"
    }
   ],
   "source": [
    "temporal_barplot('year_account_created')"
   ]
  },
  {
   "cell_type": "markdown",
   "id": "65a30641",
   "metadata": {},
   "source": [
    "### Análise temporal"
   ]
  },
  {
   "cell_type": "code",
   "execution_count": 54,
   "id": "3da00af3",
   "metadata": {
    "ExecuteTime": {
     "end_time": "2023-06-15T19:40:06.808329Z",
     "start_time": "2023-06-15T19:40:06.632914Z"
    }
   },
   "outputs": [
    {
     "data": {
      "image/png": "[encoded data removed]",
      "text/plain": [
       "<Figure size 1000x300 with 1 Axes>"
      ]
     },
     "metadata": {},
     "output_type": "display_data"
    }
   ],
   "source": [
    "temporal_barplot('day_of_week_account_created')"
   ]
  },
  {
   "cell_type": "code",
   "execution_count": 57,
   "id": "e137aaee",
   "metadata": {
    "ExecuteTime": {
     "end_time": "2023-06-15T19:41:17.187769Z",
     "start_time": "2023-06-15T19:41:17.170145Z"
    }
   },
   "outputs": [
    {
     "data": {
      "text/plain": [
       "0     164739\n",
       "25     14659\n",
       "12      9329\n",
       "3       8822\n",
       "2       6881\n",
       "24      4328\n",
       "23      2835\n",
       "1       1047\n",
       "6        301\n",
       "8        240\n",
       "21       196\n",
       "5         36\n",
       "20        14\n",
       "16        11\n",
       "15        10\n",
       "10         2\n",
       "4          1\n",
       "Name: signup_flow, dtype: int64"
      ]
     },
     "execution_count": 57,
     "metadata": {},
     "output_type": "execute_result"
    }
   ],
   "source": [
    "df['signup_flow'].value_counts()"
   ]
  },
  {
   "cell_type": "code",
   "execution_count": 58,
   "id": "ba007bb0",
   "metadata": {
    "ExecuteTime": {
     "end_time": "2023-06-15T19:43:43.678467Z",
     "start_time": "2023-06-15T19:43:43.654855Z"
    }
   },
   "outputs": [
    {
     "data": {
      "text/html": [
       "<div>\n",
       "<style scoped>\n",
       "    .dataframe tbody tr th:only-of-type {\n",
       "        vertical-align: middle;\n",
       "    }\n",
       "\n",
       "    .dataframe tbody tr th {\n",
       "        vertical-align: top;\n",
       "    }\n",
       "\n",
       "    .dataframe thead th {\n",
       "        text-align: right;\n",
       "    }\n",
       "</style>\n",
       "<table border=\"1\" class=\"dataframe\">\n",
       "  <thead>\n",
       "    <tr style=\"text-align: right;\">\n",
       "      <th></th>\n",
       "      <th>user_id</th>\n",
       "      <th>action</th>\n",
       "      <th>action_type</th>\n",
       "      <th>action_detail</th>\n",
       "      <th>device_type</th>\n",
       "      <th>secs_elapsed</th>\n",
       "    </tr>\n",
       "  </thead>\n",
       "  <tbody>\n",
       "    <tr>\n",
       "      <th>0</th>\n",
       "      <td>d1mm9tcy42</td>\n",
       "      <td>lookup</td>\n",
       "      <td>NaN</td>\n",
       "      <td>NaN</td>\n",
       "      <td>Windows Desktop</td>\n",
       "      <td>319.0</td>\n",
       "    </tr>\n",
       "    <tr>\n",
       "      <th>1</th>\n",
       "      <td>d1mm9tcy42</td>\n",
       "      <td>search_results</td>\n",
       "      <td>click</td>\n",
       "      <td>view_search_results</td>\n",
       "      <td>Windows Desktop</td>\n",
       "      <td>67753.0</td>\n",
       "    </tr>\n",
       "    <tr>\n",
       "      <th>2</th>\n",
       "      <td>d1mm9tcy42</td>\n",
       "      <td>lookup</td>\n",
       "      <td>NaN</td>\n",
       "      <td>NaN</td>\n",
       "      <td>Windows Desktop</td>\n",
       "      <td>301.0</td>\n",
       "    </tr>\n",
       "    <tr>\n",
       "      <th>3</th>\n",
       "      <td>d1mm9tcy42</td>\n",
       "      <td>search_results</td>\n",
       "      <td>click</td>\n",
       "      <td>view_search_results</td>\n",
       "      <td>Windows Desktop</td>\n",
       "      <td>22141.0</td>\n",
       "    </tr>\n",
       "    <tr>\n",
       "      <th>4</th>\n",
       "      <td>d1mm9tcy42</td>\n",
       "      <td>lookup</td>\n",
       "      <td>NaN</td>\n",
       "      <td>NaN</td>\n",
       "      <td>Windows Desktop</td>\n",
       "      <td>435.0</td>\n",
       "    </tr>\n",
       "  </tbody>\n",
       "</table>\n",
       "</div>"
      ],
      "text/plain": [
       "      user_id          action action_type        action_detail  \\\n",
       "0  d1mm9tcy42          lookup         NaN                  NaN   \n",
       "1  d1mm9tcy42  search_results       click  view_search_results   \n",
       "2  d1mm9tcy42          lookup         NaN                  NaN   \n",
       "3  d1mm9tcy42  search_results       click  view_search_results   \n",
       "4  d1mm9tcy42          lookup         NaN                  NaN   \n",
       "\n",
       "       device_type  secs_elapsed  \n",
       "0  Windows Desktop         319.0  \n",
       "1  Windows Desktop       67753.0  \n",
       "2  Windows Desktop         301.0  \n",
       "3  Windows Desktop       22141.0  \n",
       "4  Windows Desktop         435.0  "
      ]
     },
     "execution_count": 58,
     "metadata": {},
     "output_type": "execute_result"
    }
   ],
   "source": [
    "df_sessions.head()"
   ]
  }
 ],
 "metadata": {
  "kernelspec": {
   "display_name": "Python 3 (ipykernel)",
   "language": "python",
   "name": "python3"
  },
  "language_info": {
   "codemirror_mode": {
    "name": "ipython",
    "version": 3
   },
   "file_extension": ".py",
   "mimetype": "text/x-python",
   "name": "python",
   "nbconvert_exporter": "python",
   "pygments_lexer": "ipython3",
   "version": "3.9.13"
  }
 },
 "nbformat": 4,
 "nbformat_minor": 5
}
