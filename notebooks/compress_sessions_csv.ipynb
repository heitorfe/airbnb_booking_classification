{
 "cells": [
  {
   "cell_type": "code",
   "execution_count": 2,
   "id": "785e8883",
   "metadata": {
    "ExecuteTime": {
     "end_time": "2023-06-14T09:49:32.325839Z",
     "start_time": "2023-06-14T09:49:11.620692Z"
    }
   },
   "outputs": [],
   "source": [
    "import pandas as pd\n",
    "\n",
    "df = pd.read_csv('../data/sessions.csv', low_memory = False)"
   ]
  },
  {
   "cell_type": "code",
   "execution_count": 5,
   "id": "ad3261c2",
   "metadata": {
    "ExecuteTime": {
     "end_time": "2023-06-14T09:50:47.750777Z",
     "start_time": "2023-06-14T09:50:47.065419Z"
    }
   },
   "outputs": [],
   "source": [
    "df = df[['user_id', 'action', 'action_type']]"
   ]
  },
  {
   "cell_type": "code",
   "execution_count": 6,
   "id": "adf2813b",
   "metadata": {
    "ExecuteTime": {
     "end_time": "2023-06-14T09:51:15.905121Z",
     "start_time": "2023-06-14T09:51:05.562649Z"
    }
   },
   "outputs": [],
   "source": [
    "df.to_parquet('../app/sessions.parquet')"
   ]
  },
  {
   "cell_type": "code",
   "execution_count": 7,
   "id": "4813ca7c",
   "metadata": {
    "ExecuteTime": {
     "end_time": "2023-06-14T09:51:44.405006Z",
     "start_time": "2023-06-14T09:51:38.487358Z"
    }
   },
   "outputs": [
    {
     "data": {
      "text/html": [
       "<div>\n",
       "<style scoped>\n",
       "    .dataframe tbody tr th:only-of-type {\n",
       "        vertical-align: middle;\n",
       "    }\n",
       "\n",
       "    .dataframe tbody tr th {\n",
       "        vertical-align: top;\n",
       "    }\n",
       "\n",
       "    .dataframe thead th {\n",
       "        text-align: right;\n",
       "    }\n",
       "</style>\n",
       "<table border=\"1\" class=\"dataframe\">\n",
       "  <thead>\n",
       "    <tr style=\"text-align: right;\">\n",
       "      <th></th>\n",
       "      <th>user_id</th>\n",
       "      <th>action</th>\n",
       "      <th>action_type</th>\n",
       "    </tr>\n",
       "  </thead>\n",
       "  <tbody>\n",
       "    <tr>\n",
       "      <th>0</th>\n",
       "      <td>d1mm9tcy42</td>\n",
       "      <td>lookup</td>\n",
       "      <td>None</td>\n",
       "    </tr>\n",
       "    <tr>\n",
       "      <th>1</th>\n",
       "      <td>d1mm9tcy42</td>\n",
       "      <td>search_results</td>\n",
       "      <td>click</td>\n",
       "    </tr>\n",
       "    <tr>\n",
       "      <th>2</th>\n",
       "      <td>d1mm9tcy42</td>\n",
       "      <td>lookup</td>\n",
       "      <td>None</td>\n",
       "    </tr>\n",
       "    <tr>\n",
       "      <th>3</th>\n",
       "      <td>d1mm9tcy42</td>\n",
       "      <td>search_results</td>\n",
       "      <td>click</td>\n",
       "    </tr>\n",
       "    <tr>\n",
       "      <th>4</th>\n",
       "      <td>d1mm9tcy42</td>\n",
       "      <td>lookup</td>\n",
       "      <td>None</td>\n",
       "    </tr>\n",
       "    <tr>\n",
       "      <th>...</th>\n",
       "      <td>...</td>\n",
       "      <td>...</td>\n",
       "      <td>...</td>\n",
       "    </tr>\n",
       "    <tr>\n",
       "      <th>10567732</th>\n",
       "      <td>9uqfg8txu3</td>\n",
       "      <td>dashboard</td>\n",
       "      <td>view</td>\n",
       "    </tr>\n",
       "    <tr>\n",
       "      <th>10567733</th>\n",
       "      <td>9uqfg8txu3</td>\n",
       "      <td>edit</td>\n",
       "      <td>view</td>\n",
       "    </tr>\n",
       "    <tr>\n",
       "      <th>10567734</th>\n",
       "      <td>9uqfg8txu3</td>\n",
       "      <td>webcam_upload</td>\n",
       "      <td>-unknown-</td>\n",
       "    </tr>\n",
       "    <tr>\n",
       "      <th>10567735</th>\n",
       "      <td>9uqfg8txu3</td>\n",
       "      <td>active</td>\n",
       "      <td>-unknown-</td>\n",
       "    </tr>\n",
       "    <tr>\n",
       "      <th>10567736</th>\n",
       "      <td>9uqfg8txu3</td>\n",
       "      <td>show_personalize</td>\n",
       "      <td>data</td>\n",
       "    </tr>\n",
       "  </tbody>\n",
       "</table>\n",
       "<p>10567737 rows × 3 columns</p>\n",
       "</div>"
      ],
      "text/plain": [
       "             user_id            action action_type\n",
       "0         d1mm9tcy42            lookup        None\n",
       "1         d1mm9tcy42    search_results       click\n",
       "2         d1mm9tcy42            lookup        None\n",
       "3         d1mm9tcy42    search_results       click\n",
       "4         d1mm9tcy42            lookup        None\n",
       "...              ...               ...         ...\n",
       "10567732  9uqfg8txu3         dashboard        view\n",
       "10567733  9uqfg8txu3              edit        view\n",
       "10567734  9uqfg8txu3     webcam_upload   -unknown-\n",
       "10567735  9uqfg8txu3            active   -unknown-\n",
       "10567736  9uqfg8txu3  show_personalize        data\n",
       "\n",
       "[10567737 rows x 3 columns]"
      ]
     },
     "execution_count": 7,
     "metadata": {},
     "output_type": "execute_result"
    }
   ],
   "source": [
    "pd.read_parquet('../app/sessions.parquet')"
   ]
  }
 ],
 "metadata": {
  "kernelspec": {
   "display_name": "Python 3 (ipykernel)",
   "language": "python",
   "name": "python3"
  },
  "language_info": {
   "codemirror_mode": {
    "name": "ipython",
    "version": 3
   },
   "file_extension": ".py",
   "mimetype": "text/x-python",
   "name": "python",
   "nbconvert_exporter": "python",
   "pygments_lexer": "ipython3",
   "version": "3.9.13"
  }
 },
 "nbformat": 4,
 "nbformat_minor": 5
}
