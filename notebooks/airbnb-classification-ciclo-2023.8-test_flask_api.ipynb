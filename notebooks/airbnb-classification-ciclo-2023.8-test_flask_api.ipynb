{
 "cells": [
  {
   "cell_type": "code",
   "execution_count": 41,
   "id": "96c0524f",
   "metadata": {
    "ExecuteTime": {
     "end_time": "2023-06-14T10:02:48.897012Z",
     "start_time": "2023-06-14T10:02:48.751792Z"
    }
   },
   "outputs": [],
   "source": [
    "import pandas as pd\n",
    "import requests\n",
    "\n",
    "payload = pd.read_csv('../data/test_users.csv').sample().to_json(orient = 'records')"
   ]
  },
  {
   "cell_type": "code",
   "execution_count": 42,
   "id": "a0da55bb",
   "metadata": {
    "ExecuteTime": {
     "end_time": "2023-06-14T10:03:06.315634Z",
     "start_time": "2023-06-14T10:02:49.405857Z"
    }
   },
   "outputs": [],
   "source": [
    "url = 'http://127.0.0.1:5000/predict'\n",
    "\n",
    "payload = '[{\"id\":\"hbb3dbd3\",\"date_account_created\":\"2014-09-04\",\"timestamp_first_active\":20140904172330,\"date_first_booking\":null,\"gender\":\"FEMALE\",\"age\":26.0,\"signup_method\":\"basic\",\"signup_flow\":0,\"language\":\"en\",\"affiliate_channel\":\"direct\",\"affiliate_provider\":\"direct\",\"first_affiliate_tracked\":\"linked\",\"signup_app\":\"Web\",\"first_device_type\":\"Windows Desktop\",\"first_browser\":\"Chrome\"}]'\n",
    "response = requests.post(url=url, json = payload)"
   ]
  },
  {
   "cell_type": "code",
   "execution_count": 43,
   "id": "7a008860",
   "metadata": {
    "ExecuteTime": {
     "end_time": "2023-06-14T10:03:06.331215Z",
     "start_time": "2023-06-14T10:03:06.319640Z"
    }
   },
   "outputs": [
    {
     "data": {
      "text/plain": [
       "<Response [200]>"
      ]
     },
     "execution_count": 43,
     "metadata": {},
     "output_type": "execute_result"
    }
   ],
   "source": [
    "response"
   ]
  },
  {
   "cell_type": "code",
   "execution_count": 44,
   "id": "640c7cb2",
   "metadata": {
    "ExecuteTime": {
     "end_time": "2023-06-14T10:03:06.347018Z",
     "start_time": "2023-06-14T10:03:06.333729Z"
    }
   },
   "outputs": [
    {
     "data": {
      "text/plain": [
       "'[{\"id\":\"hbb3dbd3\",\"country_destination\":\"US\",\"proba\":0.6}]'"
      ]
     },
     "execution_count": 44,
     "metadata": {},
     "output_type": "execute_result"
    }
   ],
   "source": [
    "response.json()"
   ]
  }
 ],
 "metadata": {
  "kernelspec": {
   "display_name": "Python 3 (ipykernel)",
   "language": "python",
   "name": "python3"
  },
  "language_info": {
   "codemirror_mode": {
    "name": "ipython",
    "version": 3
   },
   "file_extension": ".py",
   "mimetype": "text/x-python",
   "name": "python",
   "nbconvert_exporter": "python",
   "pygments_lexer": "ipython3",
   "version": "3.9.13"
  }
 },
 "nbformat": 4,
 "nbformat_minor": 5
}
