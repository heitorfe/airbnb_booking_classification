{
 "cells": [
  {
   "cell_type": "code",
   "execution_count": 3,
   "id": "96c0524f",
   "metadata": {
    "ExecuteTime": {
     "end_time": "2023-06-14T23:13:07.120557Z",
     "start_time": "2023-06-14T23:13:07.005820Z"
    }
   },
   "outputs": [],
   "source": [
    "import pandas as pd\n",
    "import requests\n",
    "\n",
    "payload = pd.read_csv('../data/test_users.csv').sample().to_json(orient = 'records')"
   ]
  },
  {
   "cell_type": "code",
   "execution_count": 4,
   "id": "a0da55bb",
   "metadata": {
    "ExecuteTime": {
     "end_time": "2023-06-14T23:13:11.022267Z",
     "start_time": "2023-06-14T23:13:07.469608Z"
    }
   },
   "outputs": [],
   "source": [
    "url = 'http://127.0.0.1:5000/predict'\n",
    "\n",
    "payload = '[{\"id\":\"hbb3dbd3\",\"date_account_created\":\"2014-09-04\",\"timestamp_first_active\":20140904172330,\"date_first_booking\":null,\"gender\":\"FEMALE\",\"age\":26.0,\"signup_method\":\"basic\",\"signup_flow\":0,\"language\":\"en\",\"affiliate_channel\":\"direct\",\"affiliate_provider\":\"direct\",\"first_affiliate_tracked\":\"linked\",\"signup_app\":\"Web\",\"first_device_type\":\"Windows Desktop\",\"first_browser\":\"Chrome\"}]'\n",
    "response = requests.post(url=url, json = payload)"
   ]
  },
  {
   "cell_type": "code",
   "execution_count": 5,
   "id": "7a008860",
   "metadata": {
    "ExecuteTime": {
     "end_time": "2023-06-14T23:13:11.706683Z",
     "start_time": "2023-06-14T23:13:11.686660Z"
    }
   },
   "outputs": [
    {
     "data": {
      "text/plain": [
       "<Response [200]>"
      ]
     },
     "execution_count": 5,
     "metadata": {},
     "output_type": "execute_result"
    }
   ],
   "source": [
    "response"
   ]
  },
  {
   "cell_type": "code",
   "execution_count": 6,
   "id": "640c7cb2",
   "metadata": {
    "ExecuteTime": {
     "end_time": "2023-06-14T23:13:12.555394Z",
     "start_time": "2023-06-14T23:13:12.536513Z"
    }
   },
   "outputs": [
    {
     "data": {
      "text/plain": [
       "'[{\"id\":\"hbb3dbd3\",\"country_destination\":\"US\",\"proba\":0.6}]'"
      ]
     },
     "execution_count": 6,
     "metadata": {},
     "output_type": "execute_result"
    }
   ],
   "source": [
    "response.json()"
   ]
  },
  {
   "cell_type": "code",
   "execution_count": null,
   "id": "13463453",
   "metadata": {},
   "outputs": [],
   "source": []
  }
 ],
 "metadata": {
  "kernelspec": {
   "display_name": "Python 3 (ipykernel)",
   "language": "python",
   "name": "python3"
  },
  "language_info": {
   "codemirror_mode": {
    "name": "ipython",
    "version": 3
   },
   "file_extension": ".py",
   "mimetype": "text/x-python",
   "name": "python",
   "nbconvert_exporter": "python",
   "pygments_lexer": "ipython3",
   "version": "3.9.13"
  }
 },
 "nbformat": 4,
 "nbformat_minor": 5
}
