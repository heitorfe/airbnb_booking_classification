{
 "cells": [
  {
   "cell_type": "code",
   "execution_count": 2,
   "id": "96c0524f",
   "metadata": {
    "ExecuteTime": {
     "end_time": "2023-06-16T21:54:19.275041Z",
     "start_time": "2023-06-16T21:54:18.382114Z"
    }
   },
   "outputs": [],
   "source": [
    "import pandas as pd\n",
    "import requests\n",
    "\n",
    "payload = pd.read_csv('../data/test_users.csv').sample().to_json(orient = 'records')"
   ]
  },
  {
   "cell_type": "code",
   "execution_count": null,
   "id": "de73816a",
   "metadata": {},
   "outputs": [],
   "source": []
  },
  {
   "cell_type": "code",
   "execution_count": 7,
   "id": "a0da55bb",
   "metadata": {
    "ExecuteTime": {
     "end_time": "2023-06-16T21:58:54.248059Z",
     "start_time": "2023-06-16T21:58:49.468749Z"
    }
   },
   "outputs": [],
   "source": [
    "url = 'https://heitordockerwebapp.azurewebsites.net/predict'\n",
    "url = 'http://127.0.0.1:5000/predict'\n",
    "\n",
    "# payload = '[{\"id\":\"hbb3dbd3\",\"date_account_created\":\"2014-09-04\",\"timestamp_first_active\":20140904172330,\"date_first_booking\":null,\"gender\":\"FEMALE\",\"age\":26.0,\"signup_method\":\"basic\",\"signup_flow\":0,\"language\":\"en\",\"affiliate_channel\":\"direct\",\"affiliate_provider\":\"direct\",\"first_affiliate_tracked\":\"linked\",\"signup_app\":\"Web\",\"first_device_type\":\"Windows Desktop\",\"first_browser\":\"Chrome\"}]'\n",
    "response = requests.post(url=url, json = payload)"
   ]
  },
  {
   "cell_type": "code",
   "execution_count": 10,
   "id": "46062309",
   "metadata": {
    "ExecuteTime": {
     "end_time": "2023-06-16T21:59:09.096432Z",
     "start_time": "2023-06-16T21:59:09.078074Z"
    }
   },
   "outputs": [
    {
     "data": {
      "text/plain": [
       "'[{\"id\":\"slm94lz22f\",\"date_account_created\":\"2014-07-08\",\"timestamp_first_active\":20140708174630,\"date_first_booking\":null,\"gender\":\"-unknown-\",\"age\":null,\"signup_method\":\"basic\",\"signup_flow\":0,\"language\":\"en\",\"affiliate_channel\":\"seo\",\"affiliate_provider\":\"bing\",\"first_affiliate_tracked\":\"linked\",\"signup_app\":\"Web\",\"first_device_type\":\"Windows Desktop\",\"first_browser\":\"Chrome\"}]'"
      ]
     },
     "execution_count": 10,
     "metadata": {},
     "output_type": "execute_result"
    }
   ],
   "source": [
    "payload"
   ]
  },
  {
   "cell_type": "code",
   "execution_count": 8,
   "id": "7a008860",
   "metadata": {
    "ExecuteTime": {
     "end_time": "2023-06-16T21:58:56.029920Z",
     "start_time": "2023-06-16T21:58:56.020265Z"
    }
   },
   "outputs": [
    {
     "data": {
      "text/plain": [
       "<Response [500]>"
      ]
     },
     "execution_count": 8,
     "metadata": {},
     "output_type": "execute_result"
    }
   ],
   "source": [
    "response"
   ]
  },
  {
   "cell_type": "code",
   "execution_count": 9,
   "id": "640c7cb2",
   "metadata": {
    "ExecuteTime": {
     "end_time": "2023-06-16T21:58:58.900874Z",
     "start_time": "2023-06-16T21:58:58.890237Z"
    }
   },
   "outputs": [
    {
     "data": {
      "text/plain": [
       "{'Error': 'danger',\n",
       " 'message': 'Cannot convert non-finite values (NA or inf) to integer'}"
      ]
     },
     "execution_count": 9,
     "metadata": {},
     "output_type": "execute_result"
    }
   ],
   "source": [
    "response.json()"
   ]
  },
  {
   "cell_type": "code",
   "execution_count": null,
   "id": "13463453",
   "metadata": {},
   "outputs": [],
   "source": []
  }
 ],
 "metadata": {
  "kernelspec": {
   "display_name": "Python 3 (ipykernel)",
   "language": "python",
   "name": "python3"
  },
  "language_info": {
   "codemirror_mode": {
    "name": "ipython",
    "version": 3
   },
   "file_extension": ".py",
   "mimetype": "text/x-python",
   "name": "python",
   "nbconvert_exporter": "python",
   "pygments_lexer": "ipython3",
   "version": "3.9.13"
  }
 },
 "nbformat": 4,
 "nbformat_minor": 5
}
