{
 "cells": [
  {
   "cell_type": "markdown",
   "id": "e1b2a781",
   "metadata": {
    "ExecuteTime": {
     "end_time": "2022-04-25T14:32:24.780638Z",
     "start_time": "2022-04-25T14:32:24.775287Z"
    },
    "heading_collapsed": true
   },
   "source": [
    "### Airbnb Classification"
   ]
  },
  {
   "cell_type": "markdown",
   "id": "489d9885",
   "metadata": {
    "ExecuteTime": {
     "end_time": "2022-04-25T14:52:06.900431Z",
     "start_time": "2022-04-25T14:52:06.896604Z"
    },
    "hidden": true
   },
   "source": [
    "**Airbnb Business Model**\n",
    "\n",
    "**Marketplace** that connect people who offers home with peope who wants to rent a home. \n",
    "\n",
    "Offert:\n",
    "* Portfolio Density/Diversity\n",
    "* Portfolio Size\n",
    "* Average Price\n",
    "\n",
    "Demand:\n",
    "* LTV\n",
    "* CAC\n",
    "* Number of Users\n",
    "\n"
   ]
  },
  {
   "cell_type": "markdown",
   "id": "1ffcf71b",
   "metadata": {
    "hidden": true
   },
   "source": [
    "**Business Problem**\n",
    "\n",
    "New users on Airbnb can book a place to stay in 34,000+ cities across 190+ countries. By accurately predicting where a new user will book their first travel experience, Airbnb can share more personalized content with their community, decrease the average time to first booking, and better forecast demand."
   ]
  },
  {
   "cell_type": "markdown",
   "id": "ec228b9b",
   "metadata": {
    "hidden": true
   },
   "source": [
    "**Data Description**\n",
    "\n",
    "In this challenge, you are given a list of users along with their demographics, web session records, and some summary statistics. You are asked to predict which country a new user's first booking destination will be. All the users in this dataset are from the USA.\n",
    "\n",
    "There are 12 possible outcomes of the destination country: 'US', 'FR', 'CA', 'GB', 'ES', 'IT', 'PT', 'NL','DE', 'AU', 'NDF' (no destination found), and 'other'. Please note that 'NDF' is different from 'other' because 'other' means there was a booking, but is to a country not included in the list, while 'NDF' means there wasn't a booking.\n",
    "\n",
    "The training and test sets are split by dates. In the test set, you will predict all the new users with first activities after 7/1/2014 (note: this is updated on 12/5/15 when the competition restarted). In the sessions dataset, the data only dates back to 1/1/2014, while the users dataset dates back to 2010. \n",
    "\n",
    "\n"
   ]
  },
  {
   "cell_type": "markdown",
   "id": "fbe3bae8",
   "metadata": {
    "hidden": true
   },
   "source": [
    "**Solution**\n",
    "1. Predict and load in a database, use data visualization to see results\n",
    "\n",
    "2. API: \n",
    "    * Input: id and customer features\n",
    "    * Output: id + predict + probability"
   ]
  },
  {
   "cell_type": "markdown",
   "id": "2e1702df",
   "metadata": {},
   "source": [
    "# 0.0. Load\n"
   ]
  },
  {
   "cell_type": "markdown",
   "id": "2f3a523a",
   "metadata": {},
   "source": [
    "## 0.1. Imports\n"
   ]
  },
  {
   "cell_type": "code",
   "execution_count": 23,
   "id": "9bda3f36",
   "metadata": {
    "ExecuteTime": {
     "end_time": "2023-06-10T16:57:51.079909Z",
     "start_time": "2023-06-10T16:57:51.070854Z"
    }
   },
   "outputs": [],
   "source": [
    "import pandas as pd\n",
    "import numpy as np\n",
    "import seaborn as sns\n",
    "import os\n",
    "\n",
    "from scipy import stats as ss\n",
    "from sklearn import model_selection as ms\n",
    "from sklearn import preprocessing as pp\n",
    "from sklearn import metrics \n",
    "\n",
    "from imblearn.over_sampling import SMOTE\n",
    "\n",
    "from sklearn.ensemble import RandomForestClassifier, ExtraTreesClassifier\n",
    "from sklearn.svm import SVC\n",
    "from sklearn.linear_model import LogisticRegression\n",
    "from lightgbm import LGBMClassifier\n",
    "from xgboost import XGBClassifier\n",
    "from sklearn.neighbors import KNeighborsClassifier\n",
    "\n",
    "from keras import models as ml\n",
    "from keras import layers as l\n",
    "\n",
    "from scikitplot import metrics as mt\n",
    "\n",
    "import random\n"
   ]
  },
  {
   "cell_type": "markdown",
   "id": "932b5d08",
   "metadata": {},
   "source": [
    "## 0.2. Helper Functions"
   ]
  },
  {
   "cell_type": "code",
   "execution_count": 2,
   "id": "da79f7e1",
   "metadata": {
    "ExecuteTime": {
     "end_time": "2023-06-10T16:56:19.447843Z",
     "start_time": "2023-06-10T16:56:19.419318Z"
    }
   },
   "outputs": [],
   "source": [
    "def num_stats(df):\n",
    "    num_attributes = df.select_dtypes(['int64', 'float64'])\n",
    "\n",
    "    #central tendency\n",
    "    mean = pd.DataFrame(num_attributes.apply(np.mean)).T\n",
    "    median = pd.DataFrame(num_attributes.apply(np.mean)).T\n",
    "\n",
    "    #dispersion\n",
    "    min_ = pd.DataFrame(num_attributes.apply(min)).T\n",
    "    max_ = pd.DataFrame(num_attributes.apply(max)).T\n",
    "    range_ = pd.DataFrame(num_attributes.apply(lambda x: x.max() - x.min())).T\n",
    "    skew  = pd.DataFrame(num_attributes.apply(lambda x: x.skew())).T\n",
    "    kurtosis = pd.DataFrame(num_attributes.apply(lambda x: x.kurtosis())).T\n",
    "    std = pd.DataFrame(num_attributes.apply(np.std)).T\n",
    "\n",
    "    m_numeric = pd.concat([min_, max_, range_, mean, median, std, skew, kurtosis]).T.reset_index()\n",
    "\n",
    "    m_numeric.columns = ['attributes','min', 'max', 'range', 'mean', 'median', 'std', 'skew', 'kurtosis']\n",
    "    return m_numeric\n",
    "\n",
    "def cramer_v(x,y):\n",
    "    cm = pd.crosstab(x,y).values\n",
    "    n = cm.sum()\n",
    "    r, k = cm.shape\n",
    "    \n",
    "    chi2 = ss.chi2_contingency(cm)[0]\n",
    "    chi2corr = max(0, chi2 - (k-1)*(r-1)/(n-1))\n",
    "    \n",
    "    kcorr = k - (k-1)**2/(n-1)\n",
    "    rcorr = r - (r-1)**2/(n-1)\n",
    "    \n",
    "    return np.sqrt((chi2corr/n) / min(kcorr-1, rcorr-1))"
   ]
  },
  {
   "cell_type": "markdown",
   "id": "c94f295c",
   "metadata": {},
   "source": [
    "## 0.3. Load Dataset"
   ]
  },
  {
   "cell_type": "code",
   "execution_count": 3,
   "id": "c51db62b",
   "metadata": {
    "ExecuteTime": {
     "end_time": "2023-06-10T16:56:24.850903Z",
     "start_time": "2023-06-10T16:56:19.457848Z"
    }
   },
   "outputs": [],
   "source": [
    "df_raw = pd.read_csv('../data/train_users_2.csv', low_memory=True)\n",
    "df_sessions = pd.read_csv('../data/sessions.csv')"
   ]
  },
  {
   "cell_type": "markdown",
   "id": "bb2a4408",
   "metadata": {},
   "source": [
    "# 1.0. Data Description"
   ]
  },
  {
   "cell_type": "code",
   "execution_count": 5,
   "id": "a0bc9987",
   "metadata": {
    "ExecuteTime": {
     "end_time": "2023-06-10T16:56:35.710271Z",
     "start_time": "2023-06-10T16:56:35.682318Z"
    }
   },
   "outputs": [],
   "source": [
    "df1 = df_raw.copy()"
   ]
  },
  {
   "cell_type": "markdown",
   "id": "081aa991",
   "metadata": {},
   "source": [
    "## 1.1. Data Dimensions"
   ]
  },
  {
   "cell_type": "code",
   "execution_count": 5,
   "id": "e255ec04",
   "metadata": {
    "ExecuteTime": {
     "end_time": "2023-06-09T22:58:46.757376Z",
     "start_time": "2023-06-09T22:58:46.732791Z"
    }
   },
   "outputs": [
    {
     "name": "stdout",
     "output_type": "stream",
     "text": [
      "Train dataset:\n",
      "Rows:213451\n",
      "Cols:16\n",
      "\n",
      "Sessions dataset:\n",
      "Rows:10567737\n",
      "Cols:6\n"
     ]
    }
   ],
   "source": [
    "print('Train dataset:')\n",
    "print('Rows:{}'.format(df_raw.shape[0]))\n",
    "print('Cols:{}'.format(df_raw.shape[1]))\n",
    "\n",
    "print('\\nSessions dataset:')\n",
    "print('Rows:{}'.format(df_sessions.shape[0]))\n",
    "print('Cols:{}'.format(df_sessions.shape[1]))"
   ]
  },
  {
   "cell_type": "markdown",
   "id": "4d5edb93",
   "metadata": {},
   "source": [
    "## 1.2. Data Types"
   ]
  },
  {
   "cell_type": "code",
   "execution_count": 6,
   "id": "fec89862",
   "metadata": {
    "ExecuteTime": {
     "end_time": "2023-06-09T22:58:46.790962Z",
     "start_time": "2023-06-09T22:58:46.762617Z"
    }
   },
   "outputs": [
    {
     "data": {
      "text/plain": [
       "id                          object\n",
       "date_account_created        object\n",
       "timestamp_first_active       int64\n",
       "date_first_booking          object\n",
       "gender                      object\n",
       "age                        float64\n",
       "signup_method               object\n",
       "signup_flow                  int64\n",
       "language                    object\n",
       "affiliate_channel           object\n",
       "affiliate_provider          object\n",
       "first_affiliate_tracked     object\n",
       "signup_app                  object\n",
       "first_device_type           object\n",
       "first_browser               object\n",
       "country_destination         object\n",
       "dtype: object"
      ]
     },
     "execution_count": 6,
     "metadata": {},
     "output_type": "execute_result"
    }
   ],
   "source": [
    "df1.dtypes"
   ]
  },
  {
   "cell_type": "code",
   "execution_count": 8,
   "id": "2336bd0e",
   "metadata": {
    "ExecuteTime": {
     "end_time": "2023-06-09T22:43:39.292629Z",
     "start_time": "2023-06-09T22:43:39.275841Z"
    }
   },
   "outputs": [
    {
     "data": {
      "text/plain": [
       "user_id           object\n",
       "action            object\n",
       "action_type       object\n",
       "action_detail     object\n",
       "device_type       object\n",
       "secs_elapsed     float64\n",
       "dtype: object"
      ]
     },
     "execution_count": 8,
     "metadata": {},
     "output_type": "execute_result"
    }
   ],
   "source": [
    "df_sessions.dtypes"
   ]
  },
  {
   "cell_type": "code",
   "execution_count": 9,
   "id": "96fd8990",
   "metadata": {
    "ExecuteTime": {
     "end_time": "2023-06-09T22:43:39.332696Z",
     "start_time": "2023-06-09T22:43:39.292629Z"
    }
   },
   "outputs": [
    {
     "data": {
      "text/html": [
       "<div>\n",
       "<style scoped>\n",
       "    .dataframe tbody tr th:only-of-type {\n",
       "        vertical-align: middle;\n",
       "    }\n",
       "\n",
       "    .dataframe tbody tr th {\n",
       "        vertical-align: top;\n",
       "    }\n",
       "\n",
       "    .dataframe thead th {\n",
       "        text-align: right;\n",
       "    }\n",
       "</style>\n",
       "<table border=\"1\" class=\"dataframe\">\n",
       "  <thead>\n",
       "    <tr style=\"text-align: right;\">\n",
       "      <th></th>\n",
       "      <th>86116</th>\n",
       "    </tr>\n",
       "  </thead>\n",
       "  <tbody>\n",
       "    <tr>\n",
       "      <th>id</th>\n",
       "      <td>28yvbq09z9</td>\n",
       "    </tr>\n",
       "    <tr>\n",
       "      <th>date_account_created</th>\n",
       "      <td>2013-06-24</td>\n",
       "    </tr>\n",
       "    <tr>\n",
       "      <th>timestamp_first_active</th>\n",
       "      <td>20130624142943</td>\n",
       "    </tr>\n",
       "    <tr>\n",
       "      <th>date_first_booking</th>\n",
       "      <td>NaN</td>\n",
       "    </tr>\n",
       "    <tr>\n",
       "      <th>gender</th>\n",
       "      <td>MALE</td>\n",
       "    </tr>\n",
       "    <tr>\n",
       "      <th>age</th>\n",
       "      <td>33.0</td>\n",
       "    </tr>\n",
       "    <tr>\n",
       "      <th>signup_method</th>\n",
       "      <td>facebook</td>\n",
       "    </tr>\n",
       "    <tr>\n",
       "      <th>signup_flow</th>\n",
       "      <td>0</td>\n",
       "    </tr>\n",
       "    <tr>\n",
       "      <th>language</th>\n",
       "      <td>en</td>\n",
       "    </tr>\n",
       "    <tr>\n",
       "      <th>affiliate_channel</th>\n",
       "      <td>sem-brand</td>\n",
       "    </tr>\n",
       "    <tr>\n",
       "      <th>affiliate_provider</th>\n",
       "      <td>google</td>\n",
       "    </tr>\n",
       "    <tr>\n",
       "      <th>first_affiliate_tracked</th>\n",
       "      <td>omg</td>\n",
       "    </tr>\n",
       "    <tr>\n",
       "      <th>signup_app</th>\n",
       "      <td>Web</td>\n",
       "    </tr>\n",
       "    <tr>\n",
       "      <th>first_device_type</th>\n",
       "      <td>iPad</td>\n",
       "    </tr>\n",
       "    <tr>\n",
       "      <th>first_browser</th>\n",
       "      <td>Mobile Safari</td>\n",
       "    </tr>\n",
       "    <tr>\n",
       "      <th>country_destination</th>\n",
       "      <td>NDF</td>\n",
       "    </tr>\n",
       "  </tbody>\n",
       "</table>\n",
       "</div>"
      ],
      "text/plain": [
       "                                  86116\n",
       "id                           28yvbq09z9\n",
       "date_account_created         2013-06-24\n",
       "timestamp_first_active   20130624142943\n",
       "date_first_booking                  NaN\n",
       "gender                             MALE\n",
       "age                                33.0\n",
       "signup_method                  facebook\n",
       "signup_flow                           0\n",
       "language                             en\n",
       "affiliate_channel             sem-brand\n",
       "affiliate_provider               google\n",
       "first_affiliate_tracked             omg\n",
       "signup_app                          Web\n",
       "first_device_type                  iPad\n",
       "first_browser             Mobile Safari\n",
       "country_destination                 NDF"
      ]
     },
     "execution_count": 9,
     "metadata": {},
     "output_type": "execute_result"
    }
   ],
   "source": [
    "df1.sample().T"
   ]
  },
  {
   "cell_type": "code",
   "execution_count": 10,
   "id": "8080884f",
   "metadata": {
    "ExecuteTime": {
     "end_time": "2023-06-09T22:43:40.233278Z",
     "start_time": "2023-06-09T22:43:39.335706Z"
    }
   },
   "outputs": [
    {
     "data": {
      "text/html": [
       "<div>\n",
       "<style scoped>\n",
       "    .dataframe tbody tr th:only-of-type {\n",
       "        vertical-align: middle;\n",
       "    }\n",
       "\n",
       "    .dataframe tbody tr th {\n",
       "        vertical-align: top;\n",
       "    }\n",
       "\n",
       "    .dataframe thead th {\n",
       "        text-align: right;\n",
       "    }\n",
       "</style>\n",
       "<table border=\"1\" class=\"dataframe\">\n",
       "  <thead>\n",
       "    <tr style=\"text-align: right;\">\n",
       "      <th></th>\n",
       "      <th>8299176</th>\n",
       "    </tr>\n",
       "  </thead>\n",
       "  <tbody>\n",
       "    <tr>\n",
       "      <th>user_id</th>\n",
       "      <td>mpelusc7d5</td>\n",
       "    </tr>\n",
       "    <tr>\n",
       "      <th>action</th>\n",
       "      <td>ajax_lwlb_contact</td>\n",
       "    </tr>\n",
       "    <tr>\n",
       "      <th>action_type</th>\n",
       "      <td>click</td>\n",
       "    </tr>\n",
       "    <tr>\n",
       "      <th>action_detail</th>\n",
       "      <td>contact_host</td>\n",
       "    </tr>\n",
       "    <tr>\n",
       "      <th>device_type</th>\n",
       "      <td>Windows Desktop</td>\n",
       "    </tr>\n",
       "    <tr>\n",
       "      <th>secs_elapsed</th>\n",
       "      <td>62353.0</td>\n",
       "    </tr>\n",
       "  </tbody>\n",
       "</table>\n",
       "</div>"
      ],
      "text/plain": [
       "                         8299176\n",
       "user_id               mpelusc7d5\n",
       "action         ajax_lwlb_contact\n",
       "action_type                click\n",
       "action_detail       contact_host\n",
       "device_type      Windows Desktop\n",
       "secs_elapsed             62353.0"
      ]
     },
     "execution_count": 10,
     "metadata": {},
     "output_type": "execute_result"
    }
   ],
   "source": [
    "df_sessions.sample().T"
   ]
  },
  {
   "cell_type": "markdown",
   "id": "141ee2dd",
   "metadata": {},
   "source": [
    "## 1.2. NA Check"
   ]
  },
  {
   "cell_type": "code",
   "execution_count": 11,
   "id": "bef382db",
   "metadata": {
    "ExecuteTime": {
     "end_time": "2023-06-09T22:43:40.924130Z",
     "start_time": "2023-06-09T22:43:40.236025Z"
    }
   },
   "outputs": [
    {
     "data": {
      "text/plain": [
       "id                         0.000000\n",
       "date_account_created       0.000000\n",
       "timestamp_first_active     0.000000\n",
       "date_first_booking         0.583473\n",
       "gender                     0.000000\n",
       "age                        0.412226\n",
       "signup_method              0.000000\n",
       "signup_flow                0.000000\n",
       "language                   0.000000\n",
       "affiliate_channel          0.000000\n",
       "affiliate_provider         0.000000\n",
       "first_affiliate_tracked    0.028414\n",
       "signup_app                 0.000000\n",
       "first_device_type          0.000000\n",
       "first_browser              0.000000\n",
       "country_destination        0.000000\n",
       "dtype: float64"
      ]
     },
     "execution_count": 11,
     "metadata": {},
     "output_type": "execute_result"
    }
   ],
   "source": [
    "df1.isna().sum()/len(df1)\n"
   ]
  },
  {
   "cell_type": "code",
   "execution_count": 12,
   "id": "8855d2a5",
   "metadata": {
    "ExecuteTime": {
     "end_time": "2023-06-09T22:43:54.132225Z",
     "start_time": "2023-06-09T22:43:40.925636Z"
    }
   },
   "outputs": [
    {
     "data": {
      "text/plain": [
       "user_id          0.003264\n",
       "action           0.007535\n",
       "action_type      0.106570\n",
       "action_detail    0.106570\n",
       "device_type      0.000000\n",
       "secs_elapsed     0.012872\n",
       "dtype: float64"
      ]
     },
     "execution_count": 12,
     "metadata": {},
     "output_type": "execute_result"
    }
   ],
   "source": [
    "df_sessions.isna().sum()/len(df_sessions)"
   ]
  },
  {
   "cell_type": "markdown",
   "id": "c33fdbe9",
   "metadata": {},
   "source": [
    "## 1.3 Fill NA"
   ]
  },
  {
   "cell_type": "code",
   "execution_count": 6,
   "id": "6c7f6966",
   "metadata": {
    "ExecuteTime": {
     "end_time": "2023-06-10T16:56:44.268237Z",
     "start_time": "2023-06-10T16:56:39.329337Z"
    }
   },
   "outputs": [],
   "source": [
    "#==================Training================\n",
    "#date_first_booking\n",
    "date_first_booking_max = pd.to_datetime(df1['date_first_booking']).max().strftime('%Y-%m-%d')\n",
    "df1['date_first_booking']=df1['date_first_booking'].fillna(date_first_booking_max)\n",
    "\n",
    "#age\n",
    "age_mean = df1['age'].mean()\n",
    "df1['age'] = df1['age'].fillna(age_mean)\n",
    "\n",
    "# first_affiliate_tracked\n",
    "df1['first_affiliate_tracked'] = df1['first_affiliate_tracked'].dropna()\n",
    "\n",
    "#==================Sessions==============\n",
    "df_sessions = df_sessions.dropna()\n"
   ]
  },
  {
   "cell_type": "markdown",
   "id": "4ee64b16",
   "metadata": {},
   "source": [
    "## 1.4. Change Data Type"
   ]
  },
  {
   "cell_type": "code",
   "execution_count": 7,
   "id": "bff0ea2c",
   "metadata": {
    "ExecuteTime": {
     "end_time": "2023-06-10T16:56:44.829683Z",
     "start_time": "2023-06-10T16:56:44.269392Z"
    }
   },
   "outputs": [],
   "source": [
    "#date_account_created\n",
    "df1['date_account_created'] = pd.to_datetime(df1['date_account_created'])\n",
    "\n",
    "#timestamp_first_active\n",
    "df1['timestamp_first_active'] = pd.to_datetime(df1['timestamp_first_active'], format='%Y%m%d%H%M%S')\n",
    "# date_first_booking\n",
    "df1['date_first_booking'] = pd.to_datetime(df1['date_first_booking'])\n",
    "#age\n",
    "df1['age'] = df1['age'].astype('int64')\n",
    "\n"
   ]
  },
  {
   "cell_type": "markdown",
   "id": "fa7175b1",
   "metadata": {},
   "source": [
    "## 1.5. Check Target Distribution"
   ]
  },
  {
   "cell_type": "code",
   "execution_count": 9,
   "id": "98316139",
   "metadata": {
    "ExecuteTime": {
     "end_time": "2023-06-09T22:59:09.301663Z",
     "start_time": "2023-06-09T22:59:09.253880Z"
    }
   },
   "outputs": [
    {
     "data": {
      "text/plain": [
       "NDF      0.583473\n",
       "US       0.292226\n",
       "other    0.047290\n",
       "FR       0.023532\n",
       "IT       0.013282\n",
       "GB       0.010888\n",
       "ES       0.010536\n",
       "CA       0.006690\n",
       "DE       0.004971\n",
       "NL       0.003570\n",
       "AU       0.002525\n",
       "PT       0.001017\n",
       "Name: country_destination, dtype: float64"
      ]
     },
     "execution_count": 9,
     "metadata": {},
     "output_type": "execute_result"
    }
   ],
   "source": [
    "df1['country_destination'].value_counts(normalize=True)"
   ]
  },
  {
   "cell_type": "markdown",
   "id": "265ba12b",
   "metadata": {},
   "source": [
    "## 1.6. Descriptive Statistics\n"
   ]
  },
  {
   "cell_type": "markdown",
   "id": "d1d9d8b4",
   "metadata": {
    "ExecuteTime": {
     "end_time": "2022-05-10T13:31:43.626115Z",
     "start_time": "2022-05-10T13:31:43.615159Z"
    }
   },
   "source": [
    "### 1.6.1. Numerical Users"
   ]
  },
  {
   "cell_type": "code",
   "execution_count": 10,
   "id": "f3b37859",
   "metadata": {
    "ExecuteTime": {
     "end_time": "2023-06-09T22:59:10.907829Z",
     "start_time": "2023-06-09T22:59:10.719184Z"
    }
   },
   "outputs": [
    {
     "data": {
      "text/html": [
       "<div>\n",
       "<style scoped>\n",
       "    .dataframe tbody tr th:only-of-type {\n",
       "        vertical-align: middle;\n",
       "    }\n",
       "\n",
       "    .dataframe tbody tr th {\n",
       "        vertical-align: top;\n",
       "    }\n",
       "\n",
       "    .dataframe thead th {\n",
       "        text-align: right;\n",
       "    }\n",
       "</style>\n",
       "<table border=\"1\" class=\"dataframe\">\n",
       "  <thead>\n",
       "    <tr style=\"text-align: right;\">\n",
       "      <th></th>\n",
       "      <th>attributes</th>\n",
       "      <th>min</th>\n",
       "      <th>max</th>\n",
       "      <th>range</th>\n",
       "      <th>mean</th>\n",
       "      <th>median</th>\n",
       "      <th>std</th>\n",
       "      <th>skew</th>\n",
       "      <th>kurtosis</th>\n",
       "    </tr>\n",
       "  </thead>\n",
       "  <tbody>\n",
       "    <tr>\n",
       "      <th>0</th>\n",
       "      <td>age</td>\n",
       "      <td>1.0</td>\n",
       "      <td>2014.0</td>\n",
       "      <td>2013.0</td>\n",
       "      <td>49.392830</td>\n",
       "      <td>49.392830</td>\n",
       "      <td>119.344021</td>\n",
       "      <td>16.210083</td>\n",
       "      <td>263.517271</td>\n",
       "    </tr>\n",
       "    <tr>\n",
       "      <th>1</th>\n",
       "      <td>signup_flow</td>\n",
       "      <td>0.0</td>\n",
       "      <td>25.0</td>\n",
       "      <td>25.0</td>\n",
       "      <td>3.267387</td>\n",
       "      <td>3.267387</td>\n",
       "      <td>7.637689</td>\n",
       "      <td>2.234366</td>\n",
       "      <td>3.324444</td>\n",
       "    </tr>\n",
       "  </tbody>\n",
       "</table>\n",
       "</div>"
      ],
      "text/plain": [
       "    attributes  min     max   range       mean     median         std  \\\n",
       "0          age  1.0  2014.0  2013.0  49.392830  49.392830  119.344021   \n",
       "1  signup_flow  0.0    25.0    25.0   3.267387   3.267387    7.637689   \n",
       "\n",
       "        skew    kurtosis  \n",
       "0  16.210083  263.517271  \n",
       "1   2.234366    3.324444  "
      ]
     },
     "execution_count": 10,
     "metadata": {},
     "output_type": "execute_result"
    }
   ],
   "source": [
    "num_stats(df1)"
   ]
  },
  {
   "cell_type": "markdown",
   "id": "204f4c6a",
   "metadata": {},
   "source": [
    "### 1.6.2. Categorical Users"
   ]
  },
  {
   "cell_type": "code",
   "execution_count": 11,
   "id": "a36ca101",
   "metadata": {
    "ExecuteTime": {
     "end_time": "2023-06-09T22:59:12.450781Z",
     "start_time": "2023-06-09T22:59:11.819255Z"
    }
   },
   "outputs": [
    {
     "data": {
      "text/html": [
       "<div>\n",
       "<style scoped>\n",
       "    .dataframe tbody tr th:only-of-type {\n",
       "        vertical-align: middle;\n",
       "    }\n",
       "\n",
       "    .dataframe tbody tr th {\n",
       "        vertical-align: top;\n",
       "    }\n",
       "\n",
       "    .dataframe thead th {\n",
       "        text-align: right;\n",
       "    }\n",
       "</style>\n",
       "<table border=\"1\" class=\"dataframe\">\n",
       "  <thead>\n",
       "    <tr style=\"text-align: right;\">\n",
       "      <th></th>\n",
       "      <th>gender</th>\n",
       "      <th>signup_method</th>\n",
       "      <th>language</th>\n",
       "      <th>affiliate_channel</th>\n",
       "      <th>affiliate_provider</th>\n",
       "      <th>first_affiliate_tracked</th>\n",
       "      <th>signup_app</th>\n",
       "      <th>first_device_type</th>\n",
       "      <th>first_browser</th>\n",
       "      <th>country_destination</th>\n",
       "    </tr>\n",
       "  </thead>\n",
       "  <tbody>\n",
       "    <tr>\n",
       "      <th>count</th>\n",
       "      <td>213451</td>\n",
       "      <td>213451</td>\n",
       "      <td>213451</td>\n",
       "      <td>213451</td>\n",
       "      <td>213451</td>\n",
       "      <td>207386</td>\n",
       "      <td>213451</td>\n",
       "      <td>213451</td>\n",
       "      <td>213451</td>\n",
       "      <td>213451</td>\n",
       "    </tr>\n",
       "    <tr>\n",
       "      <th>unique</th>\n",
       "      <td>4</td>\n",
       "      <td>3</td>\n",
       "      <td>25</td>\n",
       "      <td>8</td>\n",
       "      <td>18</td>\n",
       "      <td>7</td>\n",
       "      <td>4</td>\n",
       "      <td>9</td>\n",
       "      <td>52</td>\n",
       "      <td>12</td>\n",
       "    </tr>\n",
       "    <tr>\n",
       "      <th>top</th>\n",
       "      <td>-unknown-</td>\n",
       "      <td>basic</td>\n",
       "      <td>en</td>\n",
       "      <td>direct</td>\n",
       "      <td>direct</td>\n",
       "      <td>untracked</td>\n",
       "      <td>Web</td>\n",
       "      <td>Mac Desktop</td>\n",
       "      <td>Chrome</td>\n",
       "      <td>NDF</td>\n",
       "    </tr>\n",
       "    <tr>\n",
       "      <th>freq</th>\n",
       "      <td>95688</td>\n",
       "      <td>152897</td>\n",
       "      <td>206314</td>\n",
       "      <td>137727</td>\n",
       "      <td>137426</td>\n",
       "      <td>109232</td>\n",
       "      <td>182717</td>\n",
       "      <td>89600</td>\n",
       "      <td>63845</td>\n",
       "      <td>124543</td>\n",
       "    </tr>\n",
       "  </tbody>\n",
       "</table>\n",
       "</div>"
      ],
      "text/plain": [
       "           gender signup_method language affiliate_channel affiliate_provider  \\\n",
       "count      213451        213451   213451            213451             213451   \n",
       "unique          4             3       25                 8                 18   \n",
       "top     -unknown-         basic       en            direct             direct   \n",
       "freq        95688        152897   206314            137727             137426   \n",
       "\n",
       "       first_affiliate_tracked signup_app first_device_type first_browser  \\\n",
       "count                   207386     213451            213451        213451   \n",
       "unique                       7          4                 9            52   \n",
       "top                  untracked        Web       Mac Desktop        Chrome   \n",
       "freq                    109232     182717             89600         63845   \n",
       "\n",
       "       country_destination  \n",
       "count               213451  \n",
       "unique                  12  \n",
       "top                    NDF  \n",
       "freq                124543  "
      ]
     },
     "execution_count": 11,
     "metadata": {},
     "output_type": "execute_result"
    }
   ],
   "source": [
    "cat_attributes = df1.select_dtypes('object')\n",
    "cat_attributes.drop('id', axis=1).describe()"
   ]
  },
  {
   "cell_type": "markdown",
   "id": "f064abaa",
   "metadata": {},
   "source": [
    "### 1.6.3. Numerical sessions"
   ]
  },
  {
   "cell_type": "code",
   "execution_count": 18,
   "id": "9098e94b",
   "metadata": {
    "ExecuteTime": {
     "end_time": "2023-06-09T22:44:12.946769Z",
     "start_time": "2023-06-09T22:44:09.905908Z"
    }
   },
   "outputs": [
    {
     "data": {
      "text/html": [
       "<div>\n",
       "<style scoped>\n",
       "    .dataframe tbody tr th:only-of-type {\n",
       "        vertical-align: middle;\n",
       "    }\n",
       "\n",
       "    .dataframe tbody tr th {\n",
       "        vertical-align: top;\n",
       "    }\n",
       "\n",
       "    .dataframe thead th {\n",
       "        text-align: right;\n",
       "    }\n",
       "</style>\n",
       "<table border=\"1\" class=\"dataframe\">\n",
       "  <thead>\n",
       "    <tr style=\"text-align: right;\">\n",
       "      <th></th>\n",
       "      <th>attributes</th>\n",
       "      <th>min</th>\n",
       "      <th>max</th>\n",
       "      <th>range</th>\n",
       "      <th>mean</th>\n",
       "      <th>median</th>\n",
       "      <th>std</th>\n",
       "      <th>skew</th>\n",
       "      <th>kurtosis</th>\n",
       "    </tr>\n",
       "  </thead>\n",
       "  <tbody>\n",
       "    <tr>\n",
       "      <th>0</th>\n",
       "      <td>secs_elapsed</td>\n",
       "      <td>0.0</td>\n",
       "      <td>1799977.0</td>\n",
       "      <td>1799977.0</td>\n",
       "      <td>19961.8251</td>\n",
       "      <td>19961.8251</td>\n",
       "      <td>88849.388449</td>\n",
       "      <td>11.137761</td>\n",
       "      <td>154.84312</td>\n",
       "    </tr>\n",
       "  </tbody>\n",
       "</table>\n",
       "</div>"
      ],
      "text/plain": [
       "     attributes  min        max      range        mean      median  \\\n",
       "0  secs_elapsed  0.0  1799977.0  1799977.0  19961.8251  19961.8251   \n",
       "\n",
       "            std       skew   kurtosis  \n",
       "0  88849.388449  11.137761  154.84312  "
      ]
     },
     "execution_count": 18,
     "metadata": {},
     "output_type": "execute_result"
    }
   ],
   "source": [
    "num_stats(df_sessions)"
   ]
  },
  {
   "cell_type": "markdown",
   "id": "f75120e7",
   "metadata": {},
   "source": [
    "### 1.6.4. Categorical Sessions"
   ]
  },
  {
   "cell_type": "code",
   "execution_count": 19,
   "id": "a7195cca",
   "metadata": {
    "ExecuteTime": {
     "end_time": "2023-06-09T22:44:21.550548Z",
     "start_time": "2023-06-09T22:44:12.950781Z"
    }
   },
   "outputs": [
    {
     "data": {
      "text/html": [
       "<div>\n",
       "<style scoped>\n",
       "    .dataframe tbody tr th:only-of-type {\n",
       "        vertical-align: middle;\n",
       "    }\n",
       "\n",
       "    .dataframe tbody tr th {\n",
       "        vertical-align: top;\n",
       "    }\n",
       "\n",
       "    .dataframe thead th {\n",
       "        text-align: right;\n",
       "    }\n",
       "</style>\n",
       "<table border=\"1\" class=\"dataframe\">\n",
       "  <thead>\n",
       "    <tr style=\"text-align: right;\">\n",
       "      <th></th>\n",
       "      <th>action</th>\n",
       "      <th>action_type</th>\n",
       "      <th>action_detail</th>\n",
       "      <th>device_type</th>\n",
       "    </tr>\n",
       "  </thead>\n",
       "  <tbody>\n",
       "    <tr>\n",
       "      <th>count</th>\n",
       "      <td>9213930</td>\n",
       "      <td>9213930</td>\n",
       "      <td>9213930</td>\n",
       "      <td>9213930</td>\n",
       "    </tr>\n",
       "    <tr>\n",
       "      <th>unique</th>\n",
       "      <td>347</td>\n",
       "      <td>10</td>\n",
       "      <td>155</td>\n",
       "      <td>14</td>\n",
       "    </tr>\n",
       "    <tr>\n",
       "      <th>top</th>\n",
       "      <td>show</td>\n",
       "      <td>view</td>\n",
       "      <td>view_search_results</td>\n",
       "      <td>Mac Desktop</td>\n",
       "    </tr>\n",
       "    <tr>\n",
       "      <th>freq</th>\n",
       "      <td>2178382</td>\n",
       "      <td>3545621</td>\n",
       "      <td>1770931</td>\n",
       "      <td>3019523</td>\n",
       "    </tr>\n",
       "  </tbody>\n",
       "</table>\n",
       "</div>"
      ],
      "text/plain": [
       "         action action_type        action_detail  device_type\n",
       "count   9213930     9213930              9213930      9213930\n",
       "unique      347          10                  155           14\n",
       "top        show        view  view_search_results  Mac Desktop\n",
       "freq    2178382     3545621              1770931      3019523"
      ]
     },
     "execution_count": 19,
     "metadata": {},
     "output_type": "execute_result"
    }
   ],
   "source": [
    "cat_attributes_session = df_sessions.select_dtypes('object').drop('user_id', axis=1)\n",
    "cat_attributes_session.describe()"
   ]
  },
  {
   "cell_type": "code",
   "execution_count": 20,
   "id": "7b1e61ff",
   "metadata": {
    "ExecuteTime": {
     "end_time": "2023-06-09T22:45:24.360425Z",
     "start_time": "2023-06-09T22:44:21.551375Z"
    }
   },
   "outputs": [
    {
     "ename": "KeyboardInterrupt",
     "evalue": "",
     "output_type": "error",
     "traceback": [
      "\u001b[1;31m---------------------------------------------------------------------------\u001b[0m",
      "\u001b[1;31mKeyboardInterrupt\u001b[0m                         Traceback (most recent call last)",
      "Cell \u001b[1;32mIn[20], line 12\u001b[0m\n\u001b[0;32m      9\u001b[0m     ref \u001b[38;5;241m=\u001b[39m cat_attributes_list[i]\n\u001b[0;32m     10\u001b[0m     feat \u001b[38;5;241m=\u001b[39m cat_attributes_list[j]\n\u001b[1;32m---> 12\u001b[0m     corr \u001b[38;5;241m=\u001b[39m \u001b[43mcramer_v\u001b[49m\u001b[43m(\u001b[49m\u001b[43mcat_attributes_session\u001b[49m\u001b[43m[\u001b[49m\u001b[43mref\u001b[49m\u001b[43m]\u001b[49m\u001b[43m,\u001b[49m\u001b[43m \u001b[49m\u001b[43mcat_attributes_session\u001b[49m\u001b[43m[\u001b[49m\u001b[43mfeat\u001b[49m\u001b[43m]\u001b[49m\u001b[43m)\u001b[49m\n\u001b[0;32m     13\u001b[0m     corr_list\u001b[38;5;241m.\u001b[39mappend(corr)\n\u001b[0;32m     14\u001b[0m corr_dict[ref] \u001b[38;5;241m=\u001b[39m corr_list\n",
      "Cell \u001b[1;32mIn[3], line 22\u001b[0m, in \u001b[0;36mcramer_v\u001b[1;34m(x, y)\u001b[0m\n\u001b[0;32m     21\u001b[0m \u001b[38;5;28;01mdef\u001b[39;00m \u001b[38;5;21mcramer_v\u001b[39m(x,y):\n\u001b[1;32m---> 22\u001b[0m     cm \u001b[38;5;241m=\u001b[39m \u001b[43mpd\u001b[49m\u001b[38;5;241;43m.\u001b[39;49m\u001b[43mcrosstab\u001b[49m\u001b[43m(\u001b[49m\u001b[43mx\u001b[49m\u001b[43m,\u001b[49m\u001b[43my\u001b[49m\u001b[43m)\u001b[49m\u001b[38;5;241m.\u001b[39mvalues\n\u001b[0;32m     23\u001b[0m     n \u001b[38;5;241m=\u001b[39m cm\u001b[38;5;241m.\u001b[39msum()\n\u001b[0;32m     24\u001b[0m     r, k \u001b[38;5;241m=\u001b[39m cm\u001b[38;5;241m.\u001b[39mshape\n",
      "File \u001b[1;32m~\\anaconda3\\lib\\site-packages\\pandas\\core\\reshape\\pivot.py:691\u001b[0m, in \u001b[0;36mcrosstab\u001b[1;34m(index, columns, values, rownames, colnames, aggfunc, margins, margins_name, dropna, normalize)\u001b[0m\n\u001b[0;32m    688\u001b[0m     df[\u001b[38;5;124m\"\u001b[39m\u001b[38;5;124m__dummy__\u001b[39m\u001b[38;5;124m\"\u001b[39m] \u001b[38;5;241m=\u001b[39m values\n\u001b[0;32m    689\u001b[0m     kwargs \u001b[38;5;241m=\u001b[39m {\u001b[38;5;124m\"\u001b[39m\u001b[38;5;124maggfunc\u001b[39m\u001b[38;5;124m\"\u001b[39m: aggfunc}\n\u001b[1;32m--> 691\u001b[0m table \u001b[38;5;241m=\u001b[39m df\u001b[38;5;241m.\u001b[39mpivot_table(\n\u001b[0;32m    692\u001b[0m     \u001b[38;5;124m\"\u001b[39m\u001b[38;5;124m__dummy__\u001b[39m\u001b[38;5;124m\"\u001b[39m,\n\u001b[0;32m    693\u001b[0m     index\u001b[38;5;241m=\u001b[39munique_rownames,\n\u001b[0;32m    694\u001b[0m     columns\u001b[38;5;241m=\u001b[39munique_colnames,\n\u001b[0;32m    695\u001b[0m     margins\u001b[38;5;241m=\u001b[39mmargins,\n\u001b[0;32m    696\u001b[0m     margins_name\u001b[38;5;241m=\u001b[39mmargins_name,\n\u001b[0;32m    697\u001b[0m     dropna\u001b[38;5;241m=\u001b[39mdropna,\n\u001b[0;32m    698\u001b[0m     \u001b[38;5;241m*\u001b[39m\u001b[38;5;241m*\u001b[39mkwargs,\n\u001b[0;32m    699\u001b[0m )\n\u001b[0;32m    701\u001b[0m \u001b[38;5;66;03m# Post-process\u001b[39;00m\n\u001b[0;32m    702\u001b[0m \u001b[38;5;28;01mif\u001b[39;00m normalize \u001b[38;5;129;01mis\u001b[39;00m \u001b[38;5;129;01mnot\u001b[39;00m \u001b[38;5;28;01mFalse\u001b[39;00m:\n",
      "File \u001b[1;32m~\\anaconda3\\lib\\site-packages\\pandas\\core\\frame.py:8731\u001b[0m, in \u001b[0;36mDataFrame.pivot_table\u001b[1;34m(self, values, index, columns, aggfunc, fill_value, margins, dropna, margins_name, observed, sort)\u001b[0m\n\u001b[0;32m   8714\u001b[0m \u001b[38;5;129m@Substitution\u001b[39m(\u001b[38;5;124m\"\u001b[39m\u001b[38;5;124m\"\u001b[39m)\n\u001b[0;32m   8715\u001b[0m \u001b[38;5;129m@Appender\u001b[39m(_shared_docs[\u001b[38;5;124m\"\u001b[39m\u001b[38;5;124mpivot_table\u001b[39m\u001b[38;5;124m\"\u001b[39m])\n\u001b[0;32m   8716\u001b[0m \u001b[38;5;28;01mdef\u001b[39;00m \u001b[38;5;21mpivot_table\u001b[39m(\n\u001b[1;32m   (...)\u001b[0m\n\u001b[0;32m   8727\u001b[0m     sort\u001b[38;5;241m=\u001b[39m\u001b[38;5;28;01mTrue\u001b[39;00m,\n\u001b[0;32m   8728\u001b[0m ) \u001b[38;5;241m-\u001b[39m\u001b[38;5;241m>\u001b[39m DataFrame:\n\u001b[0;32m   8729\u001b[0m     \u001b[38;5;28;01mfrom\u001b[39;00m \u001b[38;5;21;01mpandas\u001b[39;00m\u001b[38;5;21;01m.\u001b[39;00m\u001b[38;5;21;01mcore\u001b[39;00m\u001b[38;5;21;01m.\u001b[39;00m\u001b[38;5;21;01mreshape\u001b[39;00m\u001b[38;5;21;01m.\u001b[39;00m\u001b[38;5;21;01mpivot\u001b[39;00m \u001b[38;5;28;01mimport\u001b[39;00m pivot_table\n\u001b[1;32m-> 8731\u001b[0m     \u001b[38;5;28;01mreturn\u001b[39;00m \u001b[43mpivot_table\u001b[49m\u001b[43m(\u001b[49m\n\u001b[0;32m   8732\u001b[0m \u001b[43m        \u001b[49m\u001b[38;5;28;43mself\u001b[39;49m\u001b[43m,\u001b[49m\n\u001b[0;32m   8733\u001b[0m \u001b[43m        \u001b[49m\u001b[43mvalues\u001b[49m\u001b[38;5;241;43m=\u001b[39;49m\u001b[43mvalues\u001b[49m\u001b[43m,\u001b[49m\n\u001b[0;32m   8734\u001b[0m \u001b[43m        \u001b[49m\u001b[43mindex\u001b[49m\u001b[38;5;241;43m=\u001b[39;49m\u001b[43mindex\u001b[49m\u001b[43m,\u001b[49m\n\u001b[0;32m   8735\u001b[0m \u001b[43m        \u001b[49m\u001b[43mcolumns\u001b[49m\u001b[38;5;241;43m=\u001b[39;49m\u001b[43mcolumns\u001b[49m\u001b[43m,\u001b[49m\n\u001b[0;32m   8736\u001b[0m \u001b[43m        \u001b[49m\u001b[43maggfunc\u001b[49m\u001b[38;5;241;43m=\u001b[39;49m\u001b[43maggfunc\u001b[49m\u001b[43m,\u001b[49m\n\u001b[0;32m   8737\u001b[0m \u001b[43m        \u001b[49m\u001b[43mfill_value\u001b[49m\u001b[38;5;241;43m=\u001b[39;49m\u001b[43mfill_value\u001b[49m\u001b[43m,\u001b[49m\n\u001b[0;32m   8738\u001b[0m \u001b[43m        \u001b[49m\u001b[43mmargins\u001b[49m\u001b[38;5;241;43m=\u001b[39;49m\u001b[43mmargins\u001b[49m\u001b[43m,\u001b[49m\n\u001b[0;32m   8739\u001b[0m \u001b[43m        \u001b[49m\u001b[43mdropna\u001b[49m\u001b[38;5;241;43m=\u001b[39;49m\u001b[43mdropna\u001b[49m\u001b[43m,\u001b[49m\n\u001b[0;32m   8740\u001b[0m \u001b[43m        \u001b[49m\u001b[43mmargins_name\u001b[49m\u001b[38;5;241;43m=\u001b[39;49m\u001b[43mmargins_name\u001b[49m\u001b[43m,\u001b[49m\n\u001b[0;32m   8741\u001b[0m \u001b[43m        \u001b[49m\u001b[43mobserved\u001b[49m\u001b[38;5;241;43m=\u001b[39;49m\u001b[43mobserved\u001b[49m\u001b[43m,\u001b[49m\n\u001b[0;32m   8742\u001b[0m \u001b[43m        \u001b[49m\u001b[43msort\u001b[49m\u001b[38;5;241;43m=\u001b[39;49m\u001b[43msort\u001b[49m\u001b[43m,\u001b[49m\n\u001b[0;32m   8743\u001b[0m \u001b[43m    \u001b[49m\u001b[43m)\u001b[49m\n",
      "File \u001b[1;32m~\\anaconda3\\lib\\site-packages\\pandas\\core\\reshape\\pivot.py:97\u001b[0m, in \u001b[0;36mpivot_table\u001b[1;34m(data, values, index, columns, aggfunc, fill_value, margins, dropna, margins_name, observed, sort)\u001b[0m\n\u001b[0;32m     94\u001b[0m     table \u001b[38;5;241m=\u001b[39m concat(pieces, keys\u001b[38;5;241m=\u001b[39mkeys, axis\u001b[38;5;241m=\u001b[39m\u001b[38;5;241m1\u001b[39m)\n\u001b[0;32m     95\u001b[0m     \u001b[38;5;28;01mreturn\u001b[39;00m table\u001b[38;5;241m.\u001b[39m__finalize__(data, method\u001b[38;5;241m=\u001b[39m\u001b[38;5;124m\"\u001b[39m\u001b[38;5;124mpivot_table\u001b[39m\u001b[38;5;124m\"\u001b[39m)\n\u001b[1;32m---> 97\u001b[0m table \u001b[38;5;241m=\u001b[39m \u001b[43m__internal_pivot_table\u001b[49m\u001b[43m(\u001b[49m\n\u001b[0;32m     98\u001b[0m \u001b[43m    \u001b[49m\u001b[43mdata\u001b[49m\u001b[43m,\u001b[49m\n\u001b[0;32m     99\u001b[0m \u001b[43m    \u001b[49m\u001b[43mvalues\u001b[49m\u001b[43m,\u001b[49m\n\u001b[0;32m    100\u001b[0m \u001b[43m    \u001b[49m\u001b[43mindex\u001b[49m\u001b[43m,\u001b[49m\n\u001b[0;32m    101\u001b[0m \u001b[43m    \u001b[49m\u001b[43mcolumns\u001b[49m\u001b[43m,\u001b[49m\n\u001b[0;32m    102\u001b[0m \u001b[43m    \u001b[49m\u001b[43maggfunc\u001b[49m\u001b[43m,\u001b[49m\n\u001b[0;32m    103\u001b[0m \u001b[43m    \u001b[49m\u001b[43mfill_value\u001b[49m\u001b[43m,\u001b[49m\n\u001b[0;32m    104\u001b[0m \u001b[43m    \u001b[49m\u001b[43mmargins\u001b[49m\u001b[43m,\u001b[49m\n\u001b[0;32m    105\u001b[0m \u001b[43m    \u001b[49m\u001b[43mdropna\u001b[49m\u001b[43m,\u001b[49m\n\u001b[0;32m    106\u001b[0m \u001b[43m    \u001b[49m\u001b[43mmargins_name\u001b[49m\u001b[43m,\u001b[49m\n\u001b[0;32m    107\u001b[0m \u001b[43m    \u001b[49m\u001b[43mobserved\u001b[49m\u001b[43m,\u001b[49m\n\u001b[0;32m    108\u001b[0m \u001b[43m    \u001b[49m\u001b[43msort\u001b[49m\u001b[43m,\u001b[49m\n\u001b[0;32m    109\u001b[0m \u001b[43m\u001b[49m\u001b[43m)\u001b[49m\n\u001b[0;32m    110\u001b[0m \u001b[38;5;28;01mreturn\u001b[39;00m table\u001b[38;5;241m.\u001b[39m__finalize__(data, method\u001b[38;5;241m=\u001b[39m\u001b[38;5;124m\"\u001b[39m\u001b[38;5;124mpivot_table\u001b[39m\u001b[38;5;124m\"\u001b[39m)\n",
      "File \u001b[1;32m~\\anaconda3\\lib\\site-packages\\pandas\\core\\reshape\\pivot.py:177\u001b[0m, in \u001b[0;36m__internal_pivot_table\u001b[1;34m(data, values, index, columns, aggfunc, fill_value, margins, dropna, margins_name, observed, sort)\u001b[0m\n\u001b[0;32m    167\u001b[0m msg \u001b[38;5;241m=\u001b[39m (\n\u001b[0;32m    168\u001b[0m     \u001b[38;5;124m\"\u001b[39m\u001b[38;5;124mpivot_table dropped a column because it failed to aggregate. This behavior \u001b[39m\u001b[38;5;124m\"\u001b[39m\n\u001b[0;32m    169\u001b[0m     \u001b[38;5;124m\"\u001b[39m\u001b[38;5;124mis deprecated and will raise in a future version of pandas. Select only the \u001b[39m\u001b[38;5;124m\"\u001b[39m\n\u001b[0;32m    170\u001b[0m     \u001b[38;5;124m\"\u001b[39m\u001b[38;5;124mcolumns that can be aggregated.\u001b[39m\u001b[38;5;124m\"\u001b[39m\n\u001b[0;32m    171\u001b[0m )\n\u001b[0;32m    172\u001b[0m \u001b[38;5;28;01mwith\u001b[39;00m rewrite_warning(\n\u001b[0;32m    173\u001b[0m     target_message\u001b[38;5;241m=\u001b[39m\u001b[38;5;124m\"\u001b[39m\u001b[38;5;124mThe default value of numeric_only\u001b[39m\u001b[38;5;124m\"\u001b[39m,\n\u001b[0;32m    174\u001b[0m     target_category\u001b[38;5;241m=\u001b[39m\u001b[38;5;167;01mFutureWarning\u001b[39;00m,\n\u001b[0;32m    175\u001b[0m     new_message\u001b[38;5;241m=\u001b[39mmsg,\n\u001b[0;32m    176\u001b[0m ):\n\u001b[1;32m--> 177\u001b[0m     agged \u001b[38;5;241m=\u001b[39m \u001b[43mgrouped\u001b[49m\u001b[38;5;241;43m.\u001b[39;49m\u001b[43magg\u001b[49m\u001b[43m(\u001b[49m\u001b[43maggfunc\u001b[49m\u001b[43m)\u001b[49m\n\u001b[0;32m    179\u001b[0m \u001b[38;5;28;01mif\u001b[39;00m dropna \u001b[38;5;129;01mand\u001b[39;00m \u001b[38;5;28misinstance\u001b[39m(agged, ABCDataFrame) \u001b[38;5;129;01mand\u001b[39;00m \u001b[38;5;28mlen\u001b[39m(agged\u001b[38;5;241m.\u001b[39mcolumns):\n\u001b[0;32m    180\u001b[0m     agged \u001b[38;5;241m=\u001b[39m agged\u001b[38;5;241m.\u001b[39mdropna(how\u001b[38;5;241m=\u001b[39m\u001b[38;5;124m\"\u001b[39m\u001b[38;5;124mall\u001b[39m\u001b[38;5;124m\"\u001b[39m)\n",
      "File \u001b[1;32m~\\anaconda3\\lib\\site-packages\\pandas\\core\\groupby\\generic.py:909\u001b[0m, in \u001b[0;36mDataFrameGroupBy.aggregate\u001b[1;34m(self, func, engine, engine_kwargs, *args, **kwargs)\u001b[0m\n\u001b[0;32m    904\u001b[0m \u001b[38;5;28;01mif\u001b[39;00m result \u001b[38;5;129;01mis\u001b[39;00m \u001b[38;5;28;01mNone\u001b[39;00m:\n\u001b[0;32m    905\u001b[0m \n\u001b[0;32m    906\u001b[0m     \u001b[38;5;66;03m# grouper specific aggregations\u001b[39;00m\n\u001b[0;32m    907\u001b[0m     \u001b[38;5;28;01mif\u001b[39;00m \u001b[38;5;28mself\u001b[39m\u001b[38;5;241m.\u001b[39mgrouper\u001b[38;5;241m.\u001b[39mnkeys \u001b[38;5;241m>\u001b[39m \u001b[38;5;241m1\u001b[39m:\n\u001b[0;32m    908\u001b[0m         \u001b[38;5;66;03m# test_groupby_as_index_series_scalar gets here with 'not self.as_index'\u001b[39;00m\n\u001b[1;32m--> 909\u001b[0m         \u001b[38;5;28;01mreturn\u001b[39;00m \u001b[38;5;28mself\u001b[39m\u001b[38;5;241m.\u001b[39m_python_agg_general(func, \u001b[38;5;241m*\u001b[39margs, \u001b[38;5;241m*\u001b[39m\u001b[38;5;241m*\u001b[39mkwargs)\n\u001b[0;32m    910\u001b[0m     \u001b[38;5;28;01melif\u001b[39;00m args \u001b[38;5;129;01mor\u001b[39;00m kwargs:\n\u001b[0;32m    911\u001b[0m         \u001b[38;5;66;03m# test_pass_args_kwargs gets here (with and without as_index)\u001b[39;00m\n\u001b[0;32m    912\u001b[0m         \u001b[38;5;66;03m# can't return early\u001b[39;00m\n\u001b[0;32m    913\u001b[0m         result \u001b[38;5;241m=\u001b[39m \u001b[38;5;28mself\u001b[39m\u001b[38;5;241m.\u001b[39m_aggregate_frame(func, \u001b[38;5;241m*\u001b[39margs, \u001b[38;5;241m*\u001b[39m\u001b[38;5;241m*\u001b[39mkwargs)\n",
      "File \u001b[1;32m~\\anaconda3\\lib\\site-packages\\pandas\\core\\groupby\\groupby.py:1673\u001b[0m, in \u001b[0;36mGroupBy._python_agg_general\u001b[1;34m(self, func, raise_on_typeerror, *args, **kwargs)\u001b[0m\n\u001b[0;32m   1670\u001b[0m \u001b[38;5;66;03m# iterate through \"columns\" ex exclusions to populate output dict\u001b[39;00m\n\u001b[0;32m   1671\u001b[0m output: \u001b[38;5;28mdict\u001b[39m[base\u001b[38;5;241m.\u001b[39mOutputKey, ArrayLike] \u001b[38;5;241m=\u001b[39m {}\n\u001b[1;32m-> 1673\u001b[0m \u001b[38;5;28;01mif\u001b[39;00m \u001b[38;5;28;43mself\u001b[39;49m\u001b[38;5;241;43m.\u001b[39;49m\u001b[43mngroups\u001b[49m \u001b[38;5;241m==\u001b[39m \u001b[38;5;241m0\u001b[39m:\n\u001b[0;32m   1674\u001b[0m     \u001b[38;5;66;03m# agg_series below assumes ngroups > 0\u001b[39;00m\n\u001b[0;32m   1675\u001b[0m     \u001b[38;5;28;01mreturn\u001b[39;00m \u001b[38;5;28mself\u001b[39m\u001b[38;5;241m.\u001b[39m_python_apply_general(f, \u001b[38;5;28mself\u001b[39m\u001b[38;5;241m.\u001b[39m_selected_obj, is_agg\u001b[38;5;241m=\u001b[39m\u001b[38;5;28;01mTrue\u001b[39;00m)\n\u001b[0;32m   1677\u001b[0m \u001b[38;5;28;01mfor\u001b[39;00m idx, obj \u001b[38;5;129;01min\u001b[39;00m \u001b[38;5;28menumerate\u001b[39m(\u001b[38;5;28mself\u001b[39m\u001b[38;5;241m.\u001b[39m_iterate_slices()):\n",
      "File \u001b[1;32m~\\anaconda3\\lib\\site-packages\\pandas\\core\\groupby\\groupby.py:677\u001b[0m, in \u001b[0;36mBaseGroupBy.ngroups\u001b[1;34m(self)\u001b[0m\n\u001b[0;32m    674\u001b[0m \u001b[38;5;129m@final\u001b[39m\n\u001b[0;32m    675\u001b[0m \u001b[38;5;129m@property\u001b[39m\n\u001b[0;32m    676\u001b[0m \u001b[38;5;28;01mdef\u001b[39;00m \u001b[38;5;21mngroups\u001b[39m(\u001b[38;5;28mself\u001b[39m) \u001b[38;5;241m-\u001b[39m\u001b[38;5;241m>\u001b[39m \u001b[38;5;28mint\u001b[39m:\n\u001b[1;32m--> 677\u001b[0m     \u001b[38;5;28;01mreturn\u001b[39;00m \u001b[38;5;28;43mself\u001b[39;49m\u001b[38;5;241;43m.\u001b[39;49m\u001b[43mgrouper\u001b[49m\u001b[38;5;241;43m.\u001b[39;49m\u001b[43mngroups\u001b[49m\n",
      "File \u001b[1;32m~\\anaconda3\\lib\\site-packages\\pandas\\_libs\\properties.pyx:36\u001b[0m, in \u001b[0;36mpandas._libs.properties.CachedProperty.__get__\u001b[1;34m()\u001b[0m\n",
      "File \u001b[1;32m~\\anaconda3\\lib\\site-packages\\pandas\\core\\groupby\\ops.py:982\u001b[0m, in \u001b[0;36mBaseGrouper.ngroups\u001b[1;34m(self)\u001b[0m\n\u001b[0;32m    979\u001b[0m \u001b[38;5;129m@final\u001b[39m\n\u001b[0;32m    980\u001b[0m \u001b[38;5;129m@cache_readonly\u001b[39m\n\u001b[0;32m    981\u001b[0m \u001b[38;5;28;01mdef\u001b[39;00m \u001b[38;5;21mngroups\u001b[39m(\u001b[38;5;28mself\u001b[39m) \u001b[38;5;241m-\u001b[39m\u001b[38;5;241m>\u001b[39m \u001b[38;5;28mint\u001b[39m:\n\u001b[1;32m--> 982\u001b[0m     \u001b[38;5;28;01mreturn\u001b[39;00m \u001b[38;5;28mlen\u001b[39m(\u001b[38;5;28;43mself\u001b[39;49m\u001b[38;5;241;43m.\u001b[39;49m\u001b[43mresult_index\u001b[49m)\n",
      "File \u001b[1;32m~\\anaconda3\\lib\\site-packages\\pandas\\_libs\\properties.pyx:36\u001b[0m, in \u001b[0;36mpandas._libs.properties.CachedProperty.__get__\u001b[1;34m()\u001b[0m\n",
      "File \u001b[1;32m~\\anaconda3\\lib\\site-packages\\pandas\\core\\groupby\\ops.py:995\u001b[0m, in \u001b[0;36mBaseGrouper.result_index\u001b[1;34m(self)\u001b[0m\n\u001b[0;32m    992\u001b[0m \u001b[38;5;28;01mif\u001b[39;00m \u001b[38;5;28mlen\u001b[39m(\u001b[38;5;28mself\u001b[39m\u001b[38;5;241m.\u001b[39mgroupings) \u001b[38;5;241m==\u001b[39m \u001b[38;5;241m1\u001b[39m:\n\u001b[0;32m    993\u001b[0m     \u001b[38;5;28;01mreturn\u001b[39;00m \u001b[38;5;28mself\u001b[39m\u001b[38;5;241m.\u001b[39mgroupings[\u001b[38;5;241m0\u001b[39m]\u001b[38;5;241m.\u001b[39mresult_index\u001b[38;5;241m.\u001b[39mrename(\u001b[38;5;28mself\u001b[39m\u001b[38;5;241m.\u001b[39mnames[\u001b[38;5;241m0\u001b[39m])\n\u001b[1;32m--> 995\u001b[0m codes \u001b[38;5;241m=\u001b[39m \u001b[38;5;28;43mself\u001b[39;49m\u001b[38;5;241;43m.\u001b[39;49m\u001b[43mreconstructed_codes\u001b[49m\n\u001b[0;32m    996\u001b[0m levels \u001b[38;5;241m=\u001b[39m [ping\u001b[38;5;241m.\u001b[39mresult_index \u001b[38;5;28;01mfor\u001b[39;00m ping \u001b[38;5;129;01min\u001b[39;00m \u001b[38;5;28mself\u001b[39m\u001b[38;5;241m.\u001b[39mgroupings]\n\u001b[0;32m    997\u001b[0m \u001b[38;5;28;01mreturn\u001b[39;00m MultiIndex(\n\u001b[0;32m    998\u001b[0m     levels\u001b[38;5;241m=\u001b[39mlevels, codes\u001b[38;5;241m=\u001b[39mcodes, verify_integrity\u001b[38;5;241m=\u001b[39m\u001b[38;5;28;01mFalse\u001b[39;00m, names\u001b[38;5;241m=\u001b[39m\u001b[38;5;28mself\u001b[39m\u001b[38;5;241m.\u001b[39mnames\n\u001b[0;32m    999\u001b[0m )\n",
      "File \u001b[1;32m~\\anaconda3\\lib\\site-packages\\pandas\\core\\groupby\\ops.py:986\u001b[0m, in \u001b[0;36mBaseGrouper.reconstructed_codes\u001b[1;34m(self)\u001b[0m\n\u001b[0;32m    984\u001b[0m \u001b[38;5;129m@property\u001b[39m\n\u001b[0;32m    985\u001b[0m \u001b[38;5;28;01mdef\u001b[39;00m \u001b[38;5;21mreconstructed_codes\u001b[39m(\u001b[38;5;28mself\u001b[39m) \u001b[38;5;241m-\u001b[39m\u001b[38;5;241m>\u001b[39m \u001b[38;5;28mlist\u001b[39m[npt\u001b[38;5;241m.\u001b[39mNDArray[np\u001b[38;5;241m.\u001b[39mintp]]:\n\u001b[1;32m--> 986\u001b[0m     codes \u001b[38;5;241m=\u001b[39m \u001b[38;5;28;43mself\u001b[39;49m\u001b[38;5;241;43m.\u001b[39;49m\u001b[43mcodes\u001b[49m\n\u001b[0;32m    987\u001b[0m     ids, obs_ids, _ \u001b[38;5;241m=\u001b[39m \u001b[38;5;28mself\u001b[39m\u001b[38;5;241m.\u001b[39mgroup_info\n\u001b[0;32m    988\u001b[0m     \u001b[38;5;28;01mreturn\u001b[39;00m decons_obs_group_ids(ids, obs_ids, \u001b[38;5;28mself\u001b[39m\u001b[38;5;241m.\u001b[39mshape, codes, xnull\u001b[38;5;241m=\u001b[39m\u001b[38;5;28;01mTrue\u001b[39;00m)\n",
      "File \u001b[1;32m~\\anaconda3\\lib\\site-packages\\pandas\\core\\groupby\\ops.py:897\u001b[0m, in \u001b[0;36mBaseGrouper.codes\u001b[1;34m(self)\u001b[0m\n\u001b[0;32m    894\u001b[0m \u001b[38;5;129m@final\u001b[39m\n\u001b[0;32m    895\u001b[0m \u001b[38;5;129m@property\u001b[39m\n\u001b[0;32m    896\u001b[0m \u001b[38;5;28;01mdef\u001b[39;00m \u001b[38;5;21mcodes\u001b[39m(\u001b[38;5;28mself\u001b[39m) \u001b[38;5;241m-\u001b[39m\u001b[38;5;241m>\u001b[39m \u001b[38;5;28mlist\u001b[39m[npt\u001b[38;5;241m.\u001b[39mNDArray[np\u001b[38;5;241m.\u001b[39msignedinteger]]:\n\u001b[1;32m--> 897\u001b[0m     \u001b[38;5;28;01mreturn\u001b[39;00m [ping\u001b[38;5;241m.\u001b[39mcodes \u001b[38;5;28;01mfor\u001b[39;00m ping \u001b[38;5;129;01min\u001b[39;00m \u001b[38;5;28mself\u001b[39m\u001b[38;5;241m.\u001b[39mgroupings]\n",
      "File \u001b[1;32m~\\anaconda3\\lib\\site-packages\\pandas\\core\\groupby\\ops.py:897\u001b[0m, in \u001b[0;36m<listcomp>\u001b[1;34m(.0)\u001b[0m\n\u001b[0;32m    894\u001b[0m \u001b[38;5;129m@final\u001b[39m\n\u001b[0;32m    895\u001b[0m \u001b[38;5;129m@property\u001b[39m\n\u001b[0;32m    896\u001b[0m \u001b[38;5;28;01mdef\u001b[39;00m \u001b[38;5;21mcodes\u001b[39m(\u001b[38;5;28mself\u001b[39m) \u001b[38;5;241m-\u001b[39m\u001b[38;5;241m>\u001b[39m \u001b[38;5;28mlist\u001b[39m[npt\u001b[38;5;241m.\u001b[39mNDArray[np\u001b[38;5;241m.\u001b[39msignedinteger]]:\n\u001b[1;32m--> 897\u001b[0m     \u001b[38;5;28;01mreturn\u001b[39;00m [\u001b[43mping\u001b[49m\u001b[38;5;241;43m.\u001b[39;49m\u001b[43mcodes\u001b[49m \u001b[38;5;28;01mfor\u001b[39;00m ping \u001b[38;5;129;01min\u001b[39;00m \u001b[38;5;28mself\u001b[39m\u001b[38;5;241m.\u001b[39mgroupings]\n",
      "File \u001b[1;32m~\\anaconda3\\lib\\site-packages\\pandas\\core\\groupby\\grouper.py:621\u001b[0m, in \u001b[0;36mGrouping.codes\u001b[1;34m(self)\u001b[0m\n\u001b[0;32m    617\u001b[0m \u001b[38;5;28;01mif\u001b[39;00m \u001b[38;5;28mself\u001b[39m\u001b[38;5;241m.\u001b[39m_codes \u001b[38;5;129;01mis\u001b[39;00m \u001b[38;5;129;01mnot\u001b[39;00m \u001b[38;5;28;01mNone\u001b[39;00m:\n\u001b[0;32m    618\u001b[0m     \u001b[38;5;66;03m# _codes is set in __init__ for MultiIndex cases\u001b[39;00m\n\u001b[0;32m    619\u001b[0m     \u001b[38;5;28;01mreturn\u001b[39;00m \u001b[38;5;28mself\u001b[39m\u001b[38;5;241m.\u001b[39m_codes\n\u001b[1;32m--> 621\u001b[0m \u001b[38;5;28;01mreturn\u001b[39;00m \u001b[38;5;28;43mself\u001b[39;49m\u001b[38;5;241;43m.\u001b[39;49m\u001b[43m_codes_and_uniques\u001b[49m[\u001b[38;5;241m0\u001b[39m]\n",
      "File \u001b[1;32m~\\anaconda3\\lib\\site-packages\\pandas\\_libs\\properties.pyx:36\u001b[0m, in \u001b[0;36mpandas._libs.properties.CachedProperty.__get__\u001b[1;34m()\u001b[0m\n",
      "File \u001b[1;32m~\\anaconda3\\lib\\site-packages\\pandas\\core\\groupby\\grouper.py:692\u001b[0m, in \u001b[0;36mGrouping._codes_and_uniques\u001b[1;34m(self)\u001b[0m\n\u001b[0;32m    685\u001b[0m     uniques \u001b[38;5;241m=\u001b[39m (\n\u001b[0;32m    686\u001b[0m         \u001b[38;5;28mself\u001b[39m\u001b[38;5;241m.\u001b[39mgrouping_vector\u001b[38;5;241m.\u001b[39mresult_index\u001b[38;5;241m.\u001b[39m_values  \u001b[38;5;66;03m# type: ignore[assignment]\u001b[39;00m\n\u001b[0;32m    687\u001b[0m     )\n\u001b[0;32m    688\u001b[0m \u001b[38;5;28;01melse\u001b[39;00m:\n\u001b[0;32m    689\u001b[0m     \u001b[38;5;66;03m# GH35667, replace dropna=False with use_na_sentinel=False\u001b[39;00m\n\u001b[0;32m    690\u001b[0m     \u001b[38;5;66;03m# error: Incompatible types in assignment (expression has type \"Union[\u001b[39;00m\n\u001b[0;32m    691\u001b[0m     \u001b[38;5;66;03m# ndarray[Any, Any], Index]\", variable has type \"Categorical\")\u001b[39;00m\n\u001b[1;32m--> 692\u001b[0m     codes, uniques \u001b[38;5;241m=\u001b[39m \u001b[43malgorithms\u001b[49m\u001b[38;5;241;43m.\u001b[39;49m\u001b[43mfactorize\u001b[49m\u001b[43m(\u001b[49m\u001b[43m  \u001b[49m\u001b[38;5;66;43;03m# type: ignore[assignment]\u001b[39;49;00m\n\u001b[0;32m    693\u001b[0m \u001b[43m        \u001b[49m\u001b[38;5;28;43mself\u001b[39;49m\u001b[38;5;241;43m.\u001b[39;49m\u001b[43mgrouping_vector\u001b[49m\u001b[43m,\u001b[49m\u001b[43m \u001b[49m\u001b[43msort\u001b[49m\u001b[38;5;241;43m=\u001b[39;49m\u001b[38;5;28;43mself\u001b[39;49m\u001b[38;5;241;43m.\u001b[39;49m\u001b[43m_sort\u001b[49m\u001b[43m,\u001b[49m\u001b[43m \u001b[49m\u001b[43muse_na_sentinel\u001b[49m\u001b[38;5;241;43m=\u001b[39;49m\u001b[38;5;28;43mself\u001b[39;49m\u001b[38;5;241;43m.\u001b[39;49m\u001b[43m_dropna\u001b[49m\n\u001b[0;32m    694\u001b[0m \u001b[43m    \u001b[49m\u001b[43m)\u001b[49m\n\u001b[0;32m    695\u001b[0m \u001b[38;5;28;01mreturn\u001b[39;00m codes, uniques\n",
      "File \u001b[1;32m~\\anaconda3\\lib\\site-packages\\pandas\\core\\algorithms.py:822\u001b[0m, in \u001b[0;36mfactorize\u001b[1;34m(values, sort, na_sentinel, use_na_sentinel, size_hint)\u001b[0m\n\u001b[0;32m    819\u001b[0m             \u001b[38;5;66;03m# Don't modify (potentially user-provided) array\u001b[39;00m\n\u001b[0;32m    820\u001b[0m             values \u001b[38;5;241m=\u001b[39m np\u001b[38;5;241m.\u001b[39mwhere(null_mask, na_value, values)\n\u001b[1;32m--> 822\u001b[0m     codes, uniques \u001b[38;5;241m=\u001b[39m \u001b[43mfactorize_array\u001b[49m\u001b[43m(\u001b[49m\n\u001b[0;32m    823\u001b[0m \u001b[43m        \u001b[49m\u001b[43mvalues\u001b[49m\u001b[43m,\u001b[49m\n\u001b[0;32m    824\u001b[0m \u001b[43m        \u001b[49m\u001b[43mna_sentinel\u001b[49m\u001b[38;5;241;43m=\u001b[39;49m\u001b[43mna_sentinel_arg\u001b[49m\u001b[43m,\u001b[49m\n\u001b[0;32m    825\u001b[0m \u001b[43m        \u001b[49m\u001b[43msize_hint\u001b[49m\u001b[38;5;241;43m=\u001b[39;49m\u001b[43msize_hint\u001b[49m\u001b[43m,\u001b[49m\n\u001b[0;32m    826\u001b[0m \u001b[43m    \u001b[49m\u001b[43m)\u001b[49m\n\u001b[0;32m    828\u001b[0m \u001b[38;5;28;01mif\u001b[39;00m sort \u001b[38;5;129;01mand\u001b[39;00m \u001b[38;5;28mlen\u001b[39m(uniques) \u001b[38;5;241m>\u001b[39m \u001b[38;5;241m0\u001b[39m:\n\u001b[0;32m    829\u001b[0m     \u001b[38;5;28;01mif\u001b[39;00m na_sentinel \u001b[38;5;129;01mis\u001b[39;00m \u001b[38;5;28;01mNone\u001b[39;00m:\n\u001b[0;32m    830\u001b[0m         \u001b[38;5;66;03m# TODO: Can remove when na_sentinel=na_sentinel as in TODO above\u001b[39;00m\n",
      "File \u001b[1;32m~\\anaconda3\\lib\\site-packages\\pandas\\core\\algorithms.py:578\u001b[0m, in \u001b[0;36mfactorize_array\u001b[1;34m(values, na_sentinel, size_hint, na_value, mask)\u001b[0m\n\u001b[0;32m    575\u001b[0m hash_klass, values \u001b[38;5;241m=\u001b[39m _get_hashtable_algo(values)\n\u001b[0;32m    577\u001b[0m table \u001b[38;5;241m=\u001b[39m hash_klass(size_hint \u001b[38;5;129;01mor\u001b[39;00m \u001b[38;5;28mlen\u001b[39m(values))\n\u001b[1;32m--> 578\u001b[0m uniques, codes \u001b[38;5;241m=\u001b[39m \u001b[43mtable\u001b[49m\u001b[38;5;241;43m.\u001b[39;49m\u001b[43mfactorize\u001b[49m\u001b[43m(\u001b[49m\n\u001b[0;32m    579\u001b[0m \u001b[43m    \u001b[49m\u001b[43mvalues\u001b[49m\u001b[43m,\u001b[49m\n\u001b[0;32m    580\u001b[0m \u001b[43m    \u001b[49m\u001b[43mna_sentinel\u001b[49m\u001b[38;5;241;43m=\u001b[39;49m\u001b[43mna_sentinel\u001b[49m\u001b[43m,\u001b[49m\n\u001b[0;32m    581\u001b[0m \u001b[43m    \u001b[49m\u001b[43mna_value\u001b[49m\u001b[38;5;241;43m=\u001b[39;49m\u001b[43mna_value\u001b[49m\u001b[43m,\u001b[49m\n\u001b[0;32m    582\u001b[0m \u001b[43m    \u001b[49m\u001b[43mmask\u001b[49m\u001b[38;5;241;43m=\u001b[39;49m\u001b[43mmask\u001b[49m\u001b[43m,\u001b[49m\n\u001b[0;32m    583\u001b[0m \u001b[43m    \u001b[49m\u001b[43mignore_na\u001b[49m\u001b[38;5;241;43m=\u001b[39;49m\u001b[43mignore_na\u001b[49m\u001b[43m,\u001b[49m\n\u001b[0;32m    584\u001b[0m \u001b[43m\u001b[49m\u001b[43m)\u001b[49m\n\u001b[0;32m    586\u001b[0m \u001b[38;5;66;03m# re-cast e.g. i8->dt64/td64, uint8->bool\u001b[39;00m\n\u001b[0;32m    587\u001b[0m uniques \u001b[38;5;241m=\u001b[39m _reconstruct_data(uniques, original\u001b[38;5;241m.\u001b[39mdtype, original)\n",
      "\u001b[1;31mKeyboardInterrupt\u001b[0m: "
     ]
    }
   ],
   "source": [
    "#List os cat attributes for cramer v correlation\n",
    "cat_attributes_list = cat_attributes_session.columns.tolist()\n",
    "\n",
    "#dict to get all corr (rowxcolumn)\n",
    "corr_dict = {}\n",
    "for i in range(len(cat_attributes_list)):\n",
    "    corr_list=[]\n",
    "    for j in range(len(cat_attributes_list)):\n",
    "        ref = cat_attributes_list[i]\n",
    "        feat = cat_attributes_list[j]\n",
    "        \n",
    "        corr = cramer_v(cat_attributes_session[ref], cat_attributes_session[feat])\n",
    "        corr_list.append(corr)\n",
    "    corr_dict[ref] = corr_list"
   ]
  },
  {
   "cell_type": "code",
   "execution_count": null,
   "id": "3c0efd76",
   "metadata": {
    "ExecuteTime": {
     "end_time": "2023-06-09T22:25:13.994683Z",
     "start_time": "2023-06-09T22:25:13.994683Z"
    }
   },
   "outputs": [],
   "source": [
    "corr_df = pd.DataFrame(corr_dict)\n",
    "corr_df = corr_df.set_index(corr_df.columns)\n"
   ]
  },
  {
   "cell_type": "code",
   "execution_count": null,
   "id": "d74a24bb",
   "metadata": {
    "ExecuteTime": {
     "end_time": "2023-06-09T22:25:13.994683Z",
     "start_time": "2023-06-09T22:25:13.994683Z"
    }
   },
   "outputs": [],
   "source": [
    "sns.heatmap(corr_df, annot=True);\n"
   ]
  },
  {
   "cell_type": "markdown",
   "id": "2d82e703",
   "metadata": {},
   "source": [
    "Conclusion: High correlation between:\n",
    "* action and action_type\n",
    "* action and action_detail"
   ]
  },
  {
   "cell_type": "markdown",
   "id": "02815195",
   "metadata": {},
   "source": [
    "# 2.0. Feature Engineering"
   ]
  },
  {
   "cell_type": "code",
   "execution_count": 9,
   "id": "0b7a5d8f",
   "metadata": {
    "ExecuteTime": {
     "end_time": "2023-06-10T16:56:54.950267Z",
     "start_time": "2023-06-10T16:56:54.900794Z"
    }
   },
   "outputs": [],
   "source": [
    "df2 = df1.copy()"
   ]
  },
  {
   "cell_type": "code",
   "execution_count": 10,
   "id": "39e63495",
   "metadata": {
    "ExecuteTime": {
     "end_time": "2023-06-10T16:56:55.422706Z",
     "start_time": "2023-06-10T16:56:55.042811Z"
    }
   },
   "outputs": [
    {
     "name": "stderr",
     "output_type": "stream",
     "text": [
      "C:\\Users\\HeitorFelixdeOliveir\\AppData\\Local\\Temp\\ipykernel_16776\\3870884473.py:24: FutureWarning: Series.dt.weekofyear and Series.dt.week have been deprecated. Please use Series.dt.isocalendar().week instead.\n",
      "  df2['week_of_year_first_active'] = df2['first_active'].dt.weekofyear\n",
      "C:\\Users\\HeitorFelixdeOliveir\\AppData\\Local\\Temp\\ipykernel_16776\\3870884473.py:40: FutureWarning: Series.dt.weekofyear and Series.dt.week have been deprecated. Please use Series.dt.isocalendar().week instead.\n",
      "  df2['week_of_year_first_booking'] = df2['date_first_booking'].dt.weekofyear\n",
      "C:\\Users\\HeitorFelixdeOliveir\\AppData\\Local\\Temp\\ipykernel_16776\\3870884473.py:56: FutureWarning: Series.dt.weekofyear and Series.dt.week have been deprecated. Please use Series.dt.isocalendar().week instead.\n",
      "  df2['week_of_year_account_created'] = df2['date_account_created'].dt.weekofyear\n"
     ]
    }
   ],
   "source": [
    "#time between first booking and first active\n",
    "df2['first_active'] = pd.to_datetime(df2['timestamp_first_active'].dt.strftime('%Y-%m-%d'))\n",
    "df2['days_from_active_to_booking'] = (df2['date_first_booking'] - df2['first_active']).dt.days\n",
    "\n",
    "#time between first booking and account created\n",
    "df2['days_from_account_created_to_booking'] = (df2['date_first_booking'] - df2['date_account_created']).dt.days\n",
    "\n",
    "#time between account created and first active\n",
    "df2['days_from_active_to_account_created'] = (df2['date_account_created'] - df2['first_active']).dt.days\n",
    "\n",
    "#year  of first active\n",
    "df2['year_first_active'] = df2['first_active'].dt.year\n",
    "\n",
    "#month of first active\n",
    "df2['month_first_active'] = df2['first_active'].dt.month\n",
    "\n",
    "#day of first active\n",
    "df2['day_first_active'] = df2['first_active'].dt.day\n",
    "\n",
    "#day of week of first active\n",
    "df2['day_of_week_first_active'] = df2['first_active'].dt.dayofweek\n",
    "\n",
    "#week of year of first active\n",
    "df2['week_of_year_first_active'] = df2['first_active'].dt.weekofyear\n",
    "\n",
    "\n",
    "#year  of first booking\n",
    "df2['year_first_booking'] = df2['date_first_booking'].dt.year\n",
    "\n",
    "#month of first booking\n",
    "df2['month_first_booking'] = df2['date_first_booking'].dt.month\n",
    "\n",
    "#day of first booking\n",
    "df2['day_first_booking'] = df2['date_first_booking'].dt.day\n",
    "\n",
    "#day of week of first booking\n",
    "df2['day_of_week_first_booking'] = df2['date_first_booking'].dt.dayofweek\n",
    "\n",
    "#week of year of first booking\n",
    "df2['week_of_year_first_booking'] = df2['date_first_booking'].dt.weekofyear\n",
    "\n",
    "\n",
    "#year  of account created\n",
    "df2['year_account_created'] = df2['date_account_created'].dt.year\n",
    "\n",
    "#month of account created\n",
    "df2['month_account_created'] = df2['date_account_created'].dt.month\n",
    "\n",
    "#day of account created\n",
    "df2['day_account_created'] = df2['date_account_created'].dt.day\n",
    "\n",
    "#day of week of account created\n",
    "df2['day_of_week_account_created'] = df2['date_account_created'].dt.dayofweek\n",
    "\n",
    "#week of year of account created\n",
    "df2['week_of_year_account_created'] = df2['date_account_created'].dt.weekofyear"
   ]
  },
  {
   "cell_type": "code",
   "execution_count": 14,
   "id": "64ebbcc1",
   "metadata": {
    "ExecuteTime": {
     "end_time": "2023-06-09T22:59:22.151120Z",
     "start_time": "2023-06-09T22:59:22.102639Z"
    }
   },
   "outputs": [
    {
     "data": {
      "text/html": [
       "<div>\n",
       "<style scoped>\n",
       "    .dataframe tbody tr th:only-of-type {\n",
       "        vertical-align: middle;\n",
       "    }\n",
       "\n",
       "    .dataframe tbody tr th {\n",
       "        vertical-align: top;\n",
       "    }\n",
       "\n",
       "    .dataframe thead th {\n",
       "        text-align: right;\n",
       "    }\n",
       "</style>\n",
       "<table border=\"1\" class=\"dataframe\">\n",
       "  <thead>\n",
       "    <tr style=\"text-align: right;\">\n",
       "      <th></th>\n",
       "      <th>id</th>\n",
       "      <th>date_account_created</th>\n",
       "      <th>timestamp_first_active</th>\n",
       "      <th>date_first_booking</th>\n",
       "      <th>gender</th>\n",
       "      <th>age</th>\n",
       "      <th>signup_method</th>\n",
       "      <th>signup_flow</th>\n",
       "      <th>language</th>\n",
       "      <th>affiliate_channel</th>\n",
       "      <th>...</th>\n",
       "      <th>year_first_booking</th>\n",
       "      <th>month_first_booking</th>\n",
       "      <th>day_first_booking</th>\n",
       "      <th>day_of_week_first_booking</th>\n",
       "      <th>week_of_year_first_booking</th>\n",
       "      <th>year_account_created</th>\n",
       "      <th>month_account_created</th>\n",
       "      <th>day_account_created</th>\n",
       "      <th>day_of_week_account_created</th>\n",
       "      <th>week_of_year_account_created</th>\n",
       "    </tr>\n",
       "  </thead>\n",
       "  <tbody>\n",
       "    <tr>\n",
       "      <th>0</th>\n",
       "      <td>gxn3p5htnn</td>\n",
       "      <td>2010-06-28</td>\n",
       "      <td>2009-03-19 04:32:55</td>\n",
       "      <td>2015-06-29</td>\n",
       "      <td>-unknown-</td>\n",
       "      <td>49</td>\n",
       "      <td>facebook</td>\n",
       "      <td>0</td>\n",
       "      <td>en</td>\n",
       "      <td>direct</td>\n",
       "      <td>...</td>\n",
       "      <td>2015</td>\n",
       "      <td>6</td>\n",
       "      <td>29</td>\n",
       "      <td>0</td>\n",
       "      <td>27</td>\n",
       "      <td>2010</td>\n",
       "      <td>6</td>\n",
       "      <td>28</td>\n",
       "      <td>0</td>\n",
       "      <td>26</td>\n",
       "    </tr>\n",
       "    <tr>\n",
       "      <th>1</th>\n",
       "      <td>820tgsjxq7</td>\n",
       "      <td>2011-05-25</td>\n",
       "      <td>2009-05-23 17:48:09</td>\n",
       "      <td>2015-06-29</td>\n",
       "      <td>MALE</td>\n",
       "      <td>38</td>\n",
       "      <td>facebook</td>\n",
       "      <td>0</td>\n",
       "      <td>en</td>\n",
       "      <td>seo</td>\n",
       "      <td>...</td>\n",
       "      <td>2015</td>\n",
       "      <td>6</td>\n",
       "      <td>29</td>\n",
       "      <td>0</td>\n",
       "      <td>27</td>\n",
       "      <td>2011</td>\n",
       "      <td>5</td>\n",
       "      <td>25</td>\n",
       "      <td>2</td>\n",
       "      <td>21</td>\n",
       "    </tr>\n",
       "    <tr>\n",
       "      <th>2</th>\n",
       "      <td>4ft3gnwmtx</td>\n",
       "      <td>2010-09-28</td>\n",
       "      <td>2009-06-09 23:12:47</td>\n",
       "      <td>2010-08-02</td>\n",
       "      <td>FEMALE</td>\n",
       "      <td>56</td>\n",
       "      <td>basic</td>\n",
       "      <td>3</td>\n",
       "      <td>en</td>\n",
       "      <td>direct</td>\n",
       "      <td>...</td>\n",
       "      <td>2010</td>\n",
       "      <td>8</td>\n",
       "      <td>2</td>\n",
       "      <td>0</td>\n",
       "      <td>31</td>\n",
       "      <td>2010</td>\n",
       "      <td>9</td>\n",
       "      <td>28</td>\n",
       "      <td>1</td>\n",
       "      <td>39</td>\n",
       "    </tr>\n",
       "    <tr>\n",
       "      <th>3</th>\n",
       "      <td>bjjt8pjhuk</td>\n",
       "      <td>2011-12-05</td>\n",
       "      <td>2009-10-31 06:01:29</td>\n",
       "      <td>2012-09-08</td>\n",
       "      <td>FEMALE</td>\n",
       "      <td>42</td>\n",
       "      <td>facebook</td>\n",
       "      <td>0</td>\n",
       "      <td>en</td>\n",
       "      <td>direct</td>\n",
       "      <td>...</td>\n",
       "      <td>2012</td>\n",
       "      <td>9</td>\n",
       "      <td>8</td>\n",
       "      <td>5</td>\n",
       "      <td>36</td>\n",
       "      <td>2011</td>\n",
       "      <td>12</td>\n",
       "      <td>5</td>\n",
       "      <td>0</td>\n",
       "      <td>49</td>\n",
       "    </tr>\n",
       "    <tr>\n",
       "      <th>4</th>\n",
       "      <td>87mebub9p4</td>\n",
       "      <td>2010-09-14</td>\n",
       "      <td>2009-12-08 06:11:05</td>\n",
       "      <td>2010-02-18</td>\n",
       "      <td>-unknown-</td>\n",
       "      <td>41</td>\n",
       "      <td>basic</td>\n",
       "      <td>0</td>\n",
       "      <td>en</td>\n",
       "      <td>direct</td>\n",
       "      <td>...</td>\n",
       "      <td>2010</td>\n",
       "      <td>2</td>\n",
       "      <td>18</td>\n",
       "      <td>3</td>\n",
       "      <td>7</td>\n",
       "      <td>2010</td>\n",
       "      <td>9</td>\n",
       "      <td>14</td>\n",
       "      <td>1</td>\n",
       "      <td>37</td>\n",
       "    </tr>\n",
       "  </tbody>\n",
       "</table>\n",
       "<p>5 rows × 35 columns</p>\n",
       "</div>"
      ],
      "text/plain": [
       "           id date_account_created timestamp_first_active date_first_booking  \\\n",
       "0  gxn3p5htnn           2010-06-28    2009-03-19 04:32:55         2015-06-29   \n",
       "1  820tgsjxq7           2011-05-25    2009-05-23 17:48:09         2015-06-29   \n",
       "2  4ft3gnwmtx           2010-09-28    2009-06-09 23:12:47         2010-08-02   \n",
       "3  bjjt8pjhuk           2011-12-05    2009-10-31 06:01:29         2012-09-08   \n",
       "4  87mebub9p4           2010-09-14    2009-12-08 06:11:05         2010-02-18   \n",
       "\n",
       "      gender  age signup_method  signup_flow language affiliate_channel  ...  \\\n",
       "0  -unknown-   49      facebook            0       en            direct  ...   \n",
       "1       MALE   38      facebook            0       en               seo  ...   \n",
       "2     FEMALE   56         basic            3       en            direct  ...   \n",
       "3     FEMALE   42      facebook            0       en            direct  ...   \n",
       "4  -unknown-   41         basic            0       en            direct  ...   \n",
       "\n",
       "  year_first_booking month_first_booking day_first_booking  \\\n",
       "0               2015                   6                29   \n",
       "1               2015                   6                29   \n",
       "2               2010                   8                 2   \n",
       "3               2012                   9                 8   \n",
       "4               2010                   2                18   \n",
       "\n",
       "  day_of_week_first_booking week_of_year_first_booking year_account_created  \\\n",
       "0                         0                         27                 2010   \n",
       "1                         0                         27                 2011   \n",
       "2                         0                         31                 2010   \n",
       "3                         5                         36                 2011   \n",
       "4                         3                          7                 2010   \n",
       "\n",
       "  month_account_created  day_account_created  day_of_week_account_created  \\\n",
       "0                     6                   28                            0   \n",
       "1                     5                   25                            2   \n",
       "2                     9                   28                            1   \n",
       "3                    12                    5                            0   \n",
       "4                     9                   14                            1   \n",
       "\n",
       "   week_of_year_account_created  \n",
       "0                            26  \n",
       "1                            21  \n",
       "2                            39  \n",
       "3                            49  \n",
       "4                            37  \n",
       "\n",
       "[5 rows x 35 columns]"
      ]
     },
     "execution_count": 14,
     "metadata": {},
     "output_type": "execute_result"
    }
   ],
   "source": [
    "df2.head()"
   ]
  },
  {
   "cell_type": "markdown",
   "id": "8694ab19",
   "metadata": {},
   "source": [
    "### 2.1. Sessions"
   ]
  },
  {
   "cell_type": "code",
   "execution_count": 15,
   "id": "9d34d251",
   "metadata": {
    "ExecuteTime": {
     "end_time": "2023-06-09T22:59:23.007276Z",
     "start_time": "2023-06-09T22:59:22.993048Z"
    }
   },
   "outputs": [
    {
     "data": {
      "text/plain": [
       "213451"
      ]
     },
     "execution_count": 15,
     "metadata": {},
     "output_type": "execute_result"
    }
   ],
   "source": [
    "df2.shape[0]"
   ]
  },
  {
   "cell_type": "code",
   "execution_count": 16,
   "id": "837e46cb",
   "metadata": {
    "ExecuteTime": {
     "end_time": "2023-06-09T22:59:24.702702Z",
     "start_time": "2023-06-09T22:59:23.425996Z"
    }
   },
   "outputs": [
    {
     "data": {
      "text/plain": [
       "show                     2178382\n",
       "index                     824289\n",
       "search_results            723113\n",
       "personalize               704745\n",
       "search                    533812\n",
       "ajax_refresh_subtotal     486410\n",
       "similar_listings          363420\n",
       "update                    362461\n",
       "social_connections        337754\n",
       "reviews                   319306\n",
       "active                    176259\n",
       "dashboard                 152382\n",
       "header_userpic            140829\n",
       "collections               124059\n",
       "edit                      108919\n",
       "Name: action, dtype: int64"
      ]
     },
     "execution_count": 16,
     "metadata": {},
     "output_type": "execute_result"
    }
   ],
   "source": [
    "df_sessions['action'].value_counts().head(15)"
   ]
  },
  {
   "cell_type": "code",
   "execution_count": 11,
   "id": "2b2f2e9d",
   "metadata": {
    "ExecuteTime": {
     "end_time": "2023-06-10T16:57:03.334567Z",
     "start_time": "2023-06-10T16:57:01.937018Z"
    }
   },
   "outputs": [],
   "source": [
    "# n_clicks\n",
    "n_clicks = df_sessions[df_sessions['action_type']=='click'].groupby('user_id').agg(n_clicks = ('user_id', 'count')).reset_index()\n",
    "df2 = pd.merge(df2, n_clicks.rename(columns = {'user_id' : 'id'}), on ='id', how='left')\n",
    "df2['n_clicks'].fillna(0, inplace=True)\n",
    "\n",
    "n_reviews = df_sessions[df_sessions['action']=='reviews'].groupby('user_id').agg(n_reviews = ('user_id', 'count')).reset_index()\n",
    "df2 = pd.merge(df2, n_reviews.rename(columns = {'user_id' : 'id'}), on ='id', how='left')\n",
    "df2['n_reviews'].fillna(0, inplace=True)"
   ]
  },
  {
   "cell_type": "markdown",
   "id": "c6a82c8a",
   "metadata": {},
   "source": [
    "# 3.0. Data Filtering"
   ]
  },
  {
   "cell_type": "code",
   "execution_count": 12,
   "id": "f5aded92",
   "metadata": {
    "ExecuteTime": {
     "end_time": "2023-06-10T16:57:05.520977Z",
     "start_time": "2023-06-10T16:57:05.444563Z"
    }
   },
   "outputs": [],
   "source": [
    "df3= df2.copy()"
   ]
  },
  {
   "cell_type": "markdown",
   "id": "6710edbe",
   "metadata": {},
   "source": [
    "## 3.1. Filtering Rows"
   ]
  },
  {
   "cell_type": "code",
   "execution_count": 19,
   "id": "ed8209dc",
   "metadata": {
    "ExecuteTime": {
     "end_time": "2023-06-09T22:59:30.439578Z",
     "start_time": "2023-06-09T22:59:30.399143Z"
    }
   },
   "outputs": [
    {
     "data": {
      "text/html": [
       "<div>\n",
       "<style scoped>\n",
       "    .dataframe tbody tr th:only-of-type {\n",
       "        vertical-align: middle;\n",
       "    }\n",
       "\n",
       "    .dataframe tbody tr th {\n",
       "        vertical-align: top;\n",
       "    }\n",
       "\n",
       "    .dataframe thead th {\n",
       "        text-align: right;\n",
       "    }\n",
       "</style>\n",
       "<table border=\"1\" class=\"dataframe\">\n",
       "  <thead>\n",
       "    <tr style=\"text-align: right;\">\n",
       "      <th></th>\n",
       "      <th>id</th>\n",
       "      <th>date_account_created</th>\n",
       "      <th>timestamp_first_active</th>\n",
       "      <th>date_first_booking</th>\n",
       "      <th>gender</th>\n",
       "      <th>age</th>\n",
       "      <th>signup_method</th>\n",
       "      <th>signup_flow</th>\n",
       "      <th>language</th>\n",
       "      <th>affiliate_channel</th>\n",
       "      <th>...</th>\n",
       "      <th>day_first_booking</th>\n",
       "      <th>day_of_week_first_booking</th>\n",
       "      <th>week_of_year_first_booking</th>\n",
       "      <th>year_account_created</th>\n",
       "      <th>month_account_created</th>\n",
       "      <th>day_account_created</th>\n",
       "      <th>day_of_week_account_created</th>\n",
       "      <th>week_of_year_account_created</th>\n",
       "      <th>n_clicks</th>\n",
       "      <th>n_reviews</th>\n",
       "    </tr>\n",
       "  </thead>\n",
       "  <tbody>\n",
       "    <tr>\n",
       "      <th>0</th>\n",
       "      <td>gxn3p5htnn</td>\n",
       "      <td>2010-06-28</td>\n",
       "      <td>2009-03-19 04:32:55</td>\n",
       "      <td>2015-06-29</td>\n",
       "      <td>-unknown-</td>\n",
       "      <td>49</td>\n",
       "      <td>facebook</td>\n",
       "      <td>0</td>\n",
       "      <td>en</td>\n",
       "      <td>direct</td>\n",
       "      <td>...</td>\n",
       "      <td>29</td>\n",
       "      <td>0</td>\n",
       "      <td>27</td>\n",
       "      <td>2010</td>\n",
       "      <td>6</td>\n",
       "      <td>28</td>\n",
       "      <td>0</td>\n",
       "      <td>26</td>\n",
       "      <td>0.0</td>\n",
       "      <td>0.0</td>\n",
       "    </tr>\n",
       "    <tr>\n",
       "      <th>1</th>\n",
       "      <td>820tgsjxq7</td>\n",
       "      <td>2011-05-25</td>\n",
       "      <td>2009-05-23 17:48:09</td>\n",
       "      <td>2015-06-29</td>\n",
       "      <td>MALE</td>\n",
       "      <td>38</td>\n",
       "      <td>facebook</td>\n",
       "      <td>0</td>\n",
       "      <td>en</td>\n",
       "      <td>seo</td>\n",
       "      <td>...</td>\n",
       "      <td>29</td>\n",
       "      <td>0</td>\n",
       "      <td>27</td>\n",
       "      <td>2011</td>\n",
       "      <td>5</td>\n",
       "      <td>25</td>\n",
       "      <td>2</td>\n",
       "      <td>21</td>\n",
       "      <td>0.0</td>\n",
       "      <td>0.0</td>\n",
       "    </tr>\n",
       "    <tr>\n",
       "      <th>2</th>\n",
       "      <td>4ft3gnwmtx</td>\n",
       "      <td>2010-09-28</td>\n",
       "      <td>2009-06-09 23:12:47</td>\n",
       "      <td>2010-08-02</td>\n",
       "      <td>FEMALE</td>\n",
       "      <td>56</td>\n",
       "      <td>basic</td>\n",
       "      <td>3</td>\n",
       "      <td>en</td>\n",
       "      <td>direct</td>\n",
       "      <td>...</td>\n",
       "      <td>2</td>\n",
       "      <td>0</td>\n",
       "      <td>31</td>\n",
       "      <td>2010</td>\n",
       "      <td>9</td>\n",
       "      <td>28</td>\n",
       "      <td>1</td>\n",
       "      <td>39</td>\n",
       "      <td>0.0</td>\n",
       "      <td>0.0</td>\n",
       "    </tr>\n",
       "    <tr>\n",
       "      <th>3</th>\n",
       "      <td>bjjt8pjhuk</td>\n",
       "      <td>2011-12-05</td>\n",
       "      <td>2009-10-31 06:01:29</td>\n",
       "      <td>2012-09-08</td>\n",
       "      <td>FEMALE</td>\n",
       "      <td>42</td>\n",
       "      <td>facebook</td>\n",
       "      <td>0</td>\n",
       "      <td>en</td>\n",
       "      <td>direct</td>\n",
       "      <td>...</td>\n",
       "      <td>8</td>\n",
       "      <td>5</td>\n",
       "      <td>36</td>\n",
       "      <td>2011</td>\n",
       "      <td>12</td>\n",
       "      <td>5</td>\n",
       "      <td>0</td>\n",
       "      <td>49</td>\n",
       "      <td>0.0</td>\n",
       "      <td>0.0</td>\n",
       "    </tr>\n",
       "    <tr>\n",
       "      <th>4</th>\n",
       "      <td>87mebub9p4</td>\n",
       "      <td>2010-09-14</td>\n",
       "      <td>2009-12-08 06:11:05</td>\n",
       "      <td>2010-02-18</td>\n",
       "      <td>-unknown-</td>\n",
       "      <td>41</td>\n",
       "      <td>basic</td>\n",
       "      <td>0</td>\n",
       "      <td>en</td>\n",
       "      <td>direct</td>\n",
       "      <td>...</td>\n",
       "      <td>18</td>\n",
       "      <td>3</td>\n",
       "      <td>7</td>\n",
       "      <td>2010</td>\n",
       "      <td>9</td>\n",
       "      <td>14</td>\n",
       "      <td>1</td>\n",
       "      <td>37</td>\n",
       "      <td>0.0</td>\n",
       "      <td>0.0</td>\n",
       "    </tr>\n",
       "  </tbody>\n",
       "</table>\n",
       "<p>5 rows × 37 columns</p>\n",
       "</div>"
      ],
      "text/plain": [
       "           id date_account_created timestamp_first_active date_first_booking  \\\n",
       "0  gxn3p5htnn           2010-06-28    2009-03-19 04:32:55         2015-06-29   \n",
       "1  820tgsjxq7           2011-05-25    2009-05-23 17:48:09         2015-06-29   \n",
       "2  4ft3gnwmtx           2010-09-28    2009-06-09 23:12:47         2010-08-02   \n",
       "3  bjjt8pjhuk           2011-12-05    2009-10-31 06:01:29         2012-09-08   \n",
       "4  87mebub9p4           2010-09-14    2009-12-08 06:11:05         2010-02-18   \n",
       "\n",
       "      gender  age signup_method  signup_flow language affiliate_channel  ...  \\\n",
       "0  -unknown-   49      facebook            0       en            direct  ...   \n",
       "1       MALE   38      facebook            0       en               seo  ...   \n",
       "2     FEMALE   56         basic            3       en            direct  ...   \n",
       "3     FEMALE   42      facebook            0       en            direct  ...   \n",
       "4  -unknown-   41         basic            0       en            direct  ...   \n",
       "\n",
       "  day_first_booking day_of_week_first_booking week_of_year_first_booking  \\\n",
       "0                29                         0                         27   \n",
       "1                29                         0                         27   \n",
       "2                 2                         0                         31   \n",
       "3                 8                         5                         36   \n",
       "4                18                         3                          7   \n",
       "\n",
       "  year_account_created month_account_created day_account_created  \\\n",
       "0                 2010                     6                  28   \n",
       "1                 2011                     5                  25   \n",
       "2                 2010                     9                  28   \n",
       "3                 2011                    12                   5   \n",
       "4                 2010                     9                  14   \n",
       "\n",
       "  day_of_week_account_created  week_of_year_account_created  n_clicks  \\\n",
       "0                           0                            26       0.0   \n",
       "1                           2                            21       0.0   \n",
       "2                           1                            39       0.0   \n",
       "3                           0                            49       0.0   \n",
       "4                           1                            37       0.0   \n",
       "\n",
       "   n_reviews  \n",
       "0        0.0  \n",
       "1        0.0  \n",
       "2        0.0  \n",
       "3        0.0  \n",
       "4        0.0  \n",
       "\n",
       "[5 rows x 37 columns]"
      ]
     },
     "execution_count": 19,
     "metadata": {},
     "output_type": "execute_result"
    }
   ],
   "source": [
    "df3.head()"
   ]
  },
  {
   "cell_type": "code",
   "execution_count": 13,
   "id": "5bed03e0",
   "metadata": {
    "ExecuteTime": {
     "end_time": "2023-06-10T16:57:07.612815Z",
     "start_time": "2023-06-10T16:57:07.565019Z"
    }
   },
   "outputs": [
    {
     "name": "stdout",
     "output_type": "stream",
     "text": [
      "213451 before filter\n",
      "211015 after filter\n"
     ]
    }
   ],
   "source": [
    "#age greater thaan 15 and lower than 100 - few people\n",
    "print(len(df3), 'before filter')\n",
    "df3 = df3[(df3['age']>15) & (df3['age']<100)]\n",
    "print(len(df3), 'after filter')"
   ]
  },
  {
   "cell_type": "markdown",
   "id": "a21d9b82",
   "metadata": {},
   "source": [
    "## 3.2. Columns Selections"
   ]
  },
  {
   "cell_type": "markdown",
   "id": "7538f134",
   "metadata": {},
   "source": [
    "# 4.0. Data Preparation"
   ]
  },
  {
   "cell_type": "code",
   "execution_count": 14,
   "id": "6ab6bded",
   "metadata": {
    "ExecuteTime": {
     "end_time": "2023-06-10T16:57:16.530293Z",
     "start_time": "2023-06-10T16:57:16.490401Z"
    }
   },
   "outputs": [],
   "source": [
    "df4 = df3.copy()"
   ]
  },
  {
   "cell_type": "markdown",
   "id": "b87d4983",
   "metadata": {},
   "source": [
    "### 4.1. Encoding"
   ]
  },
  {
   "cell_type": "code",
   "execution_count": 15,
   "id": "4b5ce288",
   "metadata": {
    "ExecuteTime": {
     "end_time": "2023-06-10T16:57:17.324384Z",
     "start_time": "2023-06-10T16:57:17.158332Z"
    }
   },
   "outputs": [],
   "source": [
    "#dummy variable - signup_method\n",
    "dummy = pd.get_dummies(df4['signup_method'])\n",
    "df4 = pd.concat([df4, dummy], axis=1)\n",
    "\n",
    "# language to binary, either is english or not\n",
    "df4['language_en'] = np.where(df4['language']=='en', 1, 0)\n",
    "\n",
    "# signup to binary, either is web or not\n",
    "df4['signup_on_web'] = np.where(df4['signup_app']== 'Web', 1, 0)\n",
    "\n",
    "# first_affiliate_tracked to binary, either is tracked or not\n",
    "df4['tracked'] = np.where(df4['first_affiliate_tracked']=='untracked', 0, 1)\n",
    "\n",
    "#binary features from first_device_type\n",
    "df4['first_device_apple'] = np.where(df4['first_device_type'].isin(['Mac Desktop', 'iPhone', 'iPad']), 1 ,0)\n",
    "df4['first_device_desktop'] = np.where(df4['first_device_type'].isin(['Mac Desktop', 'Desktop', 'Windows Desktop']), 1, 0)\n",
    "\n",
    "# frequency encoding\n",
    "affiliate_channel_frequency_encoding = df4['affiliate_channel'].value_counts(normalize=True)\n",
    "df4['affiliate_channel'] = df4['affiliate_channel'].map(affiliate_channel_frequency_encoding)\n",
    "\n",
    "affiliate_provider_frequency_encoding = df4['affiliate_provider'].value_counts(normalize=True)\n",
    "df4['affiliate_provider'] = df4['affiliate_provider'].map(affiliate_provider_frequency_encoding)\n",
    "\n",
    "first_browser_frequency_encoding = df4['first_browser'].value_counts(normalize=True)\n",
    "df4['first_browser'] = df4['first_browser'].map(first_browser_frequency_encoding)"
   ]
  },
  {
   "cell_type": "markdown",
   "id": "d8555192",
   "metadata": {},
   "source": [
    "### 4.2. Rescaling"
   ]
  },
  {
   "cell_type": "code",
   "execution_count": 16,
   "id": "95d287d1",
   "metadata": {
    "ExecuteTime": {
     "end_time": "2023-06-10T16:57:18.461174Z",
     "start_time": "2023-06-10T16:57:18.381527Z"
    }
   },
   "outputs": [],
   "source": [
    "from sklearn.preprocessing import MinMaxScaler\n",
    "\n",
    "# Selecionar as colunas a serem redimensionadas\n",
    "columns_to_rescale = [\n",
    "\"age\",\n",
    "\"signup_flow\",\n",
    "\"n_reviews\",\n",
    "\"n_clicks\"\n",
    "]\n",
    "\n",
    "# Criar uma instância do MinMaxScaler\n",
    "scaler = MinMaxScaler()\n",
    "\n",
    "# Redimensionar as colunas selecionadas\n",
    "df4[columns_to_rescale] = scaler.fit_transform(df4[columns_to_rescale])\n"
   ]
  },
  {
   "cell_type": "code",
   "execution_count": 17,
   "id": "09baea9a",
   "metadata": {
    "ExecuteTime": {
     "end_time": "2023-06-10T16:57:21.327022Z",
     "start_time": "2023-06-10T16:57:18.790039Z"
    }
   },
   "outputs": [],
   "source": [
    "# temporal columns \n",
    "temporal_columns = [\"days_from_active_to_booking\",\n",
    "\"days_from_account_created_to_booking\",\n",
    "\"days_from_active_to_account_created\",\n",
    "\"year_first_active\",\n",
    "\"month_first_active\",\n",
    "\"day_first_active\",\n",
    "\"day_of_week_first_active\",\n",
    "\"week_of_year_first_active\",\n",
    "\"year_first_booking\",\n",
    "\"month_first_booking\",\n",
    "\"day_first_booking\",\n",
    "\"day_of_week_first_booking\",\n",
    "\"week_of_year_first_booking\",\n",
    "\"year_account_created\",\n",
    "\"month_account_created\",\n",
    "\"day_account_created\",\n",
    "\"day_of_week_account_created\",\n",
    "\"week_of_year_account_created\"]\n",
    "\n",
    " # month_account_created\n",
    "df4['month_account_created_sin'] = df4['month_account_created'].apply( lambda x: np.sin( x * (2*np.pi/12 ) ) )\n",
    "df4['month_account_created_cos'] = df4['month_account_created'].apply( lambda x: np.cos( x * (2*np.pi/12 ) ) )\n",
    "\n",
    "# week_account_created\n",
    "df4['week_account_created_sin'] = df4['week_of_year_account_created'].apply( lambda x: np.sin( x * (2*np.pi/52 ) ) )\n",
    "df4['week_account_created_cos'] = df4['week_of_year_account_created'].apply( lambda x: np.cos( x * (2*np.pi/52 ) ) )\n",
    "\n",
    "# day_account_created\n",
    "df4['day_account_created_sin'] = df4['day_account_created'].apply( lambda x: np.sin( x * (2*np.pi/30 ) ) )\n",
    "df4['day_account_created_cos'] = df4['day_account_created'].apply( lambda x: np.cos( x * (2*np.pi/30 ) ) )\n",
    "\n",
    "# day_of_week_account_created\n",
    "df4['day_of_week_account_created_sin'] = df4['day_of_week_account_created'].apply( lambda x: np.sin( x * (2*np.pi/7 ) ) )\n",
    "df4['day_of_week_account_created_cos'] = df4['day_of_week_account_created'].apply( lambda x: np.cos( x * (2*np.pi/7 ) ) )\n",
    "\n",
    "# month_first_booking\n",
    "df4['month_first_booking_sin'] = df4['month_first_booking'].apply( lambda x: np.sin( x * (2*np.pi/12 ) ) )\n",
    "df4['month_first_booking_cos'] = df4['month_first_booking'].apply( lambda x: np.cos( x * (2*np.pi/12 ) ) )\n",
    "\n",
    "# day_first_booking\n",
    "df4['day_first_booking_sin'] = df4['day_first_booking'].apply( lambda x: np.sin( x * (2*np.pi/30 ) ) )\n",
    "df4['day_first_booking_cos'] = df4['day_first_booking'].apply( lambda x: np.cos( x * (2*np.pi/30 ) ) )\n",
    "\n",
    "# day_of_week_first_booking\n",
    "df4['day_of_week_first_booking_sin'] = df4['day_of_week_first_booking'].apply( lambda x: np.sin( x * (2*np.pi/7 ) ) )\n",
    "df4['day_of_week_first_booking_cos'] = df4['day_of_week_first_booking'].apply( lambda x: np.cos( x * (2*np.pi/7 ) ) )"
   ]
  },
  {
   "cell_type": "code",
   "execution_count": 18,
   "id": "98be3451",
   "metadata": {
    "ExecuteTime": {
     "end_time": "2023-06-10T16:57:21.373842Z",
     "start_time": "2023-06-10T16:57:21.329366Z"
    }
   },
   "outputs": [],
   "source": [
    "df4.drop(temporal_columns, axis=1, inplace=True)"
   ]
  },
  {
   "cell_type": "markdown",
   "id": "2149740e",
   "metadata": {},
   "source": [
    "# 5.0. Feature Selections"
   ]
  },
  {
   "cell_type": "code",
   "execution_count": 19,
   "id": "1f0d60e8",
   "metadata": {
    "ExecuteTime": {
     "end_time": "2023-06-10T16:57:23.139727Z",
     "start_time": "2023-06-10T16:57:23.105612Z"
    }
   },
   "outputs": [
    {
     "data": {
      "text/plain": [
       "Index(['id', 'gender', 'signup_method', 'language', 'first_affiliate_tracked',\n",
       "       'signup_app', 'first_device_type', 'country_destination'],\n",
       "      dtype='object')"
      ]
     },
     "execution_count": 19,
     "metadata": {},
     "output_type": "execute_result"
    }
   ],
   "source": [
    "df4.select_dtypes('object').columns"
   ]
  },
  {
   "cell_type": "code",
   "execution_count": 20,
   "id": "3ac644e4",
   "metadata": {
    "ExecuteTime": {
     "end_time": "2023-06-10T16:57:26.678609Z",
     "start_time": "2023-06-10T16:57:26.646596Z"
    }
   },
   "outputs": [],
   "source": [
    "cols_drop = ['gender', 'gender', 'signup_method', 'language', 'first_affiliate_tracked',\n",
    "       'signup_app', 'first_device_type','date_account_created', 'timestamp_first_active',\n",
    "             'date_first_booking', 'first_active'] #original dates\n",
    "df5 = df4.drop(cols_drop, axis=1)"
   ]
  },
  {
   "cell_type": "code",
   "execution_count": 85,
   "id": "9c05c8d6",
   "metadata": {
    "ExecuteTime": {
     "end_time": "2023-06-09T23:25:40.281750Z",
     "start_time": "2023-06-09T23:25:40.257355Z"
    }
   },
   "outputs": [],
   "source": [
    "# cols_drop = [\n",
    "# \"month_first_active\",\n",
    "# \"day_first_active\",\n",
    "# \"day_of_week_first_active\",\n",
    "# \"week_of_year_first_active\",\n",
    "# \"month_first_booking\",\n",
    "# \"day_first_booking\",\n",
    "# \"day_of_week_first_booking\",\n",
    "# \"week_of_year_first_booking\",\n",
    "# \"month_account_created\",\n",
    "# \"day_account_created\",\n",
    "# \"day_of_week_account_created\",\n",
    "# \"week_of_year_account_created\"] #original dates\n",
    "# df5 = df5.drop(cols_drop, axis=1)"
   ]
  },
  {
   "cell_type": "code",
   "execution_count": 86,
   "id": "12ecdfe5",
   "metadata": {
    "ExecuteTime": {
     "end_time": "2023-06-09T23:25:41.025404Z",
     "start_time": "2023-06-09T23:25:40.985014Z"
    }
   },
   "outputs": [
    {
     "data": {
      "text/html": [
       "<div>\n",
       "<style scoped>\n",
       "    .dataframe tbody tr th:only-of-type {\n",
       "        vertical-align: middle;\n",
       "    }\n",
       "\n",
       "    .dataframe tbody tr th {\n",
       "        vertical-align: top;\n",
       "    }\n",
       "\n",
       "    .dataframe thead th {\n",
       "        text-align: right;\n",
       "    }\n",
       "</style>\n",
       "<table border=\"1\" class=\"dataframe\">\n",
       "  <thead>\n",
       "    <tr style=\"text-align: right;\">\n",
       "      <th></th>\n",
       "      <th>id</th>\n",
       "      <th>age</th>\n",
       "      <th>signup_flow</th>\n",
       "      <th>affiliate_channel</th>\n",
       "      <th>affiliate_provider</th>\n",
       "      <th>first_browser</th>\n",
       "      <th>country_destination</th>\n",
       "      <th>n_clicks</th>\n",
       "      <th>n_reviews</th>\n",
       "      <th>basic</th>\n",
       "      <th>...</th>\n",
       "      <th>day_account_created_sin</th>\n",
       "      <th>day_account_created_cos</th>\n",
       "      <th>day_of_week_account_created_sin</th>\n",
       "      <th>day_of_week_account_created_cos</th>\n",
       "      <th>month_first_booking_sin</th>\n",
       "      <th>month_first_booking_cos</th>\n",
       "      <th>day_first_booking_sin</th>\n",
       "      <th>day_first_booking_cos</th>\n",
       "      <th>day_of_week_first_booking_sin</th>\n",
       "      <th>day_of_week_first_booking_cos</th>\n",
       "    </tr>\n",
       "  </thead>\n",
       "  <tbody>\n",
       "    <tr>\n",
       "      <th>0</th>\n",
       "      <td>gxn3p5htnn</td>\n",
       "      <td>0.397590</td>\n",
       "      <td>0.00</td>\n",
       "      <td>0.645381</td>\n",
       "      <td>0.643978</td>\n",
       "      <td>0.299197</td>\n",
       "      <td>NDF</td>\n",
       "      <td>0.0</td>\n",
       "      <td>0.0</td>\n",
       "      <td>0</td>\n",
       "      <td>...</td>\n",
       "      <td>0.187381</td>\n",
       "      <td>0.982287</td>\n",
       "      <td>0.000000</td>\n",
       "      <td>1.000000</td>\n",
       "      <td>0.235759</td>\n",
       "      <td>0.971812</td>\n",
       "      <td>0.194234</td>\n",
       "      <td>0.980955</td>\n",
       "      <td>0.000000</td>\n",
       "      <td>1.000000</td>\n",
       "    </tr>\n",
       "    <tr>\n",
       "      <th>1</th>\n",
       "      <td>820tgsjxq7</td>\n",
       "      <td>0.265060</td>\n",
       "      <td>0.00</td>\n",
       "      <td>0.040556</td>\n",
       "      <td>0.241926</td>\n",
       "      <td>0.299197</td>\n",
       "      <td>NDF</td>\n",
       "      <td>0.0</td>\n",
       "      <td>0.0</td>\n",
       "      <td>0</td>\n",
       "      <td>...</td>\n",
       "      <td>0.166769</td>\n",
       "      <td>0.985996</td>\n",
       "      <td>0.294755</td>\n",
       "      <td>0.955573</td>\n",
       "      <td>0.235759</td>\n",
       "      <td>0.971812</td>\n",
       "      <td>0.194234</td>\n",
       "      <td>0.980955</td>\n",
       "      <td>0.000000</td>\n",
       "      <td>1.000000</td>\n",
       "    </tr>\n",
       "    <tr>\n",
       "      <th>2</th>\n",
       "      <td>4ft3gnwmtx</td>\n",
       "      <td>0.481928</td>\n",
       "      <td>0.12</td>\n",
       "      <td>0.645381</td>\n",
       "      <td>0.643978</td>\n",
       "      <td>0.098491</td>\n",
       "      <td>US</td>\n",
       "      <td>0.0</td>\n",
       "      <td>0.0</td>\n",
       "      <td>1</td>\n",
       "      <td>...</td>\n",
       "      <td>0.187381</td>\n",
       "      <td>0.982287</td>\n",
       "      <td>0.149042</td>\n",
       "      <td>0.988831</td>\n",
       "      <td>0.327068</td>\n",
       "      <td>0.945001</td>\n",
       "      <td>0.006981</td>\n",
       "      <td>0.999976</td>\n",
       "      <td>0.000000</td>\n",
       "      <td>1.000000</td>\n",
       "    </tr>\n",
       "    <tr>\n",
       "      <th>3</th>\n",
       "      <td>bjjt8pjhuk</td>\n",
       "      <td>0.313253</td>\n",
       "      <td>0.00</td>\n",
       "      <td>0.645381</td>\n",
       "      <td>0.643978</td>\n",
       "      <td>0.157505</td>\n",
       "      <td>other</td>\n",
       "      <td>0.0</td>\n",
       "      <td>0.0</td>\n",
       "      <td>0</td>\n",
       "      <td>...</td>\n",
       "      <td>0.027922</td>\n",
       "      <td>0.999610</td>\n",
       "      <td>0.000000</td>\n",
       "      <td>1.000000</td>\n",
       "      <td>0.371662</td>\n",
       "      <td>0.928368</td>\n",
       "      <td>0.048850</td>\n",
       "      <td>0.998806</td>\n",
       "      <td>0.680173</td>\n",
       "      <td>0.733052</td>\n",
       "    </tr>\n",
       "    <tr>\n",
       "      <th>4</th>\n",
       "      <td>87mebub9p4</td>\n",
       "      <td>0.301205</td>\n",
       "      <td>0.00</td>\n",
       "      <td>0.645381</td>\n",
       "      <td>0.643978</td>\n",
       "      <td>0.299197</td>\n",
       "      <td>US</td>\n",
       "      <td>0.0</td>\n",
       "      <td>0.0</td>\n",
       "      <td>1</td>\n",
       "      <td>...</td>\n",
       "      <td>0.090633</td>\n",
       "      <td>0.995884</td>\n",
       "      <td>0.149042</td>\n",
       "      <td>0.988831</td>\n",
       "      <td>0.047582</td>\n",
       "      <td>0.998867</td>\n",
       "      <td>0.118404</td>\n",
       "      <td>0.992966</td>\n",
       "      <td>0.433884</td>\n",
       "      <td>0.900969</td>\n",
       "    </tr>\n",
       "  </tbody>\n",
       "</table>\n",
       "<p>5 rows × 31 columns</p>\n",
       "</div>"
      ],
      "text/plain": [
       "           id       age  signup_flow  affiliate_channel  affiliate_provider  \\\n",
       "0  gxn3p5htnn  0.397590         0.00           0.645381            0.643978   \n",
       "1  820tgsjxq7  0.265060         0.00           0.040556            0.241926   \n",
       "2  4ft3gnwmtx  0.481928         0.12           0.645381            0.643978   \n",
       "3  bjjt8pjhuk  0.313253         0.00           0.645381            0.643978   \n",
       "4  87mebub9p4  0.301205         0.00           0.645381            0.643978   \n",
       "\n",
       "   first_browser country_destination  n_clicks  n_reviews  basic  ...  \\\n",
       "0       0.299197                 NDF       0.0        0.0      0  ...   \n",
       "1       0.299197                 NDF       0.0        0.0      0  ...   \n",
       "2       0.098491                  US       0.0        0.0      1  ...   \n",
       "3       0.157505               other       0.0        0.0      0  ...   \n",
       "4       0.299197                  US       0.0        0.0      1  ...   \n",
       "\n",
       "   day_account_created_sin  day_account_created_cos  \\\n",
       "0                 0.187381                 0.982287   \n",
       "1                 0.166769                 0.985996   \n",
       "2                 0.187381                 0.982287   \n",
       "3                 0.027922                 0.999610   \n",
       "4                 0.090633                 0.995884   \n",
       "\n",
       "   day_of_week_account_created_sin  day_of_week_account_created_cos  \\\n",
       "0                         0.000000                         1.000000   \n",
       "1                         0.294755                         0.955573   \n",
       "2                         0.149042                         0.988831   \n",
       "3                         0.000000                         1.000000   \n",
       "4                         0.149042                         0.988831   \n",
       "\n",
       "   month_first_booking_sin  month_first_booking_cos  day_first_booking_sin  \\\n",
       "0                 0.235759                 0.971812               0.194234   \n",
       "1                 0.235759                 0.971812               0.194234   \n",
       "2                 0.327068                 0.945001               0.006981   \n",
       "3                 0.371662                 0.928368               0.048850   \n",
       "4                 0.047582                 0.998867               0.118404   \n",
       "\n",
       "   day_first_booking_cos  day_of_week_first_booking_sin  \\\n",
       "0               0.980955                       0.000000   \n",
       "1               0.980955                       0.000000   \n",
       "2               0.999976                       0.000000   \n",
       "3               0.998806                       0.680173   \n",
       "4               0.992966                       0.433884   \n",
       "\n",
       "   day_of_week_first_booking_cos  \n",
       "0                       1.000000  \n",
       "1                       1.000000  \n",
       "2                       1.000000  \n",
       "3                       0.733052  \n",
       "4                       0.900969  \n",
       "\n",
       "[5 rows x 31 columns]"
      ]
     },
     "execution_count": 86,
     "metadata": {},
     "output_type": "execute_result"
    }
   ],
   "source": [
    "df5.head()"
   ]
  },
  {
   "cell_type": "code",
   "execution_count": 21,
   "id": "66780279",
   "metadata": {
    "ExecuteTime": {
     "end_time": "2023-06-10T16:57:30.322500Z",
     "start_time": "2023-06-10T16:57:30.296353Z"
    }
   },
   "outputs": [],
   "source": [
    "X = df5.drop(['country_destination', 'id'], axis=1)\n",
    "y = df5['country_destination'].copy()"
   ]
  },
  {
   "cell_type": "code",
   "execution_count": 22,
   "id": "2d7266d2",
   "metadata": {
    "ExecuteTime": {
     "end_time": "2023-06-10T16:57:31.736752Z",
     "start_time": "2023-06-10T16:57:31.670836Z"
    }
   },
   "outputs": [],
   "source": [
    "X_train, X_test, y_train, y_test = ms.train_test_split(X,y,test_size=0.2, random_state=32)"
   ]
  },
  {
   "cell_type": "markdown",
   "id": "c291721c",
   "metadata": {},
   "source": [
    "# 6.0. Sampling"
   ]
  },
  {
   "cell_type": "code",
   "execution_count": 28,
   "id": "6f9e2eb1",
   "metadata": {
    "ExecuteTime": {
     "end_time": "2023-06-10T17:00:25.303161Z",
     "start_time": "2023-06-10T17:00:25.279776Z"
    }
   },
   "outputs": [],
   "source": [
    "majority_value = y.value_counts()[0]"
   ]
  },
  {
   "cell_type": "code",
   "execution_count": 29,
   "id": "4ac0a4f8",
   "metadata": {
    "ExecuteTime": {
     "end_time": "2023-06-10T17:00:25.753001Z",
     "start_time": "2023-06-10T17:00:25.742514Z"
    }
   },
   "outputs": [
    {
     "data": {
      "text/plain": [
       "123454"
      ]
     },
     "execution_count": 29,
     "metadata": {},
     "output_type": "execute_result"
    }
   ],
   "source": [
    "majority_value"
   ]
  },
  {
   "cell_type": "code",
   "execution_count": 38,
   "id": "05560c69",
   "metadata": {
    "ExecuteTime": {
     "end_time": "2023-06-10T17:03:03.996367Z",
     "start_time": "2023-06-10T17:02:58.787205Z"
    }
   },
   "outputs": [],
   "source": [
    "from imblearn.over_sampling import SMOTE\n",
    "from imblearn.combine import SMOTETomek\n",
    "\n",
    "# Calcular a frequência de cada classe\n",
    "class_counts = y.value_counts()\n",
    "\n",
    "\n",
    "# Calcular os pesos de classe inversamente proporcionais à frequência\n",
    "class_weights = {'NDF': majority_value*1,\n",
    "                 'US': int(majority_value*0.5),\n",
    "                 'other': int(majority_value*0.18),\n",
    "                 'FR': int(majority_value*0.15) ,\n",
    "                 'IT': int(majority_value*0.13),\n",
    "                 'GB': int(majority_value*0.13),\n",
    "                 'ES': int(majority_value*0.13),\n",
    "                 'CA': int(majority_value*0.13),\n",
    "                 'DE': int(majority_value*0.13),\n",
    "                 'NL': int(majority_value*0.09),\n",
    "                 'AU': int(majority_value*0.09),\n",
    "                 'PT': int(majority_value*0.09)\n",
    "                }\n",
    "\n",
    "# Instanciar o SMOTE com os pesos de classe definidos\n",
    "smote = SMOTE(sampling_strategy=class_weights)\n",
    "\n",
    "# Aplicar o resampling usando o SMOTE\n",
    "X_resampled, y_resampled = smote.fit_resample(X, y)\n"
   ]
  },
  {
   "cell_type": "code",
   "execution_count": 39,
   "id": "c127af8a",
   "metadata": {
    "ExecuteTime": {
     "end_time": "2023-06-10T17:03:05.682628Z",
     "start_time": "2023-06-10T17:03:05.653536Z"
    }
   },
   "outputs": [
    {
     "data": {
      "text/plain": [
       "NDF      123454\n",
       "US        61433\n",
       "other      9929\n",
       "FR         4961\n",
       "IT         2786\n",
       "GB         2287\n",
       "ES         2219\n",
       "CA         1406\n",
       "DE         1044\n",
       "NL          750\n",
       "AU          531\n",
       "PT          215\n",
       "Name: country_destination, dtype: int64"
      ]
     },
     "execution_count": 39,
     "metadata": {},
     "output_type": "execute_result"
    }
   ],
   "source": [
    "y.value_counts()"
   ]
  },
  {
   "cell_type": "code",
   "execution_count": 35,
   "id": "dbb030f4",
   "metadata": {
    "ExecuteTime": {
     "end_time": "2023-06-10T17:01:10.445873Z",
     "start_time": "2023-06-10T17:01:10.420955Z"
    }
   },
   "outputs": [
    {
     "data": {
      "text/plain": [
       "NDF      123454\n",
       "US        61727\n",
       "other     30863\n",
       "FR        20987\n",
       "GB        18518\n",
       "ES        18518\n",
       "IT        18518\n",
       "CA        14814\n",
       "DE        14814\n",
       "PT        12345\n",
       "NL        12345\n",
       "AU        12345\n",
       "Name: country_destination, dtype: int64"
      ]
     },
     "execution_count": 35,
     "metadata": {},
     "output_type": "execute_result"
    }
   ],
   "source": [
    "y_resampled.value_counts()"
   ]
  },
  {
   "cell_type": "markdown",
   "id": "8e1a3da5",
   "metadata": {},
   "source": [
    "## 6.0. Machine Learning Model"
   ]
  },
  {
   "cell_type": "code",
   "execution_count": 36,
   "id": "5b85904f",
   "metadata": {
    "ExecuteTime": {
     "end_time": "2023-06-09T23:00:13.252589Z",
     "start_time": "2023-06-09T23:00:13.222538Z"
    }
   },
   "outputs": [],
   "source": [
    "# wieghts to baseline Model\n",
    "weights = df1['country_destination'].value_counts(normalize=True).sort_index().tolist()"
   ]
  },
  {
   "cell_type": "markdown",
   "id": "25b71436",
   "metadata": {},
   "source": [
    "## 5.1. Baseline Model"
   ]
  },
  {
   "cell_type": "code",
   "execution_count": 100,
   "id": "520ba343",
   "metadata": {
    "ExecuteTime": {
     "end_time": "2023-06-09T23:27:22.983930Z",
     "start_time": "2023-06-09T23:27:22.937320Z"
    }
   },
   "outputs": [],
   "source": [
    "import random\n",
    "\n",
    "country_destination_list = df4['country_destination'].drop_duplicates().sort_values().tolist()\n",
    "k_num = y_test.shape[0]\n",
    "yhat_random = random.choices(population=country_destination_list, k=k_num, weights=weights)"
   ]
  },
  {
   "cell_type": "markdown",
   "id": "2e69ffba",
   "metadata": {},
   "source": [
    "## 5.2. Neural Network - MLP"
   ]
  },
  {
   "cell_type": "code",
   "execution_count": 40,
   "id": "6d4a1a57",
   "metadata": {
    "ExecuteTime": {
     "end_time": "2023-06-10T17:03:13.344964Z",
     "start_time": "2023-06-10T17:03:13.210044Z"
    }
   },
   "outputs": [],
   "source": [
    "#split dataset into training and test\n",
    "X_train, X_test, y_train, y_test = ms.train_test_split(X_resampled, y_resampled, test_size=0.2, random_state=32)"
   ]
  },
  {
   "cell_type": "code",
   "execution_count": 39,
   "id": "11425e3d",
   "metadata": {
    "ExecuteTime": {
     "end_time": "2023-06-09T23:00:20.373071Z",
     "start_time": "2023-06-09T23:00:20.325571Z"
    }
   },
   "outputs": [
    {
     "data": {
      "text/html": [
       "<div>\n",
       "<style scoped>\n",
       "    .dataframe tbody tr th:only-of-type {\n",
       "        vertical-align: middle;\n",
       "    }\n",
       "\n",
       "    .dataframe tbody tr th {\n",
       "        vertical-align: top;\n",
       "    }\n",
       "\n",
       "    .dataframe thead th {\n",
       "        text-align: right;\n",
       "    }\n",
       "</style>\n",
       "<table border=\"1\" class=\"dataframe\">\n",
       "  <thead>\n",
       "    <tr style=\"text-align: right;\">\n",
       "      <th></th>\n",
       "      <th>age</th>\n",
       "      <th>signup_flow</th>\n",
       "      <th>affiliate_channel</th>\n",
       "      <th>affiliate_provider</th>\n",
       "      <th>first_browser</th>\n",
       "      <th>days_from_active_to_booking</th>\n",
       "      <th>days_from_account_created_to_booking</th>\n",
       "      <th>days_from_active_to_account_created</th>\n",
       "      <th>year_first_active</th>\n",
       "      <th>year_first_booking</th>\n",
       "      <th>...</th>\n",
       "      <th>n_clicks</th>\n",
       "      <th>n_reviews</th>\n",
       "      <th>basic</th>\n",
       "      <th>facebook</th>\n",
       "      <th>google</th>\n",
       "      <th>language_en</th>\n",
       "      <th>signup_on_web</th>\n",
       "      <th>tracked</th>\n",
       "      <th>first_device_apple</th>\n",
       "      <th>first_device_desktop</th>\n",
       "    </tr>\n",
       "  </thead>\n",
       "  <tbody>\n",
       "    <tr>\n",
       "      <th>226360</th>\n",
       "      <td>0.133450</td>\n",
       "      <td>0.00</td>\n",
       "      <td>0.645381</td>\n",
       "      <td>0.643978</td>\n",
       "      <td>0.272140</td>\n",
       "      <td>0.003456</td>\n",
       "      <td>0.151882</td>\n",
       "      <td>0.0</td>\n",
       "      <td>0.8</td>\n",
       "      <td>0.6</td>\n",
       "      <td>...</td>\n",
       "      <td>0.000000</td>\n",
       "      <td>0.0</td>\n",
       "      <td>0</td>\n",
       "      <td>1</td>\n",
       "      <td>0</td>\n",
       "      <td>1</td>\n",
       "      <td>1</td>\n",
       "      <td>0</td>\n",
       "      <td>1</td>\n",
       "      <td>1</td>\n",
       "    </tr>\n",
       "    <tr>\n",
       "      <th>35108</th>\n",
       "      <td>0.397590</td>\n",
       "      <td>0.12</td>\n",
       "      <td>0.645381</td>\n",
       "      <td>0.643978</td>\n",
       "      <td>0.090382</td>\n",
       "      <td>0.000436</td>\n",
       "      <td>0.148936</td>\n",
       "      <td>0.0</td>\n",
       "      <td>0.6</td>\n",
       "      <td>0.4</td>\n",
       "      <td>...</td>\n",
       "      <td>0.000000</td>\n",
       "      <td>0.0</td>\n",
       "      <td>1</td>\n",
       "      <td>0</td>\n",
       "      <td>0</td>\n",
       "      <td>1</td>\n",
       "      <td>1</td>\n",
       "      <td>0</td>\n",
       "      <td>1</td>\n",
       "      <td>0</td>\n",
       "    </tr>\n",
       "    <tr>\n",
       "      <th>145462</th>\n",
       "      <td>0.108434</td>\n",
       "      <td>0.00</td>\n",
       "      <td>0.645381</td>\n",
       "      <td>0.643978</td>\n",
       "      <td>0.299197</td>\n",
       "      <td>0.000436</td>\n",
       "      <td>0.148936</td>\n",
       "      <td>0.0</td>\n",
       "      <td>1.0</td>\n",
       "      <td>0.8</td>\n",
       "      <td>...</td>\n",
       "      <td>0.002026</td>\n",
       "      <td>0.0</td>\n",
       "      <td>1</td>\n",
       "      <td>0</td>\n",
       "      <td>0</td>\n",
       "      <td>1</td>\n",
       "      <td>1</td>\n",
       "      <td>0</td>\n",
       "      <td>0</td>\n",
       "      <td>1</td>\n",
       "    </tr>\n",
       "    <tr>\n",
       "      <th>69654</th>\n",
       "      <td>0.144578</td>\n",
       "      <td>0.00</td>\n",
       "      <td>0.645381</td>\n",
       "      <td>0.643978</td>\n",
       "      <td>0.211246</td>\n",
       "      <td>0.352377</td>\n",
       "      <td>0.492340</td>\n",
       "      <td>0.0</td>\n",
       "      <td>0.8</td>\n",
       "      <td>1.0</td>\n",
       "      <td>...</td>\n",
       "      <td>0.000000</td>\n",
       "      <td>0.0</td>\n",
       "      <td>1</td>\n",
       "      <td>0</td>\n",
       "      <td>0</td>\n",
       "      <td>1</td>\n",
       "      <td>1</td>\n",
       "      <td>0</td>\n",
       "      <td>1</td>\n",
       "      <td>1</td>\n",
       "    </tr>\n",
       "    <tr>\n",
       "      <th>294839</th>\n",
       "      <td>0.291278</td>\n",
       "      <td>0.00</td>\n",
       "      <td>0.645381</td>\n",
       "      <td>0.643978</td>\n",
       "      <td>0.299197</td>\n",
       "      <td>0.000436</td>\n",
       "      <td>0.148936</td>\n",
       "      <td>0.0</td>\n",
       "      <td>0.8</td>\n",
       "      <td>0.6</td>\n",
       "      <td>...</td>\n",
       "      <td>0.000000</td>\n",
       "      <td>0.0</td>\n",
       "      <td>0</td>\n",
       "      <td>1</td>\n",
       "      <td>0</td>\n",
       "      <td>1</td>\n",
       "      <td>1</td>\n",
       "      <td>1</td>\n",
       "      <td>0</td>\n",
       "      <td>1</td>\n",
       "    </tr>\n",
       "  </tbody>\n",
       "</table>\n",
       "<p>5 rows × 21 columns</p>\n",
       "</div>"
      ],
      "text/plain": [
       "             age  signup_flow  affiliate_channel  affiliate_provider  \\\n",
       "226360  0.133450         0.00           0.645381            0.643978   \n",
       "35108   0.397590         0.12           0.645381            0.643978   \n",
       "145462  0.108434         0.00           0.645381            0.643978   \n",
       "69654   0.144578         0.00           0.645381            0.643978   \n",
       "294839  0.291278         0.00           0.645381            0.643978   \n",
       "\n",
       "        first_browser  days_from_active_to_booking  \\\n",
       "226360       0.272140                     0.003456   \n",
       "35108        0.090382                     0.000436   \n",
       "145462       0.299197                     0.000436   \n",
       "69654        0.211246                     0.352377   \n",
       "294839       0.299197                     0.000436   \n",
       "\n",
       "        days_from_account_created_to_booking  \\\n",
       "226360                              0.151882   \n",
       "35108                               0.148936   \n",
       "145462                              0.148936   \n",
       "69654                               0.492340   \n",
       "294839                              0.148936   \n",
       "\n",
       "        days_from_active_to_account_created  year_first_active  \\\n",
       "226360                                  0.0                0.8   \n",
       "35108                                   0.0                0.6   \n",
       "145462                                  0.0                1.0   \n",
       "69654                                   0.0                0.8   \n",
       "294839                                  0.0                0.8   \n",
       "\n",
       "        year_first_booking  ...  n_clicks  n_reviews  basic  facebook  google  \\\n",
       "226360                 0.6  ...  0.000000        0.0      0         1       0   \n",
       "35108                  0.4  ...  0.000000        0.0      1         0       0   \n",
       "145462                 0.8  ...  0.002026        0.0      1         0       0   \n",
       "69654                  1.0  ...  0.000000        0.0      1         0       0   \n",
       "294839                 0.6  ...  0.000000        0.0      0         1       0   \n",
       "\n",
       "        language_en  signup_on_web  tracked  first_device_apple  \\\n",
       "226360            1              1        0                   1   \n",
       "35108             1              1        0                   1   \n",
       "145462            1              1        0                   0   \n",
       "69654             1              1        0                   1   \n",
       "294839            1              1        1                   0   \n",
       "\n",
       "        first_device_desktop  \n",
       "226360                     1  \n",
       "35108                      0  \n",
       "145462                     1  \n",
       "69654                      1  \n",
       "294839                     1  \n",
       "\n",
       "[5 rows x 21 columns]"
      ]
     },
     "execution_count": 39,
     "metadata": {},
     "output_type": "execute_result"
    }
   ],
   "source": [
    "X_train.head()"
   ]
  },
  {
   "cell_type": "code",
   "execution_count": 40,
   "id": "622cddf7",
   "metadata": {
    "ExecuteTime": {
     "end_time": "2023-06-09T23:00:21.222793Z",
     "start_time": "2023-06-09T23:00:20.914559Z"
    }
   },
   "outputs": [],
   "source": [
    "ohe = pp.OneHotEncoder()\n",
    "y_train_nn = ohe.fit_transform(y_train.values.reshape(-1,1)).toarray()\n",
    "y_test_nn = ohe.fit_transform(y_test.values.reshape(-1,1)).toarray()"
   ]
  },
  {
   "cell_type": "code",
   "execution_count": 89,
   "id": "c0211ae1",
   "metadata": {
    "ExecuteTime": {
     "end_time": "2023-06-09T13:14:23.415851Z",
     "start_time": "2023-06-09T13:13:05.430651Z"
    }
   },
   "outputs": [
    {
     "name": "stdout",
     "output_type": "stream",
     "text": [
      "Epoch 1/50\n",
      "9784/9784 [==============================] - 22s 2ms/step - loss: 1.5472 - accuracy: 0.4690 - val_loss: 1.5005 - val_accuracy: 0.4782\n",
      "Epoch 2/50\n",
      "9784/9784 [==============================] - 24s 2ms/step - loss: 1.5040 - accuracy: 0.4744 - val_loss: 1.4723 - val_accuracy: 0.4818\n",
      "Epoch 3/50\n",
      "9784/9784 [==============================] - 20s 2ms/step - loss: 1.4811 - accuracy: 0.4787 - val_loss: 1.4533 - val_accuracy: 0.4864\n",
      "Epoch 4/50\n",
      "5679/9784 [================>.............] - ETA: 7s - loss: 1.4656 - accuracy: 0.4826"
     ]
    },
    {
     "name": "stderr",
     "output_type": "stream",
     "text": [
      "\n",
      "KeyboardInterrupt\n",
      "\n"
     ]
    }
   ],
   "source": [
    "#model definition\n",
    "from tensorflow.keras.callbacks import EarlyStopping\n",
    "from tensorflow.keras.models import load_model\n",
    "\n",
    "model_path = '../models/model_resampled_v3.h5'\n",
    "if os.path.exists(model_path):\n",
    "    model = load_model(model_path)\n",
    "    \n",
    "else:\n",
    "    # Definindo o Early Stopping\n",
    "    early_stopping = EarlyStopping(patience=5, monitor='val_loss', restore_best_weights=True)\n",
    "\n",
    "    model = ml.Sequential()\n",
    "    model.add(l.Dense(256, input_dim=X_train.shape[1] , activation='relu'))\n",
    "    model.add(l.Dropout(0.2))  # Adicionando camada de dropout com taxa de 20%\n",
    "    model.add(l.Dense(12, activation='softmax'))\n",
    "\n",
    "    #model compile\n",
    "    model.compile(loss='categorical_crossentropy', optimizer='adam', metrics=['accuracy'])\n",
    "\n",
    "    #train model\n",
    "    model.fit(X_train, y_train_nn, epochs=50, validation_data=(X_test, y_test_nn), callbacks=[early_stopping])\n",
    "\n",
    "    model.save('../models/model_resampled_v3.h5')"
   ]
  },
  {
   "cell_type": "markdown",
   "id": "7f972353",
   "metadata": {},
   "source": [
    "### 5.3 Other Models"
   ]
  },
  {
   "cell_type": "code",
   "execution_count": 24,
   "id": "5e18d978",
   "metadata": {
    "ExecuteTime": {
     "end_time": "2023-06-10T16:58:25.666828Z",
     "start_time": "2023-06-10T16:58:25.653792Z"
    }
   },
   "outputs": [],
   "source": [
    "from lightgbm import LGBMClassifier"
   ]
  },
  {
   "cell_type": "code",
   "execution_count": 25,
   "id": "10228b48",
   "metadata": {
    "ExecuteTime": {
     "end_time": "2023-06-10T16:58:25.853437Z",
     "start_time": "2023-06-10T16:58:25.840437Z"
    }
   },
   "outputs": [],
   "source": [
    "from sklearn.preprocessing import LabelEncoder\n",
    "\n",
    "def evaluate_model(model, X_train, X_test, y_train, y_test):\n",
    "    # Converter classes categóricas para valores numéricos\n",
    "    label_encoder = LabelEncoder()\n",
    "    y_train_encoded = label_encoder.fit_transform(y_train)\n",
    "    y_test_encoded = label_encoder.transform(y_test)\n",
    "    \n",
    "    model.fit(X_train, y_train_encoded)\n",
    "    yhat_encoded = model.predict(X_test)\n",
    "    \n",
    "    # Converter previsões numéricas de volta para a forma original\n",
    "    yhat = label_encoder.inverse_transform(yhat_encoded)\n",
    "    \n",
    "    # Accuracy\n",
    "    acc_random = metrics.accuracy_score(y_test, yhat)\n",
    "    print(f'Accuracy score: {acc_random:.3f}')\n",
    "    \n",
    "    # Balanced accuracy\n",
    "    balanced_acc_random = metrics.balanced_accuracy_score(y_test, yhat)\n",
    "    print(f'Balanced accuracy score: {balanced_acc_random:.3f}')\n",
    "    \n",
    "    mt.plot_confusion_matrix(y_test, yhat, normalize=False, figsize=(10, 10), labels=label_encoder.classes_);\n"
   ]
  },
  {
   "cell_type": "code",
   "execution_count": 71,
   "id": "35759646",
   "metadata": {
    "ExecuteTime": {
     "end_time": "2023-06-09T23:13:00.630393Z",
     "start_time": "2023-06-09T23:13:00.590436Z"
    }
   },
   "outputs": [
    {
     "data": {
      "text/plain": [
       "array(['CA', 'NDF', 'AU', 'other', 'PT', 'FR', 'GB', 'ES', 'DE', 'US',\n",
       "       'NL', 'IT'], dtype=object)"
      ]
     },
     "execution_count": 71,
     "metadata": {},
     "output_type": "execute_result"
    }
   ],
   "source": [
    "y_test.unique()"
   ]
  },
  {
   "cell_type": "markdown",
   "id": "439903e7",
   "metadata": {},
   "source": [
    "# 6.0. Performance"
   ]
  },
  {
   "cell_type": "markdown",
   "id": "6564ed24",
   "metadata": {},
   "source": [
    "## 6.1. Baseline Performance"
   ]
  },
  {
   "cell_type": "code",
   "execution_count": 51,
   "id": "ffc09e0c",
   "metadata": {
    "ExecuteTime": {
     "end_time": "2023-06-09T12:13:14.697635Z",
     "start_time": "2023-06-09T12:13:10.979985Z"
    }
   },
   "outputs": [
    {
     "name": "stdout",
     "output_type": "stream",
     "text": [
      "Accuracy score: 0.212\n",
      "Balanced accuracy score: 0.083\n",
      "Kappa score: -0.001\n"
     ]
    },
    {
     "data": {
      "image/png": "[encoded data removed]",
      "text/plain": [
       "<Figure size 1200x1200 with 2 Axes>"
      ]
     },
     "metadata": {},
     "output_type": "display_data"
    }
   ],
   "source": [
    "#Accuracy\n",
    "acc_random = metrics.accuracy_score(y_test, yhat_random)\n",
    "print(f'Accuracy score: {acc_random:.3f}')\n",
    "\n",
    "#Balanced accurace\n",
    "balanced_acc_random = metrics.balanced_accuracy_score(y_test, yhat_random)\n",
    "print(f'Balanced accuracy score: {balanced_acc_random:.3f}')\n",
    "\n",
    "#Kappa\n",
    "kappa_random = metrics.cohen_kappa_score(y_test, yhat_random)\n",
    "print(f'Kappa score: {kappa_random:.3f}')\n",
    "\n",
    "#Confusion Matrix\n",
    "mt.plot_confusion_matrix(y_test, yhat_random, normalize=False, figsize=(12,12));"
   ]
  },
  {
   "cell_type": "markdown",
   "id": "354bd36c",
   "metadata": {},
   "source": [
    "## 6.2. NN Performance"
   ]
  },
  {
   "cell_type": "code",
   "execution_count": 77,
   "id": "15251adf",
   "metadata": {
    "ExecuteTime": {
     "end_time": "2023-06-09T13:08:50.409667Z",
     "start_time": "2023-06-09T13:08:47.077308Z"
    }
   },
   "outputs": [
    {
     "name": "stdout",
     "output_type": "stream",
     "text": [
      "2778/2778 [==============================] - 3s 905us/step\n"
     ]
    }
   ],
   "source": [
    "#prediction\n",
    "pred_nn = model.predict(X_test)\n",
    "\n",
    "#invert prediction\n",
    "yhat_nn = ohe.inverse_transform(pred_nn)\n",
    "\n",
    "#prediction prepare\n",
    "y_test_nn = y_test.to_numpy()\n",
    "yhat_nn = yhat_nn.reshape(1,-1)[0]"
   ]
  },
  {
   "cell_type": "code",
   "execution_count": 78,
   "id": "499d5e7a",
   "metadata": {
    "ExecuteTime": {
     "end_time": "2023-06-09T13:08:51.171489Z",
     "start_time": "2023-06-09T13:08:51.163481Z"
    }
   },
   "outputs": [
    {
     "data": {
      "text/plain": [
       "array(['NDF', 'NDF', 'NDF', ..., 'NDF', 'NDF', 'DE'], dtype=object)"
      ]
     },
     "execution_count": 78,
     "metadata": {},
     "output_type": "execute_result"
    }
   ],
   "source": [
    "yhat_nn"
   ]
  },
  {
   "cell_type": "code",
   "execution_count": 79,
   "id": "978d3f4c",
   "metadata": {
    "ExecuteTime": {
     "end_time": "2023-06-09T13:08:56.216827Z",
     "start_time": "2023-06-09T13:08:54.079652Z"
    }
   },
   "outputs": [
    {
     "name": "stdout",
     "output_type": "stream",
     "text": [
      "Accuracy score: 0.5028575928717683\n",
      "Balanced accuracy score: 0.34625168780964105\n",
      "Kappa score: 0.4174971065064973\n"
     ]
    },
    {
     "data": {
      "image/png": "[encoded data removed]",
      "text/plain": [
       "<Figure size 1200x1200 with 2 Axes>"
      ]
     },
     "metadata": {},
     "output_type": "display_data"
    }
   ],
   "source": [
    "#Accuracy\n",
    "acc_nn = metrics.accuracy_score(y_test_nn, yhat_nn)\n",
    "print(f'Accuracy score: {acc_nn}')\n",
    "\n",
    "\n",
    "#Balanced accurace\n",
    "balanced_acc_nn = metrics.balanced_accuracy_score(y_test_nn, yhat_nn)\n",
    "print(f'Balanced accuracy score: {balanced_acc_nn}')\n",
    "\n",
    "#Kappa\n",
    "kappa_nn = metrics.cohen_kappa_score(y_test_nn, yhat_nn)\n",
    "print(f'Kappa score: {kappa_nn}')\n",
    "\n",
    "#Confusion Matrix\n",
    "mt.plot_confusion_matrix(y_test_nn, yhat_nn, normalize=False, figsize=(12,12));\n",
    "\n"
   ]
  },
  {
   "cell_type": "code",
   "execution_count": 55,
   "id": "961d16c7",
   "metadata": {
    "ExecuteTime": {
     "end_time": "2023-06-09T10:37:23.186553Z",
     "start_time": "2023-06-09T10:37:23.173429Z"
    }
   },
   "outputs": [
    {
     "data": {
      "text/plain": [
       "NDF    24720\n",
       "US     17483\n",
       "dtype: int64"
      ]
     },
     "execution_count": 55,
     "metadata": {},
     "output_type": "execute_result"
    }
   ],
   "source": [
    "pd.Series(yhat_nn).value_counts()"
   ]
  },
  {
   "cell_type": "markdown",
   "id": "6ce67862",
   "metadata": {},
   "source": [
    "### 6.3. LGBM"
   ]
  },
  {
   "cell_type": "code",
   "execution_count": 102,
   "id": "971032f7",
   "metadata": {
    "ExecuteTime": {
     "end_time": "2023-06-09T23:28:02.893483Z",
     "start_time": "2023-06-09T23:27:31.157401Z"
    }
   },
   "outputs": [
    {
     "name": "stdout",
     "output_type": "stream",
     "text": [
      "Accuracy score: 0.686\n",
      "Balanced accuracy score: 0.557\n"
     ]
    },
    {
     "data": {
      "image/png": "[encoded data removed]",
      "text/plain": [
       "<Figure size 1000x1000 with 2 Axes>"
      ]
     },
     "metadata": {},
     "output_type": "display_data"
    }
   ],
   "source": [
    "evaluate_model(LGBMClassifier(), X_train, X_test, y_train, y_test)"
   ]
  },
  {
   "cell_type": "markdown",
   "id": "97b78f7f",
   "metadata": {},
   "source": [
    "### 6.4. XGBoost"
   ]
  },
  {
   "cell_type": "code",
   "execution_count": 75,
   "id": "95d01216",
   "metadata": {
    "ExecuteTime": {
     "end_time": "2023-06-09T23:22:55.765841Z",
     "start_time": "2023-06-09T23:18:10.069091Z"
    }
   },
   "outputs": [
    {
     "ename": "KeyboardInterrupt",
     "evalue": "",
     "output_type": "error",
     "traceback": [
      "\u001b[1;31m---------------------------------------------------------------------------\u001b[0m",
      "\u001b[1;31mKeyboardInterrupt\u001b[0m                         Traceback (most recent call last)",
      "Cell \u001b[1;32mIn[75], line 1\u001b[0m\n\u001b[1;32m----> 1\u001b[0m \u001b[43mevaluate_model\u001b[49m\u001b[43m(\u001b[49m\u001b[43mXGBClassifier\u001b[49m\u001b[43m(\u001b[49m\u001b[43m)\u001b[49m\u001b[43m,\u001b[49m\u001b[43m \u001b[49m\u001b[43mX_train\u001b[49m\u001b[43m,\u001b[49m\u001b[43m \u001b[49m\u001b[43mX_test\u001b[49m\u001b[43m,\u001b[49m\u001b[43m \u001b[49m\u001b[43my_train\u001b[49m\u001b[43m,\u001b[49m\u001b[43m \u001b[49m\u001b[43my_test\u001b[49m\u001b[43m)\u001b[49m\n",
      "Cell \u001b[1;32mIn[72], line 9\u001b[0m, in \u001b[0;36mevaluate_model\u001b[1;34m(model, X_train, X_test, y_train, y_test)\u001b[0m\n\u001b[0;32m      6\u001b[0m y_train_encoded \u001b[38;5;241m=\u001b[39m label_encoder\u001b[38;5;241m.\u001b[39mfit_transform(y_train)\n\u001b[0;32m      7\u001b[0m y_test_encoded \u001b[38;5;241m=\u001b[39m label_encoder\u001b[38;5;241m.\u001b[39mtransform(y_test)\n\u001b[1;32m----> 9\u001b[0m \u001b[43mmodel\u001b[49m\u001b[38;5;241;43m.\u001b[39;49m\u001b[43mfit\u001b[49m\u001b[43m(\u001b[49m\u001b[43mX_train\u001b[49m\u001b[43m,\u001b[49m\u001b[43m \u001b[49m\u001b[43my_train_encoded\u001b[49m\u001b[43m)\u001b[49m\n\u001b[0;32m     10\u001b[0m yhat_encoded \u001b[38;5;241m=\u001b[39m model\u001b[38;5;241m.\u001b[39mpredict(X_test)\n\u001b[0;32m     12\u001b[0m \u001b[38;5;66;03m# Converter previsões numéricas de volta para a forma original\u001b[39;00m\n",
      "File \u001b[1;32m~\\anaconda3\\lib\\site-packages\\xgboost\\core.py:620\u001b[0m, in \u001b[0;36mrequire_keyword_args.<locals>.throw_if.<locals>.inner_f\u001b[1;34m(*args, **kwargs)\u001b[0m\n\u001b[0;32m    618\u001b[0m \u001b[38;5;28;01mfor\u001b[39;00m k, arg \u001b[38;5;129;01min\u001b[39;00m \u001b[38;5;28mzip\u001b[39m(sig\u001b[38;5;241m.\u001b[39mparameters, args):\n\u001b[0;32m    619\u001b[0m     kwargs[k] \u001b[38;5;241m=\u001b[39m arg\n\u001b[1;32m--> 620\u001b[0m \u001b[38;5;28;01mreturn\u001b[39;00m func(\u001b[38;5;241m*\u001b[39m\u001b[38;5;241m*\u001b[39mkwargs)\n",
      "File \u001b[1;32m~\\anaconda3\\lib\\site-packages\\xgboost\\sklearn.py:1490\u001b[0m, in \u001b[0;36mXGBClassifier.fit\u001b[1;34m(self, X, y, sample_weight, base_margin, eval_set, eval_metric, early_stopping_rounds, verbose, xgb_model, sample_weight_eval_set, base_margin_eval_set, feature_weights, callbacks)\u001b[0m\n\u001b[0;32m   1462\u001b[0m (\n\u001b[0;32m   1463\u001b[0m     model,\n\u001b[0;32m   1464\u001b[0m     metric,\n\u001b[1;32m   (...)\u001b[0m\n\u001b[0;32m   1469\u001b[0m     xgb_model, eval_metric, params, early_stopping_rounds, callbacks\n\u001b[0;32m   1470\u001b[0m )\n\u001b[0;32m   1471\u001b[0m train_dmatrix, evals \u001b[38;5;241m=\u001b[39m _wrap_evaluation_matrices(\n\u001b[0;32m   1472\u001b[0m     missing\u001b[38;5;241m=\u001b[39m\u001b[38;5;28mself\u001b[39m\u001b[38;5;241m.\u001b[39mmissing,\n\u001b[0;32m   1473\u001b[0m     X\u001b[38;5;241m=\u001b[39mX,\n\u001b[1;32m   (...)\u001b[0m\n\u001b[0;32m   1487\u001b[0m     feature_types\u001b[38;5;241m=\u001b[39m\u001b[38;5;28mself\u001b[39m\u001b[38;5;241m.\u001b[39mfeature_types,\n\u001b[0;32m   1488\u001b[0m )\n\u001b[1;32m-> 1490\u001b[0m \u001b[38;5;28mself\u001b[39m\u001b[38;5;241m.\u001b[39m_Booster \u001b[38;5;241m=\u001b[39m \u001b[43mtrain\u001b[49m\u001b[43m(\u001b[49m\n\u001b[0;32m   1491\u001b[0m \u001b[43m    \u001b[49m\u001b[43mparams\u001b[49m\u001b[43m,\u001b[49m\n\u001b[0;32m   1492\u001b[0m \u001b[43m    \u001b[49m\u001b[43mtrain_dmatrix\u001b[49m\u001b[43m,\u001b[49m\n\u001b[0;32m   1493\u001b[0m \u001b[43m    \u001b[49m\u001b[38;5;28;43mself\u001b[39;49m\u001b[38;5;241;43m.\u001b[39;49m\u001b[43mget_num_boosting_rounds\u001b[49m\u001b[43m(\u001b[49m\u001b[43m)\u001b[49m\u001b[43m,\u001b[49m\n\u001b[0;32m   1494\u001b[0m \u001b[43m    \u001b[49m\u001b[43mevals\u001b[49m\u001b[38;5;241;43m=\u001b[39;49m\u001b[43mevals\u001b[49m\u001b[43m,\u001b[49m\n\u001b[0;32m   1495\u001b[0m \u001b[43m    \u001b[49m\u001b[43mearly_stopping_rounds\u001b[49m\u001b[38;5;241;43m=\u001b[39;49m\u001b[43mearly_stopping_rounds\u001b[49m\u001b[43m,\u001b[49m\n\u001b[0;32m   1496\u001b[0m \u001b[43m    \u001b[49m\u001b[43mevals_result\u001b[49m\u001b[38;5;241;43m=\u001b[39;49m\u001b[43mevals_result\u001b[49m\u001b[43m,\u001b[49m\n\u001b[0;32m   1497\u001b[0m \u001b[43m    \u001b[49m\u001b[43mobj\u001b[49m\u001b[38;5;241;43m=\u001b[39;49m\u001b[43mobj\u001b[49m\u001b[43m,\u001b[49m\n\u001b[0;32m   1498\u001b[0m \u001b[43m    \u001b[49m\u001b[43mcustom_metric\u001b[49m\u001b[38;5;241;43m=\u001b[39;49m\u001b[43mmetric\u001b[49m\u001b[43m,\u001b[49m\n\u001b[0;32m   1499\u001b[0m \u001b[43m    \u001b[49m\u001b[43mverbose_eval\u001b[49m\u001b[38;5;241;43m=\u001b[39;49m\u001b[43mverbose\u001b[49m\u001b[43m,\u001b[49m\n\u001b[0;32m   1500\u001b[0m \u001b[43m    \u001b[49m\u001b[43mxgb_model\u001b[49m\u001b[38;5;241;43m=\u001b[39;49m\u001b[43mmodel\u001b[49m\u001b[43m,\u001b[49m\n\u001b[0;32m   1501\u001b[0m \u001b[43m    \u001b[49m\u001b[43mcallbacks\u001b[49m\u001b[38;5;241;43m=\u001b[39;49m\u001b[43mcallbacks\u001b[49m\u001b[43m,\u001b[49m\n\u001b[0;32m   1502\u001b[0m \u001b[43m\u001b[49m\u001b[43m)\u001b[49m\n\u001b[0;32m   1504\u001b[0m \u001b[38;5;28;01mif\u001b[39;00m \u001b[38;5;129;01mnot\u001b[39;00m \u001b[38;5;28mcallable\u001b[39m(\u001b[38;5;28mself\u001b[39m\u001b[38;5;241m.\u001b[39mobjective):\n\u001b[0;32m   1505\u001b[0m     \u001b[38;5;28mself\u001b[39m\u001b[38;5;241m.\u001b[39mobjective \u001b[38;5;241m=\u001b[39m params[\u001b[38;5;124m\"\u001b[39m\u001b[38;5;124mobjective\u001b[39m\u001b[38;5;124m\"\u001b[39m]\n",
      "File \u001b[1;32m~\\anaconda3\\lib\\site-packages\\xgboost\\core.py:620\u001b[0m, in \u001b[0;36mrequire_keyword_args.<locals>.throw_if.<locals>.inner_f\u001b[1;34m(*args, **kwargs)\u001b[0m\n\u001b[0;32m    618\u001b[0m \u001b[38;5;28;01mfor\u001b[39;00m k, arg \u001b[38;5;129;01min\u001b[39;00m \u001b[38;5;28mzip\u001b[39m(sig\u001b[38;5;241m.\u001b[39mparameters, args):\n\u001b[0;32m    619\u001b[0m     kwargs[k] \u001b[38;5;241m=\u001b[39m arg\n\u001b[1;32m--> 620\u001b[0m \u001b[38;5;28;01mreturn\u001b[39;00m func(\u001b[38;5;241m*\u001b[39m\u001b[38;5;241m*\u001b[39mkwargs)\n",
      "File \u001b[1;32m~\\anaconda3\\lib\\site-packages\\xgboost\\training.py:185\u001b[0m, in \u001b[0;36mtrain\u001b[1;34m(params, dtrain, num_boost_round, evals, obj, feval, maximize, early_stopping_rounds, evals_result, verbose_eval, xgb_model, callbacks, custom_metric)\u001b[0m\n\u001b[0;32m    183\u001b[0m \u001b[38;5;28;01mif\u001b[39;00m cb_container\u001b[38;5;241m.\u001b[39mbefore_iteration(bst, i, dtrain, evals):\n\u001b[0;32m    184\u001b[0m     \u001b[38;5;28;01mbreak\u001b[39;00m\n\u001b[1;32m--> 185\u001b[0m \u001b[43mbst\u001b[49m\u001b[38;5;241;43m.\u001b[39;49m\u001b[43mupdate\u001b[49m\u001b[43m(\u001b[49m\u001b[43mdtrain\u001b[49m\u001b[43m,\u001b[49m\u001b[43m \u001b[49m\u001b[43mi\u001b[49m\u001b[43m,\u001b[49m\u001b[43m \u001b[49m\u001b[43mobj\u001b[49m\u001b[43m)\u001b[49m\n\u001b[0;32m    186\u001b[0m \u001b[38;5;28;01mif\u001b[39;00m cb_container\u001b[38;5;241m.\u001b[39mafter_iteration(bst, i, dtrain, evals):\n\u001b[0;32m    187\u001b[0m     \u001b[38;5;28;01mbreak\u001b[39;00m\n",
      "File \u001b[1;32m~\\anaconda3\\lib\\site-packages\\xgboost\\core.py:1918\u001b[0m, in \u001b[0;36mBooster.update\u001b[1;34m(self, dtrain, iteration, fobj)\u001b[0m\n\u001b[0;32m   1915\u001b[0m \u001b[38;5;28mself\u001b[39m\u001b[38;5;241m.\u001b[39m_validate_dmatrix_features(dtrain)\n\u001b[0;32m   1917\u001b[0m \u001b[38;5;28;01mif\u001b[39;00m fobj \u001b[38;5;129;01mis\u001b[39;00m \u001b[38;5;28;01mNone\u001b[39;00m:\n\u001b[1;32m-> 1918\u001b[0m     _check_call(\u001b[43m_LIB\u001b[49m\u001b[38;5;241;43m.\u001b[39;49m\u001b[43mXGBoosterUpdateOneIter\u001b[49m\u001b[43m(\u001b[49m\u001b[38;5;28;43mself\u001b[39;49m\u001b[38;5;241;43m.\u001b[39;49m\u001b[43mhandle\u001b[49m\u001b[43m,\u001b[49m\n\u001b[0;32m   1919\u001b[0m \u001b[43m                                            \u001b[49m\u001b[43mctypes\u001b[49m\u001b[38;5;241;43m.\u001b[39;49m\u001b[43mc_int\u001b[49m\u001b[43m(\u001b[49m\u001b[43miteration\u001b[49m\u001b[43m)\u001b[49m\u001b[43m,\u001b[49m\n\u001b[0;32m   1920\u001b[0m \u001b[43m                                            \u001b[49m\u001b[43mdtrain\u001b[49m\u001b[38;5;241;43m.\u001b[39;49m\u001b[43mhandle\u001b[49m\u001b[43m)\u001b[49m)\n\u001b[0;32m   1921\u001b[0m \u001b[38;5;28;01melse\u001b[39;00m:\n\u001b[0;32m   1922\u001b[0m     pred \u001b[38;5;241m=\u001b[39m \u001b[38;5;28mself\u001b[39m\u001b[38;5;241m.\u001b[39mpredict(dtrain, output_margin\u001b[38;5;241m=\u001b[39m\u001b[38;5;28;01mTrue\u001b[39;00m, training\u001b[38;5;241m=\u001b[39m\u001b[38;5;28;01mTrue\u001b[39;00m)\n",
      "\u001b[1;31mKeyboardInterrupt\u001b[0m: "
     ]
    }
   ],
   "source": [
    "evaluate_model(XGBClassifier(), X_train, X_test, y_train, y_test)"
   ]
  },
  {
   "cell_type": "markdown",
   "id": "3756b0aa",
   "metadata": {},
   "source": [
    "### 6.5. RandomForest"
   ]
  },
  {
   "cell_type": "code",
   "execution_count": 74,
   "id": "19006a48",
   "metadata": {
    "ExecuteTime": {
     "end_time": "2023-06-09T23:18:08.425171Z",
     "start_time": "2023-06-09T23:18:08.425171Z"
    }
   },
   "outputs": [
    {
     "name": "stderr",
     "output_type": "stream",
     "text": [
      "\n",
      "KeyboardInterrupt\n",
      "\n"
     ]
    }
   ],
   "source": [
    "evaluate_model(RandomForestClassifier(), X_train, X_test, y_train, y_test)"
   ]
  },
  {
   "cell_type": "markdown",
   "id": "55205734",
   "metadata": {},
   "source": [
    "### 6.6. ExtraTrees"
   ]
  },
  {
   "cell_type": "code",
   "execution_count": null,
   "id": "5fdb93bf",
   "metadata": {
    "ExecuteTime": {
     "end_time": "2023-06-09T23:18:08.425171Z",
     "start_time": "2023-06-09T23:18:08.425171Z"
    }
   },
   "outputs": [],
   "source": [
    "evaluate_model(ExtraTreesClassifier(), X_train, X_test, y_train, y_test)"
   ]
  },
  {
   "cell_type": "markdown",
   "id": "88a6d2d2",
   "metadata": {},
   "source": [
    "### 6.7. Logistic Regression"
   ]
  },
  {
   "cell_type": "code",
   "execution_count": 73,
   "id": "6bc6745f",
   "metadata": {
    "ExecuteTime": {
     "end_time": "2023-06-09T23:14:49.159818Z",
     "start_time": "2023-06-09T23:14:19.981268Z"
    }
   },
   "outputs": [
    {
     "name": "stderr",
     "output_type": "stream",
     "text": [
      "C:\\Users\\HeitorFelixdeOliveir\\anaconda3\\lib\\site-packages\\sklearn\\linear_model\\_logistic.py:458: ConvergenceWarning: lbfgs failed to converge (status=1):\n",
      "STOP: TOTAL NO. of ITERATIONS REACHED LIMIT.\n",
      "\n",
      "Increase the number of iterations (max_iter) or scale the data as shown in:\n",
      "    https://scikit-learn.org/stable/modules/preprocessing.html\n",
      "Please also refer to the documentation for alternative solver options:\n",
      "    https://scikit-learn.org/stable/modules/linear_model.html#logistic-regression\n",
      "  n_iter_i = _check_optimize_result(\n"
     ]
    },
    {
     "name": "stdout",
     "output_type": "stream",
     "text": [
      "Accuracy score: 0.436\n",
      "Balanced accuracy score: 0.167\n"
     ]
    },
    {
     "data": {
      "image/png": "[encoded data removed]",
      "text/plain": [
       "<Figure size 1000x1000 with 2 Axes>"
      ]
     },
     "metadata": {},
     "output_type": "display_data"
    }
   ],
   "source": [
    "evaluate_model(LogisticRegression(), X_train, X_test, y_train, y_test)"
   ]
  },
  {
   "cell_type": "markdown",
   "id": "4a16c57d",
   "metadata": {},
   "source": [
    "### 6.8 KNN"
   ]
  },
  {
   "cell_type": "code",
   "execution_count": 41,
   "id": "05a9600b",
   "metadata": {
    "ExecuteTime": {
     "end_time": "2023-06-10T17:03:43.391956Z",
     "start_time": "2023-06-10T17:03:23.532849Z"
    }
   },
   "outputs": [
    {
     "name": "stdout",
     "output_type": "stream",
     "text": [
      "Accuracy score: 0.764\n",
      "Balanced accuracy score: 0.746\n"
     ]
    },
    {
     "data": {
      "image/png": "[encoded data removed]",
      "text/plain": [
       "<Figure size 1000x1000 with 2 Axes>"
      ]
     },
     "metadata": {},
     "output_type": "display_data"
    }
   ],
   "source": [
    "evaluate_model(KNeighborsClassifier(n_neighbors=10), X_train, X_test, y_train, y_test)"
   ]
  },
  {
   "cell_type": "code",
   "execution_count": 85,
   "id": "212ec0bf",
   "metadata": {
    "ExecuteTime": {
     "end_time": "2022-05-11T11:17:57.682333Z",
     "start_time": "2022-05-11T11:17:57.671838Z"
    }
   },
   "outputs": [],
   "source": [
    "# balanced_acc_list = []\n",
    "# kappa_list = []\n",
    "\n",
    "# #stratified kfold\n",
    "# num_folds=5\n",
    "# kfold = ms.StratifiedKFold(n_splits=num_folds, shuffle=True, random_state=42)\n",
    "\n",
    "# i= 1\n",
    "# for train_ix, val_ix in kfold.split(x_train, y_train):\n",
    "#     print('Fold number {}'.format(i))\n",
    "#     #get fold\n",
    "#     x_train_fold = x_train.iloc[train_ix]\n",
    "#     y_train_fold = y_train.iloc[train_ix]\n",
    "    \n",
    "#     x_val_fold = x_train.iloc[val_ix]\n",
    "#     y_val_fold = y_train.iloc[val_ix]\n",
    "    \n",
    "#     #one hot enconding\n",
    "    \n",
    "#     ohe = pp.OneHotEncoder()\n",
    "#     y_train_fold_nn = ohe.fit_transform(y_train_fold.values.reshape(-1,1)).toarray()\n",
    "    \n",
    "    \n",
    "#     #model definition\n",
    "#     model = ml.Sequential()\n",
    "#     model.add(l.Dense(256, input_dim=x_train.shape[1],activation='relu'))\n",
    "#     model.add(l.Dense(11, activation='softmax'))\n",
    "\n",
    "\n",
    "#     #model train\n",
    "#     model.compile(loss='categorical_crossentropy', optimizer='adam', metrics=['accuracy'])\n",
    "#     model.fit(x_train_fold, y_train_fold_nn, epochs=100, batch_size=32, verbose=True)\n",
    "    \n",
    "#     #model predict\n",
    "\n",
    "#     pred_nn = model.predict(x_val_fold)\n",
    "#     yhat_nn = ohe.inverse_transform(pred_nn)\n",
    "              \n",
    "              \n",
    "#     #prepare data    \n",
    "#     y_test_nn = y_val_fold.to_numpy()\n",
    "#     yhat_nn = yhat_nn.reshape(1,-1)[0]\n",
    "              \n",
    "              \n",
    "#     #metrics\n",
    "\n",
    "#     #balanced accuracy\n",
    "#     balanced_acc_nn = metrics.balanced_accuracy_score(y_test_nn, yhat_nn)\n",
    "#     balanced_acc_list.append(balanced_acc_nn)\n",
    "#     #kappa\n",
    "              \n",
    "#     kappa_acc_nn = metrics.cohen_kappa_score(y_test_nn, yhat_nn)\n",
    "#     kappa_list.append(kappa_acc_nn)\n",
    "#     i+=1"
   ]
  },
  {
   "cell_type": "code",
   "execution_count": 84,
   "id": "875fe263",
   "metadata": {
    "ExecuteTime": {
     "end_time": "2022-05-11T11:17:46.775636Z",
     "start_time": "2022-05-11T11:17:46.772091Z"
    }
   },
   "outputs": [],
   "source": [
    "# print(f'Balanced Accuracy CV = {np.mean(balanced_acc_list)}')\n",
    "# print(f'Kappa Score CV = {np.mean(kappa_list)}')"
   ]
  }
 ],
 "metadata": {
  "kernelspec": {
   "display_name": "Python 3 (ipykernel)",
   "language": "python",
   "name": "python3"
  },
  "language_info": {
   "codemirror_mode": {
    "name": "ipython",
    "version": 3
   },
   "file_extension": ".py",
   "mimetype": "text/x-python",
   "name": "python",
   "nbconvert_exporter": "python",
   "pygments_lexer": "ipython3",
   "version": "3.9.13"
  }
 },
 "nbformat": 4,
 "nbformat_minor": 5
}
