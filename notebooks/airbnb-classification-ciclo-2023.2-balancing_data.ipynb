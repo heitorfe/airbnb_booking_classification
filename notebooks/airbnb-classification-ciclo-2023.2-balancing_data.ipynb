{
 "cells": [
  {
   "cell_type": "markdown",
   "id": "e1b2a781",
   "metadata": {
    "ExecuteTime": {
     "end_time": "2022-04-25T14:32:24.780638Z",
     "start_time": "2022-04-25T14:32:24.775287Z"
    },
    "heading_collapsed": true
   },
   "source": [
    "### Airbnb Classification"
   ]
  },
  {
   "cell_type": "markdown",
   "id": "489d9885",
   "metadata": {
    "ExecuteTime": {
     "end_time": "2022-04-25T14:52:06.900431Z",
     "start_time": "2022-04-25T14:52:06.896604Z"
    },
    "hidden": true
   },
   "source": [
    "**Airbnb Business Model**\n",
    "\n",
    "**Marketplace** that connect people who offers home with peope who wants to rent a home. \n",
    "\n",
    "Offert:\n",
    "* Portfolio Density/Diversity\n",
    "* Portfolio Size\n",
    "* Average Price\n",
    "\n",
    "Demand:\n",
    "* LTV\n",
    "* CAC\n",
    "* Number of Users\n",
    "\n"
   ]
  },
  {
   "cell_type": "markdown",
   "id": "1ffcf71b",
   "metadata": {
    "hidden": true
   },
   "source": [
    "**Business Problem**\n",
    "\n",
    "New users on Airbnb can book a place to stay in 34,000+ cities across 190+ countries. By accurately predicting where a new user will book their first travel experience, Airbnb can share more personalized content with their community, decrease the average time to first booking, and better forecast demand."
   ]
  },
  {
   "cell_type": "markdown",
   "id": "ec228b9b",
   "metadata": {
    "hidden": true
   },
   "source": [
    "**Data Description**\n",
    "\n",
    "In this challenge, you are given a list of users along with their demographics, web session records, and some summary statistics. You are asked to predict which country a new user's first booking destination will be. All the users in this dataset are from the USA.\n",
    "\n",
    "There are 12 possible outcomes of the destination country: 'US', 'FR', 'CA', 'GB', 'ES', 'IT', 'PT', 'NL','DE', 'AU', 'NDF' (no destination found), and 'other'. Please note that 'NDF' is different from 'other' because 'other' means there was a booking, but is to a country not included in the list, while 'NDF' means there wasn't a booking.\n",
    "\n",
    "The training and test sets are split by dates. In the test set, you will predict all the new users with first activities after 7/1/2014 (note: this is updated on 12/5/15 when the competition restarted). In the sessions dataset, the data only dates back to 1/1/2014, while the users dataset dates back to 2010. \n",
    "\n",
    "\n"
   ]
  },
  {
   "cell_type": "markdown",
   "id": "fbe3bae8",
   "metadata": {
    "hidden": true
   },
   "source": [
    "**Solution**\n",
    "1. Predict and load in a database, use data visualization to see results\n",
    "\n",
    "2. API: \n",
    "    * Input: id and customer features\n",
    "    * Output: id + predict + probability"
   ]
  },
  {
   "cell_type": "markdown",
   "id": "2e1702df",
   "metadata": {},
   "source": [
    "# 0.0. Load\n"
   ]
  },
  {
   "cell_type": "markdown",
   "id": "2f3a523a",
   "metadata": {},
   "source": [
    "## 0.1. Imports\n"
   ]
  },
  {
   "cell_type": "code",
   "execution_count": 1,
   "id": "9bda3f36",
   "metadata": {
    "ExecuteTime": {
     "end_time": "2023-06-09T12:09:50.117852Z",
     "start_time": "2023-06-09T12:09:40.884924Z"
    }
   },
   "outputs": [],
   "source": [
    "import pandas as pd\n",
    "import numpy as np\n",
    "import seaborn as sns\n",
    "import os\n",
    "\n",
    "from scipy import stats as ss\n",
    "from sklearn import model_selection as ms\n",
    "from sklearn import preprocessing as pp\n",
    "from sklearn import metrics \n",
    "from sklearn.ensemble import RandomForestClassifier, ExtraTreesClassifier\n",
    "from sklearn.linear_model import LogisticRegression\n",
    "from sklearn.svm import S\n",
    "\n",
    "from imblearn.over_sampling import SMOTE\n",
    "\n",
    "from keras import models as ml\n",
    "from keras import layers as l\n",
    "\n",
    "from scikitplot import metrics as mt\n",
    "\n",
    "import random\n"
   ]
  },
  {
   "cell_type": "markdown",
   "id": "932b5d08",
   "metadata": {},
   "source": [
    "## 0.2. Helper Functions"
   ]
  },
  {
   "cell_type": "code",
   "execution_count": 2,
   "id": "da79f7e1",
   "metadata": {
    "ExecuteTime": {
     "end_time": "2023-06-09T12:09:51.020501Z",
     "start_time": "2023-06-09T12:09:50.995805Z"
    }
   },
   "outputs": [],
   "source": [
    "def num_stats(df):\n",
    "    num_attributes = df.select_dtypes(['int64', 'float64'])\n",
    "\n",
    "    #central tendency\n",
    "    mean = pd.DataFrame(num_attributes.apply(np.mean)).T\n",
    "    median = pd.DataFrame(num_attributes.apply(np.mean)).T\n",
    "\n",
    "    #dispersion\n",
    "    min_ = pd.DataFrame(num_attributes.apply(min)).T\n",
    "    max_ = pd.DataFrame(num_attributes.apply(max)).T\n",
    "    range_ = pd.DataFrame(num_attributes.apply(lambda x: x.max() - x.min())).T\n",
    "    skew  = pd.DataFrame(num_attributes.apply(lambda x: x.skew())).T\n",
    "    kurtosis = pd.DataFrame(num_attributes.apply(lambda x: x.kurtosis())).T\n",
    "    std = pd.DataFrame(num_attributes.apply(np.std)).T\n",
    "\n",
    "    m_numeric = pd.concat([min_, max_, range_, mean, median, std, skew, kurtosis]).T.reset_index()\n",
    "\n",
    "    m_numeric.columns = ['attributes','min', 'max', 'range', 'mean', 'median', 'std', 'skew', 'kurtosis']\n",
    "    return m_numeric\n",
    "\n",
    "def cramer_v(x,y):\n",
    "    cm = pd.crosstab(x,y).values\n",
    "    n = cm.sum()\n",
    "    r, k = cm.shape\n",
    "    \n",
    "    chi2 = ss.chi2_contingency(cm)[0]\n",
    "    chi2corr = max(0, chi2 - (k-1)*(r-1)/(n-1))\n",
    "    \n",
    "    kcorr = k - (k-1)**2/(n-1)\n",
    "    rcorr = r - (r-1)**2/(n-1)\n",
    "    \n",
    "    return np.sqrt((chi2corr/n) / min(kcorr-1, rcorr-1))"
   ]
  },
  {
   "cell_type": "markdown",
   "id": "c94f295c",
   "metadata": {},
   "source": [
    "## 0.3. Load Dataset"
   ]
  },
  {
   "cell_type": "code",
   "execution_count": 3,
   "id": "c51db62b",
   "metadata": {
    "ExecuteTime": {
     "end_time": "2023-06-09T12:10:05.722089Z",
     "start_time": "2023-06-09T12:09:51.474680Z"
    }
   },
   "outputs": [],
   "source": [
    "df_raw = pd.read_csv('../data/train_users_2.csv', low_memory=True)\n",
    "df_sessions = pd.read_csv('../data/sessions.csv')"
   ]
  },
  {
   "cell_type": "markdown",
   "id": "bb2a4408",
   "metadata": {},
   "source": [
    "# 1.0. Data Description"
   ]
  },
  {
   "cell_type": "code",
   "execution_count": 4,
   "id": "a0bc9987",
   "metadata": {
    "ExecuteTime": {
     "end_time": "2023-06-09T12:10:05.753759Z",
     "start_time": "2023-06-09T12:10:05.724909Z"
    }
   },
   "outputs": [],
   "source": [
    "df1 = df_raw.copy()"
   ]
  },
  {
   "cell_type": "markdown",
   "id": "081aa991",
   "metadata": {},
   "source": [
    "## 1.1. Data Dimensions"
   ]
  },
  {
   "cell_type": "code",
   "execution_count": 5,
   "id": "e255ec04",
   "metadata": {
    "ExecuteTime": {
     "end_time": "2023-06-09T12:10:05.770022Z",
     "start_time": "2023-06-09T12:10:05.753759Z"
    }
   },
   "outputs": [
    {
     "name": "stdout",
     "output_type": "stream",
     "text": [
      "Train dataset:\n",
      "Rows:213451\n",
      "Cols:16\n",
      "\n",
      "Sessions dataset:\n",
      "Rows:10567737\n",
      "Cols:6\n"
     ]
    }
   ],
   "source": [
    "print('Train dataset:')\n",
    "print('Rows:{}'.format(df_raw.shape[0]))\n",
    "print('Cols:{}'.format(df_raw.shape[1]))\n",
    "\n",
    "print('\\nSessions dataset:')\n",
    "print('Rows:{}'.format(df_sessions.shape[0]))\n",
    "print('Cols:{}'.format(df_sessions.shape[1]))"
   ]
  },
  {
   "cell_type": "markdown",
   "id": "4d5edb93",
   "metadata": {},
   "source": [
    "## 1.2. Data Types"
   ]
  },
  {
   "cell_type": "code",
   "execution_count": 6,
   "id": "fec89862",
   "metadata": {
    "ExecuteTime": {
     "end_time": "2023-06-09T12:10:05.803008Z",
     "start_time": "2023-06-09T12:10:05.775908Z"
    }
   },
   "outputs": [
    {
     "data": {
      "text/plain": [
       "id                          object\n",
       "date_account_created        object\n",
       "timestamp_first_active       int64\n",
       "date_first_booking          object\n",
       "gender                      object\n",
       "age                        float64\n",
       "signup_method               object\n",
       "signup_flow                  int64\n",
       "language                    object\n",
       "affiliate_channel           object\n",
       "affiliate_provider          object\n",
       "first_affiliate_tracked     object\n",
       "signup_app                  object\n",
       "first_device_type           object\n",
       "first_browser               object\n",
       "country_destination         object\n",
       "dtype: object"
      ]
     },
     "execution_count": 6,
     "metadata": {},
     "output_type": "execute_result"
    }
   ],
   "source": [
    "df1.dtypes"
   ]
  },
  {
   "cell_type": "code",
   "execution_count": 7,
   "id": "2336bd0e",
   "metadata": {
    "ExecuteTime": {
     "end_time": "2023-06-09T12:10:05.818986Z",
     "start_time": "2023-06-09T12:10:05.804583Z"
    }
   },
   "outputs": [
    {
     "data": {
      "text/plain": [
       "user_id           object\n",
       "action            object\n",
       "action_type       object\n",
       "action_detail     object\n",
       "device_type       object\n",
       "secs_elapsed     float64\n",
       "dtype: object"
      ]
     },
     "execution_count": 7,
     "metadata": {},
     "output_type": "execute_result"
    }
   ],
   "source": [
    "df_sessions.dtypes"
   ]
  },
  {
   "cell_type": "code",
   "execution_count": 8,
   "id": "96fd8990",
   "metadata": {
    "ExecuteTime": {
     "end_time": "2023-06-09T12:10:05.860247Z",
     "start_time": "2023-06-09T12:10:05.819993Z"
    }
   },
   "outputs": [
    {
     "data": {
      "text/html": [
       "<div>\n",
       "<style scoped>\n",
       "    .dataframe tbody tr th:only-of-type {\n",
       "        vertical-align: middle;\n",
       "    }\n",
       "\n",
       "    .dataframe tbody tr th {\n",
       "        vertical-align: top;\n",
       "    }\n",
       "\n",
       "    .dataframe thead th {\n",
       "        text-align: right;\n",
       "    }\n",
       "</style>\n",
       "<table border=\"1\" class=\"dataframe\">\n",
       "  <thead>\n",
       "    <tr style=\"text-align: right;\">\n",
       "      <th></th>\n",
       "      <th>76062</th>\n",
       "    </tr>\n",
       "  </thead>\n",
       "  <tbody>\n",
       "    <tr>\n",
       "      <th>id</th>\n",
       "      <td>escgnfll9j</td>\n",
       "    </tr>\n",
       "    <tr>\n",
       "      <th>date_account_created</th>\n",
       "      <td>2013-05-09</td>\n",
       "    </tr>\n",
       "    <tr>\n",
       "      <th>timestamp_first_active</th>\n",
       "      <td>20130509231022</td>\n",
       "    </tr>\n",
       "    <tr>\n",
       "      <th>date_first_booking</th>\n",
       "      <td>NaN</td>\n",
       "    </tr>\n",
       "    <tr>\n",
       "      <th>gender</th>\n",
       "      <td>-unknown-</td>\n",
       "    </tr>\n",
       "    <tr>\n",
       "      <th>age</th>\n",
       "      <td>NaN</td>\n",
       "    </tr>\n",
       "    <tr>\n",
       "      <th>signup_method</th>\n",
       "      <td>basic</td>\n",
       "    </tr>\n",
       "    <tr>\n",
       "      <th>signup_flow</th>\n",
       "      <td>0</td>\n",
       "    </tr>\n",
       "    <tr>\n",
       "      <th>language</th>\n",
       "      <td>en</td>\n",
       "    </tr>\n",
       "    <tr>\n",
       "      <th>affiliate_channel</th>\n",
       "      <td>sem-brand</td>\n",
       "    </tr>\n",
       "    <tr>\n",
       "      <th>affiliate_provider</th>\n",
       "      <td>google</td>\n",
       "    </tr>\n",
       "    <tr>\n",
       "      <th>first_affiliate_tracked</th>\n",
       "      <td>omg</td>\n",
       "    </tr>\n",
       "    <tr>\n",
       "      <th>signup_app</th>\n",
       "      <td>Web</td>\n",
       "    </tr>\n",
       "    <tr>\n",
       "      <th>first_device_type</th>\n",
       "      <td>Windows Desktop</td>\n",
       "    </tr>\n",
       "    <tr>\n",
       "      <th>first_browser</th>\n",
       "      <td>IE</td>\n",
       "    </tr>\n",
       "    <tr>\n",
       "      <th>country_destination</th>\n",
       "      <td>NDF</td>\n",
       "    </tr>\n",
       "  </tbody>\n",
       "</table>\n",
       "</div>"
      ],
      "text/plain": [
       "                                   76062\n",
       "id                            escgnfll9j\n",
       "date_account_created          2013-05-09\n",
       "timestamp_first_active    20130509231022\n",
       "date_first_booking                   NaN\n",
       "gender                         -unknown-\n",
       "age                                  NaN\n",
       "signup_method                      basic\n",
       "signup_flow                            0\n",
       "language                              en\n",
       "affiliate_channel              sem-brand\n",
       "affiliate_provider                google\n",
       "first_affiliate_tracked              omg\n",
       "signup_app                           Web\n",
       "first_device_type        Windows Desktop\n",
       "first_browser                         IE\n",
       "country_destination                  NDF"
      ]
     },
     "execution_count": 8,
     "metadata": {},
     "output_type": "execute_result"
    }
   ],
   "source": [
    "df1.sample().T"
   ]
  },
  {
   "cell_type": "code",
   "execution_count": 9,
   "id": "8080884f",
   "metadata": {
    "ExecuteTime": {
     "end_time": "2023-06-09T12:10:06.883100Z",
     "start_time": "2023-06-09T12:10:05.862971Z"
    }
   },
   "outputs": [
    {
     "data": {
      "text/html": [
       "<div>\n",
       "<style scoped>\n",
       "    .dataframe tbody tr th:only-of-type {\n",
       "        vertical-align: middle;\n",
       "    }\n",
       "\n",
       "    .dataframe tbody tr th {\n",
       "        vertical-align: top;\n",
       "    }\n",
       "\n",
       "    .dataframe thead th {\n",
       "        text-align: right;\n",
       "    }\n",
       "</style>\n",
       "<table border=\"1\" class=\"dataframe\">\n",
       "  <thead>\n",
       "    <tr style=\"text-align: right;\">\n",
       "      <th></th>\n",
       "      <th>3564789</th>\n",
       "    </tr>\n",
       "  </thead>\n",
       "  <tbody>\n",
       "    <tr>\n",
       "      <th>user_id</th>\n",
       "      <td>vhdrke6nvs</td>\n",
       "    </tr>\n",
       "    <tr>\n",
       "      <th>action</th>\n",
       "      <td>reviews</td>\n",
       "    </tr>\n",
       "    <tr>\n",
       "      <th>action_type</th>\n",
       "      <td>data</td>\n",
       "    </tr>\n",
       "    <tr>\n",
       "      <th>action_detail</th>\n",
       "      <td>listing_reviews</td>\n",
       "    </tr>\n",
       "    <tr>\n",
       "      <th>device_type</th>\n",
       "      <td>iPhone</td>\n",
       "    </tr>\n",
       "    <tr>\n",
       "      <th>secs_elapsed</th>\n",
       "      <td>31118.0</td>\n",
       "    </tr>\n",
       "  </tbody>\n",
       "</table>\n",
       "</div>"
      ],
      "text/plain": [
       "                       3564789\n",
       "user_id             vhdrke6nvs\n",
       "action                 reviews\n",
       "action_type               data\n",
       "action_detail  listing_reviews\n",
       "device_type             iPhone\n",
       "secs_elapsed           31118.0"
      ]
     },
     "execution_count": 9,
     "metadata": {},
     "output_type": "execute_result"
    }
   ],
   "source": [
    "df_sessions.sample().T"
   ]
  },
  {
   "cell_type": "markdown",
   "id": "141ee2dd",
   "metadata": {},
   "source": [
    "## 1.2. NA Check"
   ]
  },
  {
   "cell_type": "code",
   "execution_count": 10,
   "id": "bef382db",
   "metadata": {
    "ExecuteTime": {
     "end_time": "2023-06-09T12:10:07.760386Z",
     "start_time": "2023-06-09T12:10:06.884800Z"
    }
   },
   "outputs": [
    {
     "data": {
      "text/plain": [
       "id                         0.000000\n",
       "date_account_created       0.000000\n",
       "timestamp_first_active     0.000000\n",
       "date_first_booking         0.583473\n",
       "gender                     0.000000\n",
       "age                        0.412226\n",
       "signup_method              0.000000\n",
       "signup_flow                0.000000\n",
       "language                   0.000000\n",
       "affiliate_channel          0.000000\n",
       "affiliate_provider         0.000000\n",
       "first_affiliate_tracked    0.028414\n",
       "signup_app                 0.000000\n",
       "first_device_type          0.000000\n",
       "first_browser              0.000000\n",
       "country_destination        0.000000\n",
       "dtype: float64"
      ]
     },
     "execution_count": 10,
     "metadata": {},
     "output_type": "execute_result"
    }
   ],
   "source": [
    "df1.isna().sum()/len(df1)\n"
   ]
  },
  {
   "cell_type": "code",
   "execution_count": 11,
   "id": "8855d2a5",
   "metadata": {
    "ExecuteTime": {
     "end_time": "2023-06-09T12:10:20.540380Z",
     "start_time": "2023-06-09T12:10:07.761401Z"
    }
   },
   "outputs": [
    {
     "data": {
      "text/plain": [
       "user_id          0.003264\n",
       "action           0.007535\n",
       "action_type      0.106570\n",
       "action_detail    0.106570\n",
       "device_type      0.000000\n",
       "secs_elapsed     0.012872\n",
       "dtype: float64"
      ]
     },
     "execution_count": 11,
     "metadata": {},
     "output_type": "execute_result"
    }
   ],
   "source": [
    "df_sessions.isna().sum()/len(df_sessions)"
   ]
  },
  {
   "cell_type": "markdown",
   "id": "c33fdbe9",
   "metadata": {},
   "source": [
    "## 1.3 Fill NA"
   ]
  },
  {
   "cell_type": "code",
   "execution_count": 12,
   "id": "6c7f6966",
   "metadata": {
    "ExecuteTime": {
     "end_time": "2023-06-09T12:10:34.985796Z",
     "start_time": "2023-06-09T12:10:20.542594Z"
    }
   },
   "outputs": [],
   "source": [
    "#==================Training================\n",
    "#date_first_booking\n",
    "date_first_booking_max = pd.to_datetime(df1['date_first_booking']).max().strftime('%Y-%m-%d')\n",
    "df1['date_first_booking']=df1['date_first_booking'].fillna(date_first_booking_max)\n",
    "\n",
    "#age\n",
    "age_mean = df1['age'].mean()\n",
    "df1['age'] = df1['age'].fillna(age_mean)\n",
    "\n",
    "# first_affiliate_tracked\n",
    "df1['first_affiliate_tracked'] = df1['first_affiliate_tracked'].dropna()\n",
    "\n",
    "#==================Sessions==============\n",
    "df_sessions = df_sessions.dropna()\n"
   ]
  },
  {
   "cell_type": "markdown",
   "id": "4ee64b16",
   "metadata": {},
   "source": [
    "## 1.4. Change Data Type"
   ]
  },
  {
   "cell_type": "code",
   "execution_count": 13,
   "id": "bff0ea2c",
   "metadata": {
    "ExecuteTime": {
     "end_time": "2023-06-09T12:10:36.679308Z",
     "start_time": "2023-06-09T12:10:34.990603Z"
    }
   },
   "outputs": [],
   "source": [
    "#date_account_created\n",
    "df1['date_account_created'] = pd.to_datetime(df1['date_account_created'])\n",
    "\n",
    "#timestamp_first_active\n",
    "df1['timestamp_first_active'] = pd.to_datetime(df1['timestamp_first_active'], format='%Y%m%d%H%M%S')\n",
    "# date_first_booking\n",
    "df1['date_first_booking'] = pd.to_datetime(df1['date_first_booking'])\n",
    "#age\n",
    "df1['age'] = df1['age'].astype('int64')\n",
    "\n"
   ]
  },
  {
   "cell_type": "markdown",
   "id": "fa7175b1",
   "metadata": {},
   "source": [
    "## 1.5. Check Target Distribution"
   ]
  },
  {
   "cell_type": "code",
   "execution_count": 14,
   "id": "98316139",
   "metadata": {
    "ExecuteTime": {
     "end_time": "2023-06-09T12:10:36.736489Z",
     "start_time": "2023-06-09T12:10:36.680635Z"
    }
   },
   "outputs": [
    {
     "data": {
      "text/plain": [
       "NDF      0.583473\n",
       "US       0.292226\n",
       "other    0.047290\n",
       "FR       0.023532\n",
       "IT       0.013282\n",
       "GB       0.010888\n",
       "ES       0.010536\n",
       "CA       0.006690\n",
       "DE       0.004971\n",
       "NL       0.003570\n",
       "AU       0.002525\n",
       "PT       0.001017\n",
       "Name: country_destination, dtype: float64"
      ]
     },
     "execution_count": 14,
     "metadata": {},
     "output_type": "execute_result"
    }
   ],
   "source": [
    "df1['country_destination'].value_counts(normalize=True)"
   ]
  },
  {
   "cell_type": "markdown",
   "id": "265ba12b",
   "metadata": {},
   "source": [
    "## 1.6. Descriptive Statistics\n"
   ]
  },
  {
   "cell_type": "markdown",
   "id": "d1d9d8b4",
   "metadata": {
    "ExecuteTime": {
     "end_time": "2022-05-10T13:31:43.626115Z",
     "start_time": "2022-05-10T13:31:43.615159Z"
    }
   },
   "source": [
    "### 1.6.1. Numerical Users"
   ]
  },
  {
   "cell_type": "code",
   "execution_count": 15,
   "id": "f3b37859",
   "metadata": {
    "ExecuteTime": {
     "end_time": "2023-06-09T12:10:36.895221Z",
     "start_time": "2023-06-09T12:10:36.740272Z"
    }
   },
   "outputs": [
    {
     "data": {
      "text/html": [
       "<div>\n",
       "<style scoped>\n",
       "    .dataframe tbody tr th:only-of-type {\n",
       "        vertical-align: middle;\n",
       "    }\n",
       "\n",
       "    .dataframe tbody tr th {\n",
       "        vertical-align: top;\n",
       "    }\n",
       "\n",
       "    .dataframe thead th {\n",
       "        text-align: right;\n",
       "    }\n",
       "</style>\n",
       "<table border=\"1\" class=\"dataframe\">\n",
       "  <thead>\n",
       "    <tr style=\"text-align: right;\">\n",
       "      <th></th>\n",
       "      <th>attributes</th>\n",
       "      <th>min</th>\n",
       "      <th>max</th>\n",
       "      <th>range</th>\n",
       "      <th>mean</th>\n",
       "      <th>median</th>\n",
       "      <th>std</th>\n",
       "      <th>skew</th>\n",
       "      <th>kurtosis</th>\n",
       "    </tr>\n",
       "  </thead>\n",
       "  <tbody>\n",
       "    <tr>\n",
       "      <th>0</th>\n",
       "      <td>age</td>\n",
       "      <td>1.0</td>\n",
       "      <td>2014.0</td>\n",
       "      <td>2013.0</td>\n",
       "      <td>49.392830</td>\n",
       "      <td>49.392830</td>\n",
       "      <td>119.344021</td>\n",
       "      <td>16.210083</td>\n",
       "      <td>263.517271</td>\n",
       "    </tr>\n",
       "    <tr>\n",
       "      <th>1</th>\n",
       "      <td>signup_flow</td>\n",
       "      <td>0.0</td>\n",
       "      <td>25.0</td>\n",
       "      <td>25.0</td>\n",
       "      <td>3.267387</td>\n",
       "      <td>3.267387</td>\n",
       "      <td>7.637689</td>\n",
       "      <td>2.234366</td>\n",
       "      <td>3.324444</td>\n",
       "    </tr>\n",
       "  </tbody>\n",
       "</table>\n",
       "</div>"
      ],
      "text/plain": [
       "    attributes  min     max   range       mean     median         std  \\\n",
       "0          age  1.0  2014.0  2013.0  49.392830  49.392830  119.344021   \n",
       "1  signup_flow  0.0    25.0    25.0   3.267387   3.267387    7.637689   \n",
       "\n",
       "        skew    kurtosis  \n",
       "0  16.210083  263.517271  \n",
       "1   2.234366    3.324444  "
      ]
     },
     "execution_count": 15,
     "metadata": {},
     "output_type": "execute_result"
    }
   ],
   "source": [
    "num_stats(df1)"
   ]
  },
  {
   "cell_type": "markdown",
   "id": "204f4c6a",
   "metadata": {},
   "source": [
    "### 1.6.2. Categorical Users"
   ]
  },
  {
   "cell_type": "code",
   "execution_count": 16,
   "id": "a36ca101",
   "metadata": {
    "ExecuteTime": {
     "end_time": "2023-06-09T12:10:37.446787Z",
     "start_time": "2023-06-09T12:10:36.899032Z"
    }
   },
   "outputs": [
    {
     "data": {
      "text/html": [
       "<div>\n",
       "<style scoped>\n",
       "    .dataframe tbody tr th:only-of-type {\n",
       "        vertical-align: middle;\n",
       "    }\n",
       "\n",
       "    .dataframe tbody tr th {\n",
       "        vertical-align: top;\n",
       "    }\n",
       "\n",
       "    .dataframe thead th {\n",
       "        text-align: right;\n",
       "    }\n",
       "</style>\n",
       "<table border=\"1\" class=\"dataframe\">\n",
       "  <thead>\n",
       "    <tr style=\"text-align: right;\">\n",
       "      <th></th>\n",
       "      <th>gender</th>\n",
       "      <th>signup_method</th>\n",
       "      <th>language</th>\n",
       "      <th>affiliate_channel</th>\n",
       "      <th>affiliate_provider</th>\n",
       "      <th>first_affiliate_tracked</th>\n",
       "      <th>signup_app</th>\n",
       "      <th>first_device_type</th>\n",
       "      <th>first_browser</th>\n",
       "      <th>country_destination</th>\n",
       "    </tr>\n",
       "  </thead>\n",
       "  <tbody>\n",
       "    <tr>\n",
       "      <th>count</th>\n",
       "      <td>213451</td>\n",
       "      <td>213451</td>\n",
       "      <td>213451</td>\n",
       "      <td>213451</td>\n",
       "      <td>213451</td>\n",
       "      <td>207386</td>\n",
       "      <td>213451</td>\n",
       "      <td>213451</td>\n",
       "      <td>213451</td>\n",
       "      <td>213451</td>\n",
       "    </tr>\n",
       "    <tr>\n",
       "      <th>unique</th>\n",
       "      <td>4</td>\n",
       "      <td>3</td>\n",
       "      <td>25</td>\n",
       "      <td>8</td>\n",
       "      <td>18</td>\n",
       "      <td>7</td>\n",
       "      <td>4</td>\n",
       "      <td>9</td>\n",
       "      <td>52</td>\n",
       "      <td>12</td>\n",
       "    </tr>\n",
       "    <tr>\n",
       "      <th>top</th>\n",
       "      <td>-unknown-</td>\n",
       "      <td>basic</td>\n",
       "      <td>en</td>\n",
       "      <td>direct</td>\n",
       "      <td>direct</td>\n",
       "      <td>untracked</td>\n",
       "      <td>Web</td>\n",
       "      <td>Mac Desktop</td>\n",
       "      <td>Chrome</td>\n",
       "      <td>NDF</td>\n",
       "    </tr>\n",
       "    <tr>\n",
       "      <th>freq</th>\n",
       "      <td>95688</td>\n",
       "      <td>152897</td>\n",
       "      <td>206314</td>\n",
       "      <td>137727</td>\n",
       "      <td>137426</td>\n",
       "      <td>109232</td>\n",
       "      <td>182717</td>\n",
       "      <td>89600</td>\n",
       "      <td>63845</td>\n",
       "      <td>124543</td>\n",
       "    </tr>\n",
       "  </tbody>\n",
       "</table>\n",
       "</div>"
      ],
      "text/plain": [
       "           gender signup_method language affiliate_channel affiliate_provider  \\\n",
       "count      213451        213451   213451            213451             213451   \n",
       "unique          4             3       25                 8                 18   \n",
       "top     -unknown-         basic       en            direct             direct   \n",
       "freq        95688        152897   206314            137727             137426   \n",
       "\n",
       "       first_affiliate_tracked signup_app first_device_type first_browser  \\\n",
       "count                   207386     213451            213451        213451   \n",
       "unique                       7          4                 9            52   \n",
       "top                  untracked        Web       Mac Desktop        Chrome   \n",
       "freq                    109232     182717             89600         63845   \n",
       "\n",
       "       country_destination  \n",
       "count               213451  \n",
       "unique                  12  \n",
       "top                    NDF  \n",
       "freq                124543  "
      ]
     },
     "execution_count": 16,
     "metadata": {},
     "output_type": "execute_result"
    }
   ],
   "source": [
    "cat_attributes = df1.select_dtypes('object')\n",
    "cat_attributes.drop('id', axis=1).describe()"
   ]
  },
  {
   "cell_type": "markdown",
   "id": "f064abaa",
   "metadata": {},
   "source": [
    "### 1.6.3. Numerical sessions"
   ]
  },
  {
   "cell_type": "code",
   "execution_count": 17,
   "id": "9098e94b",
   "metadata": {
    "ExecuteTime": {
     "end_time": "2023-06-09T12:10:40.803807Z",
     "start_time": "2023-06-09T12:10:37.446787Z"
    }
   },
   "outputs": [
    {
     "data": {
      "text/html": [
       "<div>\n",
       "<style scoped>\n",
       "    .dataframe tbody tr th:only-of-type {\n",
       "        vertical-align: middle;\n",
       "    }\n",
       "\n",
       "    .dataframe tbody tr th {\n",
       "        vertical-align: top;\n",
       "    }\n",
       "\n",
       "    .dataframe thead th {\n",
       "        text-align: right;\n",
       "    }\n",
       "</style>\n",
       "<table border=\"1\" class=\"dataframe\">\n",
       "  <thead>\n",
       "    <tr style=\"text-align: right;\">\n",
       "      <th></th>\n",
       "      <th>attributes</th>\n",
       "      <th>min</th>\n",
       "      <th>max</th>\n",
       "      <th>range</th>\n",
       "      <th>mean</th>\n",
       "      <th>median</th>\n",
       "      <th>std</th>\n",
       "      <th>skew</th>\n",
       "      <th>kurtosis</th>\n",
       "    </tr>\n",
       "  </thead>\n",
       "  <tbody>\n",
       "    <tr>\n",
       "      <th>0</th>\n",
       "      <td>secs_elapsed</td>\n",
       "      <td>0.0</td>\n",
       "      <td>1799977.0</td>\n",
       "      <td>1799977.0</td>\n",
       "      <td>19961.8251</td>\n",
       "      <td>19961.8251</td>\n",
       "      <td>88849.388449</td>\n",
       "      <td>11.137761</td>\n",
       "      <td>154.84312</td>\n",
       "    </tr>\n",
       "  </tbody>\n",
       "</table>\n",
       "</div>"
      ],
      "text/plain": [
       "     attributes  min        max      range        mean      median  \\\n",
       "0  secs_elapsed  0.0  1799977.0  1799977.0  19961.8251  19961.8251   \n",
       "\n",
       "            std       skew   kurtosis  \n",
       "0  88849.388449  11.137761  154.84312  "
      ]
     },
     "execution_count": 17,
     "metadata": {},
     "output_type": "execute_result"
    }
   ],
   "source": [
    "num_stats(df_sessions)"
   ]
  },
  {
   "cell_type": "markdown",
   "id": "f75120e7",
   "metadata": {},
   "source": [
    "### 1.6.4. Categorical Sessions"
   ]
  },
  {
   "cell_type": "code",
   "execution_count": 18,
   "id": "a7195cca",
   "metadata": {
    "ExecuteTime": {
     "end_time": "2023-06-09T12:10:49.495361Z",
     "start_time": "2023-06-09T12:10:40.803807Z"
    }
   },
   "outputs": [
    {
     "data": {
      "text/html": [
       "<div>\n",
       "<style scoped>\n",
       "    .dataframe tbody tr th:only-of-type {\n",
       "        vertical-align: middle;\n",
       "    }\n",
       "\n",
       "    .dataframe tbody tr th {\n",
       "        vertical-align: top;\n",
       "    }\n",
       "\n",
       "    .dataframe thead th {\n",
       "        text-align: right;\n",
       "    }\n",
       "</style>\n",
       "<table border=\"1\" class=\"dataframe\">\n",
       "  <thead>\n",
       "    <tr style=\"text-align: right;\">\n",
       "      <th></th>\n",
       "      <th>action</th>\n",
       "      <th>action_type</th>\n",
       "      <th>action_detail</th>\n",
       "      <th>device_type</th>\n",
       "    </tr>\n",
       "  </thead>\n",
       "  <tbody>\n",
       "    <tr>\n",
       "      <th>count</th>\n",
       "      <td>9213930</td>\n",
       "      <td>9213930</td>\n",
       "      <td>9213930</td>\n",
       "      <td>9213930</td>\n",
       "    </tr>\n",
       "    <tr>\n",
       "      <th>unique</th>\n",
       "      <td>347</td>\n",
       "      <td>10</td>\n",
       "      <td>155</td>\n",
       "      <td>14</td>\n",
       "    </tr>\n",
       "    <tr>\n",
       "      <th>top</th>\n",
       "      <td>show</td>\n",
       "      <td>view</td>\n",
       "      <td>view_search_results</td>\n",
       "      <td>Mac Desktop</td>\n",
       "    </tr>\n",
       "    <tr>\n",
       "      <th>freq</th>\n",
       "      <td>2178382</td>\n",
       "      <td>3545621</td>\n",
       "      <td>1770931</td>\n",
       "      <td>3019523</td>\n",
       "    </tr>\n",
       "  </tbody>\n",
       "</table>\n",
       "</div>"
      ],
      "text/plain": [
       "         action action_type        action_detail  device_type\n",
       "count   9213930     9213930              9213930      9213930\n",
       "unique      347          10                  155           14\n",
       "top        show        view  view_search_results  Mac Desktop\n",
       "freq    2178382     3545621              1770931      3019523"
      ]
     },
     "execution_count": 18,
     "metadata": {},
     "output_type": "execute_result"
    }
   ],
   "source": [
    "cat_attributes_session = df_sessions.select_dtypes('object').drop('user_id', axis=1)\n",
    "cat_attributes_session.describe()"
   ]
  },
  {
   "cell_type": "code",
   "execution_count": 19,
   "id": "7b1e61ff",
   "metadata": {
    "ExecuteTime": {
     "end_time": "2023-06-09T12:11:48.171008Z",
     "start_time": "2023-06-09T12:10:49.500044Z"
    }
   },
   "outputs": [],
   "source": [
    "#List os cat attributes for cramer v correlation\n",
    "cat_attributes_list = cat_attributes_session.columns.tolist()\n",
    "\n",
    "#dict to get all corr (rowxcolumn)\n",
    "corr_dict = {}\n",
    "for i in range(len(cat_attributes_list)):\n",
    "    corr_list=[]\n",
    "    for j in range(len(cat_attributes_list)):\n",
    "        ref = cat_attributes_list[i]\n",
    "        feat = cat_attributes_list[j]\n",
    "        \n",
    "        corr = cramer_v(cat_attributes_session[ref], cat_attributes_session[feat])\n",
    "        corr_list.append(corr)\n",
    "    corr_dict[ref] = corr_list"
   ]
  },
  {
   "cell_type": "code",
   "execution_count": 20,
   "id": "3c0efd76",
   "metadata": {
    "ExecuteTime": {
     "end_time": "2023-06-09T12:11:48.187274Z",
     "start_time": "2023-06-09T12:11:48.172573Z"
    }
   },
   "outputs": [],
   "source": [
    "corr_df = pd.DataFrame(corr_dict)\n",
    "corr_df = corr_df.set_index(corr_df.columns)\n"
   ]
  },
  {
   "cell_type": "code",
   "execution_count": 21,
   "id": "d74a24bb",
   "metadata": {
    "ExecuteTime": {
     "end_time": "2023-06-09T12:11:48.776663Z",
     "start_time": "2023-06-09T12:11:48.191587Z"
    }
   },
   "outputs": [
    {
     "data": {
      "image/png": "[encoded data removed]",
      "text/plain": [
       "<Figure size 640x480 with 2 Axes>"
      ]
     },
     "metadata": {},
     "output_type": "display_data"
    }
   ],
   "source": [
    "sns.heatmap(corr_df, annot=True);\n"
   ]
  },
  {
   "cell_type": "markdown",
   "id": "2d82e703",
   "metadata": {},
   "source": [
    "Conclusion: High correlation between:\n",
    "* action and action_type\n",
    "* action and action_detail"
   ]
  },
  {
   "cell_type": "markdown",
   "id": "02815195",
   "metadata": {},
   "source": [
    "# 2.0. Feature Engineering"
   ]
  },
  {
   "cell_type": "code",
   "execution_count": 22,
   "id": "0b7a5d8f",
   "metadata": {
    "ExecuteTime": {
     "end_time": "2023-06-09T12:11:48.883514Z",
     "start_time": "2023-06-09T12:11:48.779825Z"
    }
   },
   "outputs": [],
   "source": [
    "df2 = df1.copy()"
   ]
  },
  {
   "cell_type": "code",
   "execution_count": 23,
   "id": "39e63495",
   "metadata": {
    "ExecuteTime": {
     "end_time": "2023-06-09T12:11:49.993255Z",
     "start_time": "2023-06-09T12:11:48.884050Z"
    }
   },
   "outputs": [
    {
     "name": "stderr",
     "output_type": "stream",
     "text": [
      "C:\\Users\\HeitorFelixdeOliveir\\AppData\\Local\\Temp\\ipykernel_24124\\3870884473.py:24: FutureWarning: Series.dt.weekofyear and Series.dt.week have been deprecated. Please use Series.dt.isocalendar().week instead.\n",
      "  df2['week_of_year_first_active'] = df2['first_active'].dt.weekofyear\n",
      "C:\\Users\\HeitorFelixdeOliveir\\AppData\\Local\\Temp\\ipykernel_24124\\3870884473.py:40: FutureWarning: Series.dt.weekofyear and Series.dt.week have been deprecated. Please use Series.dt.isocalendar().week instead.\n",
      "  df2['week_of_year_first_booking'] = df2['date_first_booking'].dt.weekofyear\n",
      "C:\\Users\\HeitorFelixdeOliveir\\AppData\\Local\\Temp\\ipykernel_24124\\3870884473.py:56: FutureWarning: Series.dt.weekofyear and Series.dt.week have been deprecated. Please use Series.dt.isocalendar().week instead.\n",
      "  df2['week_of_year_account_created'] = df2['date_account_created'].dt.weekofyear\n"
     ]
    }
   ],
   "source": [
    "#time between first booking and first active\n",
    "df2['first_active'] = pd.to_datetime(df2['timestamp_first_active'].dt.strftime('%Y-%m-%d'))\n",
    "df2['days_from_active_to_booking'] = (df2['date_first_booking'] - df2['first_active']).dt.days\n",
    "\n",
    "#time between first booking and account created\n",
    "df2['days_from_account_created_to_booking'] = (df2['date_first_booking'] - df2['date_account_created']).dt.days\n",
    "\n",
    "#time between account created and first active\n",
    "df2['days_from_active_to_account_created'] = (df2['date_account_created'] - df2['first_active']).dt.days\n",
    "\n",
    "#year  of first active\n",
    "df2['year_first_active'] = df2['first_active'].dt.year\n",
    "\n",
    "#month of first active\n",
    "df2['month_first_active'] = df2['first_active'].dt.month\n",
    "\n",
    "#day of first active\n",
    "df2['day_first_active'] = df2['first_active'].dt.day\n",
    "\n",
    "#day of week of first active\n",
    "df2['day_of_week_first_active'] = df2['first_active'].dt.dayofweek\n",
    "\n",
    "#week of year of first active\n",
    "df2['week_of_year_first_active'] = df2['first_active'].dt.weekofyear\n",
    "\n",
    "\n",
    "#year  of first booking\n",
    "df2['year_first_booking'] = df2['date_first_booking'].dt.year\n",
    "\n",
    "#month of first booking\n",
    "df2['month_first_booking'] = df2['date_first_booking'].dt.month\n",
    "\n",
    "#day of first booking\n",
    "df2['day_first_booking'] = df2['date_first_booking'].dt.day\n",
    "\n",
    "#day of week of first booking\n",
    "df2['day_of_week_first_booking'] = df2['date_first_booking'].dt.dayofweek\n",
    "\n",
    "#week of year of first booking\n",
    "df2['week_of_year_first_booking'] = df2['date_first_booking'].dt.weekofyear\n",
    "\n",
    "\n",
    "#year  of account created\n",
    "df2['year_account_created'] = df2['date_account_created'].dt.year\n",
    "\n",
    "#month of account created\n",
    "df2['month_account_created'] = df2['date_account_created'].dt.month\n",
    "\n",
    "#day of account created\n",
    "df2['day_account_created'] = df2['date_account_created'].dt.day\n",
    "\n",
    "#day of week of account created\n",
    "df2['day_of_week_account_created'] = df2['date_account_created'].dt.dayofweek\n",
    "\n",
    "#week of year of account created\n",
    "df2['week_of_year_account_created'] = df2['date_account_created'].dt.weekofyear"
   ]
  },
  {
   "cell_type": "code",
   "execution_count": 24,
   "id": "64ebbcc1",
   "metadata": {
    "ExecuteTime": {
     "end_time": "2023-06-09T12:11:50.034763Z",
     "start_time": "2023-06-09T12:11:49.993255Z"
    }
   },
   "outputs": [
    {
     "data": {
      "text/html": [
       "<div>\n",
       "<style scoped>\n",
       "    .dataframe tbody tr th:only-of-type {\n",
       "        vertical-align: middle;\n",
       "    }\n",
       "\n",
       "    .dataframe tbody tr th {\n",
       "        vertical-align: top;\n",
       "    }\n",
       "\n",
       "    .dataframe thead th {\n",
       "        text-align: right;\n",
       "    }\n",
       "</style>\n",
       "<table border=\"1\" class=\"dataframe\">\n",
       "  <thead>\n",
       "    <tr style=\"text-align: right;\">\n",
       "      <th></th>\n",
       "      <th>id</th>\n",
       "      <th>date_account_created</th>\n",
       "      <th>timestamp_first_active</th>\n",
       "      <th>date_first_booking</th>\n",
       "      <th>gender</th>\n",
       "      <th>age</th>\n",
       "      <th>signup_method</th>\n",
       "      <th>signup_flow</th>\n",
       "      <th>language</th>\n",
       "      <th>affiliate_channel</th>\n",
       "      <th>...</th>\n",
       "      <th>year_first_booking</th>\n",
       "      <th>month_first_booking</th>\n",
       "      <th>day_first_booking</th>\n",
       "      <th>day_of_week_first_booking</th>\n",
       "      <th>week_of_year_first_booking</th>\n",
       "      <th>year_account_created</th>\n",
       "      <th>month_account_created</th>\n",
       "      <th>day_account_created</th>\n",
       "      <th>day_of_week_account_created</th>\n",
       "      <th>week_of_year_account_created</th>\n",
       "    </tr>\n",
       "  </thead>\n",
       "  <tbody>\n",
       "    <tr>\n",
       "      <th>0</th>\n",
       "      <td>gxn3p5htnn</td>\n",
       "      <td>2010-06-28</td>\n",
       "      <td>2009-03-19 04:32:55</td>\n",
       "      <td>2015-06-29</td>\n",
       "      <td>-unknown-</td>\n",
       "      <td>49</td>\n",
       "      <td>facebook</td>\n",
       "      <td>0</td>\n",
       "      <td>en</td>\n",
       "      <td>direct</td>\n",
       "      <td>...</td>\n",
       "      <td>2015</td>\n",
       "      <td>6</td>\n",
       "      <td>29</td>\n",
       "      <td>0</td>\n",
       "      <td>27</td>\n",
       "      <td>2010</td>\n",
       "      <td>6</td>\n",
       "      <td>28</td>\n",
       "      <td>0</td>\n",
       "      <td>26</td>\n",
       "    </tr>\n",
       "    <tr>\n",
       "      <th>1</th>\n",
       "      <td>820tgsjxq7</td>\n",
       "      <td>2011-05-25</td>\n",
       "      <td>2009-05-23 17:48:09</td>\n",
       "      <td>2015-06-29</td>\n",
       "      <td>MALE</td>\n",
       "      <td>38</td>\n",
       "      <td>facebook</td>\n",
       "      <td>0</td>\n",
       "      <td>en</td>\n",
       "      <td>seo</td>\n",
       "      <td>...</td>\n",
       "      <td>2015</td>\n",
       "      <td>6</td>\n",
       "      <td>29</td>\n",
       "      <td>0</td>\n",
       "      <td>27</td>\n",
       "      <td>2011</td>\n",
       "      <td>5</td>\n",
       "      <td>25</td>\n",
       "      <td>2</td>\n",
       "      <td>21</td>\n",
       "    </tr>\n",
       "    <tr>\n",
       "      <th>2</th>\n",
       "      <td>4ft3gnwmtx</td>\n",
       "      <td>2010-09-28</td>\n",
       "      <td>2009-06-09 23:12:47</td>\n",
       "      <td>2010-08-02</td>\n",
       "      <td>FEMALE</td>\n",
       "      <td>56</td>\n",
       "      <td>basic</td>\n",
       "      <td>3</td>\n",
       "      <td>en</td>\n",
       "      <td>direct</td>\n",
       "      <td>...</td>\n",
       "      <td>2010</td>\n",
       "      <td>8</td>\n",
       "      <td>2</td>\n",
       "      <td>0</td>\n",
       "      <td>31</td>\n",
       "      <td>2010</td>\n",
       "      <td>9</td>\n",
       "      <td>28</td>\n",
       "      <td>1</td>\n",
       "      <td>39</td>\n",
       "    </tr>\n",
       "    <tr>\n",
       "      <th>3</th>\n",
       "      <td>bjjt8pjhuk</td>\n",
       "      <td>2011-12-05</td>\n",
       "      <td>2009-10-31 06:01:29</td>\n",
       "      <td>2012-09-08</td>\n",
       "      <td>FEMALE</td>\n",
       "      <td>42</td>\n",
       "      <td>facebook</td>\n",
       "      <td>0</td>\n",
       "      <td>en</td>\n",
       "      <td>direct</td>\n",
       "      <td>...</td>\n",
       "      <td>2012</td>\n",
       "      <td>9</td>\n",
       "      <td>8</td>\n",
       "      <td>5</td>\n",
       "      <td>36</td>\n",
       "      <td>2011</td>\n",
       "      <td>12</td>\n",
       "      <td>5</td>\n",
       "      <td>0</td>\n",
       "      <td>49</td>\n",
       "    </tr>\n",
       "    <tr>\n",
       "      <th>4</th>\n",
       "      <td>87mebub9p4</td>\n",
       "      <td>2010-09-14</td>\n",
       "      <td>2009-12-08 06:11:05</td>\n",
       "      <td>2010-02-18</td>\n",
       "      <td>-unknown-</td>\n",
       "      <td>41</td>\n",
       "      <td>basic</td>\n",
       "      <td>0</td>\n",
       "      <td>en</td>\n",
       "      <td>direct</td>\n",
       "      <td>...</td>\n",
       "      <td>2010</td>\n",
       "      <td>2</td>\n",
       "      <td>18</td>\n",
       "      <td>3</td>\n",
       "      <td>7</td>\n",
       "      <td>2010</td>\n",
       "      <td>9</td>\n",
       "      <td>14</td>\n",
       "      <td>1</td>\n",
       "      <td>37</td>\n",
       "    </tr>\n",
       "  </tbody>\n",
       "</table>\n",
       "<p>5 rows × 35 columns</p>\n",
       "</div>"
      ],
      "text/plain": [
       "           id date_account_created timestamp_first_active date_first_booking  \\\n",
       "0  gxn3p5htnn           2010-06-28    2009-03-19 04:32:55         2015-06-29   \n",
       "1  820tgsjxq7           2011-05-25    2009-05-23 17:48:09         2015-06-29   \n",
       "2  4ft3gnwmtx           2010-09-28    2009-06-09 23:12:47         2010-08-02   \n",
       "3  bjjt8pjhuk           2011-12-05    2009-10-31 06:01:29         2012-09-08   \n",
       "4  87mebub9p4           2010-09-14    2009-12-08 06:11:05         2010-02-18   \n",
       "\n",
       "      gender  age signup_method  signup_flow language affiliate_channel  ...  \\\n",
       "0  -unknown-   49      facebook            0       en            direct  ...   \n",
       "1       MALE   38      facebook            0       en               seo  ...   \n",
       "2     FEMALE   56         basic            3       en            direct  ...   \n",
       "3     FEMALE   42      facebook            0       en            direct  ...   \n",
       "4  -unknown-   41         basic            0       en            direct  ...   \n",
       "\n",
       "  year_first_booking month_first_booking day_first_booking  \\\n",
       "0               2015                   6                29   \n",
       "1               2015                   6                29   \n",
       "2               2010                   8                 2   \n",
       "3               2012                   9                 8   \n",
       "4               2010                   2                18   \n",
       "\n",
       "  day_of_week_first_booking week_of_year_first_booking year_account_created  \\\n",
       "0                         0                         27                 2010   \n",
       "1                         0                         27                 2011   \n",
       "2                         0                         31                 2010   \n",
       "3                         5                         36                 2011   \n",
       "4                         3                          7                 2010   \n",
       "\n",
       "  month_account_created  day_account_created  day_of_week_account_created  \\\n",
       "0                     6                   28                            0   \n",
       "1                     5                   25                            2   \n",
       "2                     9                   28                            1   \n",
       "3                    12                    5                            0   \n",
       "4                     9                   14                            1   \n",
       "\n",
       "   week_of_year_account_created  \n",
       "0                            26  \n",
       "1                            21  \n",
       "2                            39  \n",
       "3                            49  \n",
       "4                            37  \n",
       "\n",
       "[5 rows x 35 columns]"
      ]
     },
     "execution_count": 24,
     "metadata": {},
     "output_type": "execute_result"
    }
   ],
   "source": [
    "df2.head()"
   ]
  },
  {
   "cell_type": "markdown",
   "id": "c6a82c8a",
   "metadata": {},
   "source": [
    "# 3.0. Data Filtering"
   ]
  },
  {
   "cell_type": "code",
   "execution_count": 25,
   "id": "f5aded92",
   "metadata": {
    "ExecuteTime": {
     "end_time": "2023-06-09T12:11:50.166277Z",
     "start_time": "2023-06-09T12:11:50.037186Z"
    }
   },
   "outputs": [],
   "source": [
    "df3= df2.copy()"
   ]
  },
  {
   "cell_type": "markdown",
   "id": "6710edbe",
   "metadata": {},
   "source": [
    "## 3.1. Filtering Rows"
   ]
  },
  {
   "cell_type": "code",
   "execution_count": 26,
   "id": "5bed03e0",
   "metadata": {
    "ExecuteTime": {
     "end_time": "2023-06-09T12:11:50.290219Z",
     "start_time": "2023-06-09T12:11:50.170440Z"
    }
   },
   "outputs": [
    {
     "name": "stdout",
     "output_type": "stream",
     "text": [
      "213451 before filter\n",
      "211015 after filter\n"
     ]
    }
   ],
   "source": [
    "#age greater thaan 15 and lower than 100 - few people\n",
    "print(len(df3), 'before filter')\n",
    "df3 = df3[(df3['age']>15) & (df3['age']<100)]\n",
    "print(len(df3), 'after filter')"
   ]
  },
  {
   "cell_type": "markdown",
   "id": "a21d9b82",
   "metadata": {},
   "source": [
    "## 3.2. Columns Selections"
   ]
  },
  {
   "cell_type": "markdown",
   "id": "7538f134",
   "metadata": {},
   "source": [
    "# 4.0. Data Preparation"
   ]
  },
  {
   "cell_type": "code",
   "execution_count": 27,
   "id": "6ab6bded",
   "metadata": {
    "ExecuteTime": {
     "end_time": "2023-06-09T12:11:50.364876Z",
     "start_time": "2023-06-09T12:11:50.294823Z"
    }
   },
   "outputs": [],
   "source": [
    "df4 = df3.copy()"
   ]
  },
  {
   "cell_type": "markdown",
   "id": "b87d4983",
   "metadata": {},
   "source": [
    "### 4.1. Encoding"
   ]
  },
  {
   "cell_type": "code",
   "execution_count": 28,
   "id": "4b5ce288",
   "metadata": {
    "ExecuteTime": {
     "end_time": "2023-06-09T12:11:50.896835Z",
     "start_time": "2023-06-09T12:11:50.364876Z"
    }
   },
   "outputs": [],
   "source": [
    "#dummy variable - signup_method\n",
    "dummy = pd.get_dummies(df4['signup_method'])\n",
    "df4 = pd.concat([df4, dummy], axis=1)\n",
    "\n",
    "# language to binary, either is english or not\n",
    "df4['language_en'] = np.where(df4['language']=='en', 1, 0)\n",
    "\n",
    "# signup to binary, either is web or not\n",
    "df4['signup_on_web'] = np.where(df4['signup_app']== 'Web', 1, 0)\n",
    "\n",
    "# first_affiliate_tracked to binary, either is tracked or not\n",
    "df4['tracked'] = np.where(df4['first_affiliate_tracked']=='untracked', 0, 1)\n",
    "\n",
    "#binary features from first_device_type\n",
    "df4['first_device_apple'] = np.where(df4['first_device_type'].isin(['Mac Desktop', 'iPhone', 'iPad']), 1 ,0)\n",
    "df4['first_device_desktop'] = np.where(df4['first_device_type'].isin(['Mac Desktop', 'Desktop', 'Windows Desktop']), 1, 0)\n",
    "\n",
    "# frequency encoding\n",
    "affiliate_channel_frequency_encoding = df4['affiliate_channel'].value_counts(normalize=True)\n",
    "df4['affiliate_channel'] = df4['affiliate_channel'].map(affiliate_channel_frequency_encoding)\n",
    "\n",
    "affiliate_provider_frequency_encoding = df4['affiliate_provider'].value_counts(normalize=True)\n",
    "df4['affiliate_provider'] = df4['affiliate_provider'].map(affiliate_provider_frequency_encoding)\n",
    "\n",
    "first_browser_frequency_encoding = df4['first_browser'].value_counts(normalize=True)\n",
    "df4['first_browser'] = df4['first_browser'].map(first_browser_frequency_encoding)"
   ]
  },
  {
   "cell_type": "markdown",
   "id": "d8555192",
   "metadata": {},
   "source": [
    "### 4.2. Rescaling"
   ]
  },
  {
   "cell_type": "code",
   "execution_count": 29,
   "id": "95d287d1",
   "metadata": {
    "ExecuteTime": {
     "end_time": "2023-06-09T12:11:51.320082Z",
     "start_time": "2023-06-09T12:11:50.900081Z"
    }
   },
   "outputs": [],
   "source": [
    "from sklearn.preprocessing import MinMaxScaler\n",
    "\n",
    "# Selecionar as colunas a serem redimensionadas\n",
    "columns_to_rescale = [\n",
    "\"age\",\n",
    "\"signup_flow\",\n",
    "\"days_from_active_to_booking\",\n",
    "\"days_from_account_created_to_booking\",\n",
    "\"days_from_active_to_account_created\",\n",
    "\"year_first_active\",\n",
    "\"month_first_active\",\n",
    "\"day_first_active\",\n",
    "\"day_of_week_first_active\",\n",
    "\"week_of_year_first_active\",\n",
    "\"year_first_booking\",\n",
    "\"month_first_booking\",\n",
    "\"day_first_booking\",\n",
    "\"day_of_week_first_booking\",\n",
    "\"week_of_year_first_booking\",\n",
    "\"year_account_created\",\n",
    "\"month_account_created\",\n",
    "\"day_account_created\",\n",
    "\"day_of_week_account_created\",\n",
    "\"week_of_year_account_created\",\n",
    "]\n",
    "\n",
    "# Criar uma instância do MinMaxScaler\n",
    "scaler = MinMaxScaler()\n",
    "\n",
    "# Redimensionar as colunas selecionadas\n",
    "df4[columns_to_rescale] = scaler.fit_transform(df4[columns_to_rescale])\n"
   ]
  },
  {
   "cell_type": "markdown",
   "id": "2149740e",
   "metadata": {},
   "source": [
    "# 5.0. Feature Selections"
   ]
  },
  {
   "cell_type": "code",
   "execution_count": 30,
   "id": "1f0d60e8",
   "metadata": {
    "ExecuteTime": {
     "end_time": "2023-06-09T12:11:51.368397Z",
     "start_time": "2023-06-09T12:11:51.328244Z"
    }
   },
   "outputs": [
    {
     "data": {
      "text/plain": [
       "Index(['id', 'gender', 'signup_method', 'language', 'first_affiliate_tracked',\n",
       "       'signup_app', 'first_device_type', 'country_destination'],\n",
       "      dtype='object')"
      ]
     },
     "execution_count": 30,
     "metadata": {},
     "output_type": "execute_result"
    }
   ],
   "source": [
    "df4.select_dtypes('object').columns"
   ]
  },
  {
   "cell_type": "code",
   "execution_count": 31,
   "id": "3ac644e4",
   "metadata": {
    "ExecuteTime": {
     "end_time": "2023-06-09T12:11:51.426583Z",
     "start_time": "2023-06-09T12:11:51.369970Z"
    }
   },
   "outputs": [],
   "source": [
    "cols_drop = ['gender', 'gender', 'signup_method', 'language', 'first_affiliate_tracked',\n",
    "       'signup_app', 'first_device_type','date_account_created', 'timestamp_first_active',\n",
    "             'date_first_booking', 'first_active'] #original dates\n",
    "df5 = df4.drop(cols_drop, axis=1)"
   ]
  },
  {
   "cell_type": "code",
   "execution_count": 32,
   "id": "12ecdfe5",
   "metadata": {
    "ExecuteTime": {
     "end_time": "2023-06-09T12:11:51.476602Z",
     "start_time": "2023-06-09T12:11:51.426583Z"
    }
   },
   "outputs": [
    {
     "data": {
      "text/html": [
       "<div>\n",
       "<style scoped>\n",
       "    .dataframe tbody tr th:only-of-type {\n",
       "        vertical-align: middle;\n",
       "    }\n",
       "\n",
       "    .dataframe tbody tr th {\n",
       "        vertical-align: top;\n",
       "    }\n",
       "\n",
       "    .dataframe thead th {\n",
       "        text-align: right;\n",
       "    }\n",
       "</style>\n",
       "<table border=\"1\" class=\"dataframe\">\n",
       "  <thead>\n",
       "    <tr style=\"text-align: right;\">\n",
       "      <th></th>\n",
       "      <th>id</th>\n",
       "      <th>age</th>\n",
       "      <th>signup_flow</th>\n",
       "      <th>affiliate_channel</th>\n",
       "      <th>affiliate_provider</th>\n",
       "      <th>first_browser</th>\n",
       "      <th>country_destination</th>\n",
       "      <th>days_from_active_to_booking</th>\n",
       "      <th>days_from_account_created_to_booking</th>\n",
       "      <th>days_from_active_to_account_created</th>\n",
       "      <th>...</th>\n",
       "      <th>day_of_week_account_created</th>\n",
       "      <th>week_of_year_account_created</th>\n",
       "      <th>basic</th>\n",
       "      <th>facebook</th>\n",
       "      <th>google</th>\n",
       "      <th>language_en</th>\n",
       "      <th>signup_on_web</th>\n",
       "      <th>tracked</th>\n",
       "      <th>first_device_apple</th>\n",
       "      <th>first_device_desktop</th>\n",
       "    </tr>\n",
       "  </thead>\n",
       "  <tbody>\n",
       "    <tr>\n",
       "      <th>0</th>\n",
       "      <td>gxn3p5htnn</td>\n",
       "      <td>0.397590</td>\n",
       "      <td>0.00</td>\n",
       "      <td>0.645381</td>\n",
       "      <td>0.643978</td>\n",
       "      <td>0.299197</td>\n",
       "      <td>NDF</td>\n",
       "      <td>1.000000</td>\n",
       "      <td>0.925957</td>\n",
       "      <td>0.320055</td>\n",
       "      <td>...</td>\n",
       "      <td>0.000000</td>\n",
       "      <td>0.480769</td>\n",
       "      <td>0</td>\n",
       "      <td>1</td>\n",
       "      <td>0</td>\n",
       "      <td>1</td>\n",
       "      <td>1</td>\n",
       "      <td>0</td>\n",
       "      <td>1</td>\n",
       "      <td>1</td>\n",
       "    </tr>\n",
       "    <tr>\n",
       "      <th>1</th>\n",
       "      <td>820tgsjxq7</td>\n",
       "      <td>0.265060</td>\n",
       "      <td>0.00</td>\n",
       "      <td>0.040556</td>\n",
       "      <td>0.241926</td>\n",
       "      <td>0.299197</td>\n",
       "      <td>NDF</td>\n",
       "      <td>0.971653</td>\n",
       "      <td>0.785106</td>\n",
       "      <td>0.502747</td>\n",
       "      <td>...</td>\n",
       "      <td>0.333333</td>\n",
       "      <td>0.384615</td>\n",
       "      <td>0</td>\n",
       "      <td>1</td>\n",
       "      <td>0</td>\n",
       "      <td>1</td>\n",
       "      <td>1</td>\n",
       "      <td>0</td>\n",
       "      <td>1</td>\n",
       "      <td>1</td>\n",
       "    </tr>\n",
       "    <tr>\n",
       "      <th>2</th>\n",
       "      <td>4ft3gnwmtx</td>\n",
       "      <td>0.481928</td>\n",
       "      <td>0.12</td>\n",
       "      <td>0.645381</td>\n",
       "      <td>0.643978</td>\n",
       "      <td>0.098491</td>\n",
       "      <td>US</td>\n",
       "      <td>0.182730</td>\n",
       "      <td>0.124255</td>\n",
       "      <td>0.326923</td>\n",
       "      <td>...</td>\n",
       "      <td>0.166667</td>\n",
       "      <td>0.730769</td>\n",
       "      <td>1</td>\n",
       "      <td>0</td>\n",
       "      <td>0</td>\n",
       "      <td>1</td>\n",
       "      <td>1</td>\n",
       "      <td>0</td>\n",
       "      <td>0</td>\n",
       "      <td>1</td>\n",
       "    </tr>\n",
       "    <tr>\n",
       "      <th>3</th>\n",
       "      <td>bjjt8pjhuk</td>\n",
       "      <td>0.313253</td>\n",
       "      <td>0.00</td>\n",
       "      <td>0.645381</td>\n",
       "      <td>0.643978</td>\n",
       "      <td>0.157505</td>\n",
       "      <td>other</td>\n",
       "      <td>0.454863</td>\n",
       "      <td>0.266809</td>\n",
       "      <td>0.525412</td>\n",
       "      <td>...</td>\n",
       "      <td>0.000000</td>\n",
       "      <td>0.923077</td>\n",
       "      <td>0</td>\n",
       "      <td>1</td>\n",
       "      <td>0</td>\n",
       "      <td>1</td>\n",
       "      <td>1</td>\n",
       "      <td>0</td>\n",
       "      <td>1</td>\n",
       "      <td>1</td>\n",
       "    </tr>\n",
       "    <tr>\n",
       "      <th>4</th>\n",
       "      <td>87mebub9p4</td>\n",
       "      <td>0.301205</td>\n",
       "      <td>0.00</td>\n",
       "      <td>0.645381</td>\n",
       "      <td>0.643978</td>\n",
       "      <td>0.299197</td>\n",
       "      <td>US</td>\n",
       "      <td>0.031400</td>\n",
       "      <td>0.060000</td>\n",
       "      <td>0.192308</td>\n",
       "      <td>...</td>\n",
       "      <td>0.166667</td>\n",
       "      <td>0.692308</td>\n",
       "      <td>1</td>\n",
       "      <td>0</td>\n",
       "      <td>0</td>\n",
       "      <td>1</td>\n",
       "      <td>1</td>\n",
       "      <td>0</td>\n",
       "      <td>1</td>\n",
       "      <td>1</td>\n",
       "    </tr>\n",
       "  </tbody>\n",
       "</table>\n",
       "<p>5 rows × 33 columns</p>\n",
       "</div>"
      ],
      "text/plain": [
       "           id       age  signup_flow  affiliate_channel  affiliate_provider  \\\n",
       "0  gxn3p5htnn  0.397590         0.00           0.645381            0.643978   \n",
       "1  820tgsjxq7  0.265060         0.00           0.040556            0.241926   \n",
       "2  4ft3gnwmtx  0.481928         0.12           0.645381            0.643978   \n",
       "3  bjjt8pjhuk  0.313253         0.00           0.645381            0.643978   \n",
       "4  87mebub9p4  0.301205         0.00           0.645381            0.643978   \n",
       "\n",
       "   first_browser country_destination  days_from_active_to_booking  \\\n",
       "0       0.299197                 NDF                     1.000000   \n",
       "1       0.299197                 NDF                     0.971653   \n",
       "2       0.098491                  US                     0.182730   \n",
       "3       0.157505               other                     0.454863   \n",
       "4       0.299197                  US                     0.031400   \n",
       "\n",
       "   days_from_account_created_to_booking  days_from_active_to_account_created  \\\n",
       "0                              0.925957                             0.320055   \n",
       "1                              0.785106                             0.502747   \n",
       "2                              0.124255                             0.326923   \n",
       "3                              0.266809                             0.525412   \n",
       "4                              0.060000                             0.192308   \n",
       "\n",
       "   ...  day_of_week_account_created  week_of_year_account_created  basic  \\\n",
       "0  ...                     0.000000                      0.480769      0   \n",
       "1  ...                     0.333333                      0.384615      0   \n",
       "2  ...                     0.166667                      0.730769      1   \n",
       "3  ...                     0.000000                      0.923077      0   \n",
       "4  ...                     0.166667                      0.692308      1   \n",
       "\n",
       "   facebook  google  language_en  signup_on_web  tracked  first_device_apple  \\\n",
       "0         1       0            1              1        0                   1   \n",
       "1         1       0            1              1        0                   1   \n",
       "2         0       0            1              1        0                   0   \n",
       "3         1       0            1              1        0                   1   \n",
       "4         0       0            1              1        0                   1   \n",
       "\n",
       "   first_device_desktop  \n",
       "0                     1  \n",
       "1                     1  \n",
       "2                     1  \n",
       "3                     1  \n",
       "4                     1  \n",
       "\n",
       "[5 rows x 33 columns]"
      ]
     },
     "execution_count": 32,
     "metadata": {},
     "output_type": "execute_result"
    }
   ],
   "source": [
    "df5.head()"
   ]
  },
  {
   "cell_type": "code",
   "execution_count": 33,
   "id": "66780279",
   "metadata": {
    "ExecuteTime": {
     "end_time": "2023-06-09T12:11:51.543466Z",
     "start_time": "2023-06-09T12:11:51.479694Z"
    }
   },
   "outputs": [],
   "source": [
    "X = df5.drop(['country_destination', 'id'], axis=1)\n",
    "y = df5['country_destination'].copy()"
   ]
  },
  {
   "cell_type": "code",
   "execution_count": 34,
   "id": "2d7266d2",
   "metadata": {
    "ExecuteTime": {
     "end_time": "2023-06-09T12:11:51.709801Z",
     "start_time": "2023-06-09T12:11:51.543466Z"
    }
   },
   "outputs": [],
   "source": [
    "X_train, X_test, y_train, y_test = ms.train_test_split(X,y,test_size=0.2, random_state=32)"
   ]
  },
  {
   "cell_type": "markdown",
   "id": "c291721c",
   "metadata": {},
   "source": [
    "# 6.0. Sampling"
   ]
  },
  {
   "cell_type": "code",
   "execution_count": 35,
   "id": "6f9e2eb1",
   "metadata": {
    "ExecuteTime": {
     "end_time": "2023-06-09T12:11:51.751105Z",
     "start_time": "2023-06-09T12:11:51.709801Z"
    }
   },
   "outputs": [],
   "source": [
    "majority_value = y.value_counts()[0]"
   ]
  },
  {
   "cell_type": "code",
   "execution_count": 65,
   "id": "4372570c",
   "metadata": {
    "ExecuteTime": {
     "end_time": "2023-06-09T12:17:39.177330Z",
     "start_time": "2023-06-09T12:17:39.129295Z"
    }
   },
   "outputs": [
    {
     "data": {
      "text/plain": [
       "NDF      123454\n",
       "US        61433\n",
       "other      9929\n",
       "FR         4961\n",
       "IT         2786\n",
       "GB         2287\n",
       "ES         2219\n",
       "CA         1406\n",
       "DE         1044\n",
       "NL          750\n",
       "AU          531\n",
       "PT          215\n",
       "Name: country_destination, dtype: int64"
      ]
     },
     "execution_count": 65,
     "metadata": {},
     "output_type": "execute_result"
    }
   ],
   "source": [
    "y.value_counts()"
   ]
  },
  {
   "cell_type": "code",
   "execution_count": 96,
   "id": "4ac0a4f8",
   "metadata": {
    "ExecuteTime": {
     "end_time": "2023-06-09T13:37:00.156528Z",
     "start_time": "2023-06-09T13:37:00.139379Z"
    }
   },
   "outputs": [
    {
     "data": {
      "text/plain": [
       "123454"
      ]
     },
     "execution_count": 96,
     "metadata": {},
     "output_type": "execute_result"
    }
   ],
   "source": [
    "majority_value"
   ]
  },
  {
   "cell_type": "code",
   "execution_count": 97,
   "id": "05560c69",
   "metadata": {
    "ExecuteTime": {
     "end_time": "2023-06-09T13:44:21.347069Z",
     "start_time": "2023-06-09T13:37:10.861318Z"
    }
   },
   "outputs": [],
   "source": [
    "from imblearn.over_sampling import SMOTE\n",
    "from imblearn.combine import SMOTETomek\n",
    "\n",
    "# Calcular a frequência de cada classe\n",
    "class_counts = y.value_counts()\n",
    "\n",
    "\n",
    "# Calcular os pesos de classe inversamente proporcionais à frequência\n",
    "class_weights = {'NDF': majority_value*1,\n",
    "                 'US': int(majority_value*0.5),\n",
    "                 'other': int(majority_value*0.25),\n",
    "                 'FR': int(majority_value*0.25) ,\n",
    "                 'IT': int(majority_value*0.22),\n",
    "                 'GB': int(majority_value*0.22),\n",
    "                 'ES': int(majority_value*0.22),\n",
    "                 'CA': int(majority_value*0.17),\n",
    "                 'DE': int(majority_value*0.17),\n",
    "                 'NL': int(majority_value*0.15),\n",
    "                 'AU': int(majority_value*0.15),\n",
    "                 'PT': int(majority_value*0.15)\n",
    "                }\n",
    "\n",
    "\n",
    "# Instanciar o SMOTE com os pesos de classe definidos\n",
    "smote = SMOTETomek(sampling_strategy=class_weights)\n",
    "\n",
    "# Aplicar o resampling usando o SMOTE\n",
    "X_resampled, y_resampled = smote.fit_resample(X, y)\n"
   ]
  },
  {
   "cell_type": "code",
   "execution_count": 98,
   "id": "c127af8a",
   "metadata": {
    "ExecuteTime": {
     "end_time": "2023-06-09T13:56:20.592074Z",
     "start_time": "2023-06-09T13:56:20.567929Z"
    }
   },
   "outputs": [
    {
     "data": {
      "text/plain": [
       "NDF      123454\n",
       "US        61433\n",
       "other      9929\n",
       "FR         4961\n",
       "IT         2786\n",
       "GB         2287\n",
       "ES         2219\n",
       "CA         1406\n",
       "DE         1044\n",
       "NL          750\n",
       "AU          531\n",
       "PT          215\n",
       "Name: country_destination, dtype: int64"
      ]
     },
     "execution_count": 98,
     "metadata": {},
     "output_type": "execute_result"
    }
   ],
   "source": [
    "y.value_counts()"
   ]
  },
  {
   "cell_type": "code",
   "execution_count": 99,
   "id": "dbb030f4",
   "metadata": {
    "ExecuteTime": {
     "end_time": "2023-06-09T13:56:20.964570Z",
     "start_time": "2023-06-09T13:56:20.923104Z"
    }
   },
   "outputs": [
    {
     "data": {
      "text/plain": [
       "NDF      123447\n",
       "US        60025\n",
       "FR        30478\n",
       "other     29847\n",
       "ES        26989\n",
       "GB        26974\n",
       "IT        26952\n",
       "DE        20931\n",
       "CA        20869\n",
       "PT        18516\n",
       "AU        18497\n",
       "NL        18467\n",
       "Name: country_destination, dtype: int64"
      ]
     },
     "execution_count": 99,
     "metadata": {},
     "output_type": "execute_result"
    }
   ],
   "source": [
    "y_resampled.value_counts()"
   ]
  },
  {
   "cell_type": "markdown",
   "id": "8e1a3da5",
   "metadata": {},
   "source": [
    "## 6.0. Machine Learning Model"
   ]
  },
  {
   "cell_type": "code",
   "execution_count": 84,
   "id": "5b85904f",
   "metadata": {
    "ExecuteTime": {
     "end_time": "2023-06-09T13:12:52.265494Z",
     "start_time": "2023-06-09T13:12:52.235632Z"
    }
   },
   "outputs": [],
   "source": [
    "# wieghts to baseline Model\n",
    "weights = df1['country_destination'].value_counts(normalize=True).sort_index().tolist()"
   ]
  },
  {
   "cell_type": "markdown",
   "id": "25b71436",
   "metadata": {},
   "source": [
    "## 5.1. Baseline Model"
   ]
  },
  {
   "cell_type": "code",
   "execution_count": 85,
   "id": "520ba343",
   "metadata": {
    "ExecuteTime": {
     "end_time": "2023-06-09T13:12:52.327342Z",
     "start_time": "2023-06-09T13:12:52.267478Z"
    }
   },
   "outputs": [],
   "source": [
    "import random\n",
    "\n",
    "country_destination_list = df4['country_destination'].drop_duplicates().sort_values().tolist()\n",
    "k_num = y_test.shape[0]\n",
    "yhat_random = random.choices(population=country_destination_list, k=k_num, weights=weights)"
   ]
  },
  {
   "cell_type": "markdown",
   "id": "2e69ffba",
   "metadata": {},
   "source": [
    "## 5.2. Neural Network - MLP"
   ]
  },
  {
   "cell_type": "code",
   "execution_count": 86,
   "id": "6d4a1a57",
   "metadata": {
    "ExecuteTime": {
     "end_time": "2023-06-09T13:12:53.134647Z",
     "start_time": "2023-06-09T13:12:52.968368Z"
    }
   },
   "outputs": [],
   "source": [
    "#split dataset into training and test\n",
    "X_train, X_test, y_train, y_test = ms.train_test_split(X_resampled, y_resampled, test_size=0.2, random_state=32)"
   ]
  },
  {
   "cell_type": "code",
   "execution_count": 87,
   "id": "11425e3d",
   "metadata": {
    "ExecuteTime": {
     "end_time": "2023-06-09T13:12:54.169950Z",
     "start_time": "2023-06-09T13:12:54.126686Z"
    }
   },
   "outputs": [
    {
     "data": {
      "text/html": [
       "<div>\n",
       "<style scoped>\n",
       "    .dataframe tbody tr th:only-of-type {\n",
       "        vertical-align: middle;\n",
       "    }\n",
       "\n",
       "    .dataframe tbody tr th {\n",
       "        vertical-align: top;\n",
       "    }\n",
       "\n",
       "    .dataframe thead th {\n",
       "        text-align: right;\n",
       "    }\n",
       "</style>\n",
       "<table border=\"1\" class=\"dataframe\">\n",
       "  <thead>\n",
       "    <tr style=\"text-align: right;\">\n",
       "      <th></th>\n",
       "      <th>age</th>\n",
       "      <th>signup_flow</th>\n",
       "      <th>affiliate_channel</th>\n",
       "      <th>affiliate_provider</th>\n",
       "      <th>first_browser</th>\n",
       "      <th>days_from_active_to_booking</th>\n",
       "      <th>days_from_account_created_to_booking</th>\n",
       "      <th>days_from_active_to_account_created</th>\n",
       "      <th>year_first_active</th>\n",
       "      <th>month_first_active</th>\n",
       "      <th>...</th>\n",
       "      <th>day_of_week_account_created</th>\n",
       "      <th>week_of_year_account_created</th>\n",
       "      <th>basic</th>\n",
       "      <th>facebook</th>\n",
       "      <th>google</th>\n",
       "      <th>language_en</th>\n",
       "      <th>signup_on_web</th>\n",
       "      <th>tracked</th>\n",
       "      <th>first_device_apple</th>\n",
       "      <th>first_device_desktop</th>\n",
       "    </tr>\n",
       "  </thead>\n",
       "  <tbody>\n",
       "    <tr>\n",
       "      <th>93677</th>\n",
       "      <td>0.469880</td>\n",
       "      <td>0.0</td>\n",
       "      <td>0.121859</td>\n",
       "      <td>0.241926</td>\n",
       "      <td>0.211246</td>\n",
       "      <td>0.000000</td>\n",
       "      <td>0.148511</td>\n",
       "      <td>0.0</td>\n",
       "      <td>0.800000</td>\n",
       "      <td>0.545455</td>\n",
       "      <td>...</td>\n",
       "      <td>0.000000</td>\n",
       "      <td>0.576923</td>\n",
       "      <td>1</td>\n",
       "      <td>0</td>\n",
       "      <td>0</td>\n",
       "      <td>1</td>\n",
       "      <td>1</td>\n",
       "      <td>1</td>\n",
       "      <td>1</td>\n",
       "      <td>1</td>\n",
       "    </tr>\n",
       "    <tr>\n",
       "      <th>161680</th>\n",
       "      <td>0.192771</td>\n",
       "      <td>0.0</td>\n",
       "      <td>0.645381</td>\n",
       "      <td>0.643978</td>\n",
       "      <td>0.299197</td>\n",
       "      <td>0.002617</td>\n",
       "      <td>0.151064</td>\n",
       "      <td>0.0</td>\n",
       "      <td>1.000000</td>\n",
       "      <td>0.181818</td>\n",
       "      <td>...</td>\n",
       "      <td>1.000000</td>\n",
       "      <td>0.192308</td>\n",
       "      <td>1</td>\n",
       "      <td>0</td>\n",
       "      <td>0</td>\n",
       "      <td>1</td>\n",
       "      <td>1</td>\n",
       "      <td>1</td>\n",
       "      <td>1</td>\n",
       "      <td>1</td>\n",
       "    </tr>\n",
       "    <tr>\n",
       "      <th>165570</th>\n",
       "      <td>0.180723</td>\n",
       "      <td>0.0</td>\n",
       "      <td>0.645381</td>\n",
       "      <td>0.643978</td>\n",
       "      <td>0.299197</td>\n",
       "      <td>0.001308</td>\n",
       "      <td>0.149787</td>\n",
       "      <td>0.0</td>\n",
       "      <td>1.000000</td>\n",
       "      <td>0.181818</td>\n",
       "      <td>...</td>\n",
       "      <td>0.166667</td>\n",
       "      <td>0.230769</td>\n",
       "      <td>0</td>\n",
       "      <td>1</td>\n",
       "      <td>0</td>\n",
       "      <td>1</td>\n",
       "      <td>1</td>\n",
       "      <td>0</td>\n",
       "      <td>0</td>\n",
       "      <td>1</td>\n",
       "    </tr>\n",
       "    <tr>\n",
       "      <th>188799</th>\n",
       "      <td>0.180723</td>\n",
       "      <td>0.0</td>\n",
       "      <td>0.088202</td>\n",
       "      <td>0.010909</td>\n",
       "      <td>0.211246</td>\n",
       "      <td>0.000000</td>\n",
       "      <td>0.148511</td>\n",
       "      <td>0.0</td>\n",
       "      <td>1.000000</td>\n",
       "      <td>0.363636</td>\n",
       "      <td>...</td>\n",
       "      <td>1.000000</td>\n",
       "      <td>0.365385</td>\n",
       "      <td>1</td>\n",
       "      <td>0</td>\n",
       "      <td>0</td>\n",
       "      <td>1</td>\n",
       "      <td>1</td>\n",
       "      <td>0</td>\n",
       "      <td>1</td>\n",
       "      <td>1</td>\n",
       "    </tr>\n",
       "    <tr>\n",
       "      <th>384548</th>\n",
       "      <td>0.389099</td>\n",
       "      <td>0.0</td>\n",
       "      <td>0.645381</td>\n",
       "      <td>0.643978</td>\n",
       "      <td>0.211246</td>\n",
       "      <td>0.006670</td>\n",
       "      <td>0.155019</td>\n",
       "      <td>0.0</td>\n",
       "      <td>0.410843</td>\n",
       "      <td>0.555311</td>\n",
       "      <td>...</td>\n",
       "      <td>0.824298</td>\n",
       "      <td>0.548887</td>\n",
       "      <td>1</td>\n",
       "      <td>0</td>\n",
       "      <td>0</td>\n",
       "      <td>1</td>\n",
       "      <td>1</td>\n",
       "      <td>1</td>\n",
       "      <td>1</td>\n",
       "      <td>1</td>\n",
       "    </tr>\n",
       "  </tbody>\n",
       "</table>\n",
       "<p>5 rows × 31 columns</p>\n",
       "</div>"
      ],
      "text/plain": [
       "             age  signup_flow  affiliate_channel  affiliate_provider  \\\n",
       "93677   0.469880          0.0           0.121859            0.241926   \n",
       "161680  0.192771          0.0           0.645381            0.643978   \n",
       "165570  0.180723          0.0           0.645381            0.643978   \n",
       "188799  0.180723          0.0           0.088202            0.010909   \n",
       "384548  0.389099          0.0           0.645381            0.643978   \n",
       "\n",
       "        first_browser  days_from_active_to_booking  \\\n",
       "93677        0.211246                     0.000000   \n",
       "161680       0.299197                     0.002617   \n",
       "165570       0.299197                     0.001308   \n",
       "188799       0.211246                     0.000000   \n",
       "384548       0.211246                     0.006670   \n",
       "\n",
       "        days_from_account_created_to_booking  \\\n",
       "93677                               0.148511   \n",
       "161680                              0.151064   \n",
       "165570                              0.149787   \n",
       "188799                              0.148511   \n",
       "384548                              0.155019   \n",
       "\n",
       "        days_from_active_to_account_created  year_first_active  \\\n",
       "93677                                   0.0           0.800000   \n",
       "161680                                  0.0           1.000000   \n",
       "165570                                  0.0           1.000000   \n",
       "188799                                  0.0           1.000000   \n",
       "384548                                  0.0           0.410843   \n",
       "\n",
       "        month_first_active  ...  day_of_week_account_created  \\\n",
       "93677             0.545455  ...                     0.000000   \n",
       "161680            0.181818  ...                     1.000000   \n",
       "165570            0.181818  ...                     0.166667   \n",
       "188799            0.363636  ...                     1.000000   \n",
       "384548            0.555311  ...                     0.824298   \n",
       "\n",
       "        week_of_year_account_created  basic  facebook  google  language_en  \\\n",
       "93677                       0.576923      1         0       0            1   \n",
       "161680                      0.192308      1         0       0            1   \n",
       "165570                      0.230769      0         1       0            1   \n",
       "188799                      0.365385      1         0       0            1   \n",
       "384548                      0.548887      1         0       0            1   \n",
       "\n",
       "        signup_on_web  tracked  first_device_apple  first_device_desktop  \n",
       "93677               1        1                   1                     1  \n",
       "161680              1        1                   1                     1  \n",
       "165570              1        0                   0                     1  \n",
       "188799              1        0                   1                     1  \n",
       "384548              1        1                   1                     1  \n",
       "\n",
       "[5 rows x 31 columns]"
      ]
     },
     "execution_count": 87,
     "metadata": {},
     "output_type": "execute_result"
    }
   ],
   "source": [
    "X_train.head()"
   ]
  },
  {
   "cell_type": "code",
   "execution_count": 88,
   "id": "622cddf7",
   "metadata": {
    "ExecuteTime": {
     "end_time": "2023-06-09T13:12:57.565907Z",
     "start_time": "2023-06-09T13:12:57.406748Z"
    }
   },
   "outputs": [],
   "source": [
    "ohe = pp.OneHotEncoder()\n",
    "y_train_nn = ohe.fit_transform(y_train.values.reshape(-1,1)).toarray()\n",
    "y_test_nn = ohe.fit_transform(y_test.values.reshape(-1,1)).toarray()"
   ]
  },
  {
   "cell_type": "code",
   "execution_count": 89,
   "id": "c0211ae1",
   "metadata": {
    "ExecuteTime": {
     "end_time": "2023-06-09T13:14:23.415851Z",
     "start_time": "2023-06-09T13:13:05.430651Z"
    }
   },
   "outputs": [
    {
     "name": "stdout",
     "output_type": "stream",
     "text": [
      "Epoch 1/50\n",
      "9784/9784 [==============================] - 22s 2ms/step - loss: 1.5472 - accuracy: 0.4690 - val_loss: 1.5005 - val_accuracy: 0.4782\n",
      "Epoch 2/50\n",
      "9784/9784 [==============================] - 24s 2ms/step - loss: 1.5040 - accuracy: 0.4744 - val_loss: 1.4723 - val_accuracy: 0.4818\n",
      "Epoch 3/50\n",
      "9784/9784 [==============================] - 20s 2ms/step - loss: 1.4811 - accuracy: 0.4787 - val_loss: 1.4533 - val_accuracy: 0.4864\n",
      "Epoch 4/50\n",
      "5679/9784 [================>.............] - ETA: 7s - loss: 1.4656 - accuracy: 0.4826"
     ]
    },
    {
     "name": "stderr",
     "output_type": "stream",
     "text": [
      "\n",
      "KeyboardInterrupt\n",
      "\n"
     ]
    }
   ],
   "source": [
    "#model definition\n",
    "from tensorflow.keras.callbacks import EarlyStopping\n",
    "from tensorflow.keras.models import load_model\n",
    "\n",
    "model_path = '../models/model_resampled_v3.h5'\n",
    "if os.path.exists(model_path):\n",
    "    model = load_model(model_path)\n",
    "    \n",
    "else:\n",
    "    # Definindo o Early Stopping\n",
    "    early_stopping = EarlyStopping(patience=5, monitor='val_loss', restore_best_weights=True)\n",
    "\n",
    "    model = ml.Sequential()\n",
    "    model.add(l.Dense(256, input_dim=X_train.shape[1] , activation='relu'))\n",
    "    model.add(l.Dropout(0.2))  # Adicionando camada de dropout com taxa de 20%\n",
    "    model.add(l.Dense(12, activation='softmax'))\n",
    "\n",
    "    #model compile\n",
    "    model.compile(loss='categorical_crossentropy', optimizer='adam', metrics=['accuracy'])\n",
    "\n",
    "    #train model\n",
    "    model.fit(X_train, y_train_nn, epochs=50, validation_data=(X_test, y_test_nn), callbacks=[early_stopping])\n",
    "\n",
    "    model.save('../models/model_resampled_v3.h5')"
   ]
  },
  {
   "cell_type": "markdown",
   "id": "7f972353",
   "metadata": {},
   "source": [
    "### 5.3 Other Models"
   ]
  },
  {
   "cell_type": "code",
   "execution_count": 90,
   "id": "5e18d978",
   "metadata": {
    "ExecuteTime": {
     "end_time": "2023-06-09T13:14:26.605179Z",
     "start_time": "2023-06-09T13:14:26.590163Z"
    }
   },
   "outputs": [],
   "source": [
    "from lightgbm import LGBMClassifier"
   ]
  },
  {
   "cell_type": "code",
   "execution_count": 48,
   "id": "10228b48",
   "metadata": {
    "ExecuteTime": {
     "end_time": "2023-06-09T12:12:42.773523Z",
     "start_time": "2023-06-09T12:12:42.755720Z"
    }
   },
   "outputs": [],
   "source": [
    "def evaluate_model(model, X_train, X_test, y_train, y_test):\n",
    "    \n",
    "    model.fit(X_train, y_train)\n",
    "    \n",
    "    yhat = model.predict(X_test)\n",
    "    \n",
    "    #Accuracy\n",
    "    acc_random = metrics.accuracy_score(y_test, yhat)\n",
    "    print(f'Accuracy score: {acc_random:.3f}')\n",
    "\n",
    "    #Balanced accurace\n",
    "    balanced_acc_random = metrics.balanced_accuracy_score(y_test, yhat)\n",
    "    print(f'Balanced accuracy score: {balanced_acc_random:.3f}')\n",
    "    \n",
    "    mt.plot_confusion_matrix(y_test, yhat, normalize=False, figsize=(10,10));"
   ]
  },
  {
   "cell_type": "markdown",
   "id": "439903e7",
   "metadata": {},
   "source": [
    "# 6.0. Performance"
   ]
  },
  {
   "cell_type": "markdown",
   "id": "6564ed24",
   "metadata": {},
   "source": [
    "## 6.1. Baseline Performance"
   ]
  },
  {
   "cell_type": "code",
   "execution_count": 51,
   "id": "ffc09e0c",
   "metadata": {
    "ExecuteTime": {
     "end_time": "2023-06-09T12:13:14.697635Z",
     "start_time": "2023-06-09T12:13:10.979985Z"
    }
   },
   "outputs": [
    {
     "name": "stdout",
     "output_type": "stream",
     "text": [
      "Accuracy score: 0.212\n",
      "Balanced accuracy score: 0.083\n",
      "Kappa score: -0.001\n"
     ]
    },
    {
     "data": {
      "image/png": "[encoded data removed]",
      "text/plain": [
       "<Figure size 1200x1200 with 2 Axes>"
      ]
     },
     "metadata": {},
     "output_type": "display_data"
    }
   ],
   "source": [
    "#Accuracy\n",
    "acc_random = metrics.accuracy_score(y_test, yhat_random)\n",
    "print(f'Accuracy score: {acc_random:.3f}')\n",
    "\n",
    "#Balanced accurace\n",
    "balanced_acc_random = metrics.balanced_accuracy_score(y_test, yhat_random)\n",
    "print(f'Balanced accuracy score: {balanced_acc_random:.3f}')\n",
    "\n",
    "#Kappa\n",
    "kappa_random = metrics.cohen_kappa_score(y_test, yhat_random)\n",
    "print(f'Kappa score: {kappa_random:.3f}')\n",
    "\n",
    "#Confusion Matrix\n",
    "mt.plot_confusion_matrix(y_test, yhat_random, normalize=False, figsize=(12,12));"
   ]
  },
  {
   "cell_type": "markdown",
   "id": "354bd36c",
   "metadata": {},
   "source": [
    "## 6.2. NN Performance"
   ]
  },
  {
   "cell_type": "code",
   "execution_count": 77,
   "id": "15251adf",
   "metadata": {
    "ExecuteTime": {
     "end_time": "2023-06-09T13:08:50.409667Z",
     "start_time": "2023-06-09T13:08:47.077308Z"
    }
   },
   "outputs": [
    {
     "name": "stdout",
     "output_type": "stream",
     "text": [
      "2778/2778 [==============================] - 3s 905us/step\n"
     ]
    }
   ],
   "source": [
    "#prediction\n",
    "pred_nn = model.predict(X_test)\n",
    "\n",
    "#invert prediction\n",
    "yhat_nn = ohe.inverse_transform(pred_nn)\n",
    "\n",
    "#prediction prepare\n",
    "y_test_nn = y_test.to_numpy()\n",
    "yhat_nn = yhat_nn.reshape(1,-1)[0]"
   ]
  },
  {
   "cell_type": "code",
   "execution_count": 78,
   "id": "499d5e7a",
   "metadata": {
    "ExecuteTime": {
     "end_time": "2023-06-09T13:08:51.171489Z",
     "start_time": "2023-06-09T13:08:51.163481Z"
    }
   },
   "outputs": [
    {
     "data": {
      "text/plain": [
       "array(['NDF', 'NDF', 'NDF', ..., 'NDF', 'NDF', 'DE'], dtype=object)"
      ]
     },
     "execution_count": 78,
     "metadata": {},
     "output_type": "execute_result"
    }
   ],
   "source": [
    "yhat_nn"
   ]
  },
  {
   "cell_type": "code",
   "execution_count": 79,
   "id": "978d3f4c",
   "metadata": {
    "ExecuteTime": {
     "end_time": "2023-06-09T13:08:56.216827Z",
     "start_time": "2023-06-09T13:08:54.079652Z"
    }
   },
   "outputs": [
    {
     "name": "stdout",
     "output_type": "stream",
     "text": [
      "Accuracy score: 0.5028575928717683\n",
      "Balanced accuracy score: 0.34625168780964105\n",
      "Kappa score: 0.4174971065064973\n"
     ]
    },
    {
     "data": {
      "image/png": "[encoded data removed]",
      "text/plain": [
       "<Figure size 1200x1200 with 2 Axes>"
      ]
     },
     "metadata": {},
     "output_type": "display_data"
    }
   ],
   "source": [
    "#Accuracy\n",
    "acc_nn = metrics.accuracy_score(y_test_nn, yhat_nn)\n",
    "print(f'Accuracy score: {acc_nn}')\n",
    "\n",
    "\n",
    "#Balanced accurace\n",
    "balanced_acc_nn = metrics.balanced_accuracy_score(y_test_nn, yhat_nn)\n",
    "print(f'Balanced accuracy score: {balanced_acc_nn}')\n",
    "\n",
    "#Kappa\n",
    "kappa_nn = metrics.cohen_kappa_score(y_test_nn, yhat_nn)\n",
    "print(f'Kappa score: {kappa_nn}')\n",
    "\n",
    "#Confusion Matrix\n",
    "mt.plot_confusion_matrix(y_test_nn, yhat_nn, normalize=False, figsize=(12,12));\n",
    "\n"
   ]
  },
  {
   "cell_type": "code",
   "execution_count": 55,
   "id": "961d16c7",
   "metadata": {
    "ExecuteTime": {
     "end_time": "2023-06-09T10:37:23.186553Z",
     "start_time": "2023-06-09T10:37:23.173429Z"
    }
   },
   "outputs": [
    {
     "data": {
      "text/plain": [
       "NDF    24720\n",
       "US     17483\n",
       "dtype: int64"
      ]
     },
     "execution_count": 55,
     "metadata": {},
     "output_type": "execute_result"
    }
   ],
   "source": [
    "pd.Series(yhat_nn).value_counts()"
   ]
  },
  {
   "cell_type": "code",
   "execution_count": 56,
   "id": "efb54e3f",
   "metadata": {
    "ExecuteTime": {
     "end_time": "2023-06-09T10:37:27.601724Z",
     "start_time": "2023-06-09T10:37:26.448102Z"
    }
   },
   "outputs": [
    {
     "name": "stderr",
     "output_type": "stream",
     "text": [
      "C:\\Users\\HeitorFelixdeOliveir\\anaconda3\\lib\\site-packages\\sklearn\\metrics\\_classification.py:1344: UndefinedMetricWarning: Precision and F-score are ill-defined and being set to 0.0 in labels with no predicted samples. Use `zero_division` parameter to control this behavior.\n",
      "  _warn_prf(average, modifier, msg_start, len(result))\n",
      "C:\\Users\\HeitorFelixdeOliveir\\anaconda3\\lib\\site-packages\\sklearn\\metrics\\_classification.py:1344: UndefinedMetricWarning: Precision and F-score are ill-defined and being set to 0.0 in labels with no predicted samples. Use `zero_division` parameter to control this behavior.\n",
      "  _warn_prf(average, modifier, msg_start, len(result))\n"
     ]
    },
    {
     "name": "stdout",
     "output_type": "stream",
     "text": [
      "              precision    recall  f1-score   support\n",
      "\n",
      "          AU       0.00      0.00      0.00       106\n",
      "          CA       0.00      0.00      0.00       279\n",
      "          DE       0.00      0.00      0.00       227\n",
      "          ES       0.00      0.00      0.00       480\n",
      "          FR       0.00      0.00      0.00      1007\n",
      "          GB       0.00      0.00      0.00       446\n",
      "          IT       0.00      0.00      0.00       536\n",
      "         NDF       1.00      1.00      1.00     24714\n",
      "          NL       0.00      0.00      0.00       144\n",
      "          PT       0.00      0.00      0.00        35\n",
      "          US       0.70      1.00      0.82     12246\n",
      "       other       0.00      0.00      0.00      1983\n",
      "\n",
      "    accuracy                           0.88     42203\n",
      "   macro avg       0.14      0.17      0.15     42203\n",
      "weighted avg       0.79      0.88      0.82     42203\n",
      "\n"
     ]
    },
    {
     "name": "stderr",
     "output_type": "stream",
     "text": [
      "C:\\Users\\HeitorFelixdeOliveir\\anaconda3\\lib\\site-packages\\sklearn\\metrics\\_classification.py:1344: UndefinedMetricWarning: Precision and F-score are ill-defined and being set to 0.0 in labels with no predicted samples. Use `zero_division` parameter to control this behavior.\n",
      "  _warn_prf(average, modifier, msg_start, len(result))\n"
     ]
    }
   ],
   "source": [
    "print(metrics.classification_report(y_test_nn, yhat_nn))"
   ]
  },
  {
   "cell_type": "markdown",
   "id": "6ce67862",
   "metadata": {},
   "source": [
    "### 6.3. LGBM"
   ]
  },
  {
   "cell_type": "code",
   "execution_count": 100,
   "id": "971032f7",
   "metadata": {
    "ExecuteTime": {
     "end_time": "2023-06-09T13:56:54.794429Z",
     "start_time": "2023-06-09T13:56:39.035673Z"
    }
   },
   "outputs": [
    {
     "name": "stdout",
     "output_type": "stream",
     "text": [
      "Accuracy score: 0.694\n",
      "Balanced accuracy score: 0.539\n"
     ]
    },
    {
     "data": {
      "image/png": "[encoded data removed]",
      "text/plain": [
       "<Figure size 1000x1000 with 2 Axes>"
      ]
     },
     "metadata": {},
     "output_type": "display_data"
    }
   ],
   "source": [
    "evaluate_model(LGBMClassifier(), X_train, X_test, y_train, y_test)"
   ]
  },
  {
   "cell_type": "code",
   "execution_count": 85,
   "id": "212ec0bf",
   "metadata": {
    "ExecuteTime": {
     "end_time": "2022-05-11T11:17:57.682333Z",
     "start_time": "2022-05-11T11:17:57.671838Z"
    }
   },
   "outputs": [],
   "source": [
    "# balanced_acc_list = []\n",
    "# kappa_list = []\n",
    "\n",
    "# #stratified kfold\n",
    "# num_folds=5\n",
    "# kfold = ms.StratifiedKFold(n_splits=num_folds, shuffle=True, random_state=42)\n",
    "\n",
    "# i= 1\n",
    "# for train_ix, val_ix in kfold.split(x_train, y_train):\n",
    "#     print('Fold number {}'.format(i))\n",
    "#     #get fold\n",
    "#     x_train_fold = x_train.iloc[train_ix]\n",
    "#     y_train_fold = y_train.iloc[train_ix]\n",
    "    \n",
    "#     x_val_fold = x_train.iloc[val_ix]\n",
    "#     y_val_fold = y_train.iloc[val_ix]\n",
    "    \n",
    "#     #one hot enconding\n",
    "    \n",
    "#     ohe = pp.OneHotEncoder()\n",
    "#     y_train_fold_nn = ohe.fit_transform(y_train_fold.values.reshape(-1,1)).toarray()\n",
    "    \n",
    "    \n",
    "#     #model definition\n",
    "#     model = ml.Sequential()\n",
    "#     model.add(l.Dense(256, input_dim=x_train.shape[1],activation='relu'))\n",
    "#     model.add(l.Dense(11, activation='softmax'))\n",
    "\n",
    "\n",
    "#     #model train\n",
    "#     model.compile(loss='categorical_crossentropy', optimizer='adam', metrics=['accuracy'])\n",
    "#     model.fit(x_train_fold, y_train_fold_nn, epochs=100, batch_size=32, verbose=True)\n",
    "    \n",
    "#     #model predict\n",
    "\n",
    "#     pred_nn = model.predict(x_val_fold)\n",
    "#     yhat_nn = ohe.inverse_transform(pred_nn)\n",
    "              \n",
    "              \n",
    "#     #prepare data    \n",
    "#     y_test_nn = y_val_fold.to_numpy()\n",
    "#     yhat_nn = yhat_nn.reshape(1,-1)[0]\n",
    "              \n",
    "              \n",
    "#     #metrics\n",
    "\n",
    "#     #balanced accuracy\n",
    "#     balanced_acc_nn = metrics.balanced_accuracy_score(y_test_nn, yhat_nn)\n",
    "#     balanced_acc_list.append(balanced_acc_nn)\n",
    "#     #kappa\n",
    "              \n",
    "#     kappa_acc_nn = metrics.cohen_kappa_score(y_test_nn, yhat_nn)\n",
    "#     kappa_list.append(kappa_acc_nn)\n",
    "#     i+=1"
   ]
  },
  {
   "cell_type": "code",
   "execution_count": 84,
   "id": "875fe263",
   "metadata": {
    "ExecuteTime": {
     "end_time": "2022-05-11T11:17:46.775636Z",
     "start_time": "2022-05-11T11:17:46.772091Z"
    }
   },
   "outputs": [],
   "source": [
    "# print(f'Balanced Accuracy CV = {np.mean(balanced_acc_list)}')\n",
    "# print(f'Kappa Score CV = {np.mean(kappa_list)}')"
   ]
  }
 ],
 "metadata": {
  "kernelspec": {
   "display_name": "Python 3 (ipykernel)",
   "language": "python",
   "name": "python3"
  },
  "language_info": {
   "codemirror_mode": {
    "name": "ipython",
    "version": 3
   },
   "file_extension": ".py",
   "mimetype": "text/x-python",
   "name": "python",
   "nbconvert_exporter": "python",
   "pygments_lexer": "ipython3",
   "version": "3.9.13"
  }
 },
 "nbformat": 4,
 "nbformat_minor": 5
}
